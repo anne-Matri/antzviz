{
 "cells": [
  {
   "cell_type": "code",
   "execution_count": 25,
   "metadata": {
    "collapsed": true
   },
   "outputs": [],
   "source": [
    "# all 45 people, 7 day of data, 30 min rolling average, larger spheres, no secondary grids"
   ]
  },
  {
   "cell_type": "code",
   "execution_count": 26,
   "metadata": {
    "collapsed": true
   },
   "outputs": [],
   "source": [
    "from scipy.io import loadmat\n",
    "from scipy.stats import zscore\n",
    "from decimal import *\n",
    "import pandas as pd\n",
    "import numpy as np\n",
    "import datetime as dt\n",
    "import os\n",
    "import sys\n",
    "import math\n",
    "import pandas as pd\n",
    "import numpy as np\n",
    "from pprint import pprint\n",
    "import json\n",
    "import requests\n",
    "import datetime\n",
    "from datetime import date\n",
    "import os"
   ]
  },
  {
   "cell_type": "code",
   "execution_count": 27,
   "metadata": {
    "collapsed": true
   },
   "outputs": [],
   "source": [
    "pubdata = loadmat('PubData.mat', struct_as_record = True, squeeze_me = True)"
   ]
  },
  {
   "cell_type": "code",
   "execution_count": 28,
   "metadata": {},
   "outputs": [
    {
     "data": {
      "text/plain": [
       "dict_keys(['__header__', '__version__', '__globals__', 'Cases50'])"
      ]
     },
     "execution_count": 28,
     "metadata": {},
     "output_type": "execute_result"
    }
   ],
   "source": [
    "pubdata.keys()"
   ]
  },
  {
   "cell_type": "code",
   "execution_count": 29,
   "metadata": {
    "collapsed": true
   },
   "outputs": [],
   "source": [
    "pubdata = {k:v for k, v in pubdata.items() if k[0] != '_'}"
   ]
  },
  {
   "cell_type": "code",
   "execution_count": 30,
   "metadata": {
    "collapsed": true
   },
   "outputs": [],
   "source": [
    "# duration of symptoms\n",
    "a = pubdata['Cases50'][0,1]\n",
    "b = pubdata['Cases50'][4,1]\n",
    "c = pubdata['Cases50'][2,1]\n",
    "d = pubdata['Cases50'][5,1]\n",
    "#print(a, b, c, d)\n",
    "\n",
    "#for i in range(0, 50, 1):\n",
    "#    dtion = pubdata['Cases50'][i,1]\n",
    "#    print(str('Duration of person ') + str(i) + str(': ') + str(dtion))"
   ]
  },
  {
   "cell_type": "markdown",
   "metadata": {},
   "source": [
    "### Version info"
   ]
  },
  {
   "cell_type": "code",
   "execution_count": 31,
   "metadata": {
    "collapsed": true
   },
   "outputs": [],
   "source": [
    "#v1: all 45 peoples data, plus raw data rods and timing\n",
    "#v2: added rolling mean, every 10 minutes \n",
    "#v3: changed rolling mean to every 30 minutes"
   ]
  },
  {
   "cell_type": "code",
   "execution_count": 32,
   "metadata": {
    "collapsed": true
   },
   "outputs": [],
   "source": [
    "# person variable for file names\n",
    "person = str(\"pALL45\")\n",
    "\n",
    "# version variable for file name\n",
    "version = \"v2.0\"\n",
    "\n",
    "# viz type: 2 days, 2 weeks, or 4 weeks\n",
    "viztype = \"7d_zgridbox\""
   ]
  },
  {
   "cell_type": "code",
   "execution_count": 33,
   "metadata": {
    "collapsed": true
   },
   "outputs": [],
   "source": [
    "cols = ('temp', 'hr', 'hrv', 'breath')"
   ]
  },
  {
   "cell_type": "code",
   "execution_count": 34,
   "metadata": {},
   "outputs": [],
   "source": [
    "# creates a list of df's with data from each person\n",
    "# selects only the 42nd to 49th day of data from each dataframe\n",
    "# note: for i = 1, 3, 11, 24, 41 - they have less than 10080 data points\n",
    "\n",
    "df_c = []\n",
    "person_list = [0, 2, 4, 5, 6, 7, 8, 9, 10, 12, 13, 14, 15, 16, 17, 18, 19, 20, 21, 22, 23, 25, 26, 27, 28, 29, 30, 31, 32, 33, 34, 35, 36, 37, 38, 39, 40, 42, 43, 44, 45, 46, 47, 48, 49]\n",
    "\n",
    "for i in person_list:\n",
    "    df = pd.DataFrame(pubdata['Cases50'][i,0], columns = cols)\n",
    "    df = df.iloc[60480:70560,:]\n",
    "    df['temp'] = df['temp'].rolling(30).mean()\n",
    "    df['hr'] = df['hr'].rolling(30).mean()\n",
    "    df['hrv'] = df['hrv'].rolling(30).mean()\n",
    "    df['breath'] = df['breath'].rolling(30).mean()\n",
    "    df = df.iloc[::30,:]\n",
    "    df = df.iloc[1:]\n",
    "    df_c.append(df)\n",
    "    "
   ]
  },
  {
   "cell_type": "code",
   "execution_count": 35,
   "metadata": {
    "collapsed": true
   },
   "outputs": [],
   "source": [
    "def make_interpolater(left_min, left_max, right_min, right_max): \n",
    "    # Figure out how 'wide' each range is  \n",
    "    leftSpan = left_max - left_min  \n",
    "    rightSpan = right_max - right_min  \n",
    "\n",
    "    # Compute the scale factor between left and right values \n",
    "    scaleFactor = float(rightSpan) / float(leftSpan) \n",
    "\n",
    "    # create interpolation function using pre-calculated scaleFactor\n",
    "    def interp_fn(value):\n",
    "        return right_min + (value-left_min)*scaleFactor\n",
    "\n",
    "\n",
    "    return interp_fn"
   ]
  },
  {
   "cell_type": "code",
   "execution_count": 36,
   "metadata": {
    "collapsed": true
   },
   "outputs": [],
   "source": [
    "# for loop to run z scores, scale the data, drop unnecessary columns\n",
    "# append the final results for each person's data, a list, to a list of lists: big_list\n",
    "\n",
    "big_list = []\n",
    "\n",
    "for df in df_c:\n",
    "    df[['hr_zscore', 'hrv_zscore']] = df[['hr', 'hrv']].apply(zscore)\n",
    "    \n",
    "    col_min = df['hr_zscore'].min() \n",
    "    col_max = df['hr_zscore'].max() \n",
    "    col_list = df['hr_zscore'].tolist()\n",
    "    scalar = make_interpolater(col_min + 0.000002, col_max, -200, 200) \n",
    "    col_interp = [scalar(x) for x in col_list] \n",
    "    df['hr_zscale'] = col_interp\n",
    "    \n",
    "    col_mn = df['hrv_zscore'].min() \n",
    "    col_mx = df['hrv_zscore'].max() \n",
    "    col_lst = df['hrv_zscore'].tolist()\n",
    "    scalar = make_interpolater(col_mn + 0.000002, col_mx, -200, 200) \n",
    "    col_intrp = [scalar(x) for x in col_lst] \n",
    "    df['hrv_zscale'] = col_intrp\n",
    "      \n",
    "    col_mn = df['temp'].min() \n",
    "    col_mx = df['temp'].max() \n",
    "    col_lst = df['temp'].tolist()\n",
    "    scalar = make_interpolater(col_mn + 0.000002, col_mx, 5, 20) \n",
    "    col_intrp = [scalar(x) for x in col_lst] \n",
    "    df['temp_scale'] = col_intrp\n",
    "    \n",
    "    col_mn = df['hr'].min() \n",
    "    col_mx = df['hr'].max() \n",
    "    col_lst = df['hr'].tolist()\n",
    "    scalar = make_interpolater(col_mn + 0.000002, col_mx, 5, 20) \n",
    "    col_intrp = [scalar(x) for x in col_lst] \n",
    "    df['hr_scale'] = col_intrp\n",
    "    \n",
    "    col_mn = df['hrv'].min() \n",
    "    col_mx = df['hrv'].max() \n",
    "    col_lst = df['hrv'].tolist()\n",
    "    scalar = make_interpolater(col_mn + 0.000002, col_mx, 5, 20) \n",
    "    col_intrp = [scalar(x) for x in col_lst] \n",
    "    df['hrv_scale'] = col_intrp\n",
    "    \n",
    "    col_mn = df['breath'].min() \n",
    "    col_mx = df['breath'].max() \n",
    "    col_lst = df['breath'].tolist()\n",
    "    scalar = make_interpolater(col_mn + 0.000002, col_mx, 5, 20) \n",
    "    col_intrp = [scalar(x) for x in col_lst] \n",
    "    df['b_scale'] = col_intrp\n",
    "    \n",
    "    df = df.drop(['hr', 'hrv', 'hr_zscore', 'hrv_zscore', 'breath'], axis=1)\n",
    "    \n",
    "    zrange = len(df.index)\n",
    "    zr = (250/zrange)\n",
    "    z = np.arange(1.5, 251.5, zr)\n",
    "    df['timeaxis'] = z\n",
    "    \n",
    "    full = []\n",
    "    for col in df:\n",
    "        a = df[col].values.tolist()\n",
    "        full.append(a)\n",
    "\n",
    "        listxx = [item for sublist in full for item in sublist]\n",
    "\n",
    "    big_list.append(listxx)\n"
   ]
  },
  {
   "cell_type": "code",
   "execution_count": 37,
   "metadata": {},
   "outputs": [
    {
     "name": "stdout",
     "output_type": "stream",
     "text": [
      "(45, 2680)\n"
     ]
    }
   ],
   "source": [
    "new_df = pd.DataFrame(big_list)\n",
    "print(new_df.shape)"
   ]
  },
  {
   "cell_type": "code",
   "execution_count": 38,
   "metadata": {},
   "outputs": [
    {
     "name": "stdout",
     "output_type": "stream",
     "text": [
      "2680\n"
     ]
    }
   ],
   "source": [
    "print(len(big_list[0]))"
   ]
  },
  {
   "cell_type": "code",
   "execution_count": 39,
   "metadata": {
    "collapsed": true
   },
   "outputs": [],
   "source": [
    "day1 = 60480\n",
    "daymax = 70560\n",
    "varmax = int(((daymax - day1)/30)-1)\n",
    "ltrial = list(range(0, varmax, 1))\n",
    "tfunc = [('t_{}'.format(x+1)) for x in ltrial]\n",
    "hrfunc = [('hr_zscale_{}'.format(x+1)) for x in ltrial]\n",
    "hrvfunc = [('hrv_zscale_{}'.format(x+1)) for x in ltrial]\n",
    "tsfunc = [('t_scale_{}'.format(x+1)) for x in ltrial]\n",
    "hrsfunc = [('hr_scale_{}'.format(x+1)) for x in ltrial]\n",
    "hrvsfunc = [('hrv_scale_{}'.format(x+1)) for x in ltrial]\n",
    "bsfunc = [('b_scale_{}'.format(x+1)) for x in ltrial]\n",
    "bfunc = [('time_{}'.format(x+1)) for x in ltrial]"
   ]
  },
  {
   "cell_type": "code",
   "execution_count": 40,
   "metadata": {
    "collapsed": true
   },
   "outputs": [],
   "source": [
    "colnamelist = tfunc + hrfunc + hrvfunc + tsfunc + hrsfunc + hrvsfunc + bsfunc + bfunc"
   ]
  },
  {
   "cell_type": "code",
   "execution_count": 41,
   "metadata": {},
   "outputs": [
    {
     "data": {
      "text/plain": [
       "2680"
      ]
     },
     "execution_count": 41,
     "metadata": {},
     "output_type": "execute_result"
    }
   ],
   "source": [
    "len(colnamelist)"
   ]
  },
  {
   "cell_type": "code",
   "execution_count": 42,
   "metadata": {
    "collapsed": true
   },
   "outputs": [],
   "source": [
    "new_df.columns = colnamelist"
   ]
  },
  {
   "cell_type": "code",
   "execution_count": 43,
   "metadata": {
    "collapsed": true
   },
   "outputs": [],
   "source": [
    "xroot = (list(range(-288, 324, 72))) * 5\n",
    "yroot = (list(range(-162, 198, 72))) * 9\n",
    "zroot = 0"
   ]
  },
  {
   "cell_type": "code",
   "execution_count": 44,
   "metadata": {},
   "outputs": [],
   "source": [
    "new_df['xroot'] = xroot\n",
    "new_df['yroot'] = yroot\n",
    "new_df['zroot'] = zroot"
   ]
  },
  {
   "cell_type": "code",
   "execution_count": 45,
   "metadata": {
    "collapsed": true
   },
   "outputs": [],
   "source": [
    "# set DEBUG flag\n",
    "DEBUG = 0\n",
    "\n",
    "# Initialize all ANTz Node variables\n",
    "# You shouldn't need to change anything in this section\n",
    "# you can find an explanation of these terms in Appendix B of the user manual\n",
    "id = 0\n",
    "type = 5\n",
    "data = id\n",
    "selected = 0\n",
    "parent_id = 0\n",
    "branch_level = 0\n",
    "child_id = id\n",
    "child_index = 0\n",
    "palette_id = 0\n",
    "ch_input_id = 0\n",
    "ch_output_id = 0\n",
    "ch_last_updated = 0\n",
    "average = 0\n",
    "samples = 0\n",
    "aux_a_x = 0\n",
    "aux_a_y = 0\n",
    "aux_a_z = 0\n",
    "aux_b_x = 0\n",
    "aux_b_y = 0\n",
    "aux_b_z = 0\n",
    "color_shift = 0\n",
    "rotate_vec_x = 0\n",
    "rotate_vec_y = 0\n",
    "rotate_vec_z = 0\n",
    "rotate_vec_s = 1\n",
    "scale_x = 0\n",
    "scale_y = 0\n",
    "scale_z = 0\n",
    "translate_x = 0\n",
    "translate_y = 0\n",
    "translate_z = 0\n",
    "tag_offset_x = 0\n",
    "tag_offset_y = 0\n",
    "tag_offset_z = 0\n",
    "rotate_rate_x = 0\n",
    "rotate_rate_y = 0\n",
    "rotate_rate_z = 0\n",
    "rotate_x = 0\n",
    "rotate_y = 0\n",
    "rotate_z = 0\n",
    "scale_rate_x = 0\n",
    "scale_rate_y = 0\n",
    "scale_rate_z = 0\n",
    "translate_rate_x = 0\n",
    "translate_rate_y = 0\n",
    "translate_rate_z = 0\n",
    "translate_vec_x = 0\n",
    "translate_vec_y = 0\n",
    "translate_vec_z = 0\n",
    "shader = 0\n",
    "geometry = 7\n",
    "line_width = 1\n",
    "point_size = 0\n",
    "ratio = 0.1\n",
    "color_index = 0\n",
    "color_r = 110\n",
    "color_g = 110\n",
    "color_b = 110\n",
    "color_a = 255\n",
    "color_fade = 0\n",
    "texture_id = 0\n",
    "hide = 0\n",
    "freeze = 0\n",
    "topo = 3\n",
    "facet = 0\n",
    "auto_zoom_x = 0\n",
    "auto_zoom_y = 0\n",
    "auto_zoom_z = 0\n",
    "trigger_hi_x = 0\n",
    "trigger_hi_y = 0\n",
    "trigger_hi_z = 0\n",
    "trigger_lo_x = 0\n",
    "trigger_lo_y = 0\n",
    "trigger_lo_z = 1\n",
    "set_hi_x = 0\n",
    "set_hi_y = 0\n",
    "set_hi_z = 0\n",
    "set_lo_x = 0\n",
    "set_lo_y = 0\n",
    "set_lo_z = 0\n",
    "proximity_x = 0\n",
    "proximity_y = 0\n",
    "proximity_z = 0\n",
    "proximity_mode_x = 0\n",
    "proximity_mode_y = 0\n",
    "proximity_mode_z = 0\n",
    "segments_x = 16\n",
    "segments_y = 16\n",
    "segments_z = 0\n",
    "tag_mode = 0\n",
    "format_id = 0\n",
    "table_id = 0\n",
    "record_id = id\n",
    "size = 420"
   ]
  },
  {
   "cell_type": "code",
   "execution_count": 46,
   "metadata": {
    "collapsed": true
   },
   "outputs": [],
   "source": [
    "# Person 1 node files\n",
    "pnode = str(person) + \"_\" + \"temppredict_\" + str(viztype) + \"_\" + str(version) + \"_node.csv\"\n",
    "# Person 1 tag files\n",
    "ptag = str(person) + \"_\" + \"temppredict_\" + str(viztype) + \"_\" + str(version) + \"_tag.csv\""
   ]
  },
  {
   "cell_type": "markdown",
   "metadata": {},
   "source": [
    "## Titles of files"
   ]
  },
  {
   "cell_type": "markdown",
   "metadata": {},
   "source": [
    "### Change name of dataframe to match which viz version is being run"
   ]
  },
  {
   "cell_type": "code",
   "execution_count": 47,
   "metadata": {
    "collapsed": true
   },
   "outputs": [],
   "source": [
    "# Open ANTz Node file for writing\n",
    "fout = open(pnode,\"w\")\n",
    "\n",
    "# Open the Tag file to add metadata to ANTz objects\n",
    "ftag = open(ptag,\"w\")\n",
    "# Write the header string\n",
    "outputstring = \"id,record_id,table_id,title,description\\n\"\n",
    "ftag.write(outputstring)\n",
    "\n",
    "# Write rows for header, world, camera views (4), and grid to Node file\n",
    "outputstring = \"id,type,data,selected,parent_id,branch_level,child_id,child_index,palette_id,ch_input_id,ch_output_id,ch_last_updated,average,samples,aux_a_x,aux_a_y,aux_a_z,aux_b_x,aux_b_y,aux_b_z,color_shift,rotate_vec_x,rotate_vec_y,rotate_vec_z,rotate_vec_s,scale_x,scale_y,scale_z,translate_x,translate_y,translate_z,tag_offset_x,tag_offset_y,tag_offset_z,rotate_rate_x,rotate_rate_y,rotate_rate_z,rotate_x,rotate_y,rotate_z,scale_rate_x,scale_rate_y,scale_rate_z,translate_rate_x,translate_rate_y,translate_rate_z,translate_vec_x,translate_vec_y,translate_vec_z,shader,geometry,line_width,point_size,ratio,color_index,color_r,color_g,color_b,color_a,color_fade,texture_id,hide,freeze,topo,facet,auto_zoom_x,auto_zoom_y,auto_zoom_z,trigger_hi_x,trigger_hi_y,trigger_hi_z,trigger_lo_x,trigger_lo_y,trigger_lo_z,set_hi_x,set_hi_y,set_hi_z,set_lo_x,set_lo_y,set_lo_z,proximity_x,proximity_y,proximity_z,proximity_mode_x,proximity_mode_y,proximity_mode_z,segments_x,segments_y,segments_z,tag_mode,format_id,table_id,record_id,size\\n\"\n",
    "fout.write(outputstring)\n",
    "\n",
    "# Row for world parameters\n",
    "outputstring = \"1,0,1,0,0,0,1,0,0,0,0,0,0,1,0,0,0,0,0,0,0,0,0,0,1,1,1,1,0,0,0,0,0,1,0,0,0,0,0,0,0,0,0,0,0,0,0,0,0,0,0,1,0,0.1,0,50,101,101,255,0,0,0,0,0,0,0,0,0,0,0,0,0,0,1,0,0,0,0,0,0,0,0,0,0,0,0,16,16,0,0,0,0,0,420\\n\"\n",
    "fout.write(outputstring)\n",
    "# Row for first camera view\n",
    "outputstring = \"2,1,2,0,0,0,2,2,3,0,0,0,0,1,0,0,0,0,0,0,0,0,0.008645,0.825266,-0.564678,1,1,1,-32.446629,-180.908295,143.514175,0,0,1,0,0,0,55.620094,0.600200,0,0,0,0,0,0,0,0,0,0,0,0,1,0,0.1,0,50,101,101,255,0,0,0,0,0,0,0,0,0,0,0,0,0,0,0,0,0,0,0,0,0,214.306686,0,0,0,0,0,16,16,0,0,0,0,0,420\\n\"\n",
    "fout.write(outputstring)\n",
    "# Row for second camera view\n",
    "outputstring = \"3,1,3,0,2,1,3,0,0,0,0,0,0,1,0,0,0,0,0,0,0,0,0,0,-1,1,1,1,-0.500000,0,571.750000,0,0,1,0,0,0,0,0,0,0,0,0,0,0,0,0,0,0,0,0,1,0,0.1,0,50,101,101,255,0,0,0,0,0,0,0,0,0,0,0,0,0,0,0,0,0,0,0,0,0,0,0,0,0,0,0,16,16,0,0,0,0,0,420\\n\"\n",
    "fout.write(outputstring)\n",
    "# Third camera view\n",
    "outputstring = \"4,1,4,0,2,1,4,0,0,0,0,0,0,1,0,0,0,0,0,0,0,0,0,1,-0,1,1,1,0,-90,7,0,0,1,0,0,0,90,0,0,0,0,0,0,0,0,0,0,0,0,0,1,0,0.1,0,50,101,101,255,0,0,0,0,0,0,0,0,0,0,0,0,0,0,0,0,0,0,0,0,0,0,0,0,0,0,0,16,16,0,0,0,0,0,420\\n\"\n",
    "fout.write(outputstring)\n",
    "# Fourth camera view\n",
    "outputstring = \"5,1,5,0,2,1,5,0,0,0,0,0,0,1,0,0,0,0,0,0,0,0,-1,-0,-0,1,1,1,85,0,7,0,0,1,0,0,0,90,270,0,0,0,0,0,0,0,-0,0,0,0,0,1,0,0.1,0,50,101,101,255,0,0,0,0,0,0,0,0,0,0,0,0,0,0,0,0,0,0,0,0,0,0,0,0,0,0,0,16,16,0,0,0,0,0,420\\n\"\n",
    "fout.write(outputstring)\n",
    "# Default Grid\n",
    "outputstring = \"6,6,6,1,0,0,0,1,0,0,0,0,0,1,400,400,0,0,0,0,0,0,0,0,0,1,1,1,0,0,0,0,0,1,0,0,0,0,0,0,0,0,0,0,0,0,0,0,0,0,0,1,0,0.1,3,0,0,255,150,0,0,0,0,0,0,0,0,0,0,0,0,0,0,0,0,0,0,0,0,0,0,0,0,0,0,0,1, 1,0,0,0,0,0,420\\n\"\n",
    "fout.write(outputstring)\n",
    "\n",
    "# Initialize increments\n",
    "taginc = 0\n",
    "id = 6\n",
    "\n",
    "numlevel0toroids = 1\n",
    "numlevel1toroids = 1\n",
    "\n",
    "for index, row in new_df.iterrows() :\n",
    "    id += 1\n",
    "    data = id\n",
    "    type = 5\n",
    "    parent_id = 0\n",
    "    selected = 0\n",
    "    branch_level = 0\n",
    "    child_id = id\n",
    "    scale_x = 1\n",
    "    scale_y = scale_x\n",
    "    scale_z = scale_x \n",
    "    translate_x = row['xroot']\n",
    "    translate_y = row['yroot']\n",
    "    translate_z = row['zroot']\n",
    "    rotate_x = 0\n",
    "    rotate_y = 0\n",
    "    rotate_z = 0\n",
    "    ratio = .1\n",
    "    line_width= 1\n",
    "    geometry = 16\n",
    "    topo = 5\n",
    "    color_r = 24\n",
    "    color_g = 123\n",
    "    color_b = 205\n",
    "    color_a = 255\n",
    "    record_id = id \n",
    "    texture_id= 0\n",
    "\n",
    "    # Creat output string and write to ANTz Node File\n",
    "    outputstring = str(id) + \",\" + str(type) + \",\" + str(data) + \",\" + str(selected) + \",\" + str(parent_id) + \",\" + str(branch_level) + \",\" + str(child_id) + \",\" + str(child_index) + \",\" + str(palette_id) + \",\" + str(ch_input_id) + \",\" + str(ch_output_id) + \",\" + str(ch_last_updated) + \",\" + str(average) + \",\" + str(samples) + \",\" + str(aux_a_x) + \",\" + str(aux_a_y) + \",\" + str(aux_a_z) + \",\" + str(aux_b_x) + \",\" + str(aux_b_y) + \",\" + str(aux_b_z) + \",\" + str(color_shift) + \",\" + str(rotate_vec_x) + \",\" + str(rotate_vec_y) + \",\" + str(rotate_vec_z) + \",\" + str(rotate_vec_s) + \",\" + str(scale_x) + \",\" + str(scale_y) + \",\" + str(scale_z) + \",\" + str(translate_x) + \",\" + str(translate_y) + \",\" + str(translate_z) + \",\" + str(tag_offset_x) + \",\" + str(tag_offset_y) + \",\" + str(tag_offset_z) + \",\" + str(rotate_rate_x) + \",\" + str(rotate_rate_y) + \",\" + str(rotate_rate_z) + \",\" + str(rotate_x) + \",\" + str(rotate_y) + \",\" + str(rotate_z) + \",\" + str(scale_rate_x) + \",\" + str(scale_rate_y) + \",\" + str(scale_rate_z) + \",\" + str(translate_rate_x) + \",\" + str(translate_rate_y) + \",\" + str(translate_rate_z) + \",\" + str(translate_vec_x) + \",\" + str(translate_vec_y) + \",\" + str(translate_vec_z) + \",\" + str(shader) + \",\" + str(geometry) + \",\" + str(line_width) + \",\" + str(point_size) + \",\" + str(ratio) + \",\" + str(color_index) + \",\" + str(color_r) + \",\" + str(color_g) + \",\" + str(color_b) + \",\" + str(color_a) + \",\" + str(color_fade) + \",\" + str(texture_id) + \",\" + str(hide) + \",\" + str(freeze) + \",\" + str(topo) + \",\" + str(facet) + \",\" + str(auto_zoom_x) + \",\" + str(auto_zoom_y) + \",\" + str(auto_zoom_z) + \",\" + str(trigger_hi_x) + \",\" + str(trigger_hi_y) + \",\" + str(trigger_hi_z) + \",\" + str(trigger_lo_x) + \",\" + str(trigger_lo_y) + \",\" + str(trigger_lo_z) + \",\" + str(set_hi_x) + \",\" + str(set_hi_y) + \",\" + str(set_hi_z) + \",\" + str(set_lo_x) + \",\" + str(set_lo_y) + \",\" + str(set_lo_z) + \",\" + str(proximity_x) + \",\" + str(proximity_y) + \",\" + str(proximity_z) + \",\" + str(proximity_mode_x) + \",\" + str(proximity_mode_y) + \",\" + str(proximity_mode_z) + \",\" + str(segments_x) + \",\" + str(segments_y) + \",\" + str(segments_z) + \",\" + str(tag_mode) + \",\" + str(format_id) + \",\" + str(table_id) + \",\" + str(record_id) + \",\" + str(size) + \"\\n\"\n",
    "    fout.write(outputstring)\n",
    "\n",
    "    # Output to Tag file\n",
    "    tagtext = \"Person: \" + str(index)\n",
    "    tagstring = str(taginc) + \",\" + str(record_id) + \",0,\\\"\" + tagtext + \"\\\",\\\"\\\"\\n\"\n",
    "    ftag.write(tagstring)\n",
    "    taginc += 1\n",
    "\n",
    "    level0objectid = id\n",
    "    # grid object\n",
    "    for j in range(numlevel1toroids):    \n",
    "        id += 1\n",
    "        data = id\n",
    "        type = 5\n",
    "        parent_id = level0objectid\n",
    "        selected = 0\n",
    "        branch_level = 1\n",
    "        child_id = id\n",
    "        scale_x = .08\n",
    "        scale_y = scale_x\n",
    "        scale_z = scale_x \n",
    "        translate_x = 0\n",
    "        translate_y = 0\n",
    "        translate_z = 0\n",
    "        rotate_x = 0\n",
    "        rotate_y = 0\n",
    "        rotate_z = 0\n",
    "        ratio = .1\n",
    "        line_width= 2\n",
    "        geometry = 20\n",
    "        topo = 8\n",
    "        color_r = 24\n",
    "        color_g = 123\n",
    "        color_b = 205\n",
    "        color_a = 255\n",
    "        record_id = id \n",
    "        segments_x = 1\n",
    "        segments_y = 1\n",
    "        texture_id = 2\n",
    "        aux_a_x = 400\n",
    "        aux_a_y = 400\n",
    "        aux_a_ = 0\n",
    "\n",
    "        # Creat output string and write to ANTz Node File\n",
    "        outputstring = str(id) + \",\" + str(type) + \",\" + str(data) + \",\" + str(selected) + \",\" + str(parent_id) + \",\" + str(branch_level) + \",\" + str(child_id) + \",\" + str(child_index) + \",\" + str(palette_id) + \",\" + str(ch_input_id) + \",\" + str(ch_output_id) + \",\" + str(ch_last_updated) + \",\" + str(average) + \",\" + str(samples) + \",\" + str(aux_a_x) + \",\" + str(aux_a_y) + \",\" + str(aux_a_z) + \",\" + str(aux_b_x) + \",\" + str(aux_b_y) + \",\" + str(aux_b_z) + \",\" + str(color_shift) + \",\" + str(rotate_vec_x) + \",\" + str(rotate_vec_y) + \",\" + str(rotate_vec_z) + \",\" + str(rotate_vec_s) + \",\" + str(scale_x) + \",\" + str(scale_y) + \",\" + str(scale_z) + \",\" + str(translate_x) + \",\" + str(translate_y) + \",\" + str(translate_z) + \",\" + str(tag_offset_x) + \",\" + str(tag_offset_y) + \",\" + str(tag_offset_z) + \",\" + str(rotate_rate_x) + \",\" + str(rotate_rate_y) + \",\" + str(rotate_rate_z) + \",\" + str(rotate_x) + \",\" + str(rotate_y) + \",\" + str(rotate_z) + \",\" + str(scale_rate_x) + \",\" + str(scale_rate_y) + \",\" + str(scale_rate_z) + \",\" + str(translate_rate_x) + \",\" + str(translate_rate_y) + \",\" + str(translate_rate_z) + \",\" + str(translate_vec_x) + \",\" + str(translate_vec_y) + \",\" + str(translate_vec_z) + \",\" + str(shader) + \",\" + str(geometry) + \",\" + str(line_width) + \",\" + str(point_size) + \",\" + str(ratio) + \",\" + str(color_index) + \",\" + str(color_r) + \",\" + str(color_g) + \",\" + str(color_b) + \",\" + str(color_a) + \",\" + str(color_fade) + \",\" + str(texture_id) + \",\" + str(hide) + \",\" + str(freeze) + \",\" + str(topo) + \",\" + str(facet) + \",\" + str(auto_zoom_x) + \",\" + str(auto_zoom_y) + \",\" + str(auto_zoom_z) + \",\" + str(trigger_hi_x) + \",\" + str(trigger_hi_y) + \",\" + str(trigger_hi_z) + \",\" + str(trigger_lo_x) + \",\" + str(trigger_lo_y) + \",\" + str(trigger_lo_z) + \",\" + str(set_hi_x) + \",\" + str(set_hi_y) + \",\" + str(set_hi_z) + \",\" + str(set_lo_x) + \",\" + str(set_lo_y) + \",\" + str(set_lo_z) + \",\" + str(proximity_x) + \",\" + str(proximity_y) + \",\" + str(proximity_z) + \",\" + str(proximity_mode_x) + \",\" + str(proximity_mode_y) + \",\" + str(proximity_mode_z) + \",\" + str(segments_x) + \",\" + str(segments_y) + \",\" + str(segments_z) + \",\" + str(tag_mode) + \",\" + str(format_id) + \",\" + str(table_id) + \",\" + str(record_id) + \",\" + str(size) + \"\\n\"\n",
    "        fout.write(outputstring)\n",
    "\n",
    "        # Output to Tag file\n",
    "        tagtext = \"\"\n",
    "        tagstring = str(taginc) + \",\" + str(record_id) + \",0,\\\"\" + tagtext + \"\\\",\\\"\\\"\\n\"\n",
    "        ftag.write(tagstring)\n",
    "        taginc += 1\n",
    "\n",
    "        level1objectid = id\n",
    "        numlevel2toroids = 335\n",
    "        \n",
    "        for k in range(numlevel2toroids):\n",
    "            id += 1\n",
    "            data = id\n",
    "            type = 5\n",
    "            parent_id = level1objectid\n",
    "            selected = 0\n",
    "            branch_level = 2\n",
    "            child_id = id\n",
    "            column = str(str(\"hrv_zscale_\") + str(int(k)+1))\n",
    "            translate_x = row[column]\n",
    "            col = str(str(\"hr_zscale_\") + str(int(k)+1))\n",
    "            translate_y = row[col]\n",
    "            colm = str(str(\"time_\") + str(int(k)+1))\n",
    "            translate_z = row[colm]\n",
    "            scale_x = 4\n",
    "            scale_y = scale_x\n",
    "            scale_z = scale_x\n",
    "            ratio = .1\n",
    "            line_width= 2\n",
    "            geometry = 3\n",
    "            topo = 2\n",
    "            colmn = str(str(\"t_\") + str(int(k)+1))\n",
    "            if row[colmn] <= 35:\n",
    "                color_r = 27\n",
    "                color_g = 219\n",
    "                color_b = 27\n",
    "            elif (row[colmn] > 35) & (row[colmn] <= 35.5):\n",
    "                color_r = 26\n",
    "                color_g = 219\n",
    "                color_b = 155\n",
    "            elif (row[colmn] > 35.5) & (row[colmn] <= 36):\n",
    "                color_r = 35\n",
    "                color_g = 156\n",
    "                color_b = 219\n",
    "            elif (row[colmn] > 36) & (row[colmn] <= 36.5):\n",
    "                color_r = 40\n",
    "                color_g = 63\n",
    "                color_b = 219\n",
    "            elif (row[colmn] > 36.5) & (row[colmn] <= 37):\n",
    "                color_r = 74\n",
    "                color_g = 40\n",
    "                color_b = 219\n",
    "            elif (row[colmn] > 37) & (row[colmn] <= 37.5):\n",
    "                color_r = 121\n",
    "                color_g = 39\n",
    "                color_b = 219\n",
    "            elif (row[colmn] > 37.5) & (row[colmn] <= 38):\n",
    "                color_r = 219\n",
    "                color_g = 26\n",
    "                color_b = 213\n",
    "            elif (row[colmn] > 38) & (row[colmn] <= 38.5):\n",
    "                color_r = 219\n",
    "                color_g = 16\n",
    "                color_b = 51\n",
    "            elif (row[colmn] > 38.5) & (row[colmn] <= 39):\n",
    "                color_r = 219\n",
    "                color_g = 58\n",
    "                color_b = 24\n",
    "            elif (row[colmn] > 39) & (row[colmn] <= 39.5):\n",
    "                color_r = 219\n",
    "                color_g = 105\n",
    "                color_b = 29\n",
    "            elif (row[colmn] > 39.5) & (row[colmn] <= 40):\n",
    "                color_r = 219\n",
    "                color_g = 140\n",
    "                color_b = 26\n",
    "            elif (row[colmn] >= 40):\n",
    "                color_r = 219\n",
    "                color_g = 169\n",
    "                color_b = 25\n",
    "            rotate_x = 0\n",
    "            rotate_y = 0\n",
    "            rotate_z = 0\n",
    "            record_id = id \n",
    "            texture_id= 0\n",
    "\n",
    "            # Creat output string and write to ANTz Node File\n",
    "            outputstring = str(id) + \",\" + str(type) + \",\" + str(data) + \",\" + str(selected) + \",\" + str(parent_id) + \",\" + str(branch_level) + \",\" + str(child_id) + \",\" + str(child_index) + \",\" + str(palette_id) + \",\" + str(ch_input_id) + \",\" + str(ch_output_id) + \",\" + str(ch_last_updated) + \",\" + str(average) + \",\" + str(samples) + \",\" + str(aux_a_x) + \",\" + str(aux_a_y) + \",\" + str(aux_a_z) + \",\" + str(aux_b_x) + \",\" + str(aux_b_y) + \",\" + str(aux_b_z) + \",\" + str(color_shift) + \",\" + str(rotate_vec_x) + \",\" + str(rotate_vec_y) + \",\" + str(rotate_vec_z) + \",\" + str(rotate_vec_s) + \",\" + str(scale_x) + \",\" + str(scale_y) + \",\" + str(scale_z) + \",\" + str(translate_x) + \",\" + str(translate_y) + \",\" + str(translate_z) + \",\" + str(tag_offset_x) + \",\" + str(tag_offset_y) + \",\" + str(tag_offset_z) + \",\" + str(rotate_rate_x) + \",\" + str(rotate_rate_y) + \",\" + str(rotate_rate_z) + \",\" + str(rotate_x) + \",\" + str(rotate_y) + \",\" + str(rotate_z) + \",\" + str(scale_rate_x) + \",\" + str(scale_rate_y) + \",\" + str(scale_rate_z) + \",\" + str(translate_rate_x) + \",\" + str(translate_rate_y) + \",\" + str(translate_rate_z) + \",\" + str(translate_vec_x) + \",\" + str(translate_vec_y) + \",\" + str(translate_vec_z) + \",\" + str(shader) + \",\" + str(geometry) + \",\" + str(line_width) + \",\" + str(point_size) + \",\" + str(ratio) + \",\" + str(color_index) + \",\" + str(color_r) + \",\" + str(color_g) + \",\" + str(color_b) + \",\" + str(color_a) + \",\" + str(color_fade) + \",\" + str(texture_id) + \",\" + str(hide) + \",\" + str(freeze) + \",\" + str(topo) + \",\" + str(facet) + \",\" + str(auto_zoom_x) + \",\" + str(auto_zoom_y) + \",\" + str(auto_zoom_z) + \",\" + str(trigger_hi_x) + \",\" + str(trigger_hi_y) + \",\" + str(trigger_hi_z) + \",\" + str(trigger_lo_x) + \",\" + str(trigger_lo_y) + \",\" + str(trigger_lo_z) + \",\" + str(set_hi_x) + \",\" + str(set_hi_y) + \",\" + str(set_hi_z) + \",\" + str(set_lo_x) + \",\" + str(set_lo_y) + \",\" + str(set_lo_z) + \",\" + str(proximity_x) + \",\" + str(proximity_y) + \",\" + str(proximity_z) + \",\" + str(proximity_mode_x) + \",\" + str(proximity_mode_y) + \",\" + str(proximity_mode_z) + \",\" + str(segments_x) + \",\" + str(segments_y) + \",\" + str(segments_z) + \",\" + str(tag_mode) + \",\" + str(format_id) + \",\" + str(table_id) + \",\" + str(record_id) + \",\" + str(size) + \"\\n\"\n",
    "            fout.write(outputstring)\n",
    "\n",
    "            # Output to Tag file\n",
    "            tagtext = str(\"Time: \") + str(index) + str(\"// Temp: \") + str(row[colmn])\n",
    "            tagstring = str(taginc) + \",\" + str(record_id) + \",0,\\\"\" + tagtext + \"\\\",\\\"\\\"\\n\"\n",
    "            ftag.write(tagstring)\n",
    "            taginc += 1\n",
    "\n",
    "        numlevel2toroids = 1\n",
    "        \n",
    "        # time rod\n",
    "        for m in range(numlevel2toroids):\n",
    "            id += 1\n",
    "            data = id\n",
    "            type = 5\n",
    "            parent_id = level1objectid\n",
    "            selected = 0\n",
    "            branch_level = 2\n",
    "            child_id = id\n",
    "            scale_x = .37\n",
    "            scale_y = scale_x\n",
    "            scale_z = scale_x \n",
    "            translate_x = -200\n",
    "            translate_y = -200\n",
    "            translate_z = 1.5\n",
    "            rotate_x = 0\n",
    "            rotate_y = 0\n",
    "            rotate_z = 0\n",
    "            ratio = .1\n",
    "            line_width= 1\n",
    "            geometry = 7\n",
    "            topo = 3\n",
    "            color_r = 12\n",
    "            color_g = 242\n",
    "            color_b = 143\n",
    "            color_a = 255\n",
    "            record_id = id \n",
    "            texture_id= 0\n",
    "\n",
    "            # Creat output string and write to ANTz Node File\n",
    "            outputstring = str(id) + \",\" + str(type) + \",\" + str(data) + \",\" + str(selected) + \",\" + str(parent_id) + \",\" + str(branch_level) + \",\" + str(child_id) + \",\" + str(child_index) + \",\" + str(palette_id) + \",\" + str(ch_input_id) + \",\" + str(ch_output_id) + \",\" + str(ch_last_updated) + \",\" + str(average) + \",\" + str(samples) + \",\" + str(aux_a_x) + \",\" + str(aux_a_y) + \",\" + str(aux_a_z) + \",\" + str(aux_b_x) + \",\" + str(aux_b_y) + \",\" + str(aux_b_z) + \",\" + str(color_shift) + \",\" + str(rotate_vec_x) + \",\" + str(rotate_vec_y) + \",\" + str(rotate_vec_z) + \",\" + str(rotate_vec_s) + \",\" + str(scale_x) + \",\" + str(scale_y) + \",\" + str(scale_z) + \",\" + str(translate_x) + \",\" + str(translate_y) + \",\" + str(translate_z) + \",\" + str(tag_offset_x) + \",\" + str(tag_offset_y) + \",\" + str(tag_offset_z) + \",\" + str(rotate_rate_x) + \",\" + str(rotate_rate_y) + \",\" + str(rotate_rate_z) + \",\" + str(rotate_x) + \",\" + str(rotate_y) + \",\" + str(rotate_z) + \",\" + str(scale_rate_x) + \",\" + str(scale_rate_y) + \",\" + str(scale_rate_z) + \",\" + str(translate_rate_x) + \",\" + str(translate_rate_y) + \",\" + str(translate_rate_z) + \",\" + str(translate_vec_x) + \",\" + str(translate_vec_y) + \",\" + str(translate_vec_z) + \",\" + str(shader) + \",\" + str(geometry) + \",\" + str(line_width) + \",\" + str(point_size) + \",\" + str(ratio) + \",\" + str(color_index) + \",\" + str(color_r) + \",\" + str(color_g) + \",\" + str(color_b) + \",\" + str(color_a) + \",\" + str(color_fade) + \",\" + str(texture_id) + \",\" + str(hide) + \",\" + str(freeze) + \",\" + str(topo) + \",\" + str(facet) + \",\" + str(auto_zoom_x) + \",\" + str(auto_zoom_y) + \",\" + str(auto_zoom_z) + \",\" + str(trigger_hi_x) + \",\" + str(trigger_hi_y) + \",\" + str(trigger_hi_z) + \",\" + str(trigger_lo_x) + \",\" + str(trigger_lo_y) + \",\" + str(trigger_lo_z) + \",\" + str(set_hi_x) + \",\" + str(set_hi_y) + \",\" + str(set_hi_z) + \",\" + str(set_lo_x) + \",\" + str(set_lo_y) + \",\" + str(set_lo_z) + \",\" + str(proximity_x) + \",\" + str(proximity_y) + \",\" + str(proximity_z) + \",\" + str(proximity_mode_x) + \",\" + str(proximity_mode_y) + \",\" + str(proximity_mode_z) + \",\" + str(segments_x) + \",\" + str(segments_y) + \",\" + str(segments_z) + \",\" + str(tag_mode) + \",\" + str(format_id) + \",\" + str(table_id) + \",\" + str(record_id) + \",\" + str(size) + \"\\n\"\n",
    "            fout.write(outputstring)\n",
    "\n",
    "            # Output to Tag file\n",
    "            tagtext = \"\"\n",
    "            tagstring = str(taginc) + \",\" + str(record_id) + \",0,\\\"\" + tagtext + \"\\\",\\\"\\\"\\n\"\n",
    "            ftag.write(tagstring)\n",
    "            taginc += 1\n",
    "\n",
    "            level2objectid = id\n",
    "            numlevel3toroids = 1\n",
    "            for n in range(numlevel3toroids):    \n",
    "                id += 1\n",
    "                data = id\n",
    "                type = 5\n",
    "                parent_id = level2objectid\n",
    "                selected = 0\n",
    "                branch_level = 3\n",
    "                child_id = id\n",
    "                scale_x = 6\n",
    "                scale_y = scale_x\n",
    "                scale_z = 226.5 \n",
    "                translate_x = 0\n",
    "                translate_y = 0\n",
    "                translate_z = 0\n",
    "                rotate_x = 90\n",
    "                rotate_y = 0\n",
    "                rotate_z = 0\n",
    "                ratio = .1\n",
    "                line_width= 1\n",
    "                geometry = 19\n",
    "                topo = 6\n",
    "                color_r = 191\n",
    "                color_g = 191\n",
    "                color_b = 191\n",
    "                color_a = 200\n",
    "                record_id = id \n",
    "                texture_id= 0\n",
    "\n",
    "                # Creat output string and write to ANTz Node File\n",
    "                outputstring = str(id) + \",\" + str(type) + \",\" + str(data) + \",\" + str(selected) + \",\" + str(parent_id) + \",\" + str(branch_level) + \",\" + str(child_id) + \",\" + str(child_index) + \",\" + str(palette_id) + \",\" + str(ch_input_id) + \",\" + str(ch_output_id) + \",\" + str(ch_last_updated) + \",\" + str(average) + \",\" + str(samples) + \",\" + str(aux_a_x) + \",\" + str(aux_a_y) + \",\" + str(aux_a_z) + \",\" + str(aux_b_x) + \",\" + str(aux_b_y) + \",\" + str(aux_b_z) + \",\" + str(color_shift) + \",\" + str(rotate_vec_x) + \",\" + str(rotate_vec_y) + \",\" + str(rotate_vec_z) + \",\" + str(rotate_vec_s) + \",\" + str(scale_x) + \",\" + str(scale_y) + \",\" + str(scale_z) + \",\" + str(translate_x) + \",\" + str(translate_y) + \",\" + str(translate_z) + \",\" + str(tag_offset_x) + \",\" + str(tag_offset_y) + \",\" + str(tag_offset_z) + \",\" + str(rotate_rate_x) + \",\" + str(rotate_rate_y) + \",\" + str(rotate_rate_z) + \",\" + str(rotate_x) + \",\" + str(rotate_y) + \",\" + str(rotate_z) + \",\" + str(scale_rate_x) + \",\" + str(scale_rate_y) + \",\" + str(scale_rate_z) + \",\" + str(translate_rate_x) + \",\" + str(translate_rate_y) + \",\" + str(translate_rate_z) + \",\" + str(translate_vec_x) + \",\" + str(translate_vec_y) + \",\" + str(translate_vec_z) + \",\" + str(shader) + \",\" + str(geometry) + \",\" + str(line_width) + \",\" + str(point_size) + \",\" + str(ratio) + \",\" + str(color_index) + \",\" + str(color_r) + \",\" + str(color_g) + \",\" + str(color_b) + \",\" + str(color_a) + \",\" + str(color_fade) + \",\" + str(texture_id) + \",\" + str(hide) + \",\" + str(freeze) + \",\" + str(topo) + \",\" + str(facet) + \",\" + str(auto_zoom_x) + \",\" + str(auto_zoom_y) + \",\" + str(auto_zoom_z) + \",\" + str(trigger_hi_x) + \",\" + str(trigger_hi_y) + \",\" + str(trigger_hi_z) + \",\" + str(trigger_lo_x) + \",\" + str(trigger_lo_y) + \",\" + str(trigger_lo_z) + \",\" + str(set_hi_x) + \",\" + str(set_hi_y) + \",\" + str(set_hi_z) + \",\" + str(set_lo_x) + \",\" + str(set_lo_y) + \",\" + str(set_lo_z) + \",\" + str(proximity_x) + \",\" + str(proximity_y) + \",\" + str(proximity_z) + \",\" + str(proximity_mode_x) + \",\" + str(proximity_mode_y) + \",\" + str(proximity_mode_z) + \",\" + str(segments_x) + \",\" + str(segments_y) + \",\" + str(segments_z) + \",\" + str(tag_mode) + \",\" + str(format_id) + \",\" + str(table_id) + \",\" + str(record_id) + \",\" + str(size) + \"\\n\"\n",
    "                fout.write(outputstring)\n",
    "\n",
    "                # Output to Tag file\n",
    "                tagtext = \"\"\n",
    "                tagstring = str(taginc) + \",\" + str(record_id) + \",0,\\\"\" + tagtext + \"\\\",\\\"\\\"\\n\"\n",
    "                ftag.write(tagstring)\n",
    "                taginc += 1\n",
    "                \n",
    "                level3objectid = id\n",
    "                numlevel4toroids = 7\n",
    "                # time markers\n",
    "                for lt in range(numlevel4toroids):\n",
    "                    id += 1\n",
    "                    data = id\n",
    "                    type = 5\n",
    "                    parent_id = level3objectid\n",
    "                    selected = 0\n",
    "                    branch_level = 4\n",
    "                    child_id = id\n",
    "                    scale_x = 25\n",
    "                    scale_y = 10\n",
    "                    scale_z = 3 \n",
    "                    translate_x = -180 + (.54*lt)\n",
    "                    translate_y = 0\n",
    "                    translate_z = 0\n",
    "                    rotate_x = 0\n",
    "                    rotate_y = 90\n",
    "                    rotate_z = 0\n",
    "                    ratio = .1\n",
    "                    line_width= 1\n",
    "                    geometry = 11\n",
    "                    topo = 2\n",
    "                    color_r = 107\n",
    "                    color_g = 196\n",
    "                    color_b = 219\n",
    "                    color_a = 255\n",
    "                    record_id = id \n",
    "\n",
    "                    # Creat output string and write to ANTz Node File\n",
    "                    outputstring = str(id) + \",\" + str(type) + \",\" + str(data) + \",\" + str(selected) + \",\" + str(parent_id) + \",\" + str(branch_level) + \",\" + str(child_id) + \",\" + str(child_index) + \",\" + str(palette_id) + \",\" + str(ch_input_id) + \",\" + str(ch_output_id) + \",\" + str(ch_last_updated) + \",\" + str(average) + \",\" + str(samples) + \",\" + str(aux_a_x) + \",\" + str(aux_a_y) + \",\" + str(aux_a_z) + \",\" + str(aux_b_x) + \",\" + str(aux_b_y) + \",\" + str(aux_b_z) + \",\" + str(color_shift) + \",\" + str(rotate_vec_x) + \",\" + str(rotate_vec_y) + \",\" + str(rotate_vec_z) + \",\" + str(rotate_vec_s) + \",\" + str(scale_x) + \",\" + str(scale_y) + \",\" + str(scale_z) + \",\" + str(translate_x) + \",\" + str(translate_y) + \",\" + str(translate_z) + \",\" + str(tag_offset_x) + \",\" + str(tag_offset_y) + \",\" + str(tag_offset_z) + \",\" + str(rotate_rate_x) + \",\" + str(rotate_rate_y) + \",\" + str(rotate_rate_z) + \",\" + str(rotate_x) + \",\" + str(rotate_y) + \",\" + str(rotate_z) + \",\" + str(scale_rate_x) + \",\" + str(scale_rate_y) + \",\" + str(scale_rate_z) + \",\" + str(translate_rate_x) + \",\" + str(translate_rate_y) + \",\" + str(translate_rate_z) + \",\" + str(translate_vec_x) + \",\" + str(translate_vec_y) + \",\" + str(translate_vec_z) + \",\" + str(shader) + \",\" + str(geometry) + \",\" + str(line_width) + \",\" + str(point_size) + \",\" + str(ratio) + \",\" + str(color_index) + \",\" + str(color_r) + \",\" + str(color_g) + \",\" + str(color_b) + \",\" + str(color_a) + \",\" + str(color_fade) + \",\" + str(texture_id) + \",\" + str(hide) + \",\" + str(freeze) + \",\" + str(topo) + \",\" + str(facet) + \",\" + str(auto_zoom_x) + \",\" + str(auto_zoom_y) + \",\" + str(auto_zoom_z) + \",\" + str(trigger_hi_x) + \",\" + str(trigger_hi_y) + \",\" + str(trigger_hi_z) + \",\" + str(trigger_lo_x) + \",\" + str(trigger_lo_y) + \",\" + str(trigger_lo_z) + \",\" + str(set_hi_x) + \",\" + str(set_hi_y) + \",\" + str(set_hi_z) + \",\" + str(set_lo_x) + \",\" + str(set_lo_y) + \",\" + str(set_lo_z) + \",\" + str(proximity_x) + \",\" + str(proximity_y) + \",\" + str(proximity_z) + \",\" + str(proximity_mode_x) + \",\" + str(proximity_mode_y) + \",\" + str(proximity_mode_z) + \",\" + str(segments_x) + \",\" + str(segments_y) + \",\" + str(segments_z) + \",\" + str(tag_mode) + \",\" + str(format_id) + \",\" + str(table_id) + \",\" + str(record_id) + \",\" + str(size) + \"\\n\"\n",
    "                    fout.write(outputstring)\n",
    "\n",
    "                    # Output to Tag file\n",
    "                    tagtext = str(\"Day: \") + str(lt)\n",
    "                    tagstring = str(taginc) + \",\" + str(record_id) + \",0,\\\"\" + tagtext + \"\\\",\\\"\\\"\\n\"\n",
    "                    ftag.write(tagstring)\n",
    "                    taginc += 1        \n",
    "            \n",
    "  \n",
    "fout.close()"
   ]
  },
  {
   "cell_type": "code",
   "execution_count": null,
   "metadata": {
    "collapsed": true
   },
   "outputs": [],
   "source": []
  }
 ],
 "metadata": {
  "kernelspec": {
   "display_name": "Python 3",
   "language": "python",
   "name": "python3"
  },
  "language_info": {
   "codemirror_mode": {
    "name": "ipython",
    "version": 3
   },
   "file_extension": ".py",
   "mimetype": "text/x-python",
   "name": "python",
   "nbconvert_exporter": "python",
   "pygments_lexer": "ipython3",
   "version": "3.6.12"
  }
 },
 "nbformat": 4,
 "nbformat_minor": 2
}
