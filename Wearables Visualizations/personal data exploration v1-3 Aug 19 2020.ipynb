{
 "cells": [
  {
   "cell_type": "code",
   "execution_count": 930,
   "metadata": {
    "collapsed": true
   },
   "outputs": [],
   "source": [
    "from scipy.io import loadmat\n",
    "from scipy.stats import zscore\n",
    "from decimal import *\n",
    "import pandas as pd\n",
    "import numpy as np\n",
    "import datetime as dt\n",
    "import os\n",
    "import sys\n",
    "import math\n",
    "import pandas as pd\n",
    "import numpy as np\n",
    "from pprint import pprint\n",
    "import json\n",
    "import requests\n",
    "import datetime\n",
    "from datetime import date\n",
    "import os\n",
    "import xmltodict\n",
    "from pandas.io.json import json_normalize"
   ]
  },
  {
   "cell_type": "code",
   "execution_count": 931,
   "metadata": {
    "collapsed": true
   },
   "outputs": [],
   "source": [
    "initial_value = \"Anne_v3_\"\n",
    "\n",
    "#v1: no colors, initial run to make sure the code works and generates the rough glyph design\n",
    "#v2: colors added, topologies fixed\n",
    "#v3: refinement, added facet"
   ]
  },
  {
   "cell_type": "code",
   "execution_count": 932,
   "metadata": {
    "collapsed": true
   },
   "outputs": [],
   "source": [
    "with open('oura_2020-08-19_AG.json') as json_data:\n",
    "    dataJ = json.load(json_data)\n",
    "    \n",
    "sleep = json_normalize(dataJ, 'sleep')\n",
    "dfs = pd.DataFrame(sleep)\n",
    "\n",
    "readiness = json_normalize(dataJ, 'readiness')\n",
    "dfr = pd.DataFrame(readiness)\n",
    "\n",
    "activity = json_normalize(dataJ, 'activity')\n",
    "dfa = pd.DataFrame(activity)"
   ]
  },
  {
   "cell_type": "code",
   "execution_count": 933,
   "metadata": {
    "collapsed": true
   },
   "outputs": [],
   "source": [
    "df = dfa.merge(dfr, on='summary_date')"
   ]
  },
  {
   "cell_type": "code",
   "execution_count": 934,
   "metadata": {
    "collapsed": true
   },
   "outputs": [],
   "source": [
    "df = df.merge(dfs, on = 'summary_date')\n",
    "df.rename( columns={'Unnamed: 0':'index'}, inplace=True )"
   ]
  },
  {
   "cell_type": "code",
   "execution_count": 935,
   "metadata": {
    "collapsed": true
   },
   "outputs": [],
   "source": [
    "df['bed_start'] = pd.to_datetime(df['bedtime_start'])\n",
    "df['sum_date'] = pd.to_datetime(df['summary_date'])"
   ]
  },
  {
   "cell_type": "code",
   "execution_count": 936,
   "metadata": {},
   "outputs": [],
   "source": [
    "df['date'] = df['sum_date'].dt.date"
   ]
  },
  {
   "cell_type": "code",
   "execution_count": 937,
   "metadata": {},
   "outputs": [],
   "source": [
    "df = df.set_index(pd.DatetimeIndex(df['date']))"
   ]
  },
  {
   "cell_type": "code",
   "execution_count": 938,
   "metadata": {},
   "outputs": [],
   "source": [
    "df1 = df.loc['2020-07-14':'2020-07-27']"
   ]
  },
  {
   "cell_type": "code",
   "execution_count": 939,
   "metadata": {},
   "outputs": [],
   "source": [
    "df1 = df1.reset_index(drop=True)"
   ]
  },
  {
   "cell_type": "code",
   "execution_count": 940,
   "metadata": {
    "collapsed": true
   },
   "outputs": [],
   "source": [
    "df1.replace({0:0.001}, inplace = True)\n",
    "df1.fillna(0.001, inplace=True)"
   ]
  },
  {
   "cell_type": "code",
   "execution_count": 941,
   "metadata": {
    "collapsed": true
   },
   "outputs": [],
   "source": [
    "def make_interpolater(left_min, left_max, right_min, right_max): \n",
    "    # Figure out how 'wide' each range is  \n",
    "    leftSpan = left_max - left_min  \n",
    "    rightSpan = right_max - right_min  \n",
    "\n",
    "    # Compute the scale factor between left and right values \n",
    "    scaleFactor = float(rightSpan) / float(leftSpan) \n",
    "\n",
    "    # create interpolation function using pre-calculated scaleFactor\n",
    "    def interp_fn(value):\n",
    "        return right_min + (value-left_min)*scaleFactor\n",
    "\n",
    "    return interp_fn"
   ]
  },
  {
   "cell_type": "code",
   "execution_count": 942,
   "metadata": {
    "collapsed": true
   },
   "outputs": [],
   "source": [
    "def Reverse(lst): \n",
    "    lst.reverse() \n",
    "    return lst "
   ]
  },
  {
   "cell_type": "code",
   "execution_count": 943,
   "metadata": {
    "collapsed": true
   },
   "outputs": [],
   "source": [
    "for column in df1[['score_x', 'score_meet_daily_targets', 'score_move_every_hour', 'score_recovery_time', 'score_stay_active', 'score_training_frequency', 'score_training_volume', 'non_wear', 'high', 'inactive', 'rest',  'low', 'medium', 'cal_total', 'daily_movement', 'score_y', 'score_activity_balance', 'score_hrv_balance', 'score_previous_day', 'score_previous_night', 'score_recovery_index', 'score_resting_hr', 'score_sleep_balance', 'score_temperature', 'awake', 'breath_average', 'deep', 'light', 'rem', 'hr_average', 'hr_lowest', 'score', 'score_alignment', 'score_deep', 'score_disturbances', 'score_efficiency', 'score_latency', 'score_rem', 'score_total']]:\n",
    "    columnSeriesObj = df1[column]\n",
    "    col_min = df1[column].min() \n",
    "    col_max = df1[column].max() \n",
    "    col_list = df1[column].tolist()\n",
    "    scalar = make_interpolater(col_min + .0002, col_max, .03, .43) \n",
    "    col_interp = [scalar(x) for x in col_list] \n",
    "    df1[(str(column) + str('_scale'))] = col_interp"
   ]
  },
  {
   "cell_type": "code",
   "execution_count": 944,
   "metadata": {
    "collapsed": true
   },
   "outputs": [],
   "source": [
    "xlist = list(range(-300, 295, 85))"
   ]
  },
  {
   "cell_type": "code",
   "execution_count": 945,
   "metadata": {},
   "outputs": [],
   "source": [
    "xlist = [xlist]*2\n",
    "xaxis = [y for x in xlist for y in x]"
   ]
  },
  {
   "cell_type": "code",
   "execution_count": 946,
   "metadata": {},
   "outputs": [],
   "source": [
    "df1['xroot'] = xaxis\n",
    "df1['yroot'] = [55, 55, 55, 55, 55, 55, 55, -65, -65, -65, -65, -65, -65, -65]\n",
    "df1['zroot'] = 3"
   ]
  },
  {
   "cell_type": "code",
   "execution_count": 947,
   "metadata": {},
   "outputs": [],
   "source": [
    "df1['bed_start'] = df1['bed_start'].dt.tz_localize(tz='UTC')"
   ]
  },
  {
   "cell_type": "code",
   "execution_count": 948,
   "metadata": {
    "collapsed": true
   },
   "outputs": [],
   "source": [
    "df1['bed_start'] = df1['bed_start'].dt.tz_convert(tz='America/Los_Angeles')"
   ]
  },
  {
   "cell_type": "code",
   "execution_count": 949,
   "metadata": {},
   "outputs": [],
   "source": [
    "df1['bed_start'] = df1['bed_start'].dt.time"
   ]
  },
  {
   "cell_type": "code",
   "execution_count": 950,
   "metadata": {},
   "outputs": [],
   "source": [
    "llist = []\n",
    "for index, row in df1.iterrows():\n",
    "    if (row['bed_start'].hour > 12):\n",
    "        # random day + 1\n",
    "        x = '2020-01-01' + ' ' + str(row['bed_start'])\n",
    "        llist.append(x)\n",
    "    elif (row['bed_start'].hour < 12):\n",
    "        # random day\n",
    "        #rr = pd.to_datetime['2020-01-01' + ' ' + str(row['BB'])]\n",
    "        x = x = '2020-01-02' + ' ' + str(row['bed_start'])\n",
    "        llist.append(x)"
   ]
  },
  {
   "cell_type": "code",
   "execution_count": 951,
   "metadata": {
    "collapsed": true
   },
   "outputs": [],
   "source": [
    "df1['converted_date'] = pd.to_datetime(llist)"
   ]
  },
  {
   "cell_type": "code",
   "execution_count": 952,
   "metadata": {},
   "outputs": [],
   "source": [
    "# 'converted_date' = bedtime start as timestamp\n",
    "df1['converted_date'] = (df1['converted_date'].astype(int) / 10**9)"
   ]
  },
  {
   "cell_type": "code",
   "execution_count": 953,
   "metadata": {},
   "outputs": [],
   "source": [
    "col_list = df1['converted_date'].values.tolist()\n",
    "scalar = make_interpolater(1577851200, 1577937600, 105, -120) \n",
    "col_interp = [scalar(x) for x in col_list] "
   ]
  },
  {
   "cell_type": "code",
   "execution_count": 954,
   "metadata": {},
   "outputs": [],
   "source": [
    "df1['bedtime_start'] = col_interp"
   ]
  },
  {
   "cell_type": "code",
   "execution_count": null,
   "metadata": {
    "collapsed": true
   },
   "outputs": [],
   "source": []
  },
  {
   "cell_type": "code",
   "execution_count": null,
   "metadata": {
    "collapsed": true
   },
   "outputs": [],
   "source": []
  },
  {
   "cell_type": "code",
   "execution_count": null,
   "metadata": {
    "collapsed": true
   },
   "outputs": [],
   "source": []
  },
  {
   "cell_type": "markdown",
   "metadata": {},
   "source": [
    "# Food DataFrame"
   ]
  },
  {
   "cell_type": "code",
   "execution_count": 955,
   "metadata": {},
   "outputs": [],
   "source": [
    "dffd = pd.read_csv(\"servings.csv\")"
   ]
  },
  {
   "cell_type": "code",
   "execution_count": 956,
   "metadata": {
    "collapsed": true
   },
   "outputs": [],
   "source": [
    "dffd = dffd.set_index(pd.to_datetime(dffd['Day']))\n"
   ]
  },
  {
   "cell_type": "code",
   "execution_count": 957,
   "metadata": {
    "collapsed": true
   },
   "outputs": [],
   "source": [
    "dffd = dffd.loc['2020-07-14':'2020-8-04']\n"
   ]
  },
  {
   "cell_type": "code",
   "execution_count": 958,
   "metadata": {},
   "outputs": [],
   "source": [
    "dffd = dffd.reset_index(drop=True)"
   ]
  },
  {
   "cell_type": "code",
   "execution_count": 959,
   "metadata": {
    "collapsed": true
   },
   "outputs": [],
   "source": [
    "dffd['Time'] = pd.to_datetime(dffd['Time'])\n",
    "dffd['mealtime'] = [d.time() for d in dffd['Time']]"
   ]
  },
  {
   "cell_type": "code",
   "execution_count": 960,
   "metadata": {},
   "outputs": [],
   "source": [
    "df3 = dffd.groupby(['Day', 'mealtime']).sum()"
   ]
  },
  {
   "cell_type": "code",
   "execution_count": 961,
   "metadata": {},
   "outputs": [],
   "source": [
    "df3 = df3[['energy', 'protein', 'fat', 'carbs', 'fiber', 'sugar']]"
   ]
  },
  {
   "cell_type": "code",
   "execution_count": 962,
   "metadata": {},
   "outputs": [],
   "source": [
    "tmlist = []\n",
    "for index, row in df3.iterrows():\n",
    "    totalmeal = row['protein'] + row['carbs'] + row['fat']\n",
    "    tmlist.append(totalmeal)"
   ]
  },
  {
   "cell_type": "code",
   "execution_count": 963,
   "metadata": {
    "collapsed": true
   },
   "outputs": [],
   "source": [
    "df3['totalmeal'] = tmlist\n",
    "#df3['totalmeal'] = df3['totalmeal'].fillna(0)"
   ]
  },
  {
   "cell_type": "code",
   "execution_count": 964,
   "metadata": {},
   "outputs": [],
   "source": [
    "df3['p'] = df3['protein']/ df3['totalmeal']\n",
    "df3['ft'] = df3['fat']/ df3['totalmeal']\n",
    "df3['c'] = df3['carbs']/ df3['totalmeal']\n",
    "df3['s'] = df3['sugar']/ df3['carbs']\n",
    "df3['fb'] = df3['fiber']/ df3['carbs']"
   ]
  },
  {
   "cell_type": "code",
   "execution_count": 965,
   "metadata": {
    "collapsed": true
   },
   "outputs": [],
   "source": [
    "for column in df3[['p', 'ft', 'c']]:\n",
    "    columnSeriesObj = df3[column]\n",
    "    col_min = df3[column].min() \n",
    "    col_max = df3[column].max() \n",
    "    col_list = df3[column].tolist()\n",
    "    scalar = make_interpolater(col_min + .0002, col_max, 1, 6.5) \n",
    "    col_interp = [scalar(x) for x in col_list] \n",
    "    df3[(str(column) + str('_scale'))] = col_interp"
   ]
  },
  {
   "cell_type": "code",
   "execution_count": 966,
   "metadata": {
    "collapsed": true
   },
   "outputs": [],
   "source": [
    "for column in df3[['s', 'fb']]:\n",
    "    columnSeriesObj = df3[column]\n",
    "    col_min = df3[column].min() \n",
    "    col_max = df3[column].max() \n",
    "    col_list = df3[column].tolist()\n",
    "    scalar = make_interpolater(col_min + .0002, col_max, .3, 1.5) \n",
    "    col_interp = [scalar(x) for x in col_list] \n",
    "    df3[(str(column) + str('_scale'))] = col_interp"
   ]
  },
  {
   "cell_type": "code",
   "execution_count": 967,
   "metadata": {},
   "outputs": [],
   "source": [
    "# cal_chunk is every  100 calories per meal\n",
    "df3['cal_chunk'] = df3['energy']/100\n",
    "df3['cal_chunk'] = df3['cal_chunk'].round(0).astype(int)"
   ]
  },
  {
   "cell_type": "code",
   "execution_count": 968,
   "metadata": {
    "collapsed": true
   },
   "outputs": [],
   "source": [
    "df3 = df3.reset_index()"
   ]
  },
  {
   "cell_type": "code",
   "execution_count": 969,
   "metadata": {},
   "outputs": [],
   "source": [
    "df3['date'] = pd.to_datetime(df3['Day'])"
   ]
  },
  {
   "cell_type": "code",
   "execution_count": 970,
   "metadata": {},
   "outputs": [],
   "source": [
    "ylist = []\n",
    "for index, row in df3.iterrows():\n",
    "    x = '2020-01-01' + ' ' + str(row['mealtime'])\n",
    "    ylist.append(x)"
   ]
  },
  {
   "cell_type": "code",
   "execution_count": 971,
   "metadata": {},
   "outputs": [],
   "source": [
    "df3['mtime'] = pd.to_datetime(ylist)"
   ]
  },
  {
   "cell_type": "code",
   "execution_count": 972,
   "metadata": {
    "collapsed": true
   },
   "outputs": [],
   "source": [
    "df3['mtimestamp'] = (df3['mtime'].astype(int) / 10**9)"
   ]
  },
  {
   "cell_type": "code",
   "execution_count": 973,
   "metadata": {
    "collapsed": true
   },
   "outputs": [],
   "source": [
    "col_list = df3['mtimestamp'].values.tolist()\n",
    "scalar = make_interpolater(1577851200, 1577937600, 105, -120) \n",
    "col_interp = [scalar(x) for x in col_list] "
   ]
  },
  {
   "cell_type": "code",
   "execution_count": 974,
   "metadata": {
    "collapsed": true
   },
   "outputs": [],
   "source": [
    "df3['y3'] = col_interp"
   ]
  },
  {
   "cell_type": "code",
   "execution_count": 975,
   "metadata": {},
   "outputs": [],
   "source": [
    "#df3.head()"
   ]
  },
  {
   "cell_type": "markdown",
   "metadata": {},
   "source": [
    "## df4 blood glucose"
   ]
  },
  {
   "cell_type": "code",
   "execution_count": 976,
   "metadata": {
    "collapsed": true
   },
   "outputs": [],
   "source": [
    "dfblood = pd.read_csv(\"blood_glucose.csv\")"
   ]
  },
  {
   "cell_type": "code",
   "execution_count": 977,
   "metadata": {},
   "outputs": [],
   "source": [
    "dfg = dfblood.loc[dfblood['type'] == 'glucose']\n",
    "dfg = dfg[['value', 'date', 'time', 'gki']]\n",
    "col_list = ['bg', 'date', 'time', 'gki']\n",
    "dfg.columns = col_list\n",
    "#dfg.head()"
   ]
  },
  {
   "cell_type": "code",
   "execution_count": 978,
   "metadata": {},
   "outputs": [],
   "source": [
    "dfk = dfblood.loc[dfblood['type'] == 'ketone']\n",
    "dfk = dfk[['value', 'date', 'time']]\n",
    "col_list = ['k', 'date', 'time']\n",
    "dfk.columns = col_list\n",
    "#dfk.head()"
   ]
  },
  {
   "cell_type": "code",
   "execution_count": 979,
   "metadata": {
    "collapsed": true
   },
   "outputs": [],
   "source": [
    "col_min = dfg['bg'].min() \n",
    "col_max = dfg['bg'].max() \n",
    "col_list = dfg['bg'].tolist()\n",
    "scalar = make_interpolater(col_min + .0002, col_max, .03, .58) \n",
    "col_interp = [scalar(x) for x in col_list] \n",
    "dfg['bg_scale'] = col_interp"
   ]
  },
  {
   "cell_type": "code",
   "execution_count": 980,
   "metadata": {
    "collapsed": true
   },
   "outputs": [],
   "source": [
    "col_min = dfg['gki'].min() \n",
    "col_max = dfg['gki'].max() \n",
    "col_list = dfg['gki'].tolist()\n",
    "scalar = make_interpolater(col_min + .0002, col_max, .03, .58) \n",
    "col_interp = [scalar(x) for x in col_list] \n",
    "dfg['gki_scale'] = col_interp"
   ]
  },
  {
   "cell_type": "code",
   "execution_count": 981,
   "metadata": {
    "collapsed": true
   },
   "outputs": [],
   "source": [
    "col_min = dfk['k'].min() \n",
    "col_max = dfk['k'].max() \n",
    "col_list = dfk['k'].tolist()\n",
    "scalar = make_interpolater(col_min + .0002, col_max, .03, .58) \n",
    "col_interp = [scalar(x) for x in col_list] \n",
    "dfk['k_scale'] = col_interp"
   ]
  },
  {
   "cell_type": "code",
   "execution_count": 982,
   "metadata": {},
   "outputs": [],
   "source": [
    "dfg['time'] = pd.to_datetime(dfg['time'])"
   ]
  },
  {
   "cell_type": "code",
   "execution_count": 983,
   "metadata": {
    "collapsed": true
   },
   "outputs": [],
   "source": [
    "dfk = dfk.fillna(0)\n",
    "dfk['time'] = pd.to_datetime(dfk['time'])"
   ]
  },
  {
   "cell_type": "code",
   "execution_count": 984,
   "metadata": {},
   "outputs": [],
   "source": [
    "#dfsurvey.loc[dfsurvey[\"Are_you_in_isolation\"] == 'Yes', 'Are_you_in_isolation'] = 1\n",
    "dfk.loc[(dfk['time'] > '07:00:00') & (dfk['time'] < '09:00:00'), 'time_num'] = 8\n",
    "dfk.loc[(dfk['time'] > '09:00:00') & (dfk['time'] < '11:00:00'), 'time_num'] = 10\n",
    "dfk.loc[(dfk['time'] > '11:00:00') & (dfk['time'] < '13:00:00'), 'time_num'] = 12\n",
    "dfk.loc[(dfk['time'] > '13:00:00') & (dfk['time'] < '15:00:00'), 'time_num'] = 14\n",
    "dfk.loc[(dfk['time'] > '15:00:00') & (dfk['time'] < '17:00:00'), 'time_num'] = 16\n",
    "dfk.loc[(dfk['time'] > '17:00:00') & (dfk['time'] < '19:00:00'), 'time_num'] = 18"
   ]
  },
  {
   "cell_type": "code",
   "execution_count": 985,
   "metadata": {},
   "outputs": [],
   "source": [
    "dfk['time_num'] = dfk['time_num'].astype(int)\n",
    "dfk['t_num'] = pd.to_datetime(dfk['time_num'], format = '%H')"
   ]
  },
  {
   "cell_type": "code",
   "execution_count": 986,
   "metadata": {
    "collapsed": true
   },
   "outputs": [],
   "source": [
    "dfk['t_num_time'] = dfk['t_num'].dt.time"
   ]
  },
  {
   "cell_type": "code",
   "execution_count": 987,
   "metadata": {
    "collapsed": true
   },
   "outputs": [],
   "source": [
    "klist = []\n",
    "for index, row in dfk.iterrows():\n",
    "    x = '2020-01-01' + ' ' + str(row['t_num_time'])\n",
    "    klist.append(x)"
   ]
  },
  {
   "cell_type": "code",
   "execution_count": 988,
   "metadata": {
    "collapsed": true
   },
   "outputs": [],
   "source": [
    "dfk['tmt'] = pd.to_datetime(klist)"
   ]
  },
  {
   "cell_type": "code",
   "execution_count": 989,
   "metadata": {
    "collapsed": true
   },
   "outputs": [],
   "source": [
    "dfk['tmtstamp'] = (dfk['tmt'].astype(int) / 10**9)"
   ]
  },
  {
   "cell_type": "code",
   "execution_count": 990,
   "metadata": {
    "collapsed": true
   },
   "outputs": [],
   "source": [
    "col_list = dfk['tmtstamp'].values.tolist()\n",
    "scalar = make_interpolater(1577851200, 1577937600, 105, -120) \n",
    "col_interp = [scalar(x) for x in col_list] "
   ]
  },
  {
   "cell_type": "code",
   "execution_count": 991,
   "metadata": {
    "collapsed": true
   },
   "outputs": [],
   "source": [
    "dfk['y4'] = col_interp"
   ]
  },
  {
   "cell_type": "code",
   "execution_count": 992,
   "metadata": {
    "collapsed": true
   },
   "outputs": [],
   "source": [
    "dfg.loc[(dfg['time'] > '07:00:00') & (dfg['time'] < '09:00:00'), 'time_num'] = 8\n",
    "dfg.loc[(dfg['time'] > '09:00:00') & (dfg['time'] < '11:00:00'), 'time_num'] = 10\n",
    "dfg.loc[(dfg['time'] > '11:00:00') & (dfg['time'] < '13:00:00'), 'time_num'] = 12\n",
    "dfg.loc[(dfg['time'] > '13:00:00') & (dfg['time'] < '15:00:00'), 'time_num'] = 14\n",
    "dfg.loc[(dfg['time'] > '15:00:00') & (dfg['time'] < '17:00:00'), 'time_num'] = 16\n",
    "dfg.loc[(dfg['time'] > '17:00:00') & (dfg['time'] < '19:00:00'), 'time_num'] = 18"
   ]
  },
  {
   "cell_type": "code",
   "execution_count": 993,
   "metadata": {},
   "outputs": [],
   "source": [
    "dfg = dfg.fillna(0)"
   ]
  },
  {
   "cell_type": "code",
   "execution_count": 994,
   "metadata": {},
   "outputs": [],
   "source": [
    "dfg['time_num'] = dfg['time_num'].astype(int)\n",
    "dfg['t_num'] = pd.to_datetime(dfg['time_num'], format = '%H')"
   ]
  },
  {
   "cell_type": "code",
   "execution_count": 995,
   "metadata": {
    "collapsed": true
   },
   "outputs": [],
   "source": [
    "dfg['t_num_time'] = dfg['t_num'].dt.time"
   ]
  },
  {
   "cell_type": "code",
   "execution_count": 996,
   "metadata": {
    "collapsed": true
   },
   "outputs": [],
   "source": [
    "glist = []\n",
    "for index, row in dfg.iterrows():\n",
    "    x = '2020-01-01' + ' ' + str(row['t_num_time'])\n",
    "    glist.append(x)"
   ]
  },
  {
   "cell_type": "code",
   "execution_count": 997,
   "metadata": {
    "collapsed": true
   },
   "outputs": [],
   "source": [
    "dfg['tmt'] = pd.to_datetime(glist)"
   ]
  },
  {
   "cell_type": "code",
   "execution_count": 998,
   "metadata": {
    "collapsed": true
   },
   "outputs": [],
   "source": [
    "dfg['tmtstamp'] = (dfg['tmt'].astype(int) / 10**9)"
   ]
  },
  {
   "cell_type": "code",
   "execution_count": 999,
   "metadata": {
    "collapsed": true
   },
   "outputs": [],
   "source": [
    "col_list = dfg['tmtstamp'].values.tolist()\n",
    "scalar = make_interpolater(1577851200, 1577937600, 105, -120) \n",
    "col_interp = [scalar(x) for x in col_list] "
   ]
  },
  {
   "cell_type": "code",
   "execution_count": 1000,
   "metadata": {
    "collapsed": true
   },
   "outputs": [],
   "source": [
    "dfg['y4'] = col_interp"
   ]
  },
  {
   "cell_type": "code",
   "execution_count": 1001,
   "metadata": {
    "collapsed": true
   },
   "outputs": [],
   "source": [
    "df4 = dfg.merge(dfk,on = ['date', 'time_num'], how = 'outer')"
   ]
  },
  {
   "cell_type": "code",
   "execution_count": 1002,
   "metadata": {},
   "outputs": [],
   "source": [
    "df4['date'] = pd.to_datetime(df4['date'])"
   ]
  },
  {
   "cell_type": "code",
   "execution_count": 1003,
   "metadata": {},
   "outputs": [],
   "source": [
    "df4 = df4.loc[(df4['date'] > '2020-07-14') & (df4['date'] < '2020-07-28')]"
   ]
  },
  {
   "cell_type": "code",
   "execution_count": 1004,
   "metadata": {},
   "outputs": [],
   "source": [
    "df4['y4'] = df4['y4_x']"
   ]
  },
  {
   "cell_type": "code",
   "execution_count": null,
   "metadata": {
    "collapsed": true
   },
   "outputs": [],
   "source": []
  },
  {
   "cell_type": "markdown",
   "metadata": {},
   "source": [
    "## df5 Workouts "
   ]
  },
  {
   "cell_type": "code",
   "execution_count": 1005,
   "metadata": {
    "collapsed": true
   },
   "outputs": [],
   "source": [
    "dfw = pd.read_csv(\"14dworkouts.csv\")"
   ]
  },
  {
   "cell_type": "code",
   "execution_count": 1006,
   "metadata": {
    "collapsed": true
   },
   "outputs": [],
   "source": [
    "llist = []\n",
    "for index, row in dfw.iterrows():\n",
    "    x = '2020-01-01' + ' ' + str(row['time_start'])\n",
    "    llist.append(x)"
   ]
  },
  {
   "cell_type": "code",
   "execution_count": 1007,
   "metadata": {
    "collapsed": true
   },
   "outputs": [],
   "source": [
    "dfw['dtstart'] = pd.to_datetime(llist)"
   ]
  },
  {
   "cell_type": "code",
   "execution_count": 1008,
   "metadata": {
    "collapsed": true
   },
   "outputs": [],
   "source": [
    "dfw['startstamp'] = (dfw['dtstart'].astype(int) / 10**9)"
   ]
  },
  {
   "cell_type": "code",
   "execution_count": 1009,
   "metadata": {
    "collapsed": true
   },
   "outputs": [],
   "source": [
    "col_list = dfw['startstamp'].values.tolist()\n",
    "scalar = make_interpolater(1577851200, 1577937600, 105, -120) \n",
    "col_interp = [scalar(x) for x in col_list] "
   ]
  },
  {
   "cell_type": "code",
   "execution_count": 1010,
   "metadata": {
    "collapsed": true
   },
   "outputs": [],
   "source": [
    "dfw['y5'] = col_interp"
   ]
  },
  {
   "cell_type": "code",
   "execution_count": 1011,
   "metadata": {},
   "outputs": [
    {
     "data": {
      "text/plain": [
       "HKWorkoutActivityTypeTraditionalStrengthTraining    8\n",
       "HKWorkoutActivityTypeYoga                           6\n",
       "Name: @workoutActivityType, dtype: int64"
      ]
     },
     "execution_count": 1011,
     "metadata": {},
     "output_type": "execute_result"
    }
   ],
   "source": [
    "dfw['@workoutActivityType'].value_counts()"
   ]
  },
  {
   "cell_type": "code",
   "execution_count": 1012,
   "metadata": {},
   "outputs": [],
   "source": [
    "dfw.rename(columns = {'@workoutActivityType': 'type'}, inplace=True)"
   ]
  },
  {
   "cell_type": "code",
   "execution_count": 1013,
   "metadata": {
    "collapsed": true
   },
   "outputs": [],
   "source": [
    "dfw.loc[dfw['type'] == 'HKWorkoutActivityTypeTraditionalStrengthTraining', 'type'] = 'lifting'"
   ]
  },
  {
   "cell_type": "code",
   "execution_count": 1014,
   "metadata": {
    "collapsed": true
   },
   "outputs": [],
   "source": [
    "dfw.loc[dfw['type'] == 'HKWorkoutActivityTypeYoga', 'type'] = 'yoga'"
   ]
  },
  {
   "cell_type": "code",
   "execution_count": 1015,
   "metadata": {
    "collapsed": true
   },
   "outputs": [],
   "source": [
    "dfw['wcal_chunk'] = dfw['@totalEnergyBurned']/25\n",
    "dfw['wcal_chunk'] = dfw['wcal_chunk'].round(0).astype(int)"
   ]
  },
  {
   "cell_type": "code",
   "execution_count": 1016,
   "metadata": {},
   "outputs": [],
   "source": [
    "dfw['@creationDate'] = pd.to_datetime(dfw['@creationDate'])"
   ]
  },
  {
   "cell_type": "code",
   "execution_count": 1017,
   "metadata": {},
   "outputs": [],
   "source": [
    "dfw['date'] = dfw['@creationDate'].dt.date"
   ]
  },
  {
   "cell_type": "code",
   "execution_count": 1018,
   "metadata": {
    "collapsed": true
   },
   "outputs": [],
   "source": [
    "df5 = pd.DataFrame()"
   ]
  },
  {
   "cell_type": "code",
   "execution_count": 1019,
   "metadata": {
    "collapsed": true
   },
   "outputs": [],
   "source": [
    "df5 = dfw[['date','type', 'y5', 'wcal_chunk']]"
   ]
  },
  {
   "cell_type": "code",
   "execution_count": 1020,
   "metadata": {},
   "outputs": [],
   "source": [
    "#df5.head()"
   ]
  },
  {
   "cell_type": "markdown",
   "metadata": {},
   "source": [
    "## df6 survey data"
   ]
  },
  {
   "cell_type": "code",
   "execution_count": 1021,
   "metadata": {
    "collapsed": true
   },
   "outputs": [],
   "source": [
    "dfsd = pd.read_csv('focus_survey_change.csv')"
   ]
  },
  {
   "cell_type": "code",
   "execution_count": 1022,
   "metadata": {},
   "outputs": [
    {
     "data": {
      "text/html": [
       "<div>\n",
       "<style>\n",
       "    .dataframe thead tr:only-child th {\n",
       "        text-align: right;\n",
       "    }\n",
       "\n",
       "    .dataframe thead th {\n",
       "        text-align: left;\n",
       "    }\n",
       "\n",
       "    .dataframe tbody tr th {\n",
       "        vertical-align: top;\n",
       "    }\n",
       "</style>\n",
       "<table border=\"1\" class=\"dataframe\">\n",
       "  <thead>\n",
       "    <tr style=\"text-align: right;\">\n",
       "      <th></th>\n",
       "      <th>Timestamp</th>\n",
       "      <th>work_type</th>\n",
       "      <th>focus_quality</th>\n",
       "      <th>engagement_rating</th>\n",
       "      <th>company_benefit</th>\n",
       "      <th>comment</th>\n",
       "    </tr>\n",
       "  </thead>\n",
       "  <tbody>\n",
       "    <tr>\n",
       "      <th>0</th>\n",
       "      <td>7/14/20 8:12</td>\n",
       "      <td>admin</td>\n",
       "      <td>4</td>\n",
       "      <td>4</td>\n",
       "      <td>5</td>\n",
       "      <td>prepping forms</td>\n",
       "    </tr>\n",
       "    <tr>\n",
       "      <th>1</th>\n",
       "      <td>7/14/20 10:00</td>\n",
       "      <td>creative_generative</td>\n",
       "      <td>4</td>\n",
       "      <td>5</td>\n",
       "      <td>5</td>\n",
       "      <td>personal glyph design</td>\n",
       "    </tr>\n",
       "  </tbody>\n",
       "</table>\n",
       "</div>"
      ],
      "text/plain": [
       "       Timestamp            work_type  focus_quality  engagement_rating  \\\n",
       "0   7/14/20 8:12                admin              4                  4   \n",
       "1  7/14/20 10:00  creative_generative              4                  5   \n",
       "\n",
       "   company_benefit                comment  \n",
       "0                5         prepping forms  \n",
       "1                5  personal glyph design  "
      ]
     },
     "execution_count": 1022,
     "metadata": {},
     "output_type": "execute_result"
    }
   ],
   "source": [
    "dfsd.head(2)"
   ]
  },
  {
   "cell_type": "code",
   "execution_count": 1023,
   "metadata": {},
   "outputs": [
    {
     "data": {
      "text/plain": [
       "creative_generative            40\n",
       "with_people                    14\n",
       "admin                          14\n",
       "fucking_off                     8\n",
       "consuming_learning_strategy     6\n",
       "consuming_learing_strategy      2\n",
       "Name: work_type, dtype: int64"
      ]
     },
     "execution_count": 1023,
     "metadata": {},
     "output_type": "execute_result"
    }
   ],
   "source": [
    "dfsd.work_type.value_counts()"
   ]
  },
  {
   "cell_type": "code",
   "execution_count": 1024,
   "metadata": {},
   "outputs": [],
   "source": [
    "dfsd = dfsd.fillna(0)"
   ]
  },
  {
   "cell_type": "code",
   "execution_count": 1025,
   "metadata": {},
   "outputs": [],
   "source": [
    "dfsd['datestamp'] = pd.to_datetime(dfsd['Timestamp'])"
   ]
  },
  {
   "cell_type": "code",
   "execution_count": 1026,
   "metadata": {
    "collapsed": true
   },
   "outputs": [],
   "source": [
    "dfsd['date'] = dfsd['datestamp'].dt.date"
   ]
  },
  {
   "cell_type": "code",
   "execution_count": 1027,
   "metadata": {
    "collapsed": true
   },
   "outputs": [],
   "source": [
    "dfsd['time_s'] = dfsd['datestamp'].dt.time"
   ]
  },
  {
   "cell_type": "code",
   "execution_count": 1028,
   "metadata": {},
   "outputs": [],
   "source": [
    "dfsd['time_s'] = dfsd['time_s'].astype(str)"
   ]
  },
  {
   "cell_type": "code",
   "execution_count": 1029,
   "metadata": {},
   "outputs": [],
   "source": [
    "dfsd['t_survey'] = pd.to_datetime(dfsd['time_s'])"
   ]
  },
  {
   "cell_type": "code",
   "execution_count": 1030,
   "metadata": {},
   "outputs": [],
   "source": [
    "dfsd.loc[(dfsd['t_survey'] > '07:00:00') & (dfsd['t_survey'] < '09:00:00'), 'time_num'] = 8\n",
    "dfsd.loc[(dfsd['t_survey'] > '09:00:00') & (dfsd['t_survey'] < '11:00:00'), 'time_num'] = 10\n",
    "dfsd.loc[(dfsd['t_survey'] > '11:00:00') & (dfsd['t_survey'] < '13:00:00'), 'time_num'] = 12\n",
    "dfsd.loc[(dfsd['t_survey'] > '13:00:00') & (dfsd['t_survey'] < '15:00:00'), 'time_num'] = 14\n",
    "dfsd.loc[(dfsd['t_survey'] > '15:00:00') & (dfsd['t_survey'] < '17:00:00'), 'time_num'] = 16\n",
    "dfsd.loc[(dfsd['t_survey'] > '17:00:00') & (dfsd['t_survey'] < '19:00:00'), 'time_num'] = 18"
   ]
  },
  {
   "cell_type": "code",
   "execution_count": 1031,
   "metadata": {},
   "outputs": [],
   "source": [
    "dfsd['time_num'] = dfsd['time_num'].astype(int)\n",
    "dfsd['t_num'] = pd.to_datetime(dfsd['time_num'], format = '%H')"
   ]
  },
  {
   "cell_type": "code",
   "execution_count": 1032,
   "metadata": {
    "collapsed": true
   },
   "outputs": [],
   "source": [
    "dfsd['t_num_time'] = dfsd['t_num'].dt.time"
   ]
  },
  {
   "cell_type": "code",
   "execution_count": 1033,
   "metadata": {
    "collapsed": true
   },
   "outputs": [],
   "source": [
    "klist = []\n",
    "for index, row in dfsd.iterrows():\n",
    "    x = '2020-01-01' + ' ' + str(row['t_num_time'])\n",
    "    klist.append(x)"
   ]
  },
  {
   "cell_type": "code",
   "execution_count": 1034,
   "metadata": {
    "collapsed": true
   },
   "outputs": [],
   "source": [
    "dfsd['tmt'] = pd.to_datetime(klist)"
   ]
  },
  {
   "cell_type": "code",
   "execution_count": 1035,
   "metadata": {
    "collapsed": true
   },
   "outputs": [],
   "source": [
    "dfsd['tmtstamp'] = (dfsd['tmt'].astype(int) / 10**9)"
   ]
  },
  {
   "cell_type": "code",
   "execution_count": 1036,
   "metadata": {
    "collapsed": true
   },
   "outputs": [],
   "source": [
    "col_list = dfsd['tmtstamp'].values.tolist()\n",
    "scalar = make_interpolater(1577851200, 1577937600, 105, -120) \n",
    "col_interp = [scalar(x) for x in col_list] "
   ]
  },
  {
   "cell_type": "code",
   "execution_count": 1037,
   "metadata": {
    "collapsed": true
   },
   "outputs": [],
   "source": [
    "dfsd['y6'] = col_interp"
   ]
  },
  {
   "cell_type": "code",
   "execution_count": 1038,
   "metadata": {
    "collapsed": true
   },
   "outputs": [],
   "source": [
    "#dfsurvey.loc[dfsurvey[\"Are_you_in_isolation\"] == 'Yes', 'Are_you_in_isolation'] = 1\n",
    "#dfsurvey.loc[dfsurvey[\"Are_you_in_isolation\"] == 'No', 'Are_you_in_isolation'] = 2\n",
    "dfsd.loc[dfsd['focus_quality'] == 1, 'z_focus'] = 25\n",
    "dfsd.loc[dfsd['focus_quality'] == 2, 'z_focus'] = 150\n",
    "dfsd.loc[dfsd['focus_quality'] == 3, 'z_focus'] = 275\n",
    "dfsd.loc[dfsd['focus_quality'] == 4, 'z_focus'] = 425\n",
    "dfsd.loc[dfsd['focus_quality'] == 5, 'z_focus'] = 575"
   ]
  },
  {
   "cell_type": "code",
   "execution_count": 1039,
   "metadata": {
    "collapsed": true
   },
   "outputs": [],
   "source": [
    "dfsd.loc[dfsd['engagement_rating'] == 1, 'z_gage'] = 25\n",
    "dfsd.loc[dfsd['engagement_rating'] == 2, 'z_gage'] = 150\n",
    "dfsd.loc[dfsd['engagement_rating'] == 3, 'z_gage'] = 275\n",
    "dfsd.loc[dfsd['engagement_rating'] == 4, 'z_gage'] = 425\n",
    "dfsd.loc[dfsd['engagement_rating'] == 5, 'z_gage'] = 575"
   ]
  },
  {
   "cell_type": "code",
   "execution_count": 1040,
   "metadata": {
    "collapsed": true
   },
   "outputs": [],
   "source": [
    "dfsd.loc[dfsd['company_benefit'] == 1, 'z_comp'] = 25\n",
    "dfsd.loc[dfsd['company_benefit'] == 2, 'z_comp'] = 150\n",
    "dfsd.loc[dfsd['company_benefit'] == 3, 'z_comp'] = 275\n",
    "dfsd.loc[dfsd['company_benefit'] == 4, 'z_comp'] = 425\n",
    "dfsd.loc[dfsd['company_benefit'] == 5, 'z_comp'] = 575"
   ]
  },
  {
   "cell_type": "code",
   "execution_count": 1041,
   "metadata": {
    "collapsed": true
   },
   "outputs": [],
   "source": [
    "df6 = pd.DataFrame()"
   ]
  },
  {
   "cell_type": "code",
   "execution_count": 1042,
   "metadata": {
    "collapsed": true
   },
   "outputs": [],
   "source": [
    "df6 = dfsd[['work_type', 'comment', 'date', 'y6', 'z_focus', 'z_gage', 'z_comp']]"
   ]
  },
  {
   "cell_type": "markdown",
   "metadata": {},
   "source": [
    "## Start df7  timing nodes"
   ]
  },
  {
   "cell_type": "code",
   "execution_count": 1043,
   "metadata": {
    "collapsed": true
   },
   "outputs": [],
   "source": [
    "hrs_list = ['2020-01-01 04:00:00', '2020-01-01 06:00:00', '2020-01-01 08:00:00', '2020-01-01 10:00:00', '2020-01-01 12:00:00', '2020-01-01 14:00:00', '2020-01-01 16:00:00', '2020-01-01 18:00:00', '2020-01-01 20:00:00', '2020-01-01 22:00:00', '2020-01-02 00:00:00', '2020-01-02 02:00:00', '2020-01-02 04:00:00']"
   ]
  },
  {
   "cell_type": "code",
   "execution_count": 1044,
   "metadata": {
    "collapsed": true
   },
   "outputs": [],
   "source": [
    "dfhrs = pd.to_datetime(hrs_list)"
   ]
  },
  {
   "cell_type": "code",
   "execution_count": 1045,
   "metadata": {},
   "outputs": [],
   "source": [
    "dfhrs2 = (dfhrs.astype(int)/10**9)"
   ]
  },
  {
   "cell_type": "code",
   "execution_count": 1046,
   "metadata": {
    "collapsed": true
   },
   "outputs": [],
   "source": [
    "# hrs_list = values for every 2 hours from 04 am to next day at 04 am\n",
    "hrs_list = dfhrs2.values.tolist()"
   ]
  },
  {
   "cell_type": "code",
   "execution_count": 1047,
   "metadata": {},
   "outputs": [],
   "source": [
    "scalar = make_interpolater(1577851200, 1577937600, -120, 105) \n",
    "col_interp = [scalar(x) for x in hrs_list] \n",
    "Rcol_interp = Reverse(col_interp)"
   ]
  },
  {
   "cell_type": "code",
   "execution_count": 1048,
   "metadata": {},
   "outputs": [],
   "source": [
    "df7 = pd.DataFrame()\n",
    "df7['time_toroid'] = Rcol_interp"
   ]
  },
  {
   "cell_type": "code",
   "execution_count": 1049,
   "metadata": {},
   "outputs": [],
   "source": [
    "#df7"
   ]
  },
  {
   "cell_type": "code",
   "execution_count": null,
   "metadata": {
    "collapsed": true
   },
   "outputs": [],
   "source": []
  },
  {
   "cell_type": "code",
   "execution_count": 1050,
   "metadata": {
    "collapsed": true
   },
   "outputs": [],
   "source": [
    "# set DEBUG flag\n",
    "DEBUG = 0\n",
    "\n",
    "# Initialize all ANTz Node variables\n",
    "# You shouldn't need to change anything in this section\n",
    "# you can find an explanation of these terms in Appendix B of the user manual\n",
    "id = 0\n",
    "type = 5\n",
    "data = id\n",
    "selected = 0\n",
    "parent_id = 0\n",
    "branch_level = 0\n",
    "child_id = id\n",
    "child_index = 0\n",
    "palette_id = 0\n",
    "ch_input_id = 0\n",
    "ch_output_id = 0\n",
    "ch_last_updated = 0\n",
    "average = 0\n",
    "samples = 0\n",
    "aux_a_x = 0\n",
    "aux_a_y = 0\n",
    "aux_a_z = 0\n",
    "aux_b_x = 0\n",
    "aux_b_y = 0\n",
    "aux_b_z = 0\n",
    "color_shift = 0\n",
    "rotate_vec_x = 0\n",
    "rotate_vec_y = 0\n",
    "rotate_vec_z = 0\n",
    "rotate_vec_s = 1\n",
    "scale_x = 0\n",
    "scale_y = 0\n",
    "scale_z = 0\n",
    "translate_x = 0\n",
    "translate_y = 0\n",
    "translate_z = 0\n",
    "tag_offset_x = 0\n",
    "tag_offset_y = 0\n",
    "tag_offset_z = 0\n",
    "rotate_rate_x = 0\n",
    "rotate_rate_y = 0\n",
    "rotate_rate_z = 0\n",
    "rotate_x = 0\n",
    "rotate_y = 0\n",
    "rotate_z = 0\n",
    "scale_rate_x = 0\n",
    "scale_rate_y = 0\n",
    "scale_rate_z = 0\n",
    "translate_rate_x = 0\n",
    "translate_rate_y = 0\n",
    "translate_rate_z = 0\n",
    "translate_vec_x = 0\n",
    "translate_vec_y = 0\n",
    "translate_vec_z = 0\n",
    "shader = 0\n",
    "geometry = 7\n",
    "line_width = 1\n",
    "point_size = 0\n",
    "ratio = 0.1\n",
    "color_index = 0\n",
    "color_r = 110\n",
    "color_g = 110\n",
    "color_b = 110\n",
    "color_a = 255\n",
    "color_fade = 0\n",
    "texture_id = 0\n",
    "hide = 0\n",
    "freeze = 0\n",
    "topo = 3\n",
    "facet = 0\n",
    "auto_zoom_x = 0\n",
    "auto_zoom_y = 0\n",
    "auto_zoom_z = 0\n",
    "trigger_hi_x = 0\n",
    "trigger_hi_y = 0\n",
    "trigger_hi_z = 0\n",
    "trigger_lo_x = 0\n",
    "trigger_lo_y = 0\n",
    "trigger_lo_z = 1\n",
    "set_hi_x = 0\n",
    "set_hi_y = 0\n",
    "set_hi_z = 0\n",
    "set_lo_x = 0\n",
    "set_lo_y = 0\n",
    "set_lo_z = 0\n",
    "proximity_x = 0\n",
    "proximity_y = 0\n",
    "proximity_z = 0\n",
    "proximity_mode_x = 0\n",
    "proximity_mode_y = 0\n",
    "proximity_mode_z = 0\n",
    "segments_x = 18\n",
    "segments_y = 16\n",
    "segments_z = 0\n",
    "tag_mode = 0\n",
    "format_id = 0\n",
    "table_id = 0\n",
    "record_id = id\n",
    "size = 420"
   ]
  },
  {
   "cell_type": "code",
   "execution_count": 1051,
   "metadata": {},
   "outputs": [],
   "source": [
    "#personal glyph node files\n",
    "mn = str(initial_value) + \"personalglyph_node.csv\"\n",
    "\n",
    "#met_1min tag files\n",
    "mt = str(initial_value) + \"personalglyph_tag.csv\""
   ]
  },
  {
   "cell_type": "code",
   "execution_count": 1052,
   "metadata": {},
   "outputs": [],
   "source": [
    "# Open ANTz Node file for writing\n",
    "fout = open(mn,\"w\")\n",
    "\n",
    "# Open the Tag file to add metadata to ANTz objects\n",
    "ftag = open(mt,\"w\")\n",
    "# Write the header string\n",
    "outputstring = \"id,record_id,table_id,title,description\\n\"\n",
    "ftag.write(outputstring)\n",
    "\n",
    "# Write rows for header, world, camera views (4), and grid to Node file\n",
    "outputstring = \"id,type,data,selected,parent_id,branch_level,child_id,child_index,palette_id,ch_input_id,ch_output_id,ch_last_updated,average,samples,aux_a_x,aux_a_y,aux_a_z,aux_b_x,aux_b_y,aux_b_z,color_shift,rotate_vec_x,rotate_vec_y,rotate_vec_z,rotate_vec_s,scale_x,scale_y,scale_z,translate_x,translate_y,translate_z,tag_offset_x,tag_offset_y,tag_offset_z,rotate_rate_x,rotate_rate_y,rotate_rate_z,rotate_x,rotate_y,rotate_z,scale_rate_x,scale_rate_y,scale_rate_z,translate_rate_x,translate_rate_y,translate_rate_z,translate_vec_x,translate_vec_y,translate_vec_z,shader,geometry,line_width,point_size,ratio,color_index,color_r,color_g,color_b,color_a,color_fade,texture_id,hide,freeze,topo,facet,auto_zoom_x,auto_zoom_y,auto_zoom_z,trigger_hi_x,trigger_hi_y,trigger_hi_z,trigger_lo_x,trigger_lo_y,trigger_lo_z,set_hi_x,set_hi_y,set_hi_z,set_lo_x,set_lo_y,set_lo_z,proximity_x,proximity_y,proximity_z,proximity_mode_x,proximity_mode_y,proximity_mode_z,segments_x,segments_y,segments_z,tag_mode,format_id,table_id,record_id,size\\n\"\n",
    "fout.write(outputstring)\n",
    "\n",
    "# Row for world parameters\n",
    "outputstring = \"1,0,1,0,0,0,1,0,0,0,0,0,0,1,0,0,0,0,0,0,0,0,0,0,1,1,1,1,0,0,0,0,0,1,0,0,0,0,0,0,0,0,0,0,0,0,0,0,0,0,0,1,0,0.1,0,50,101,101,255,0,0,0,0,0,0,0,0,0,0,0,0,0,0,1,0,0,0,0,0,0,0,0,0,0,0,0,16,16,0,0,0,0,0,420\\n\"\n",
    "fout.write(outputstring)\n",
    "# Row for first camera view\n",
    "outputstring = \"2,1,2,0,0,0,2,2,3,0,0,0,0,1,0,0,0,0,0,0,0,0,0.008645,0.825266,-0.564678,1,1,1,-32.446629,-180.908295,143.514175,0,0,1,0,0,0,55.620094,0.600200,0,0,0,0,0,0,0,0,0,0,0,0,1,0,0.1,0,50,101,101,255,0,0,0,0,0,0,0,0,0,0,0,0,0,0,0,0,0,0,0,0,0,214.306686,0,0,0,0,0,16,16,0,0,0,0,0,420\\n\"\n",
    "fout.write(outputstring)\n",
    "# Row for second camera view\n",
    "outputstring = \"3,1,3,0,2,1,3,0,0,0,0,0,0,1,0,0,0,0,0,0,0,0,0,0,-1,1,1,1,-0.500000,0,571.750000,0,0,1,0,0,0,0,0,0,0,0,0,0,0,0,0,0,0,0,0,1,0,0.1,0,50,101,101,255,0,0,0,0,0,0,0,0,0,0,0,0,0,0,0,0,0,0,0,0,0,0,0,0,0,0,0,16,16,0,0,0,0,0,420\\n\"\n",
    "fout.write(outputstring)\n",
    "# Third camera view\n",
    "outputstring = \"4,1,4,0,2,1,4,0,0,0,0,0,0,1,0,0,0,0,0,0,0,0,0,1,-0,1,1,1,0,-90,7,0,0,1,0,0,0,90,0,0,0,0,0,0,0,0,0,0,0,0,0,1,0,0.1,0,50,101,101,255,0,0,0,0,0,0,0,0,0,0,0,0,0,0,0,0,0,0,0,0,0,0,0,0,0,0,0,16,16,0,0,0,0,0,420\\n\"\n",
    "fout.write(outputstring)\n",
    "# Fourth camera view\n",
    "outputstring = \"5,1,5,0,2,1,5,0,0,0,0,0,0,1,0,0,0,0,0,0,0,0,-1,-0,-0,1,1,1,85,0,7,0,0,1,0,0,0,90,270,0,0,0,0,0,0,0,-0,0,0,0,0,1,0,0.1,0,50,101,101,255,0,0,0,0,0,0,0,0,0,0,0,0,0,0,0,0,0,0,0,0,0,0,0,0,0,0,0,16,16,0,0,0,0,0,420\\n\"\n",
    "fout.write(outputstring)\n",
    "# Default Grid\n",
    "outputstring = \"6,6,6,1,0,0,0,1,0,0,0,0,0,1,700,250,0,0,0,0,0,0,0,0,0,1,1,1,0,0,0,0,0,1,0,0,0,0,0,0,0,0,0,0,0,0,0,0,0,0,0,1,0,0.1,3,0,0,255,150,0,0,0,0,0,0,0,0,0,0,0,0,0,0,0,0,0,0,0,0,0,0,0,0,0,0,0,1,1,0,0,0,0,0,420\\n\"\n",
    "fout.write(outputstring)\n",
    "\n",
    "# Initialize increments\n",
    "taginc = 0\n",
    "id = 6\n",
    "\n",
    "numlevel0toroids = 1\n",
    "numlevel1toroids = 1\n",
    "\n",
    "for index, row in df1.iterrows() :\n",
    "    id += 1\n",
    "    data = id\n",
    "    type = 5\n",
    "    parent_id = 0\n",
    "    selected = 0\n",
    "    branch_level = 0\n",
    "    child_id = id\n",
    "    scale_x = 1\n",
    "    scale_y = scale_x\n",
    "    scale_z = scale_x \n",
    "    translate_x = row['xroot']\n",
    "    translate_y = row['yroot']\n",
    "    translate_z = row['zroot']\n",
    "    rotate_x = 0\n",
    "    rotate_y = 0\n",
    "    rotate_z = 0\n",
    "    ratio = .1\n",
    "    line_width= 1\n",
    "    geometry = 16\n",
    "    topo = 5\n",
    "    color_r = 24\n",
    "    color_g = 123\n",
    "    color_b = 205\n",
    "    color_a = 255\n",
    "    record_id = id \n",
    "    texture_id= 0\n",
    "\n",
    "    # Creat output string and write to ANTz Node File\n",
    "    outputstring = str(id) + \",\" + str(type) + \",\" + str(data) + \",\" + str(selected) + \",\" + str(parent_id) + \",\" + str(branch_level) + \",\" + str(child_id) + \",\" + str(child_index) + \",\" + str(palette_id) + \",\" + str(ch_input_id) + \",\" + str(ch_output_id) + \",\" + str(ch_last_updated) + \",\" + str(average) + \",\" + str(samples) + \",\" + str(aux_a_x) + \",\" + str(aux_a_y) + \",\" + str(aux_a_z) + \",\" + str(aux_b_x) + \",\" + str(aux_b_y) + \",\" + str(aux_b_z) + \",\" + str(color_shift) + \",\" + str(rotate_vec_x) + \",\" + str(rotate_vec_y) + \",\" + str(rotate_vec_z) + \",\" + str(rotate_vec_s) + \",\" + str(scale_x) + \",\" + str(scale_y) + \",\" + str(scale_z) + \",\" + str(translate_x) + \",\" + str(translate_y) + \",\" + str(translate_z) + \",\" + str(tag_offset_x) + \",\" + str(tag_offset_y) + \",\" + str(tag_offset_z) + \",\" + str(rotate_rate_x) + \",\" + str(rotate_rate_y) + \",\" + str(rotate_rate_z) + \",\" + str(rotate_x) + \",\" + str(rotate_y) + \",\" + str(rotate_z) + \",\" + str(scale_rate_x) + \",\" + str(scale_rate_y) + \",\" + str(scale_rate_z) + \",\" + str(translate_rate_x) + \",\" + str(translate_rate_y) + \",\" + str(translate_rate_z) + \",\" + str(translate_vec_x) + \",\" + str(translate_vec_y) + \",\" + str(translate_vec_z) + \",\" + str(shader) + \",\" + str(geometry) + \",\" + str(line_width) + \",\" + str(point_size) + \",\" + str(ratio) + \",\" + str(color_index) + \",\" + str(color_r) + \",\" + str(color_g) + \",\" + str(color_b) + \",\" + str(color_a) + \",\" + str(color_fade) + \",\" + str(texture_id) + \",\" + str(hide) + \",\" + str(freeze) + \",\" + str(topo) + \",\" + str(facet) + \",\" + str(auto_zoom_x) + \",\" + str(auto_zoom_y) + \",\" + str(auto_zoom_z) + \",\" + str(trigger_hi_x) + \",\" + str(trigger_hi_y) + \",\" + str(trigger_hi_z) + \",\" + str(trigger_lo_x) + \",\" + str(trigger_lo_y) + \",\" + str(trigger_lo_z) + \",\" + str(set_hi_x) + \",\" + str(set_hi_y) + \",\" + str(set_hi_z) + \",\" + str(set_lo_x) + \",\" + str(set_lo_y) + \",\" + str(set_lo_z) + \",\" + str(proximity_x) + \",\" + str(proximity_y) + \",\" + str(proximity_z) + \",\" + str(proximity_mode_x) + \",\" + str(proximity_mode_y) + \",\" + str(proximity_mode_z) + \",\" + str(segments_x) + \",\" + str(segments_y) + \",\" + str(segments_z) + \",\" + str(tag_mode) + \",\" + str(format_id) + \",\" + str(table_id) + \",\" + str(record_id) + \",\" + str(size) + \"\\n\"\n",
    "    fout.write(outputstring)\n",
    "\n",
    "    # Output to Tag file\n",
    "    tagtext = \"Date: \" + str(row['date'])\n",
    "    tagstring = str(taginc) + \",\" + str(record_id) + \",0,\\\"\" + tagtext + \"\\\",\\\"\\\"\\n\"\n",
    "    ftag.write(tagstring)\n",
    "    taginc += 1\n",
    "\n",
    "    level0objectid = id\n",
    "    # grid object\n",
    "    for j in range(numlevel1toroids):    \n",
    "        id += 1\n",
    "        data = id\n",
    "        type = 5\n",
    "        parent_id = level0objectid\n",
    "        selected = 0\n",
    "        branch_level = 1\n",
    "        child_id = id\n",
    "        scale_x = .27\n",
    "        scale_y = scale_x\n",
    "        scale_z = scale_x \n",
    "        translate_x = 0\n",
    "        translate_y = 0\n",
    "        translate_z = 0\n",
    "        rotate_x = 0\n",
    "        rotate_y = 0\n",
    "        rotate_z = 0\n",
    "        ratio = .1\n",
    "        line_width= 1\n",
    "        geometry = 20\n",
    "        topo = 8\n",
    "        color_r = 24\n",
    "        color_g = 123\n",
    "        color_b = 205\n",
    "        color_a = 50\n",
    "        record_id = id \n",
    "        segments_x = 8\n",
    "        segments_y = 10\n",
    "        aux_a_x = 30\n",
    "        aux_a_y = 30\n",
    "        aux_a_z = 0\n",
    "\n",
    "        # Creat output string and write to ANTz Node File\n",
    "        outputstring = str(id) + \",\" + str(type) + \",\" + str(data) + \",\" + str(selected) + \",\" + str(parent_id) + \",\" + str(branch_level) + \",\" + str(child_id) + \",\" + str(child_index) + \",\" + str(palette_id) + \",\" + str(ch_input_id) + \",\" + str(ch_output_id) + \",\" + str(ch_last_updated) + \",\" + str(average) + \",\" + str(samples) + \",\" + str(aux_a_x) + \",\" + str(aux_a_y) + \",\" + str(aux_a_z) + \",\" + str(aux_b_x) + \",\" + str(aux_b_y) + \",\" + str(aux_b_z) + \",\" + str(color_shift) + \",\" + str(rotate_vec_x) + \",\" + str(rotate_vec_y) + \",\" + str(rotate_vec_z) + \",\" + str(rotate_vec_s) + \",\" + str(scale_x) + \",\" + str(scale_y) + \",\" + str(scale_z) + \",\" + str(translate_x) + \",\" + str(translate_y) + \",\" + str(translate_z) + \",\" + str(tag_offset_x) + \",\" + str(tag_offset_y) + \",\" + str(tag_offset_z) + \",\" + str(rotate_rate_x) + \",\" + str(rotate_rate_y) + \",\" + str(rotate_rate_z) + \",\" + str(rotate_x) + \",\" + str(rotate_y) + \",\" + str(rotate_z) + \",\" + str(scale_rate_x) + \",\" + str(scale_rate_y) + \",\" + str(scale_rate_z) + \",\" + str(translate_rate_x) + \",\" + str(translate_rate_y) + \",\" + str(translate_rate_z) + \",\" + str(translate_vec_x) + \",\" + str(translate_vec_y) + \",\" + str(translate_vec_z) + \",\" + str(shader) + \",\" + str(geometry) + \",\" + str(line_width) + \",\" + str(point_size) + \",\" + str(ratio) + \",\" + str(color_index) + \",\" + str(color_r) + \",\" + str(color_g) + \",\" + str(color_b) + \",\" + str(color_a) + \",\" + str(color_fade) + \",\" + str(texture_id) + \",\" + str(hide) + \",\" + str(freeze) + \",\" + str(topo) + \",\" + str(facet) + \",\" + str(auto_zoom_x) + \",\" + str(auto_zoom_y) + \",\" + str(auto_zoom_z) + \",\" + str(trigger_hi_x) + \",\" + str(trigger_hi_y) + \",\" + str(trigger_hi_z) + \",\" + str(trigger_lo_x) + \",\" + str(trigger_lo_y) + \",\" + str(trigger_lo_z) + \",\" + str(set_hi_x) + \",\" + str(set_hi_y) + \",\" + str(set_hi_z) + \",\" + str(set_lo_x) + \",\" + str(set_lo_y) + \",\" + str(set_lo_z) + \",\" + str(proximity_x) + \",\" + str(proximity_y) + \",\" + str(proximity_z) + \",\" + str(proximity_mode_x) + \",\" + str(proximity_mode_y) + \",\" + str(proximity_mode_z) + \",\" + str(segments_x) + \",\" + str(segments_y) + \",\" + str(segments_z) + \",\" + str(tag_mode) + \",\" + str(format_id) + \",\" + str(table_id) + \",\" + str(record_id) + \",\" + str(size) + \"\\n\"\n",
    "        fout.write(outputstring)\n",
    "\n",
    "        # Output to Tag file\n",
    "        tagtext = \"\"\n",
    "        tagstring = str(taginc) + \",\" + str(record_id) + \",0,\\\"\" + tagtext + \"\\\",\\\"\\\"\\n\"\n",
    "        ftag.write(tagstring)\n",
    "        taginc += 1\n",
    "\n",
    "        level1objectid = id\n",
    "        \n",
    "        for i7, row7 in df7.iterrows():\n",
    "            id += 1\n",
    "            data = id\n",
    "            type = 5\n",
    "            parent_id = level1objectid\n",
    "            selected = 0\n",
    "            branch_level = 2\n",
    "            child_id = id\n",
    "            translate_x = -120\n",
    "            translate_y = row7['time_toroid']\n",
    "            translate_z = 1\n",
    "            scale_x = 3.5 \n",
    "            scale_y = scale_x\n",
    "            scale_z = scale_x\n",
    "            ratio = .1\n",
    "            line_width= 1\n",
    "            geometry = 11\n",
    "            topo = 3\n",
    "            rotate_x = 0\n",
    "            rotate_y = 0\n",
    "            color_r = 163\n",
    "            color_g = 192\n",
    "            color_b = 223\n",
    "            color_a = 175\n",
    "            record_id = id \n",
    "            texture_id= 0\n",
    "\n",
    "            # Creat output string and write to ANTz Node File\n",
    "            outputstring = str(id) + \",\" + str(type) + \",\" + str(data) + \",\" + str(selected) + \",\" + str(parent_id) + \",\" + str(branch_level) + \",\" + str(child_id) + \",\" + str(child_index) + \",\" + str(palette_id) + \",\" + str(ch_input_id) + \",\" + str(ch_output_id) + \",\" + str(ch_last_updated) + \",\" + str(average) + \",\" + str(samples) + \",\" + str(aux_a_x) + \",\" + str(aux_a_y) + \",\" + str(aux_a_z) + \",\" + str(aux_b_x) + \",\" + str(aux_b_y) + \",\" + str(aux_b_z) + \",\" + str(color_shift) + \",\" + str(rotate_vec_x) + \",\" + str(rotate_vec_y) + \",\" + str(rotate_vec_z) + \",\" + str(rotate_vec_s) + \",\" + str(scale_x) + \",\" + str(scale_y) + \",\" + str(scale_z) + \",\" + str(translate_x) + \",\" + str(translate_y) + \",\" + str(translate_z) + \",\" + str(tag_offset_x) + \",\" + str(tag_offset_y) + \",\" + str(tag_offset_z) + \",\" + str(rotate_rate_x) + \",\" + str(rotate_rate_y) + \",\" + str(rotate_rate_z) + \",\" + str(rotate_x) + \",\" + str(rotate_y) + \",\" + str(rotate_z) + \",\" + str(scale_rate_x) + \",\" + str(scale_rate_y) + \",\" + str(scale_rate_z) + \",\" + str(translate_rate_x) + \",\" + str(translate_rate_y) + \",\" + str(translate_rate_z) + \",\" + str(translate_vec_x) + \",\" + str(translate_vec_y) + \",\" + str(translate_vec_z) + \",\" + str(shader) + \",\" + str(geometry) + \",\" + str(line_width) + \",\" + str(point_size) + \",\" + str(ratio) + \",\" + str(color_index) + \",\" + str(color_r) + \",\" + str(color_g) + \",\" + str(color_b) + \",\" + str(color_a) + \",\" + str(color_fade) + \",\" + str(texture_id) + \",\" + str(hide) + \",\" + str(freeze) + \",\" + str(topo) + \",\" + str(facet) + \",\" + str(auto_zoom_x) + \",\" + str(auto_zoom_y) + \",\" + str(auto_zoom_z) + \",\" + str(trigger_hi_x) + \",\" + str(trigger_hi_y) + \",\" + str(trigger_hi_z) + \",\" + str(trigger_lo_x) + \",\" + str(trigger_lo_y) + \",\" + str(trigger_lo_z) + \",\" + str(set_hi_x) + \",\" + str(set_hi_y) + \",\" + str(set_hi_z) + \",\" + str(set_lo_x) + \",\" + str(set_lo_y) + \",\" + str(set_lo_z) + \",\" + str(proximity_x) + \",\" + str(proximity_y) + \",\" + str(proximity_z) + \",\" + str(proximity_mode_x) + \",\" + str(proximity_mode_y) + \",\" + str(proximity_mode_z) + \",\" + str(segments_x) + \",\" + str(segments_y) + \",\" + str(segments_z) + \",\" + str(tag_mode) + \",\" + str(format_id) + \",\" + str(table_id) + \",\" + str(record_id) + \",\" + str(size) + \"\\n\"\n",
    "            fout.write(outputstring)\n",
    "        \n",
    "        numlevel2toroids = 3\n",
    "        #k are top 3 rods\n",
    "        for k in range(numlevel2toroids):\n",
    "            if k == 0:\n",
    "                id += 1\n",
    "                data = id\n",
    "                type = 5\n",
    "                parent_id = level1objectid\n",
    "                selected = 0\n",
    "                branch_level = 2\n",
    "                child_id = id\n",
    "                translate_x = -120\n",
    "                translate_y = 146\n",
    "                translate_z = 3\n",
    "                scale_x = 7 \n",
    "                scale_y = scale_x\n",
    "                scale_z = 8\n",
    "                ratio = .3\n",
    "                line_width= 1\n",
    "                geometry = 19\n",
    "                topo = 6\n",
    "                rotate_x = 90\n",
    "                rotate_y = 90\n",
    "                color_r = 158\n",
    "                color_g = 168\n",
    "                color_b = 186\n",
    "                color_a = 255\n",
    "                record_id = id \n",
    "                texture_id= 0\n",
    "\n",
    "                # Creat output string and write to ANTz Node File\n",
    "                outputstring = str(id) + \",\" + str(type) + \",\" + str(data) + \",\" + str(selected) + \",\" + str(parent_id) + \",\" + str(branch_level) + \",\" + str(child_id) + \",\" + str(child_index) + \",\" + str(palette_id) + \",\" + str(ch_input_id) + \",\" + str(ch_output_id) + \",\" + str(ch_last_updated) + \",\" + str(average) + \",\" + str(samples) + \",\" + str(aux_a_x) + \",\" + str(aux_a_y) + \",\" + str(aux_a_z) + \",\" + str(aux_b_x) + \",\" + str(aux_b_y) + \",\" + str(aux_b_z) + \",\" + str(color_shift) + \",\" + str(rotate_vec_x) + \",\" + str(rotate_vec_y) + \",\" + str(rotate_vec_z) + \",\" + str(rotate_vec_s) + \",\" + str(scale_x) + \",\" + str(scale_y) + \",\" + str(scale_z) + \",\" + str(translate_x) + \",\" + str(translate_y) + \",\" + str(translate_z) + \",\" + str(tag_offset_x) + \",\" + str(tag_offset_y) + \",\" + str(tag_offset_z) + \",\" + str(rotate_rate_x) + \",\" + str(rotate_rate_y) + \",\" + str(rotate_rate_z) + \",\" + str(rotate_x) + \",\" + str(rotate_y) + \",\" + str(rotate_z) + \",\" + str(scale_rate_x) + \",\" + str(scale_rate_y) + \",\" + str(scale_rate_z) + \",\" + str(translate_rate_x) + \",\" + str(translate_rate_y) + \",\" + str(translate_rate_z) + \",\" + str(translate_vec_x) + \",\" + str(translate_vec_y) + \",\" + str(translate_vec_z) + \",\" + str(shader) + \",\" + str(geometry) + \",\" + str(line_width) + \",\" + str(point_size) + \",\" + str(ratio) + \",\" + str(color_index) + \",\" + str(color_r) + \",\" + str(color_g) + \",\" + str(color_b) + \",\" + str(color_a) + \",\" + str(color_fade) + \",\" + str(texture_id) + \",\" + str(hide) + \",\" + str(freeze) + \",\" + str(topo) + \",\" + str(facet) + \",\" + str(auto_zoom_x) + \",\" + str(auto_zoom_y) + \",\" + str(auto_zoom_z) + \",\" + str(trigger_hi_x) + \",\" + str(trigger_hi_y) + \",\" + str(trigger_hi_z) + \",\" + str(trigger_lo_x) + \",\" + str(trigger_lo_y) + \",\" + str(trigger_lo_z) + \",\" + str(set_hi_x) + \",\" + str(set_hi_y) + \",\" + str(set_hi_z) + \",\" + str(set_lo_x) + \",\" + str(set_lo_y) + \",\" + str(set_lo_z) + \",\" + str(proximity_x) + \",\" + str(proximity_y) + \",\" + str(proximity_z) + \",\" + str(proximity_mode_x) + \",\" + str(proximity_mode_y) + \",\" + str(proximity_mode_z) + \",\" + str(segments_x) + \",\" + str(segments_y) + \",\" + str(segments_z) + \",\" + str(tag_mode) + \",\" + str(format_id) + \",\" + str(table_id) + \",\" + str(record_id) + \",\" + str(size) + \"\\n\"\n",
    "                fout.write(outputstring)\n",
    "\n",
    "                level2objectid = id\n",
    "\n",
    "                # sleep score data\n",
    "\n",
    "                numlevel3toroids = 8\n",
    "\n",
    "                for m in range(numlevel3toroids):\n",
    "                    id += 1\n",
    "                    data = id\n",
    "                    type = 5\n",
    "                    parent_id = level2objectid\n",
    "                    selected = 0\n",
    "                    branch_level = 3\n",
    "                    child_id = id\n",
    "                    if m == 0:\n",
    "                        translate_x = 45\n",
    "                        color_r = 102\n",
    "                        color_g = 0\n",
    "                        color_b = 51\n",
    "                        ratio = row['score_scale'] \n",
    "                        scale_x = 3.8\n",
    "                        scale_y = scale_x\n",
    "                        scale_z = scale_x\n",
    "                        geometry = 3\n",
    "                        topo = 2\n",
    "                        tagtext = \"Sleep Score: \" + str(row['score'])\n",
    "                    elif m == 1:\n",
    "                        translate_x = 0\n",
    "                        color_r = 153\n",
    "                        color_g = 0\n",
    "                        color_b = 76\n",
    "                        ratio = row['score_alignment_scale'] \n",
    "                        scale_x = 3.8\n",
    "                        scale_y = scale_x\n",
    "                        scale_z = scale_x\n",
    "                        geometry = 7\n",
    "                        topo = 3\n",
    "                        tagtext = \"Sleep score - alignment: \" + str(row['score_alignment'])\n",
    "                    elif m == 2: \n",
    "                        translate_x = -30\n",
    "                        color_r = 204\n",
    "                        color_g = 0\n",
    "                        color_b = 102\n",
    "                        ratio = row['score_deep_scale']\n",
    "                        scale_x = 3.8\n",
    "                        scale_y = scale_x\n",
    "                        scale_z = scale_x\n",
    "                        geometry = 7\n",
    "                        topo = 3\n",
    "                        tagtext = \"Sleep score - deep: \" + str(row['score_deep'])\n",
    "                    elif m == 3:\n",
    "                        translate_x = -60\n",
    "                        color_r = 255\n",
    "                        color_g = 0\n",
    "                        color_b = 127\n",
    "                        ratio = row['score_rem_scale']\n",
    "                        scale_x = 3.8\n",
    "                        scale_y = scale_x\n",
    "                        scale_z = scale_x\n",
    "                        geometry = 7\n",
    "                        topo = 3\n",
    "                        tagtext = \"Sleep score - rem: \" + str(row['score_rem'])\n",
    "                    elif m == 4:\n",
    "                        translate_x = -90\n",
    "                        color_r = 255\n",
    "                        color_g = 51\n",
    "                        color_b = 153\n",
    "                        ratio = row['score_disturbances_scale']\n",
    "                        scale_x = 3.8\n",
    "                        scale_y = scale_x\n",
    "                        scale_z = scale_x\n",
    "                        geometry = 7\n",
    "                        topo = 3\n",
    "                        tagtext = \"Sleep score - disturbances: \" + str(row['score_disturbances'])\n",
    "                    elif m == 5:\n",
    "                        translate_x = -120\n",
    "                        color_r = 255\n",
    "                        color_g = 102\n",
    "                        color_b = 178\n",
    "                        ratio = row['score_total_scale']\n",
    "                        scale_x = 3.8\n",
    "                        scale_y = scale_x\n",
    "                        scale_z = scale_x\n",
    "                        geometry = 7\n",
    "                        topo = 3\n",
    "                        tagtext = \"Sleep score - total time: \" + str(row['score_total'])\n",
    "                    elif m == 6:\n",
    "                        translate_x = -150\n",
    "                        color_r = 255\n",
    "                        color_g = 153\n",
    "                        color_b = 204\n",
    "                        ratio = row['score_efficiency_scale']\n",
    "                        scale_x = 3.8\n",
    "                        scale_y = scale_x\n",
    "                        scale_z = scale_x\n",
    "                        geometry = 7\n",
    "                        topo = 3\n",
    "                        tagtext = \"Sleep score - efficiency: \" + str(row['score_efficiency'])\n",
    "                    elif m == 7: \n",
    "                        translate_x = -180\n",
    "                        color_r = 255\n",
    "                        color_g = 204\n",
    "                        color_b = 229\n",
    "                        ratio = row['score_latency_scale']\n",
    "                        scale_x = 3.8\n",
    "                        scale_y = scale_x\n",
    "                        scale_z = scale_x\n",
    "                        geometry = 7\n",
    "                        topo = 3\n",
    "                        tagtext = \"Sleep score - latency: \" + str(row['score_latency'])\n",
    "                    translate_y = 0\n",
    "                    translate_z = 0\n",
    "                    line_width= 1\n",
    "                    color_a = 255\n",
    "                    rotate_x = 0\n",
    "                    rotate_y = 0\n",
    "                    record_id = id \n",
    "                    texture_id= 0\n",
    "\n",
    "                    # Creat output string and write to ANTz Node File\n",
    "                    outputstring = str(id) + \",\" + str(type) + \",\" + str(data) + \",\" + str(selected) + \",\" + str(parent_id) + \",\" + str(branch_level) + \",\" + str(child_id) + \",\" + str(child_index) + \",\" + str(palette_id) + \",\" + str(ch_input_id) + \",\" + str(ch_output_id) + \",\" + str(ch_last_updated) + \",\" + str(average) + \",\" + str(samples) + \",\" + str(aux_a_x) + \",\" + str(aux_a_y) + \",\" + str(aux_a_z) + \",\" + str(aux_b_x) + \",\" + str(aux_b_y) + \",\" + str(aux_b_z) + \",\" + str(color_shift) + \",\" + str(rotate_vec_x) + \",\" + str(rotate_vec_y) + \",\" + str(rotate_vec_z) + \",\" + str(rotate_vec_s) + \",\" + str(scale_x) + \",\" + str(scale_y) + \",\" + str(scale_z) + \",\" + str(translate_x) + \",\" + str(translate_y) + \",\" + str(translate_z) + \",\" + str(tag_offset_x) + \",\" + str(tag_offset_y) + \",\" + str(tag_offset_z) + \",\" + str(rotate_rate_x) + \",\" + str(rotate_rate_y) + \",\" + str(rotate_rate_z) + \",\" + str(rotate_x) + \",\" + str(rotate_y) + \",\" + str(rotate_z) + \",\" + str(scale_rate_x) + \",\" + str(scale_rate_y) + \",\" + str(scale_rate_z) + \",\" + str(translate_rate_x) + \",\" + str(translate_rate_y) + \",\" + str(translate_rate_z) + \",\" + str(translate_vec_x) + \",\" + str(translate_vec_y) + \",\" + str(translate_vec_z) + \",\" + str(shader) + \",\" + str(geometry) + \",\" + str(line_width) + \",\" + str(point_size) + \",\" + str(ratio) + \",\" + str(color_index) + \",\" + str(color_r) + \",\" + str(color_g) + \",\" + str(color_b) + \",\" + str(color_a) + \",\" + str(color_fade) + \",\" + str(texture_id) + \",\" + str(hide) + \",\" + str(freeze) + \",\" + str(topo) + \",\" + str(facet) + \",\" + str(auto_zoom_x) + \",\" + str(auto_zoom_y) + \",\" + str(auto_zoom_z) + \",\" + str(trigger_hi_x) + \",\" + str(trigger_hi_y) + \",\" + str(trigger_hi_z) + \",\" + str(trigger_lo_x) + \",\" + str(trigger_lo_y) + \",\" + str(trigger_lo_z) + \",\" + str(set_hi_x) + \",\" + str(set_hi_y) + \",\" + str(set_hi_z) + \",\" + str(set_lo_x) + \",\" + str(set_lo_y) + \",\" + str(set_lo_z) + \",\" + str(proximity_x) + \",\" + str(proximity_y) + \",\" + str(proximity_z) + \",\" + str(proximity_mode_x) + \",\" + str(proximity_mode_y) + \",\" + str(proximity_mode_z) + \",\" + str(segments_x) + \",\" + str(segments_y) + \",\" + str(segments_z) + \",\" + str(tag_mode) + \",\" + str(format_id) + \",\" + str(table_id) + \",\" + str(record_id) + \",\" + str(size) + \"\\n\"\n",
    "                    fout.write(outputstring)\n",
    "\n",
    "                    # Output to Tag file \n",
    "                    tagstring = str(taginc) + \",\" + str(record_id) + \",0,\\\"\" + tagtext + \"\\\",\\\"\\\"\\n\"\n",
    "                    ftag.write(tagstring)\n",
    "                    taginc += 1\n",
    "\n",
    "            elif k == 1: \n",
    "                id += 1\n",
    "                data = id\n",
    "                type = 5\n",
    "                parent_id = level1objectid\n",
    "                selected = 0\n",
    "                branch_level = 2\n",
    "                child_id = id\n",
    "                translate_x = -120\n",
    "                translate_y = -146\n",
    "                translate_z = 3\n",
    "                scale_x = 7 \n",
    "                scale_y = scale_x\n",
    "                scale_z = 8\n",
    "                ratio = .3\n",
    "                line_width= 1\n",
    "                geometry = 19\n",
    "                topo = 6\n",
    "                rotate_x = 90\n",
    "                rotate_y = 90\n",
    "                color_r = 158\n",
    "                color_g = 168\n",
    "                color_b = 186\n",
    "                color_a = 255\n",
    "                record_id = id \n",
    "                texture_id= 0\n",
    "\n",
    "                # Creat output string and write to ANTz Node File\n",
    "                outputstring = str(id) + \",\" + str(type) + \",\" + str(data) + \",\" + str(selected) + \",\" + str(parent_id) + \",\" + str(branch_level) + \",\" + str(child_id) + \",\" + str(child_index) + \",\" + str(palette_id) + \",\" + str(ch_input_id) + \",\" + str(ch_output_id) + \",\" + str(ch_last_updated) + \",\" + str(average) + \",\" + str(samples) + \",\" + str(aux_a_x) + \",\" + str(aux_a_y) + \",\" + str(aux_a_z) + \",\" + str(aux_b_x) + \",\" + str(aux_b_y) + \",\" + str(aux_b_z) + \",\" + str(color_shift) + \",\" + str(rotate_vec_x) + \",\" + str(rotate_vec_y) + \",\" + str(rotate_vec_z) + \",\" + str(rotate_vec_s) + \",\" + str(scale_x) + \",\" + str(scale_y) + \",\" + str(scale_z) + \",\" + str(translate_x) + \",\" + str(translate_y) + \",\" + str(translate_z) + \",\" + str(tag_offset_x) + \",\" + str(tag_offset_y) + \",\" + str(tag_offset_z) + \",\" + str(rotate_rate_x) + \",\" + str(rotate_rate_y) + \",\" + str(rotate_rate_z) + \",\" + str(rotate_x) + \",\" + str(rotate_y) + \",\" + str(rotate_z) + \",\" + str(scale_rate_x) + \",\" + str(scale_rate_y) + \",\" + str(scale_rate_z) + \",\" + str(translate_rate_x) + \",\" + str(translate_rate_y) + \",\" + str(translate_rate_z) + \",\" + str(translate_vec_x) + \",\" + str(translate_vec_y) + \",\" + str(translate_vec_z) + \",\" + str(shader) + \",\" + str(geometry) + \",\" + str(line_width) + \",\" + str(point_size) + \",\" + str(ratio) + \",\" + str(color_index) + \",\" + str(color_r) + \",\" + str(color_g) + \",\" + str(color_b) + \",\" + str(color_a) + \",\" + str(color_fade) + \",\" + str(texture_id) + \",\" + str(hide) + \",\" + str(freeze) + \",\" + str(topo) + \",\" + str(facet) + \",\" + str(auto_zoom_x) + \",\" + str(auto_zoom_y) + \",\" + str(auto_zoom_z) + \",\" + str(trigger_hi_x) + \",\" + str(trigger_hi_y) + \",\" + str(trigger_hi_z) + \",\" + str(trigger_lo_x) + \",\" + str(trigger_lo_y) + \",\" + str(trigger_lo_z) + \",\" + str(set_hi_x) + \",\" + str(set_hi_y) + \",\" + str(set_hi_z) + \",\" + str(set_lo_x) + \",\" + str(set_lo_y) + \",\" + str(set_lo_z) + \",\" + str(proximity_x) + \",\" + str(proximity_y) + \",\" + str(proximity_z) + \",\" + str(proximity_mode_x) + \",\" + str(proximity_mode_y) + \",\" + str(proximity_mode_z) + \",\" + str(segments_x) + \",\" + str(segments_y) + \",\" + str(segments_z) + \",\" + str(tag_mode) + \",\" + str(format_id) + \",\" + str(table_id) + \",\" + str(record_id) + \",\" + str(size) + \"\\n\"\n",
    "                fout.write(outputstring)\n",
    "\n",
    "                level2objectid = id\n",
    "                #activity score data\n",
    "                numlevel3toroids = 7\n",
    "                for n in range(numlevel3toroids):\n",
    "                    id += 1\n",
    "                    data = id\n",
    "                    type = 5\n",
    "                    parent_id = level2objectid\n",
    "                    selected = 0\n",
    "                    branch_level = 3\n",
    "                    child_id = id\n",
    "                    if n == 0:\n",
    "                        translate_x = 45\n",
    "                        color_r = 51\n",
    "                        color_g = 0\n",
    "                        color_b = 102\n",
    "                        ratio = row['score_x_scale'] \n",
    "                        scale_x = 3.8\n",
    "                        scale_y = scale_x\n",
    "                        scale_z = scale_x\n",
    "                        geometry = 3\n",
    "                        topo = 2\n",
    "                        tagtext = \"Activity Score: \" + str(row['score_x'])\n",
    "                    elif n == 1:\n",
    "                        translate_x = 0\n",
    "                        color_r = 76\n",
    "                        color_g = 0\n",
    "                        color_b = 153\n",
    "                        ratio = row['score_meet_daily_targets_scale'] \n",
    "                        scale_x = 3.8\n",
    "                        scale_y = scale_x\n",
    "                        scale_z = scale_x\n",
    "                        geometry = 7\n",
    "                        topo = 3\n",
    "                        tagtext = \"Activity score - hit daily targets: \" + str(row['score_meet_daily_targets'])\n",
    "                    elif n == 2: \n",
    "                        translate_x = -36\n",
    "                        color_r = 102\n",
    "                        color_g = 0\n",
    "                        color_b = 204\n",
    "                        ratio = row['score_move_every_hour_scale']\n",
    "                        scale_x = 3.8\n",
    "                        scale_y = scale_x\n",
    "                        scale_z = scale_x\n",
    "                        geometry = 7\n",
    "                        topo = 3\n",
    "                        tagtext = \"Activity score - move each hour: \" + str(row['score_move_every_hour'])\n",
    "                    elif n == 3:\n",
    "                        translate_x = -72\n",
    "                        color_r = 127\n",
    "                        color_g = 0\n",
    "                        color_b = 255\n",
    "                        ratio = row['score_recovery_time_scale']\n",
    "                        scale_x = 3.8\n",
    "                        scale_y = scale_x\n",
    "                        scale_z = scale_x\n",
    "                        geometry = 7\n",
    "                        topo = 3\n",
    "                        tagtext = \"Activity score - recovery time: \" + str(row['score_recovery_time'])\n",
    "                    elif n == 4:\n",
    "                        translate_x = -108\n",
    "                        color_r = 153\n",
    "                        color_g = 51\n",
    "                        color_b = 255\n",
    "                        ratio = row['score_stay_active_scale']\n",
    "                        scale_x = 3.8\n",
    "                        scale_y = scale_x\n",
    "                        scale_z = scale_x\n",
    "                        geometry = 7\n",
    "                        topo = 3\n",
    "                        tagtext = \"Activity score - stay active: \" + str(row['score_stay_active'])\n",
    "                    elif n == 5:\n",
    "                        translate_x = -144\n",
    "                        color_r = 178\n",
    "                        color_g = 102\n",
    "                        color_b = 255\n",
    "                        ratio = row['score_training_frequency_scale']\n",
    "                        scale_x = 3.8\n",
    "                        scale_y = scale_x\n",
    "                        scale_z = scale_x\n",
    "                        tagtext = \"Activity score - training frequency: \" + str(row['score_training_frequency'])\n",
    "                        geometry = 7\n",
    "                        topo = 3\n",
    "                    elif n == 6:\n",
    "                        translate_x = -180\n",
    "                        color_r = 204\n",
    "                        color_g = 153\n",
    "                        color_b = 255\n",
    "                        ratio = row['score_training_volume_scale']\n",
    "                        scale_x = 3.8\n",
    "                        scale_y = scale_x\n",
    "                        scale_z = scale_x\n",
    "                        tagtext = \"Activity score - training volume: \" + str(row['score_training_volume'])\n",
    "                        geometry = 7\n",
    "                        topo = 3\n",
    "                    translate_y = 0\n",
    "                    translate_z = 0\n",
    "                    rotate_x = 0\n",
    "                    rotate_y = 0\n",
    "                    line_width= 1\n",
    "                    color_a = 255\n",
    "                    record_id = id \n",
    "                    texture_id= 0\n",
    "\n",
    "                    # Creat output string and write to ANTz Node File\n",
    "                    outputstring = str(id) + \",\" + str(type) + \",\" + str(data) + \",\" + str(selected) + \",\" + str(parent_id) + \",\" + str(branch_level) + \",\" + str(child_id) + \",\" + str(child_index) + \",\" + str(palette_id) + \",\" + str(ch_input_id) + \",\" + str(ch_output_id) + \",\" + str(ch_last_updated) + \",\" + str(average) + \",\" + str(samples) + \",\" + str(aux_a_x) + \",\" + str(aux_a_y) + \",\" + str(aux_a_z) + \",\" + str(aux_b_x) + \",\" + str(aux_b_y) + \",\" + str(aux_b_z) + \",\" + str(color_shift) + \",\" + str(rotate_vec_x) + \",\" + str(rotate_vec_y) + \",\" + str(rotate_vec_z) + \",\" + str(rotate_vec_s) + \",\" + str(scale_x) + \",\" + str(scale_y) + \",\" + str(scale_z) + \",\" + str(translate_x) + \",\" + str(translate_y) + \",\" + str(translate_z) + \",\" + str(tag_offset_x) + \",\" + str(tag_offset_y) + \",\" + str(tag_offset_z) + \",\" + str(rotate_rate_x) + \",\" + str(rotate_rate_y) + \",\" + str(rotate_rate_z) + \",\" + str(rotate_x) + \",\" + str(rotate_y) + \",\" + str(rotate_z) + \",\" + str(scale_rate_x) + \",\" + str(scale_rate_y) + \",\" + str(scale_rate_z) + \",\" + str(translate_rate_x) + \",\" + str(translate_rate_y) + \",\" + str(translate_rate_z) + \",\" + str(translate_vec_x) + \",\" + str(translate_vec_y) + \",\" + str(translate_vec_z) + \",\" + str(shader) + \",\" + str(geometry) + \",\" + str(line_width) + \",\" + str(point_size) + \",\" + str(ratio) + \",\" + str(color_index) + \",\" + str(color_r) + \",\" + str(color_g) + \",\" + str(color_b) + \",\" + str(color_a) + \",\" + str(color_fade) + \",\" + str(texture_id) + \",\" + str(hide) + \",\" + str(freeze) + \",\" + str(topo) + \",\" + str(facet) + \",\" + str(auto_zoom_x) + \",\" + str(auto_zoom_y) + \",\" + str(auto_zoom_z) + \",\" + str(trigger_hi_x) + \",\" + str(trigger_hi_y) + \",\" + str(trigger_hi_z) + \",\" + str(trigger_lo_x) + \",\" + str(trigger_lo_y) + \",\" + str(trigger_lo_z) + \",\" + str(set_hi_x) + \",\" + str(set_hi_y) + \",\" + str(set_hi_z) + \",\" + str(set_lo_x) + \",\" + str(set_lo_y) + \",\" + str(set_lo_z) + \",\" + str(proximity_x) + \",\" + str(proximity_y) + \",\" + str(proximity_z) + \",\" + str(proximity_mode_x) + \",\" + str(proximity_mode_y) + \",\" + str(proximity_mode_z) + \",\" + str(segments_x) + \",\" + str(segments_y) + \",\" + str(segments_z) + \",\" + str(tag_mode) + \",\" + str(format_id) + \",\" + str(table_id) + \",\" + str(record_id) + \",\" + str(size) + \"\\n\"\n",
    "                    fout.write(outputstring)\n",
    "\n",
    "                    # Output to Tag file \n",
    "                    tagstring = str(taginc) + \",\" + str(record_id) + \",0,\\\"\" + tagtext + \"\\\",\\\"\\\"\\n\"\n",
    "                    ftag.write(tagstring)\n",
    "                    taginc += 1\n",
    "\n",
    "\n",
    "            elif k == 2: \n",
    "                id += 1\n",
    "                data = id\n",
    "                type = 5\n",
    "                parent_id = level1objectid\n",
    "                selected = 0\n",
    "                branch_level = 2\n",
    "                child_id = id\n",
    "                translate_x = -120\n",
    "                translate_y = 125\n",
    "                translate_z = 3\n",
    "                scale_x = 7 \n",
    "                scale_y = scale_x\n",
    "                scale_z = 8\n",
    "                ratio = .3\n",
    "                line_width= 1\n",
    "                geometry = 19\n",
    "                topo = 6\n",
    "                rotate_x = 90\n",
    "                rotate_y = 90\n",
    "                color_r = 158\n",
    "                color_g = 168\n",
    "                color_b = 186\n",
    "                color_a = 255\n",
    "                record_id = id \n",
    "                texture_id= 0\n",
    "\n",
    "                # Creat output string and write to ANTz Node File\n",
    "                outputstring = str(id) + \",\" + str(type) + \",\" + str(data) + \",\" + str(selected) + \",\" + str(parent_id) + \",\" + str(branch_level) + \",\" + str(child_id) + \",\" + str(child_index) + \",\" + str(palette_id) + \",\" + str(ch_input_id) + \",\" + str(ch_output_id) + \",\" + str(ch_last_updated) + \",\" + str(average) + \",\" + str(samples) + \",\" + str(aux_a_x) + \",\" + str(aux_a_y) + \",\" + str(aux_a_z) + \",\" + str(aux_b_x) + \",\" + str(aux_b_y) + \",\" + str(aux_b_z) + \",\" + str(color_shift) + \",\" + str(rotate_vec_x) + \",\" + str(rotate_vec_y) + \",\" + str(rotate_vec_z) + \",\" + str(rotate_vec_s) + \",\" + str(scale_x) + \",\" + str(scale_y) + \",\" + str(scale_z) + \",\" + str(translate_x) + \",\" + str(translate_y) + \",\" + str(translate_z) + \",\" + str(tag_offset_x) + \",\" + str(tag_offset_y) + \",\" + str(tag_offset_z) + \",\" + str(rotate_rate_x) + \",\" + str(rotate_rate_y) + \",\" + str(rotate_rate_z) + \",\" + str(rotate_x) + \",\" + str(rotate_y) + \",\" + str(rotate_z) + \",\" + str(scale_rate_x) + \",\" + str(scale_rate_y) + \",\" + str(scale_rate_z) + \",\" + str(translate_rate_x) + \",\" + str(translate_rate_y) + \",\" + str(translate_rate_z) + \",\" + str(translate_vec_x) + \",\" + str(translate_vec_y) + \",\" + str(translate_vec_z) + \",\" + str(shader) + \",\" + str(geometry) + \",\" + str(line_width) + \",\" + str(point_size) + \",\" + str(ratio) + \",\" + str(color_index) + \",\" + str(color_r) + \",\" + str(color_g) + \",\" + str(color_b) + \",\" + str(color_a) + \",\" + str(color_fade) + \",\" + str(texture_id) + \",\" + str(hide) + \",\" + str(freeze) + \",\" + str(topo) + \",\" + str(facet) + \",\" + str(auto_zoom_x) + \",\" + str(auto_zoom_y) + \",\" + str(auto_zoom_z) + \",\" + str(trigger_hi_x) + \",\" + str(trigger_hi_y) + \",\" + str(trigger_hi_z) + \",\" + str(trigger_lo_x) + \",\" + str(trigger_lo_y) + \",\" + str(trigger_lo_z) + \",\" + str(set_hi_x) + \",\" + str(set_hi_y) + \",\" + str(set_hi_z) + \",\" + str(set_lo_x) + \",\" + str(set_lo_y) + \",\" + str(set_lo_z) + \",\" + str(proximity_x) + \",\" + str(proximity_y) + \",\" + str(proximity_z) + \",\" + str(proximity_mode_x) + \",\" + str(proximity_mode_y) + \",\" + str(proximity_mode_z) + \",\" + str(segments_x) + \",\" + str(segments_y) + \",\" + str(segments_z) + \",\" + str(tag_mode) + \",\" + str(format_id) + \",\" + str(table_id) + \",\" + str(record_id) + \",\" + str(size) + \"\\n\"\n",
    "                fout.write(outputstring)\n",
    "\n",
    "                level2objectid = id\n",
    "                numlevel3toroids = 9\n",
    "                # readiness score data\n",
    "                for o in range(numlevel3toroids):\n",
    "                    id += 1\n",
    "                    data = id\n",
    "                    type = 5\n",
    "                    parent_id = level2objectid\n",
    "                    selected = 0\n",
    "                    branch_level = 3\n",
    "                    child_id = id\n",
    "                    if o == 0:\n",
    "                        translate_x = 45\n",
    "                        color_r = 0\n",
    "                        color_g = 51\n",
    "                        color_b = 102\n",
    "                        ratio = row['score_y_scale'] \n",
    "                        scale_x = 3.8\n",
    "                        scale_y = scale_x\n",
    "                        scale_z = scale_x\n",
    "                        geometry = 3\n",
    "                        topo = 2\n",
    "                        tagtext = \"Readiness Score: \" + str(row['score_y'])\n",
    "                    elif o == 1:\n",
    "                        translate_x = 0\n",
    "                        color_r = 0\n",
    "                        color_g = 76\n",
    "                        color_b = 153\n",
    "                        ratio = row['score_activity_balance_scale'] \n",
    "                        scale_x = 3.8\n",
    "                        scale_y = scale_x\n",
    "                        scale_z = scale_x\n",
    "                        geometry = 7\n",
    "                        topo = 3\n",
    "                        tagtext = \"Readiness score - activity balance: \" + str(row['score_activity_balance'])\n",
    "                    elif o == 2: \n",
    "                        translate_x = -26\n",
    "                        color_r = 0\n",
    "                        color_g = 102\n",
    "                        color_b = 204\n",
    "                        ratio = row['score_hrv_balance_scale']\n",
    "                        scale_x = 3.8\n",
    "                        scale_y = scale_x\n",
    "                        scale_z = scale_x\n",
    "                        geometry = 7\n",
    "                        topo = 3\n",
    "                        tagtext = \"Readiness score - hrv balance: \" + str(row['score_hrv_balance'])\n",
    "                    elif o == 3:\n",
    "                        translate_x = -52\n",
    "                        color_r = 0\n",
    "                        color_g = 128\n",
    "                        color_b = 255\n",
    "                        ratio = row['score_previous_day_scale']\n",
    "                        scale_x = 3.8\n",
    "                        scale_y = scale_x\n",
    "                        scale_z = scale_x\n",
    "                        geometry = 7\n",
    "                        topo = 3\n",
    "                        tagtext = \"Readiness score - previous day: \" + str(row['score_previous_day'])\n",
    "                    elif o == 4:\n",
    "                        translate_x = -78\n",
    "                        color_r = 51\n",
    "                        color_g = 153\n",
    "                        color_b = 255\n",
    "                        ratio = row['score_previous_night_scale']\n",
    "                        scale_x = 3.8\n",
    "                        scale_y = scale_x\n",
    "                        scale_z = scale_x\n",
    "                        geometry = 7\n",
    "                        topo = 3\n",
    "                        tagtext = \"Readiness score - previous night: \" + str(row['score_previous_night'])\n",
    "                    elif o == 5:\n",
    "                        translate_x = -104\n",
    "                        color_r = 102\n",
    "                        color_g = 178\n",
    "                        color_b = 255\n",
    "                        ratio = row['score_recovery_index_scale']\n",
    "                        scale_x = 3.8\n",
    "                        scale_y = scale_x\n",
    "                        scale_z = scale_x\n",
    "                        geometry = 7\n",
    "                        topo = 3\n",
    "                        tagtext = \"Readiness score - recovery index: \" + str(row['score_recovery_index'])\n",
    "                    elif o == 6:\n",
    "                        translate_x = -130\n",
    "                        color_r = 153\n",
    "                        color_g = 204\n",
    "                        color_b = 255\n",
    "                        ratio = row['score_resting_hr_scale']\n",
    "                        scale_x = 3.8\n",
    "                        scale_y = scale_x\n",
    "                        scale_z = scale_x\n",
    "                        geometry = 7\n",
    "                        topo = 3\n",
    "                        tagtext = \"Readiness score - resting hr: \" + str(row['score_resting_hr'])\n",
    "                    elif o == 7: \n",
    "                        translate_x = -156\n",
    "                        color_r = 153\n",
    "                        color_g = 204\n",
    "                        color_b = 255\n",
    "                        ratio = row['score_sleep_balance_scale']\n",
    "                        scale_x = 3.8\n",
    "                        scale_y = scale_x\n",
    "                        scale_z = scale_x\n",
    "                        geometry = 7\n",
    "                        topo = 3\n",
    "                        tagtext = \"Readiness score - sleep balance: \" + str(row['score_sleep_balance'])\n",
    "                    elif o == 8: \n",
    "                        translate_x = -180\n",
    "                        color_r = 204\n",
    "                        color_g = 229\n",
    "                        color_b = 255\n",
    "                        ratio = row['score_temperature_scale']\n",
    "                        scale_x = 3.8\n",
    "                        scale_y = scale_x\n",
    "                        scale_z = scale_x\n",
    "                        geometry = 7\n",
    "                        topo = 3\n",
    "                        tagtext = \"Readiness score - temperature: \" + str(row['score_temperature'])\n",
    "                    translate_y = 0\n",
    "                    translate_z = 0\n",
    "                    line_width= 1\n",
    "                    rotate_x = 0\n",
    "                    rotate_y = 0\n",
    "                    color_a = 255\n",
    "                    record_id = id \n",
    "                    texture_id= 0\n",
    "\n",
    "                    # Creat output string and write to ANTz Node File\n",
    "                    outputstring = str(id) + \",\" + str(type) + \",\" + str(data) + \",\" + str(selected) + \",\" + str(parent_id) + \",\" + str(branch_level) + \",\" + str(child_id) + \",\" + str(child_index) + \",\" + str(palette_id) + \",\" + str(ch_input_id) + \",\" + str(ch_output_id) + \",\" + str(ch_last_updated) + \",\" + str(average) + \",\" + str(samples) + \",\" + str(aux_a_x) + \",\" + str(aux_a_y) + \",\" + str(aux_a_z) + \",\" + str(aux_b_x) + \",\" + str(aux_b_y) + \",\" + str(aux_b_z) + \",\" + str(color_shift) + \",\" + str(rotate_vec_x) + \",\" + str(rotate_vec_y) + \",\" + str(rotate_vec_z) + \",\" + str(rotate_vec_s) + \",\" + str(scale_x) + \",\" + str(scale_y) + \",\" + str(scale_z) + \",\" + str(translate_x) + \",\" + str(translate_y) + \",\" + str(translate_z) + \",\" + str(tag_offset_x) + \",\" + str(tag_offset_y) + \",\" + str(tag_offset_z) + \",\" + str(rotate_rate_x) + \",\" + str(rotate_rate_y) + \",\" + str(rotate_rate_z) + \",\" + str(rotate_x) + \",\" + str(rotate_y) + \",\" + str(rotate_z) + \",\" + str(scale_rate_x) + \",\" + str(scale_rate_y) + \",\" + str(scale_rate_z) + \",\" + str(translate_rate_x) + \",\" + str(translate_rate_y) + \",\" + str(translate_rate_z) + \",\" + str(translate_vec_x) + \",\" + str(translate_vec_y) + \",\" + str(translate_vec_z) + \",\" + str(shader) + \",\" + str(geometry) + \",\" + str(line_width) + \",\" + str(point_size) + \",\" + str(ratio) + \",\" + str(color_index) + \",\" + str(color_r) + \",\" + str(color_g) + \",\" + str(color_b) + \",\" + str(color_a) + \",\" + str(color_fade) + \",\" + str(texture_id) + \",\" + str(hide) + \",\" + str(freeze) + \",\" + str(topo) + \",\" + str(facet) + \",\" + str(auto_zoom_x) + \",\" + str(auto_zoom_y) + \",\" + str(auto_zoom_z) + \",\" + str(trigger_hi_x) + \",\" + str(trigger_hi_y) + \",\" + str(trigger_hi_z) + \",\" + str(trigger_lo_x) + \",\" + str(trigger_lo_y) + \",\" + str(trigger_lo_z) + \",\" + str(set_hi_x) + \",\" + str(set_hi_y) + \",\" + str(set_hi_z) + \",\" + str(set_lo_x) + \",\" + str(set_lo_y) + \",\" + str(set_lo_z) + \",\" + str(proximity_x) + \",\" + str(proximity_y) + \",\" + str(proximity_z) + \",\" + str(proximity_mode_x) + \",\" + str(proximity_mode_y) + \",\" + str(proximity_mode_z) + \",\" + str(segments_x) + \",\" + str(segments_y) + \",\" + str(segments_z) + \",\" + str(tag_mode) + \",\" + str(format_id) + \",\" + str(table_id) + \",\" + str(record_id) + \",\" + str(size) + \"\\n\"\n",
    "                    fout.write(outputstring)\n",
    "\n",
    "                    # Output to Tag file \n",
    "                    tagstring = str(taginc) + \",\" + str(record_id) + \",0,\\\"\" + tagtext + \"\\\",\\\"\\\"\\n\"\n",
    "                    ftag.write(tagstring)\n",
    "                    taginc += 1\n",
    "        \n",
    "        #bb are food meal glyphs\n",
    "        for i2, row2 in df3.loc[df3['date'] == row['date']].iterrows():\n",
    "            id += 1\n",
    "            data = id\n",
    "            type = 5\n",
    "            parent_id = level1objectid\n",
    "            selected = 0\n",
    "            branch_level = 2\n",
    "            child_id = id\n",
    "            translate_x = -90\n",
    "            translate_y = row2['y3']\n",
    "            translate_z = 3\n",
    "            scale_x = 5.3 \n",
    "            scale_y = scale_x\n",
    "            scale_z = scale_x\n",
    "            ratio = .18\n",
    "            line_width= 1\n",
    "            geometry = 7\n",
    "            topo = 3\n",
    "            color_r = 99\n",
    "            color_g = 101\n",
    "            color_b = 120\n",
    "            color_a = 175\n",
    "            record_id = id \n",
    "            texture_id= 0\n",
    "\n",
    "            # Creat output string and write to ANTz Node File\n",
    "            outputstring = str(id) + \",\" + str(type) + \",\" + str(data) + \",\" + str(selected) + \",\" + str(parent_id) + \",\" + str(branch_level) + \",\" + str(child_id) + \",\" + str(child_index) + \",\" + str(palette_id) + \",\" + str(ch_input_id) + \",\" + str(ch_output_id) + \",\" + str(ch_last_updated) + \",\" + str(average) + \",\" + str(samples) + \",\" + str(aux_a_x) + \",\" + str(aux_a_y) + \",\" + str(aux_a_z) + \",\" + str(aux_b_x) + \",\" + str(aux_b_y) + \",\" + str(aux_b_z) + \",\" + str(color_shift) + \",\" + str(rotate_vec_x) + \",\" + str(rotate_vec_y) + \",\" + str(rotate_vec_z) + \",\" + str(rotate_vec_s) + \",\" + str(scale_x) + \",\" + str(scale_y) + \",\" + str(scale_z) + \",\" + str(translate_x) + \",\" + str(translate_y) + \",\" + str(translate_z) + \",\" + str(tag_offset_x) + \",\" + str(tag_offset_y) + \",\" + str(tag_offset_z) + \",\" + str(rotate_rate_x) + \",\" + str(rotate_rate_y) + \",\" + str(rotate_rate_z) + \",\" + str(rotate_x) + \",\" + str(rotate_y) + \",\" + str(rotate_z) + \",\" + str(scale_rate_x) + \",\" + str(scale_rate_y) + \",\" + str(scale_rate_z) + \",\" + str(translate_rate_x) + \",\" + str(translate_rate_y) + \",\" + str(translate_rate_z) + \",\" + str(translate_vec_x) + \",\" + str(translate_vec_y) + \",\" + str(translate_vec_z) + \",\" + str(shader) + \",\" + str(geometry) + \",\" + str(line_width) + \",\" + str(point_size) + \",\" + str(ratio) + \",\" + str(color_index) + \",\" + str(color_r) + \",\" + str(color_g) + \",\" + str(color_b) + \",\" + str(color_a) + \",\" + str(color_fade) + \",\" + str(texture_id) + \",\" + str(hide) + \",\" + str(freeze) + \",\" + str(topo) + \",\" + str(facet) + \",\" + str(auto_zoom_x) + \",\" + str(auto_zoom_y) + \",\" + str(auto_zoom_z) + \",\" + str(trigger_hi_x) + \",\" + str(trigger_hi_y) + \",\" + str(trigger_hi_z) + \",\" + str(trigger_lo_x) + \",\" + str(trigger_lo_y) + \",\" + str(trigger_lo_z) + \",\" + str(set_hi_x) + \",\" + str(set_hi_y) + \",\" + str(set_hi_z) + \",\" + str(set_lo_x) + \",\" + str(set_lo_y) + \",\" + str(set_lo_z) + \",\" + str(proximity_x) + \",\" + str(proximity_y) + \",\" + str(proximity_z) + \",\" + str(proximity_mode_x) + \",\" + str(proximity_mode_y) + \",\" + str(proximity_mode_z) + \",\" + str(segments_x) + \",\" + str(segments_y) + \",\" + str(segments_z) + \",\" + str(tag_mode) + \",\" + str(format_id) + \",\" + str(table_id) + \",\" + str(record_id) + \",\" + str(size) + \"\\n\"\n",
    "            fout.write(outputstring)\n",
    "\n",
    "            level2objectid = id \n",
    "            numlevel3toroids = 5\n",
    "            for dd in range(numlevel3toroids):\n",
    "                id += 1\n",
    "                data = id\n",
    "                type = 5\n",
    "                parent_id = level2objectid\n",
    "                selected = 0\n",
    "                branch_level = 3\n",
    "                child_id = id\n",
    "                if dd == 0:\n",
    "                    translate_x = 90\n",
    "                    translate_y = 0\n",
    "                    translate_z = 0\n",
    "                    scale_x = row2['p_scale'] \n",
    "                    scale_y = scale_x\n",
    "                    scale_z = scale_x\n",
    "                    geometry = 19\n",
    "                    topo = 4\n",
    "                    color_r = 194\n",
    "                    color_g = 33\n",
    "                    color_b = 33\n",
    "                if dd == 1:\n",
    "                    translate_x = 155\n",
    "                    translate_y = 0\n",
    "                    translate_z = 0\n",
    "                    scale_x = row2['s_scale'] \n",
    "                    scale_y = scale_x\n",
    "                    scale_z = scale_x\n",
    "                    geometry = 1\n",
    "                    topo = 1\n",
    "                    color_r = 255\n",
    "                    color_g = 183\n",
    "                    color_b = 51\n",
    "                if dd == 2:\n",
    "                    translate_x = -180\n",
    "                    translate_y = 0\n",
    "                    translate_z = 0\n",
    "                    scale_x = row2['c_scale'] \n",
    "                    scale_y = scale_x\n",
    "                    scale_z = scale_x\n",
    "                    geometry = 19\n",
    "                    topo = 4\n",
    "                    color_r = 245\n",
    "                    color_g = 115\n",
    "                    color_b = 54\n",
    "                if dd == 3:\n",
    "                    translate_x = -155\n",
    "                    translate_y = 0\n",
    "                    translate_z = 0\n",
    "                    scale_x = row2['fb_scale'] \n",
    "                    scale_y = scale_x\n",
    "                    scale_z = scale_x\n",
    "                    geometry = 3\n",
    "                    topo = 2\n",
    "                    color_r = 127\n",
    "                    color_g = 22\n",
    "                    color_b = 55\n",
    "                if dd == 4:\n",
    "                    translate_x = -90\n",
    "                    translate_y = 0\n",
    "                    translate_z = 0\n",
    "                    scale_x = row2['ft_scale'] \n",
    "                    scale_y = scale_x\n",
    "                    scale_z = scale_x\n",
    "                    geometry = 19\n",
    "                    topo = 4\n",
    "                    color_r = 4\n",
    "                    color_g = 120\n",
    "                    color_b = 120\n",
    "                ratio = .1\n",
    "                line_width= 1\n",
    "                color_a = 255\n",
    "                record_id = id \n",
    "                texture_id= 0\n",
    "\n",
    "                # Creat output string and write to ANTz Node File\n",
    "                outputstring = str(id) + \",\" + str(type) + \",\" + str(data) + \",\" + str(selected) + \",\" + str(parent_id) + \",\" + str(branch_level) + \",\" + str(child_id) + \",\" + str(child_index) + \",\" + str(palette_id) + \",\" + str(ch_input_id) + \",\" + str(ch_output_id) + \",\" + str(ch_last_updated) + \",\" + str(average) + \",\" + str(samples) + \",\" + str(aux_a_x) + \",\" + str(aux_a_y) + \",\" + str(aux_a_z) + \",\" + str(aux_b_x) + \",\" + str(aux_b_y) + \",\" + str(aux_b_z) + \",\" + str(color_shift) + \",\" + str(rotate_vec_x) + \",\" + str(rotate_vec_y) + \",\" + str(rotate_vec_z) + \",\" + str(rotate_vec_s) + \",\" + str(scale_x) + \",\" + str(scale_y) + \",\" + str(scale_z) + \",\" + str(translate_x) + \",\" + str(translate_y) + \",\" + str(translate_z) + \",\" + str(tag_offset_x) + \",\" + str(tag_offset_y) + \",\" + str(tag_offset_z) + \",\" + str(rotate_rate_x) + \",\" + str(rotate_rate_y) + \",\" + str(rotate_rate_z) + \",\" + str(rotate_x) + \",\" + str(rotate_y) + \",\" + str(rotate_z) + \",\" + str(scale_rate_x) + \",\" + str(scale_rate_y) + \",\" + str(scale_rate_z) + \",\" + str(translate_rate_x) + \",\" + str(translate_rate_y) + \",\" + str(translate_rate_z) + \",\" + str(translate_vec_x) + \",\" + str(translate_vec_y) + \",\" + str(translate_vec_z) + \",\" + str(shader) + \",\" + str(geometry) + \",\" + str(line_width) + \",\" + str(point_size) + \",\" + str(ratio) + \",\" + str(color_index) + \",\" + str(color_r) + \",\" + str(color_g) + \",\" + str(color_b) + \",\" + str(color_a) + \",\" + str(color_fade) + \",\" + str(texture_id) + \",\" + str(hide) + \",\" + str(freeze) + \",\" + str(topo) + \",\" + str(facet) + \",\" + str(auto_zoom_x) + \",\" + str(auto_zoom_y) + \",\" + str(auto_zoom_z) + \",\" + str(trigger_hi_x) + \",\" + str(trigger_hi_y) + \",\" + str(trigger_hi_z) + \",\" + str(trigger_lo_x) + \",\" + str(trigger_lo_y) + \",\" + str(trigger_lo_z) + \",\" + str(set_hi_x) + \",\" + str(set_hi_y) + \",\" + str(set_hi_z) + \",\" + str(set_lo_x) + \",\" + str(set_lo_y) + \",\" + str(set_lo_z) + \",\" + str(proximity_x) + \",\" + str(proximity_y) + \",\" + str(proximity_z) + \",\" + str(proximity_mode_x) + \",\" + str(proximity_mode_y) + \",\" + str(proximity_mode_z) + \",\" + str(segments_x) + \",\" + str(segments_y) + \",\" + str(segments_z) + \",\" + str(tag_mode) + \",\" + str(format_id) + \",\" + str(table_id) + \",\" + str(record_id) + \",\" + str(size) + \"\\n\"\n",
    "                fout.write(outputstring)\n",
    "\n",
    "            numlevel3toroids = row2['cal_chunk']\n",
    "            for ee in range(numlevel3toroids):\n",
    "                id += 1\n",
    "                data = id\n",
    "                type = 5\n",
    "                parent_id = level2objectid\n",
    "                selected = 0\n",
    "                branch_level = 3\n",
    "                child_id = id\n",
    "                translate_x = ((70/numlevel3toroids)*ee)+(-35)\n",
    "                translate_y = 0\n",
    "                translate_z = 0\n",
    "                scale_x = 1 \n",
    "                scale_y = scale_x\n",
    "                scale_z = scale_x\n",
    "                geometry = 16\n",
    "                topo = 5\n",
    "                color_r = 109\n",
    "                color_g = 19\n",
    "                color_b = 194\n",
    "                ratio = .1\n",
    "                line_width= 1\n",
    "                color_a = 255\n",
    "                record_id = id \n",
    "                texture_id= 0\n",
    "\n",
    "                # Creat output string and write to ANTz Node File\n",
    "                outputstring = str(id) + \",\" + str(type) + \",\" + str(data) + \",\" + str(selected) + \",\" + str(parent_id) + \",\" + str(branch_level) + \",\" + str(child_id) + \",\" + str(child_index) + \",\" + str(palette_id) + \",\" + str(ch_input_id) + \",\" + str(ch_output_id) + \",\" + str(ch_last_updated) + \",\" + str(average) + \",\" + str(samples) + \",\" + str(aux_a_x) + \",\" + str(aux_a_y) + \",\" + str(aux_a_z) + \",\" + str(aux_b_x) + \",\" + str(aux_b_y) + \",\" + str(aux_b_z) + \",\" + str(color_shift) + \",\" + str(rotate_vec_x) + \",\" + str(rotate_vec_y) + \",\" + str(rotate_vec_z) + \",\" + str(rotate_vec_s) + \",\" + str(scale_x) + \",\" + str(scale_y) + \",\" + str(scale_z) + \",\" + str(translate_x) + \",\" + str(translate_y) + \",\" + str(translate_z) + \",\" + str(tag_offset_x) + \",\" + str(tag_offset_y) + \",\" + str(tag_offset_z) + \",\" + str(rotate_rate_x) + \",\" + str(rotate_rate_y) + \",\" + str(rotate_rate_z) + \",\" + str(rotate_x) + \",\" + str(rotate_y) + \",\" + str(rotate_z) + \",\" + str(scale_rate_x) + \",\" + str(scale_rate_y) + \",\" + str(scale_rate_z) + \",\" + str(translate_rate_x) + \",\" + str(translate_rate_y) + \",\" + str(translate_rate_z) + \",\" + str(translate_vec_x) + \",\" + str(translate_vec_y) + \",\" + str(translate_vec_z) + \",\" + str(shader) + \",\" + str(geometry) + \",\" + str(line_width) + \",\" + str(point_size) + \",\" + str(ratio) + \",\" + str(color_index) + \",\" + str(color_r) + \",\" + str(color_g) + \",\" + str(color_b) + \",\" + str(color_a) + \",\" + str(color_fade) + \",\" + str(texture_id) + \",\" + str(hide) + \",\" + str(freeze) + \",\" + str(topo) + \",\" + str(facet) + \",\" + str(auto_zoom_x) + \",\" + str(auto_zoom_y) + \",\" + str(auto_zoom_z) + \",\" + str(trigger_hi_x) + \",\" + str(trigger_hi_y) + \",\" + str(trigger_hi_z) + \",\" + str(trigger_lo_x) + \",\" + str(trigger_lo_y) + \",\" + str(trigger_lo_z) + \",\" + str(set_hi_x) + \",\" + str(set_hi_y) + \",\" + str(set_hi_z) + \",\" + str(set_lo_x) + \",\" + str(set_lo_y) + \",\" + str(set_lo_z) + \",\" + str(proximity_x) + \",\" + str(proximity_y) + \",\" + str(proximity_z) + \",\" + str(proximity_mode_x) + \",\" + str(proximity_mode_y) + \",\" + str(proximity_mode_z) + \",\" + str(segments_x) + \",\" + str(segments_y) + \",\" + str(segments_z) + \",\" + str(tag_mode) + \",\" + str(format_id) + \",\" + str(table_id) + \",\" + str(record_id) + \",\" + str(size) + \"\\n\"\n",
    "                fout.write(outputstring)\n",
    "                                                    \n",
    "        #ff are blood glucose glyphs\n",
    "        for i4, row4 in df4.loc[df4['date'] == row['date']].iterrows():\n",
    "            id += 1\n",
    "            data = id\n",
    "            type = 5\n",
    "            parent_id = level1objectid\n",
    "            selected = 0\n",
    "            branch_level = 2\n",
    "            child_id = id\n",
    "            translate_x = -30\n",
    "            translate_y = row4['y4']\n",
    "            translate_z = 3\n",
    "            scale_x = 2 \n",
    "            scale_y = scale_x\n",
    "            scale_z = scale_x\n",
    "            ratio = .11\n",
    "            line_width= 1\n",
    "            rotate_x = 90\n",
    "            rotate_y = 270\n",
    "            geometry = 19\n",
    "            topo = 6\n",
    "            color_r = 115\n",
    "            color_g = 108\n",
    "            color_b = 20\n",
    "            color_a = 170\n",
    "            record_id = id \n",
    "            texture_id= 0\n",
    "\n",
    "            # Creat output string and write to ANTz Node File\n",
    "            outputstring = str(id) + \",\" + str(type) + \",\" + str(data) + \",\" + str(selected) + \",\" + str(parent_id) + \",\" + str(branch_level) + \",\" + str(child_id) + \",\" + str(child_index) + \",\" + str(palette_id) + \",\" + str(ch_input_id) + \",\" + str(ch_output_id) + \",\" + str(ch_last_updated) + \",\" + str(average) + \",\" + str(samples) + \",\" + str(aux_a_x) + \",\" + str(aux_a_y) + \",\" + str(aux_a_z) + \",\" + str(aux_b_x) + \",\" + str(aux_b_y) + \",\" + str(aux_b_z) + \",\" + str(color_shift) + \",\" + str(rotate_vec_x) + \",\" + str(rotate_vec_y) + \",\" + str(rotate_vec_z) + \",\" + str(rotate_vec_s) + \",\" + str(scale_x) + \",\" + str(scale_y) + \",\" + str(scale_z) + \",\" + str(translate_x) + \",\" + str(translate_y) + \",\" + str(translate_z) + \",\" + str(tag_offset_x) + \",\" + str(tag_offset_y) + \",\" + str(tag_offset_z) + \",\" + str(rotate_rate_x) + \",\" + str(rotate_rate_y) + \",\" + str(rotate_rate_z) + \",\" + str(rotate_x) + \",\" + str(rotate_y) + \",\" + str(rotate_z) + \",\" + str(scale_rate_x) + \",\" + str(scale_rate_y) + \",\" + str(scale_rate_z) + \",\" + str(translate_rate_x) + \",\" + str(translate_rate_y) + \",\" + str(translate_rate_z) + \",\" + str(translate_vec_x) + \",\" + str(translate_vec_y) + \",\" + str(translate_vec_z) + \",\" + str(shader) + \",\" + str(geometry) + \",\" + str(line_width) + \",\" + str(point_size) + \",\" + str(ratio) + \",\" + str(color_index) + \",\" + str(color_r) + \",\" + str(color_g) + \",\" + str(color_b) + \",\" + str(color_a) + \",\" + str(color_fade) + \",\" + str(texture_id) + \",\" + str(hide) + \",\" + str(freeze) + \",\" + str(topo) + \",\" + str(facet) + \",\" + str(auto_zoom_x) + \",\" + str(auto_zoom_y) + \",\" + str(auto_zoom_z) + \",\" + str(trigger_hi_x) + \",\" + str(trigger_hi_y) + \",\" + str(trigger_hi_z) + \",\" + str(trigger_lo_x) + \",\" + str(trigger_lo_y) + \",\" + str(trigger_lo_z) + \",\" + str(set_hi_x) + \",\" + str(set_hi_y) + \",\" + str(set_hi_z) + \",\" + str(set_lo_x) + \",\" + str(set_lo_y) + \",\" + str(set_lo_z) + \",\" + str(proximity_x) + \",\" + str(proximity_y) + \",\" + str(proximity_z) + \",\" + str(proximity_mode_x) + \",\" + str(proximity_mode_y) + \",\" + str(proximity_mode_z) + \",\" + str(segments_x) + \",\" + str(segments_y) + \",\" + str(segments_z) + \",\" + str(tag_mode) + \",\" + str(format_id) + \",\" + str(table_id) + \",\" + str(record_id) + \",\" + str(size) + \"\\n\"\n",
    "            fout.write(outputstring)\n",
    "\n",
    "            level2objectid = id \n",
    "            numlevel3toroids = 3\n",
    "            for gg in range(numlevel3toroids):\n",
    "                id += 1\n",
    "                data = id\n",
    "                type = 5\n",
    "                parent_id = level2objectid\n",
    "                selected = 0\n",
    "                branch_level = 3\n",
    "                child_id = id\n",
    "                if gg == 0:\n",
    "                    translate_x = 0\n",
    "                    translate_y = 0\n",
    "                    translate_z = 0\n",
    "                    color_r = 242\n",
    "                    color_g = 162\n",
    "                    color_b = 92\n",
    "                    ratio = row4['bg_scale']\n",
    "                if gg == 1:\n",
    "                    translate_x = -90\n",
    "                    translate_y = 0\n",
    "                    translate_z = 0\n",
    "                    color_r = 148\n",
    "                    color_g = 225\n",
    "                    color_b = 242\n",
    "                    ratio = row4['k_scale']\n",
    "                if gg == 2:\n",
    "                    translate_x = -180\n",
    "                    translate_y = 0\n",
    "                    translate_z = 0\n",
    "                    color_r = 217\n",
    "                    color_g = 137\n",
    "                    color_b = 137\n",
    "                    ratio = row4['gki_scale']\n",
    "                scale_x = 3.8 \n",
    "                scale_y = scale_x\n",
    "                scale_z = scale_x\n",
    "                geometry = 7\n",
    "                topo = 3\n",
    "                rotate_y = 90\n",
    "                line_width= 1\n",
    "                color_a = 255\n",
    "                record_id = id \n",
    "                texture_id= 0\n",
    "\n",
    "                # Creat output string and write to ANTz Node File\n",
    "                outputstring = str(id) + \",\" + str(type) + \",\" + str(data) + \",\" + str(selected) + \",\" + str(parent_id) + \",\" + str(branch_level) + \",\" + str(child_id) + \",\" + str(child_index) + \",\" + str(palette_id) + \",\" + str(ch_input_id) + \",\" + str(ch_output_id) + \",\" + str(ch_last_updated) + \",\" + str(average) + \",\" + str(samples) + \",\" + str(aux_a_x) + \",\" + str(aux_a_y) + \",\" + str(aux_a_z) + \",\" + str(aux_b_x) + \",\" + str(aux_b_y) + \",\" + str(aux_b_z) + \",\" + str(color_shift) + \",\" + str(rotate_vec_x) + \",\" + str(rotate_vec_y) + \",\" + str(rotate_vec_z) + \",\" + str(rotate_vec_s) + \",\" + str(scale_x) + \",\" + str(scale_y) + \",\" + str(scale_z) + \",\" + str(translate_x) + \",\" + str(translate_y) + \",\" + str(translate_z) + \",\" + str(tag_offset_x) + \",\" + str(tag_offset_y) + \",\" + str(tag_offset_z) + \",\" + str(rotate_rate_x) + \",\" + str(rotate_rate_y) + \",\" + str(rotate_rate_z) + \",\" + str(rotate_x) + \",\" + str(rotate_y) + \",\" + str(rotate_z) + \",\" + str(scale_rate_x) + \",\" + str(scale_rate_y) + \",\" + str(scale_rate_z) + \",\" + str(translate_rate_x) + \",\" + str(translate_rate_y) + \",\" + str(translate_rate_z) + \",\" + str(translate_vec_x) + \",\" + str(translate_vec_y) + \",\" + str(translate_vec_z) + \",\" + str(shader) + \",\" + str(geometry) + \",\" + str(line_width) + \",\" + str(point_size) + \",\" + str(ratio) + \",\" + str(color_index) + \",\" + str(color_r) + \",\" + str(color_g) + \",\" + str(color_b) + \",\" + str(color_a) + \",\" + str(color_fade) + \",\" + str(texture_id) + \",\" + str(hide) + \",\" + str(freeze) + \",\" + str(topo) + \",\" + str(facet) + \",\" + str(auto_zoom_x) + \",\" + str(auto_zoom_y) + \",\" + str(auto_zoom_z) + \",\" + str(trigger_hi_x) + \",\" + str(trigger_hi_y) + \",\" + str(trigger_hi_z) + \",\" + str(trigger_lo_x) + \",\" + str(trigger_lo_y) + \",\" + str(trigger_lo_z) + \",\" + str(set_hi_x) + \",\" + str(set_hi_y) + \",\" + str(set_hi_z) + \",\" + str(set_lo_x) + \",\" + str(set_lo_y) + \",\" + str(set_lo_z) + \",\" + str(proximity_x) + \",\" + str(proximity_y) + \",\" + str(proximity_z) + \",\" + str(proximity_mode_x) + \",\" + str(proximity_mode_y) + \",\" + str(proximity_mode_z) + \",\" + str(segments_x) + \",\" + str(segments_y) + \",\" + str(segments_z) + \",\" + str(tag_mode) + \",\" + str(format_id) + \",\" + str(table_id) + \",\" + str(record_id) + \",\" + str(size) + \"\\n\"\n",
    "                fout.write(outputstring) \n",
    "                    \n",
    "                    \n",
    "        #kk are workout glyphs\n",
    "        for i5, row5 in df5.loc[df5['date'] == row['date']].iterrows():\n",
    "            id += 1\n",
    "            data = id\n",
    "            type = 5\n",
    "            parent_id = level1objectid\n",
    "            selected = 0\n",
    "            branch_level = 2\n",
    "            child_id = id\n",
    "            translate_x = 30\n",
    "            translate_y = row5['y5']\n",
    "            translate_z = 3\n",
    "            scale_x = 4.5 \n",
    "            scale_y = scale_x\n",
    "            scale_z = scale_x\n",
    "            ratio = .1\n",
    "            line_width= 1\n",
    "            rotate_x = 0\n",
    "            rotate_y = 0\n",
    "            if row5['type'] == 'yoga':\n",
    "                geometry = 3\n",
    "                color_r = 180\n",
    "                color_g = 196\n",
    "                color_b = 217\n",
    "            elif row5['type'] == 'lifting':\n",
    "                geometry = 15\n",
    "                color_r = 4\n",
    "                color_g = 157\n",
    "                color_b = 191\n",
    "            topo = 2\n",
    "            color_a = 255\n",
    "            record_id = id \n",
    "            texture_id= 0\n",
    "\n",
    "            # Creat output string and write to ANTz Node File\n",
    "            outputstring = str(id) + \",\" + str(type) + \",\" + str(data) + \",\" + str(selected) + \",\" + str(parent_id) + \",\" + str(branch_level) + \",\" + str(child_id) + \",\" + str(child_index) + \",\" + str(palette_id) + \",\" + str(ch_input_id) + \",\" + str(ch_output_id) + \",\" + str(ch_last_updated) + \",\" + str(average) + \",\" + str(samples) + \",\" + str(aux_a_x) + \",\" + str(aux_a_y) + \",\" + str(aux_a_z) + \",\" + str(aux_b_x) + \",\" + str(aux_b_y) + \",\" + str(aux_b_z) + \",\" + str(color_shift) + \",\" + str(rotate_vec_x) + \",\" + str(rotate_vec_y) + \",\" + str(rotate_vec_z) + \",\" + str(rotate_vec_s) + \",\" + str(scale_x) + \",\" + str(scale_y) + \",\" + str(scale_z) + \",\" + str(translate_x) + \",\" + str(translate_y) + \",\" + str(translate_z) + \",\" + str(tag_offset_x) + \",\" + str(tag_offset_y) + \",\" + str(tag_offset_z) + \",\" + str(rotate_rate_x) + \",\" + str(rotate_rate_y) + \",\" + str(rotate_rate_z) + \",\" + str(rotate_x) + \",\" + str(rotate_y) + \",\" + str(rotate_z) + \",\" + str(scale_rate_x) + \",\" + str(scale_rate_y) + \",\" + str(scale_rate_z) + \",\" + str(translate_rate_x) + \",\" + str(translate_rate_y) + \",\" + str(translate_rate_z) + \",\" + str(translate_vec_x) + \",\" + str(translate_vec_y) + \",\" + str(translate_vec_z) + \",\" + str(shader) + \",\" + str(geometry) + \",\" + str(line_width) + \",\" + str(point_size) + \",\" + str(ratio) + \",\" + str(color_index) + \",\" + str(color_r) + \",\" + str(color_g) + \",\" + str(color_b) + \",\" + str(color_a) + \",\" + str(color_fade) + \",\" + str(texture_id) + \",\" + str(hide) + \",\" + str(freeze) + \",\" + str(topo) + \",\" + str(facet) + \",\" + str(auto_zoom_x) + \",\" + str(auto_zoom_y) + \",\" + str(auto_zoom_z) + \",\" + str(trigger_hi_x) + \",\" + str(trigger_hi_y) + \",\" + str(trigger_hi_z) + \",\" + str(trigger_lo_x) + \",\" + str(trigger_lo_y) + \",\" + str(trigger_lo_z) + \",\" + str(set_hi_x) + \",\" + str(set_hi_y) + \",\" + str(set_hi_z) + \",\" + str(set_lo_x) + \",\" + str(set_lo_y) + \",\" + str(set_lo_z) + \",\" + str(proximity_x) + \",\" + str(proximity_y) + \",\" + str(proximity_z) + \",\" + str(proximity_mode_x) + \",\" + str(proximity_mode_y) + \",\" + str(proximity_mode_z) + \",\" + str(segments_x) + \",\" + str(segments_y) + \",\" + str(segments_z) + \",\" + str(tag_mode) + \",\" + str(format_id) + \",\" + str(table_id) + \",\" + str(record_id) + \",\" + str(size) + \"\\n\"\n",
    "            fout.write(outputstring)\n",
    "\n",
    "            level2objectid = id \n",
    "            numlevel3toroids = row5['wcal_chunk']\n",
    "            for ii in range(numlevel3toroids):\n",
    "                id += 1\n",
    "                data = id\n",
    "                type = 5\n",
    "                parent_id = level2objectid\n",
    "                selected = 0\n",
    "                branch_level = 3\n",
    "                child_id = id\n",
    "                translate_x = ((190/numlevel3toroids)*ii)+(-95)\n",
    "                translate_y = ((20/numlevel3toroids)*ii)+(20)\n",
    "                translate_z = 60\n",
    "                color_r = 242\n",
    "                color_g = 75\n",
    "                color_b = 75\n",
    "                ratio = .1\n",
    "                scale_x = 1 \n",
    "                scale_y = scale_x\n",
    "                scale_z = scale_x\n",
    "                geometry = 16\n",
    "                topo = 5\n",
    "                line_width= 1\n",
    "                color_a = 255\n",
    "                record_id = id \n",
    "                texture_id= 0\n",
    "\n",
    "                # Creat output string and write to ANTz Node File\n",
    "                outputstring = str(id) + \",\" + str(type) + \",\" + str(data) + \",\" + str(selected) + \",\" + str(parent_id) + \",\" + str(branch_level) + \",\" + str(child_id) + \",\" + str(child_index) + \",\" + str(palette_id) + \",\" + str(ch_input_id) + \",\" + str(ch_output_id) + \",\" + str(ch_last_updated) + \",\" + str(average) + \",\" + str(samples) + \",\" + str(aux_a_x) + \",\" + str(aux_a_y) + \",\" + str(aux_a_z) + \",\" + str(aux_b_x) + \",\" + str(aux_b_y) + \",\" + str(aux_b_z) + \",\" + str(color_shift) + \",\" + str(rotate_vec_x) + \",\" + str(rotate_vec_y) + \",\" + str(rotate_vec_z) + \",\" + str(rotate_vec_s) + \",\" + str(scale_x) + \",\" + str(scale_y) + \",\" + str(scale_z) + \",\" + str(translate_x) + \",\" + str(translate_y) + \",\" + str(translate_z) + \",\" + str(tag_offset_x) + \",\" + str(tag_offset_y) + \",\" + str(tag_offset_z) + \",\" + str(rotate_rate_x) + \",\" + str(rotate_rate_y) + \",\" + str(rotate_rate_z) + \",\" + str(rotate_x) + \",\" + str(rotate_y) + \",\" + str(rotate_z) + \",\" + str(scale_rate_x) + \",\" + str(scale_rate_y) + \",\" + str(scale_rate_z) + \",\" + str(translate_rate_x) + \",\" + str(translate_rate_y) + \",\" + str(translate_rate_z) + \",\" + str(translate_vec_x) + \",\" + str(translate_vec_y) + \",\" + str(translate_vec_z) + \",\" + str(shader) + \",\" + str(geometry) + \",\" + str(line_width) + \",\" + str(point_size) + \",\" + str(ratio) + \",\" + str(color_index) + \",\" + str(color_r) + \",\" + str(color_g) + \",\" + str(color_b) + \",\" + str(color_a) + \",\" + str(color_fade) + \",\" + str(texture_id) + \",\" + str(hide) + \",\" + str(freeze) + \",\" + str(topo) + \",\" + str(facet) + \",\" + str(auto_zoom_x) + \",\" + str(auto_zoom_y) + \",\" + str(auto_zoom_z) + \",\" + str(trigger_hi_x) + \",\" + str(trigger_hi_y) + \",\" + str(trigger_hi_z) + \",\" + str(trigger_lo_x) + \",\" + str(trigger_lo_y) + \",\" + str(trigger_lo_z) + \",\" + str(set_hi_x) + \",\" + str(set_hi_y) + \",\" + str(set_hi_z) + \",\" + str(set_lo_x) + \",\" + str(set_lo_y) + \",\" + str(set_lo_z) + \",\" + str(proximity_x) + \",\" + str(proximity_y) + \",\" + str(proximity_z) + \",\" + str(proximity_mode_x) + \",\" + str(proximity_mode_y) + \",\" + str(proximity_mode_z) + \",\" + str(segments_x) + \",\" + str(segments_y) + \",\" + str(segments_z) + \",\" + str(tag_mode) + \",\" + str(format_id) + \",\" + str(table_id) + \",\" + str(record_id) + \",\" + str(size) + \"\\n\"\n",
    "                fout.write(outputstring)\n",
    "                            \n",
    "        #nn are survey glyphs\n",
    "        for i6, row6 in df6.loc[df6['date'] == row['date']].iterrows():\n",
    "            id += 1\n",
    "            data = id\n",
    "            type = 5\n",
    "            parent_id = level1objectid\n",
    "            selected = 0\n",
    "            branch_level = 2\n",
    "            child_id = id\n",
    "            translate_x = 90\n",
    "            translate_y = row6['y6']\n",
    "            translate_z = 3\n",
    "            scale_x = 26 \n",
    "            scale_y = 8\n",
    "            scale_z = 8\n",
    "            ratio = .1\n",
    "            line_width= 1\n",
    "            rotate_x = 0\n",
    "            rotate_y = 0\n",
    "            geometry = 1\n",
    "            topo = 1\n",
    "            if row6['work_type'] == 'admin':\n",
    "                color_r = 217\n",
    "                color_g = 201\n",
    "                color_b = 173\n",
    "            elif row6['work_type'] == 'creative_generative':\n",
    "                color_r = 242\n",
    "                color_g = 92\n",
    "                color_b = 132\n",
    "            elif row6['work_type'] == 'with_people':\n",
    "                color_r = 4\n",
    "                color_g = 191\n",
    "                color_b = 157\n",
    "            elif row6['work_type'] == 'fucking_off':\n",
    "                color_r = 242\n",
    "                color_g = 159\n",
    "                color_b = 5\n",
    "            elif row6['work_type'] == 'consuming_learning_strategy':\n",
    "                color_r = 191\n",
    "                color_g = 73\n",
    "                color_b = 150\n",
    "            elif row6['work_type'] == 'consuming_learing_strategy':\n",
    "                color_r = 191\n",
    "                color_g = 73\n",
    "                color_b = 150\n",
    "            color_a = 255\n",
    "            record_id = id \n",
    "            texture_id= 0\n",
    "            \n",
    "            # Creat output string and write to ANTz Node File\n",
    "            outputstring = str(id) + \",\" + str(type) + \",\" + str(data) + \",\" + str(selected) + \",\" + str(parent_id) + \",\" + str(branch_level) + \",\" + str(child_id) + \",\" + str(child_index) + \",\" + str(palette_id) + \",\" + str(ch_input_id) + \",\" + str(ch_output_id) + \",\" + str(ch_last_updated) + \",\" + str(average) + \",\" + str(samples) + \",\" + str(aux_a_x) + \",\" + str(aux_a_y) + \",\" + str(aux_a_z) + \",\" + str(aux_b_x) + \",\" + str(aux_b_y) + \",\" + str(aux_b_z) + \",\" + str(color_shift) + \",\" + str(rotate_vec_x) + \",\" + str(rotate_vec_y) + \",\" + str(rotate_vec_z) + \",\" + str(rotate_vec_s) + \",\" + str(scale_x) + \",\" + str(scale_y) + \",\" + str(scale_z) + \",\" + str(translate_x) + \",\" + str(translate_y) + \",\" + str(translate_z) + \",\" + str(tag_offset_x) + \",\" + str(tag_offset_y) + \",\" + str(tag_offset_z) + \",\" + str(rotate_rate_x) + \",\" + str(rotate_rate_y) + \",\" + str(rotate_rate_z) + \",\" + str(rotate_x) + \",\" + str(rotate_y) + \",\" + str(rotate_z) + \",\" + str(scale_rate_x) + \",\" + str(scale_rate_y) + \",\" + str(scale_rate_z) + \",\" + str(translate_rate_x) + \",\" + str(translate_rate_y) + \",\" + str(translate_rate_z) + \",\" + str(translate_vec_x) + \",\" + str(translate_vec_y) + \",\" + str(translate_vec_z) + \",\" + str(shader) + \",\" + str(geometry) + \",\" + str(line_width) + \",\" + str(point_size) + \",\" + str(ratio) + \",\" + str(color_index) + \",\" + str(color_r) + \",\" + str(color_g) + \",\" + str(color_b) + \",\" + str(color_a) + \",\" + str(color_fade) + \",\" + str(texture_id) + \",\" + str(hide) + \",\" + str(freeze) + \",\" + str(topo) + \",\" + str(facet) + \",\" + str(auto_zoom_x) + \",\" + str(auto_zoom_y) + \",\" + str(auto_zoom_z) + \",\" + str(trigger_hi_x) + \",\" + str(trigger_hi_y) + \",\" + str(trigger_hi_z) + \",\" + str(trigger_lo_x) + \",\" + str(trigger_lo_y) + \",\" + str(trigger_lo_z) + \",\" + str(set_hi_x) + \",\" + str(set_hi_y) + \",\" + str(set_hi_z) + \",\" + str(set_lo_x) + \",\" + str(set_lo_y) + \",\" + str(set_lo_z) + \",\" + str(proximity_x) + \",\" + str(proximity_y) + \",\" + str(proximity_z) + \",\" + str(proximity_mode_x) + \",\" + str(proximity_mode_y) + \",\" + str(proximity_mode_z) + \",\" + str(segments_x) + \",\" + str(segments_y) + \",\" + str(segments_z) + \",\" + str(tag_mode) + \",\" + str(format_id) + \",\" + str(table_id) + \",\" + str(record_id) + \",\" + str(size) + \"\\n\"\n",
    "            fout.write(outputstring)\n",
    "\n",
    "            level2objectid = id \n",
    "            numlevel3toroids = 3\n",
    "            for ss in range(numlevel3toroids):\n",
    "                id += 1\n",
    "                data = id\n",
    "                type = 5\n",
    "                parent_id = level2objectid\n",
    "                selected = 0\n",
    "                branch_level = 3\n",
    "                child_id = id\n",
    "                if ss == 0:\n",
    "                    translate_x = -140\n",
    "                    translate_y = -7\n",
    "                    translate_z = row6['z_gage']\n",
    "                    color_r = 245\n",
    "                    color_g = 213\n",
    "                    color_b = 60\n",
    "                if ss == 1:\n",
    "                    translate_x = 0\n",
    "                    translate_y = -6\n",
    "                    translate_z = row6['z_focus']\n",
    "                    color_r = 166\n",
    "                    color_g = 46\n",
    "                    color_b = 137\n",
    "                if ss == 2:\n",
    "                    translate_x = 131\n",
    "                    translate_y = 20\n",
    "                    translate_z = row6['z_comp']\n",
    "                    color_r = 55\n",
    "                    color_g = 166\n",
    "                    color_b = 164\n",
    "                ratio = .1\n",
    "                scale_x = .44 \n",
    "                scale_y = 1.3\n",
    "                scale_z = .36\n",
    "                geometry = 16\n",
    "                topo = 5\n",
    "                line_width= 1\n",
    "                color_a = 255\n",
    "                record_id = id\n",
    "                facet = 5\n",
    "                texture_id= 0\n",
    "\n",
    "                # Creat output string and write to ANTz Node File\n",
    "                outputstring = str(id) + \",\" + str(type) + \",\" + str(data) + \",\" + str(selected) + \",\" + str(parent_id) + \",\" + str(branch_level) + \",\" + str(child_id) + \",\" + str(child_index) + \",\" + str(palette_id) + \",\" + str(ch_input_id) + \",\" + str(ch_output_id) + \",\" + str(ch_last_updated) + \",\" + str(average) + \",\" + str(samples) + \",\" + str(aux_a_x) + \",\" + str(aux_a_y) + \",\" + str(aux_a_z) + \",\" + str(aux_b_x) + \",\" + str(aux_b_y) + \",\" + str(aux_b_z) + \",\" + str(color_shift) + \",\" + str(rotate_vec_x) + \",\" + str(rotate_vec_y) + \",\" + str(rotate_vec_z) + \",\" + str(rotate_vec_s) + \",\" + str(scale_x) + \",\" + str(scale_y) + \",\" + str(scale_z) + \",\" + str(translate_x) + \",\" + str(translate_y) + \",\" + str(translate_z) + \",\" + str(tag_offset_x) + \",\" + str(tag_offset_y) + \",\" + str(tag_offset_z) + \",\" + str(rotate_rate_x) + \",\" + str(rotate_rate_y) + \",\" + str(rotate_rate_z) + \",\" + str(rotate_x) + \",\" + str(rotate_y) + \",\" + str(rotate_z) + \",\" + str(scale_rate_x) + \",\" + str(scale_rate_y) + \",\" + str(scale_rate_z) + \",\" + str(translate_rate_x) + \",\" + str(translate_rate_y) + \",\" + str(translate_rate_z) + \",\" + str(translate_vec_x) + \",\" + str(translate_vec_y) + \",\" + str(translate_vec_z) + \",\" + str(shader) + \",\" + str(geometry) + \",\" + str(line_width) + \",\" + str(point_size) + \",\" + str(ratio) + \",\" + str(color_index) + \",\" + str(color_r) + \",\" + str(color_g) + \",\" + str(color_b) + \",\" + str(color_a) + \",\" + str(color_fade) + \",\" + str(texture_id) + \",\" + str(hide) + \",\" + str(freeze) + \",\" + str(topo) + \",\" + str(facet) + \",\" + str(auto_zoom_x) + \",\" + str(auto_zoom_y) + \",\" + str(auto_zoom_z) + \",\" + str(trigger_hi_x) + \",\" + str(trigger_hi_y) + \",\" + str(trigger_hi_z) + \",\" + str(trigger_lo_x) + \",\" + str(trigger_lo_y) + \",\" + str(trigger_lo_z) + \",\" + str(set_hi_x) + \",\" + str(set_hi_y) + \",\" + str(set_hi_z) + \",\" + str(set_lo_x) + \",\" + str(set_lo_y) + \",\" + str(set_lo_z) + \",\" + str(proximity_x) + \",\" + str(proximity_y) + \",\" + str(proximity_z) + \",\" + str(proximity_mode_x) + \",\" + str(proximity_mode_y) + \",\" + str(proximity_mode_z) + \",\" + str(segments_x) + \",\" + str(segments_y) + \",\" + str(segments_z) + \",\" + str(tag_mode) + \",\" + str(format_id) + \",\" + str(table_id) + \",\" + str(record_id) + \",\" + str(size) + \"\\n\"\n",
    "                fout.write(outputstring)\n",
    "                    \n",
    "        numlevel2toroids = 1\n",
    "        # bedtime start glyph\n",
    "        for k in range(numlevel2toroids):\n",
    "            id += 1\n",
    "            data = id\n",
    "            type = 5\n",
    "            parent_id = level1objectid\n",
    "            selected = 0\n",
    "            branch_level = 2\n",
    "            child_id = id\n",
    "            translate_x = -115\n",
    "            translate_y = row['bedtime_start']\n",
    "            translate_z = 3\n",
    "            scale_x = 5.5 \n",
    "            scale_y = scale_x\n",
    "            scale_z = scale_x\n",
    "            ratio = .1\n",
    "            line_width= 1\n",
    "            geometry = 9\n",
    "            topo = 2\n",
    "            color_r = 82\n",
    "            color_g = 16\n",
    "            color_b = 168\n",
    "            color_a = 255\n",
    "            record_id = id \n",
    "            facet = 0\n",
    "            texture_id= 0\n",
    "\n",
    "            # Creat output string and write to ANTz Node File\n",
    "            outputstring = str(id) + \",\" + str(type) + \",\" + str(data) + \",\" + str(selected) + \",\" + str(parent_id) + \",\" + str(branch_level) + \",\" + str(child_id) + \",\" + str(child_index) + \",\" + str(palette_id) + \",\" + str(ch_input_id) + \",\" + str(ch_output_id) + \",\" + str(ch_last_updated) + \",\" + str(average) + \",\" + str(samples) + \",\" + str(aux_a_x) + \",\" + str(aux_a_y) + \",\" + str(aux_a_z) + \",\" + str(aux_b_x) + \",\" + str(aux_b_y) + \",\" + str(aux_b_z) + \",\" + str(color_shift) + \",\" + str(rotate_vec_x) + \",\" + str(rotate_vec_y) + \",\" + str(rotate_vec_z) + \",\" + str(rotate_vec_s) + \",\" + str(scale_x) + \",\" + str(scale_y) + \",\" + str(scale_z) + \",\" + str(translate_x) + \",\" + str(translate_y) + \",\" + str(translate_z) + \",\" + str(tag_offset_x) + \",\" + str(tag_offset_y) + \",\" + str(tag_offset_z) + \",\" + str(rotate_rate_x) + \",\" + str(rotate_rate_y) + \",\" + str(rotate_rate_z) + \",\" + str(rotate_x) + \",\" + str(rotate_y) + \",\" + str(rotate_z) + \",\" + str(scale_rate_x) + \",\" + str(scale_rate_y) + \",\" + str(scale_rate_z) + \",\" + str(translate_rate_x) + \",\" + str(translate_rate_y) + \",\" + str(translate_rate_z) + \",\" + str(translate_vec_x) + \",\" + str(translate_vec_y) + \",\" + str(translate_vec_z) + \",\" + str(shader) + \",\" + str(geometry) + \",\" + str(line_width) + \",\" + str(point_size) + \",\" + str(ratio) + \",\" + str(color_index) + \",\" + str(color_r) + \",\" + str(color_g) + \",\" + str(color_b) + \",\" + str(color_a) + \",\" + str(color_fade) + \",\" + str(texture_id) + \",\" + str(hide) + \",\" + str(freeze) + \",\" + str(topo) + \",\" + str(facet) + \",\" + str(auto_zoom_x) + \",\" + str(auto_zoom_y) + \",\" + str(auto_zoom_z) + \",\" + str(trigger_hi_x) + \",\" + str(trigger_hi_y) + \",\" + str(trigger_hi_z) + \",\" + str(trigger_lo_x) + \",\" + str(trigger_lo_y) + \",\" + str(trigger_lo_z) + \",\" + str(set_hi_x) + \",\" + str(set_hi_y) + \",\" + str(set_hi_z) + \",\" + str(set_lo_x) + \",\" + str(set_lo_y) + \",\" + str(set_lo_z) + \",\" + str(proximity_x) + \",\" + str(proximity_y) + \",\" + str(proximity_z) + \",\" + str(proximity_mode_x) + \",\" + str(proximity_mode_y) + \",\" + str(proximity_mode_z) + \",\" + str(segments_x) + \",\" + str(segments_y) + \",\" + str(segments_z) + \",\" + str(tag_mode) + \",\" + str(format_id) + \",\" + str(table_id) + \",\" + str(record_id) + \",\" + str(size) + \"\\n\"\n",
    "            fout.write(outputstring)"
   ]
  },
  {
   "cell_type": "code",
   "execution_count": null,
   "metadata": {
    "collapsed": true
   },
   "outputs": [],
   "source": []
  }
 ],
 "metadata": {
  "kernelspec": {
   "display_name": "Python 3",
   "language": "python",
   "name": "python3"
  },
  "language_info": {
   "codemirror_mode": {
    "name": "ipython",
    "version": 3
   },
   "file_extension": ".py",
   "mimetype": "text/x-python",
   "name": "python",
   "nbconvert_exporter": "python",
   "pygments_lexer": "ipython3",
   "version": "3.6.3"
  }
 },
 "nbformat": 4,
 "nbformat_minor": 2
}
