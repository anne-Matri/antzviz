{
 "cells": [
  {
   "cell_type": "code",
   "execution_count": 1,
   "metadata": {},
   "outputs": [],
   "source": [
    "import datetime\n",
    "import os\n",
    "import sys\n",
    "import math\n",
    "import pandas as pd\n",
    "import numpy as np\n",
    "from pprint import pprint\n",
    "import json\n",
    "import requests\n",
    "import datetime\n",
    "from datetime import date\n",
    "import os\n",
    "from pandas.io.json import json_normalize"
   ]
  },
  {
   "cell_type": "code",
   "execution_count": 2,
   "metadata": {},
   "outputs": [],
   "source": [
    "# input for file naming convention\n",
    "initial_value = \"Anne_v2\""
   ]
  },
  {
   "cell_type": "code",
   "execution_count": 3,
   "metadata": {},
   "outputs": [],
   "source": [
    "# raw data file naming conventions\n",
    "# Anne file:   oura_2020-08-19_AG\n",
    "# Janice file:  oura_2020-08-24_Janice\n",
    "# Mike: MK_ouraraw_2020-07-22\n",
    "# Beth: BF_ouradata\n",
    "\n",
    "#v2: shift root node rotate_x = 90, branch level 1 rod translate_x = 270"
   ]
  },
  {
   "cell_type": "code",
   "execution_count": 4,
   "metadata": {},
   "outputs": [
    {
     "ename": "FileNotFoundError",
     "evalue": "[Errno 2] No such file or directory: 'oura_2020-08-19_AG.json'",
     "output_type": "error",
     "traceback": [
      "\u001b[0;31m---------------------------------------------------------------------------\u001b[0m",
      "\u001b[0;31mFileNotFoundError\u001b[0m                         Traceback (most recent call last)",
      "\u001b[0;32m<ipython-input-4-1b0ca31422b2>\u001b[0m in \u001b[0;36m<module>\u001b[0;34m\u001b[0m\n\u001b[0;32m----> 1\u001b[0;31m \u001b[0;32mwith\u001b[0m \u001b[0mopen\u001b[0m\u001b[0;34m(\u001b[0m\u001b[0;34m'oura_2020-08-19_AG.json'\u001b[0m\u001b[0;34m)\u001b[0m \u001b[0;32mas\u001b[0m \u001b[0mjson_data\u001b[0m\u001b[0;34m:\u001b[0m\u001b[0;34m\u001b[0m\u001b[0;34m\u001b[0m\u001b[0m\n\u001b[0m\u001b[1;32m      2\u001b[0m     \u001b[0mdataJ\u001b[0m \u001b[0;34m=\u001b[0m \u001b[0mjson\u001b[0m\u001b[0;34m.\u001b[0m\u001b[0mload\u001b[0m\u001b[0;34m(\u001b[0m\u001b[0mjson_data\u001b[0m\u001b[0;34m)\u001b[0m\u001b[0;34m\u001b[0m\u001b[0;34m\u001b[0m\u001b[0m\n\u001b[1;32m      3\u001b[0m \u001b[0;34m\u001b[0m\u001b[0m\n\u001b[1;32m      4\u001b[0m \u001b[0msleep\u001b[0m \u001b[0;34m=\u001b[0m \u001b[0mjson_normalize\u001b[0m\u001b[0;34m(\u001b[0m\u001b[0mdataJ\u001b[0m\u001b[0;34m,\u001b[0m \u001b[0;34m'sleep'\u001b[0m\u001b[0;34m)\u001b[0m\u001b[0;34m\u001b[0m\u001b[0;34m\u001b[0m\u001b[0m\n\u001b[1;32m      5\u001b[0m \u001b[0mdfs\u001b[0m \u001b[0;34m=\u001b[0m \u001b[0mpd\u001b[0m\u001b[0;34m.\u001b[0m\u001b[0mDataFrame\u001b[0m\u001b[0;34m(\u001b[0m\u001b[0msleep\u001b[0m\u001b[0;34m)\u001b[0m\u001b[0;34m\u001b[0m\u001b[0;34m\u001b[0m\u001b[0m\n",
      "\u001b[0;31mFileNotFoundError\u001b[0m: [Errno 2] No such file or directory: 'oura_2020-08-19_AG.json'"
     ]
    }
   ],
   "source": [
    "with open('oura_2020-08-19_AG.json') as json_data:\n",
    "    dataJ = json.load(json_data)\n",
    "    \n",
    "sleep = json_normalize(dataJ, 'sleep')\n",
    "dfs = pd.DataFrame(sleep)\n",
    "\n",
    "readiness = json_normalize(dataJ, 'readiness')\n",
    "dfr = pd.DataFrame(readiness)\n",
    "\n",
    "activity = json_normalize(dataJ, 'activity')\n",
    "dfa = pd.DataFrame(activity)"
   ]
  },
  {
   "cell_type": "code",
   "execution_count": null,
   "metadata": {
    "collapsed": true
   },
   "outputs": [],
   "source": [
    "df = dfa.merge(dfr, on='summary_date')"
   ]
  },
  {
   "cell_type": "code",
   "execution_count": null,
   "metadata": {
    "collapsed": true
   },
   "outputs": [],
   "source": [
    "df = df.merge(dfs, on = 'summary_date')\n",
    "df.rename( columns={'Unnamed: 0':'index'}, inplace=True )"
   ]
  },
  {
   "cell_type": "markdown",
   "metadata": {},
   "source": [
    "## Adjust selection of most dates if less than 25 in data set"
   ]
  },
  {
   "cell_type": "code",
   "execution_count": null,
   "metadata": {},
   "outputs": [],
   "source": [
    "df = df.iloc[-42:]\n",
    "df.index = np.arange(len(df))\n",
    "df.shape\n",
    "#df.columns.values.tolist()"
   ]
  },
  {
   "cell_type": "markdown",
   "metadata": {},
   "source": [
    "# Section finding earliest sleep time & number of 5 min increments"
   ]
  },
  {
   "cell_type": "code",
   "execution_count": null,
   "metadata": {},
   "outputs": [],
   "source": [
    "df['bedtime_start'] = pd.to_datetime(df['bedtime_start'])\n",
    "# ask user's timezone\n",
    "df['bedtime_start'] = df['bedtime_start'].dt.tz_localize('UTC').dt.tz_convert('US/Pacific')\n",
    "print(df['bedtime_start'].head(2))"
   ]
  },
  {
   "cell_type": "code",
   "execution_count": null,
   "metadata": {
    "collapsed": true
   },
   "outputs": [],
   "source": [
    "gg = len(df.index)\n",
    "hh = np.arange(0, gg, 1)"
   ]
  },
  {
   "cell_type": "code",
   "execution_count": null,
   "metadata": {
    "collapsed": true
   },
   "outputs": [],
   "source": [
    "# set up new dataframe with bedtime_start to get only those values prior to midnight\n",
    "    # to find earliest sleep\n",
    "ii = df['bedtime_start'].tolist()\n",
    "dft = pd.DataFrame({'A': hh, 'B': ii})\n",
    "dft = dft.set_index(pd.DatetimeIndex(ii))\n",
    "dft.index = dft.index.tz_localize(None)"
   ]
  },
  {
   "cell_type": "code",
   "execution_count": null,
   "metadata": {
    "collapsed": true
   },
   "outputs": [],
   "source": [
    "dft = dft.between_time(start_time = '16:00:00', end_time = '23:59:59')\n",
    "#print(dft)"
   ]
  },
  {
   "cell_type": "code",
   "execution_count": null,
   "metadata": {
    "collapsed": true
   },
   "outputs": [],
   "source": [
    "dft['BB'] = [d.time() for d in dft['B']]"
   ]
  },
  {
   "cell_type": "code",
   "execution_count": null,
   "metadata": {},
   "outputs": [],
   "source": [
    "#earlist bedtime of this person's oura data in this export\n",
    "mm = str(dft['BB'].min())\n",
    "print(mm)"
   ]
  },
  {
   "cell_type": "code",
   "execution_count": null,
   "metadata": {
    "collapsed": true
   },
   "outputs": [],
   "source": [
    "#recreate dft to include all times\n",
    "ii = df['bedtime_start'].tolist()\n",
    "dft = pd.DataFrame({'A': hh, 'B': ii})\n",
    "dft = dft.set_index(pd.DatetimeIndex(ii))\n",
    "dft.index = dft.index.tz_localize(None)\n",
    "dft['BB'] = [d.time() for d in dft['B']]"
   ]
  },
  {
   "cell_type": "code",
   "execution_count": null,
   "metadata": {
    "collapsed": true
   },
   "outputs": [],
   "source": [
    "# column 'BBtsmin' is the timestamp of the unique earliest bedtime for this json export\n",
    "timestamp_bedtime_start = (pd.to_datetime('2020-01-01' + ' ' + str(mm)))\n",
    "dft['BBtsmin'] = timestamp_bedtime_start\n",
    "dft['BBtsmin'] = (dft['BBtsmin'].astype(int) / 10**9)"
   ]
  },
  {
   "cell_type": "code",
   "execution_count": null,
   "metadata": {
    "collapsed": true
   },
   "outputs": [],
   "source": [
    "llist = []\n",
    "for index, row in dft.iterrows():\n",
    "    if (row['BB'].hour > 12):\n",
    "        # random day + 1\n",
    "        x = '2020-01-01' + ' ' + str(row['BB'])\n",
    "        llist.append(x)\n",
    "    elif (row['BB'].hour < 12):\n",
    "        # random day\n",
    "        #rr = pd.to_datetime['2020-01-01' + ' ' + str(row['BB'])]\n",
    "        x = x = '2020-01-02' + ' ' + str(row['BB'])\n",
    "        llist.append(x)\n"
   ]
  },
  {
   "cell_type": "code",
   "execution_count": null,
   "metadata": {
    "collapsed": true
   },
   "outputs": [],
   "source": [
    "# column 'BB' is the time value of each day's bedtime start, ie 9:14pm\n",
    "# column 'BBfull' is the datetime value using random day plus bedtime start\n",
    "dft['BBfull'] = pd.to_datetime(llist)"
   ]
  },
  {
   "cell_type": "code",
   "execution_count": null,
   "metadata": {
    "collapsed": true
   },
   "outputs": [],
   "source": [
    "# timestamp of the random date + real bedtime start to get difference between earliest start\n",
    "dft['BBts'] = (dft['BBfull'].astype(int) / 10**9) \n",
    "#print(dft[['BBts', 'BBtsmin', 'BBfull']])"
   ]
  },
  {
   "cell_type": "code",
   "execution_count": null,
   "metadata": {},
   "outputs": [],
   "source": [
    "# BBdelta is the column with # of 5 min increments that need to shift to the right \n",
    "# to align rows with earliest sleep time\n",
    "dft['BBdelta'] = (dft['BBts']/300) - (dft['BBtsmin']/300)\n",
    "dft['BBdeltaint'] = dft['BBdelta'].round(0).astype('Int64')\n",
    "print(dft['BBdeltaint'].head(1))"
   ]
  },
  {
   "cell_type": "code",
   "execution_count": null,
   "metadata": {
    "collapsed": true
   },
   "outputs": [],
   "source": [
    "# column 'daystart' is the timestamp of the unique earliest day start for all json exports\n",
    "timestamp_day_start = (pd.to_datetime('2020-01-01' + ' ' + '04:00:00'))\n",
    "dft['daystart'] = timestamp_day_start\n",
    "dft['daystart'] = (dft['daystart'].astype(int) / 10**9)"
   ]
  },
  {
   "cell_type": "code",
   "execution_count": null,
   "metadata": {},
   "outputs": [],
   "source": [
    "# column 'aspace' is the number of 5 min increments that need to be added to left of column 0\n",
    "dft['aspace'] = (dft['BBtsmin']/300) - (dft['daystart']/300)\n",
    "dft['aspace'] = dft['aspace'].round(0).astype('Int64')\n",
    "print(dft['aspace'].head(1))"
   ]
  },
  {
   "cell_type": "code",
   "execution_count": null,
   "metadata": {},
   "outputs": [],
   "source": [
    "dft = dft.reset_index()\n",
    "dft = dft.drop(['index', 'A', 'B', 'BB', 'BBtsmin', 'BBfull', 'BBts', 'BBdelta', 'daystart'], axis = 1)\n",
    "print(dft.head(1))"
   ]
  },
  {
   "cell_type": "code",
   "execution_count": null,
   "metadata": {
    "collapsed": true
   },
   "outputs": [],
   "source": [
    "BBdeltaint = dft['BBdeltaint']"
   ]
  },
  {
   "cell_type": "code",
   "execution_count": null,
   "metadata": {
    "collapsed": true
   },
   "outputs": [],
   "source": [
    "aivalue = dft['aspace'][0]\n",
    "aivalue = int(aivalue)"
   ]
  },
  {
   "cell_type": "code",
   "execution_count": null,
   "metadata": {},
   "outputs": [],
   "source": [
    "print(aivalue)"
   ]
  },
  {
   "cell_type": "code",
   "execution_count": null,
   "metadata": {
    "collapsed": true
   },
   "outputs": [],
   "source": []
  },
  {
   "cell_type": "markdown",
   "metadata": {},
   "source": [
    "## Weekday code added to original df"
   ]
  },
  {
   "cell_type": "code",
   "execution_count": null,
   "metadata": {
    "collapsed": true
   },
   "outputs": [],
   "source": [
    "df['day_start'] = pd.to_datetime(df['day_start'], utc=True)\n",
    "#print(df.day_start.dtype)  # datetime64[ns, UTC]\n",
    "df['weekday'] = df['day_start'].dt.dayofweek\n",
    "#print(df['weekday'])\n",
    "weekday = df['weekday']"
   ]
  },
  {
   "cell_type": "markdown",
   "metadata": {},
   "source": [
    "##  Converting [activity] met_5min parameter"
   ]
  },
  {
   "cell_type": "code",
   "execution_count": null,
   "metadata": {
    "collapsed": true
   },
   "outputs": [],
   "source": [
    "f = lambda x: 'met_{}'.format(x+1)"
   ]
  },
  {
   "cell_type": "code",
   "execution_count": null,
   "metadata": {
    "collapsed": true
   },
   "outputs": [],
   "source": [
    "dfmet = pd.DataFrame(df.met_1min.values.tolist(), df.index, dtype=object).fillna('').rename(columns=f)"
   ]
  },
  {
   "cell_type": "code",
   "execution_count": null,
   "metadata": {},
   "outputs": [],
   "source": [
    "#dfmet.head()\n",
    "#dfmet.isnull().sum().sum()\n",
    "length = len(dfmet.index)\n",
    "print(length)"
   ]
  },
  {
   "cell_type": "markdown",
   "metadata": {},
   "source": [
    "## Converting [sleep] hr_5min parameter"
   ]
  },
  {
   "cell_type": "code",
   "execution_count": null,
   "metadata": {
    "collapsed": true
   },
   "outputs": [],
   "source": [
    "l = lambda x: 'hr_{}'.format(x+1)"
   ]
  },
  {
   "cell_type": "code",
   "execution_count": null,
   "metadata": {
    "collapsed": true
   },
   "outputs": [],
   "source": [
    "dfhr = pd.DataFrame(df.hr_5min.values.tolist(), df.index, dtype=object).fillna(0).rename(columns=l)"
   ]
  },
  {
   "cell_type": "code",
   "execution_count": null,
   "metadata": {},
   "outputs": [],
   "source": [
    "dfhr.head(2)\n",
    "dfhr.shape\n",
    "#dfhr.isnull().sum().sum()"
   ]
  },
  {
   "cell_type": "code",
   "execution_count": null,
   "metadata": {
    "collapsed": true
   },
   "outputs": [],
   "source": [
    "dfhr = dfhr.join(BBdeltaint)"
   ]
  },
  {
   "cell_type": "code",
   "execution_count": null,
   "metadata": {
    "collapsed": true
   },
   "outputs": [],
   "source": [
    "for index, row in dfhr.iterrows():\n",
    "    dfhr.loc[index,:] = dfhr.loc[index,:].shift(periods = row['BBdeltaint']).fillna(0)"
   ]
  },
  {
   "cell_type": "code",
   "execution_count": null,
   "metadata": {
    "collapsed": true
   },
   "outputs": [],
   "source": [
    "newcolshr = np.arange(0, aivalue, 1)\n",
    "nclhr = [str('hradjust_') + str(item) for item in newcolshr]"
   ]
  },
  {
   "cell_type": "code",
   "execution_count": null,
   "metadata": {
    "collapsed": true
   },
   "outputs": [],
   "source": [
    "dfhr = dfhr.reindex(columns =  nclhr + dfhr.columns.tolist()).fillna(0)"
   ]
  },
  {
   "cell_type": "code",
   "execution_count": null,
   "metadata": {
    "collapsed": true
   },
   "outputs": [],
   "source": [
    "hrlen = len(dfhr.columns)"
   ]
  },
  {
   "cell_type": "code",
   "execution_count": null,
   "metadata": {
    "collapsed": true
   },
   "outputs": [],
   "source": [
    "nclist2 = np.arange(0, hrlen, 1)\n",
    "ncl2 = [str('hr_') + str(item) for item in nclist2]\n",
    "dfhr = dfhr.reindex(columns = ncl2).fillna(0)"
   ]
  },
  {
   "cell_type": "markdown",
   "metadata": {},
   "source": [
    "## Converting [sleep] rmssd_5min parameter (hrv)"
   ]
  },
  {
   "cell_type": "code",
   "execution_count": null,
   "metadata": {
    "collapsed": true
   },
   "outputs": [],
   "source": [
    "m = lambda x: 'hrv_{}'.format(x+1)"
   ]
  },
  {
   "cell_type": "code",
   "execution_count": null,
   "metadata": {
    "collapsed": true
   },
   "outputs": [],
   "source": [
    "dfhrv = pd.DataFrame(df.rmssd_5min.values.tolist(), df.index, dtype=object).fillna(0).rename(columns=m)"
   ]
  },
  {
   "cell_type": "code",
   "execution_count": null,
   "metadata": {},
   "outputs": [],
   "source": [
    "dfhrv.head(5)\n",
    "dfhrv.astype('int64').dtypes\n",
    "dfhrv.dtypes.value_counts()"
   ]
  },
  {
   "cell_type": "code",
   "execution_count": null,
   "metadata": {
    "collapsed": true
   },
   "outputs": [],
   "source": [
    "dfhrv = dfhrv.join(BBdeltaint)"
   ]
  },
  {
   "cell_type": "code",
   "execution_count": null,
   "metadata": {
    "collapsed": true
   },
   "outputs": [],
   "source": [
    "for index, row in dfhrv.iterrows():\n",
    "    dfhrv.loc[index,:] = dfhrv.loc[index,:].shift(periods = row['BBdeltaint']).fillna(0)"
   ]
  },
  {
   "cell_type": "code",
   "execution_count": null,
   "metadata": {
    "collapsed": true
   },
   "outputs": [],
   "source": [
    "newcolshrv = np.arange(0, aivalue, 1)\n",
    "nclhrv = [str('hrvadjust_') + str(item) for item in newcolshrv]"
   ]
  },
  {
   "cell_type": "code",
   "execution_count": null,
   "metadata": {
    "collapsed": true
   },
   "outputs": [],
   "source": [
    "dfhrv = dfhrv.reindex(columns =  nclhrv + dfhrv.columns.tolist()).fillna(0)"
   ]
  },
  {
   "cell_type": "code",
   "execution_count": null,
   "metadata": {
    "collapsed": true
   },
   "outputs": [],
   "source": [
    "hrvlen = len(dfhrv.columns)"
   ]
  },
  {
   "cell_type": "code",
   "execution_count": null,
   "metadata": {
    "collapsed": true
   },
   "outputs": [],
   "source": [
    "nclist3 = np.arange(0, hrvlen, 1)\n",
    "ncl3 = [str('hrv_') + str(item) for item in nclist3]\n",
    "dfhrv = dfhrv.reindex(columns = ncl3).fillna(0)"
   ]
  },
  {
   "cell_type": "markdown",
   "metadata": {},
   "source": [
    "## Converting [sleep] hypnogram_5min"
   ]
  },
  {
   "cell_type": "code",
   "execution_count": null,
   "metadata": {
    "collapsed": true
   },
   "outputs": [],
   "source": [
    "#start\n",
    "def split(value):\n",
    "    return [char for char in value] "
   ]
  },
  {
   "cell_type": "code",
   "execution_count": null,
   "metadata": {
    "collapsed": true,
    "scrolled": false
   },
   "outputs": [],
   "source": [
    "# fix this, right now generates a bunch of useless lists prior to the one we need\n",
    "for column in df[['hypnogram_5min']]:\n",
    "    col_list = df[column].tolist()\n",
    "    hgfm=[]\n",
    "    for i in col_list:\n",
    "        i_s = str(i)\n",
    "        value=i_s\n",
    "        x=(split(value))\n",
    "        hgfm.append(x)\n",
    "        #print(hgfm)"
   ]
  },
  {
   "cell_type": "code",
   "execution_count": null,
   "metadata": {
    "collapsed": true
   },
   "outputs": [],
   "source": [
    "q = len(df.index)"
   ]
  },
  {
   "cell_type": "code",
   "execution_count": null,
   "metadata": {
    "collapsed": true
   },
   "outputs": [],
   "source": [
    "hgfm=hgfm[:q]"
   ]
  },
  {
   "cell_type": "code",
   "execution_count": null,
   "metadata": {
    "collapsed": true
   },
   "outputs": [],
   "source": [
    "aa=lambda x: 'hg_{}'.format(x+1)"
   ]
  },
  {
   "cell_type": "code",
   "execution_count": null,
   "metadata": {
    "collapsed": true
   },
   "outputs": [],
   "source": [
    "dfhgfm = pd.DataFrame(hgfm, df.index, dtype=object).fillna('5').rename(columns=aa)"
   ]
  },
  {
   "cell_type": "code",
   "execution_count": null,
   "metadata": {
    "collapsed": true
   },
   "outputs": [],
   "source": [
    "dfhgfm = dfhgfm.join(BBdeltaint)"
   ]
  },
  {
   "cell_type": "code",
   "execution_count": null,
   "metadata": {
    "collapsed": true
   },
   "outputs": [],
   "source": [
    "for index, row in dfhgfm.iterrows():\n",
    "    dfhgfm.loc[index,:] = dfhgfm.loc[index,:].shift(periods = row['BBdeltaint']).fillna(5)"
   ]
  },
  {
   "cell_type": "code",
   "execution_count": null,
   "metadata": {
    "collapsed": true
   },
   "outputs": [],
   "source": [
    "newcolshgfm = np.arange(0, aivalue, 1)\n",
    "nclhgfm = [str('hgfmadjust_') + str(item) for item in newcolshgfm]"
   ]
  },
  {
   "cell_type": "code",
   "execution_count": null,
   "metadata": {
    "collapsed": true
   },
   "outputs": [],
   "source": [
    "dfhgfm = dfhgfm.reindex(columns =  nclhgfm + dfhgfm.columns.tolist()).fillna(5)"
   ]
  },
  {
   "cell_type": "code",
   "execution_count": null,
   "metadata": {
    "collapsed": true
   },
   "outputs": [],
   "source": [
    "hgfmlen = len(dfhgfm.columns)"
   ]
  },
  {
   "cell_type": "code",
   "execution_count": null,
   "metadata": {
    "collapsed": true
   },
   "outputs": [],
   "source": [
    "nclist4 = np.arange(0, hgfmlen, 1)\n",
    "ncl4 = [str('hg_') + str(item) for item in nclist4]\n",
    "dfhgfm = dfhgfm.reindex(columns = ncl4).fillna(5)"
   ]
  },
  {
   "cell_type": "code",
   "execution_count": null,
   "metadata": {
    "collapsed": true
   },
   "outputs": [],
   "source": [
    "dfhgfm = dfhgfm.join(weekday)"
   ]
  },
  {
   "cell_type": "markdown",
   "metadata": {},
   "source": [
    "## Converting [activity] class_5min parameter"
   ]
  },
  {
   "cell_type": "code",
   "execution_count": null,
   "metadata": {
    "collapsed": true,
    "scrolled": false
   },
   "outputs": [],
   "source": [
    "for column in df[['class_5min']]:\n",
    "    col_list = df[column].tolist()\n",
    "    c5m=[]\n",
    "    for i in col_list:\n",
    "        i_s = str(i)\n",
    "        value=i_s\n",
    "        x=(split(value))\n",
    "        c5m.append(x)\n",
    "        #print(c5m)"
   ]
  },
  {
   "cell_type": "code",
   "execution_count": null,
   "metadata": {
    "collapsed": true
   },
   "outputs": [],
   "source": [
    "r = len(df.index)"
   ]
  },
  {
   "cell_type": "code",
   "execution_count": null,
   "metadata": {
    "collapsed": true
   },
   "outputs": [],
   "source": [
    "#from list of lists, extract last list with all rows of original df\n",
    "c5m=c5m[:r]"
   ]
  },
  {
   "cell_type": "code",
   "execution_count": null,
   "metadata": {
    "collapsed": true
   },
   "outputs": [],
   "source": [
    "h=lambda x: 'c_{}'.format(x+1)"
   ]
  },
  {
   "cell_type": "code",
   "execution_count": null,
   "metadata": {},
   "outputs": [],
   "source": [
    "dfc5m = pd.DataFrame(c5m, df.index, dtype=object).fillna('5').rename(columns=h)\n",
    "dfc5m = dfc5m.join(weekday)\n",
    "dfc5m.shape"
   ]
  },
  {
   "cell_type": "markdown",
   "metadata": {},
   "source": [
    "# Converting parameters for scaling conversion"
   ]
  },
  {
   "cell_type": "code",
   "execution_count": null,
   "metadata": {
    "collapsed": true
   },
   "outputs": [],
   "source": [
    "def make_interpolater(left_min, left_max, right_min, right_max): \n",
    "    # Figure out how 'wide' each range is  \n",
    "    leftSpan = left_max - left_min  \n",
    "    rightSpan = right_max - right_min  \n",
    "\n",
    "    # Compute the scale factor between left and right values \n",
    "    scaleFactor = float(rightSpan) / float(leftSpan) \n",
    "\n",
    "    # create interpolation function using pre-calculated scaleFactor\n",
    "    def interp_fn(value):\n",
    "        return right_min + (value-left_min)*scaleFactor\n",
    "\n",
    "\n",
    "    return interp_fn"
   ]
  },
  {
   "cell_type": "markdown",
   "metadata": {},
   "source": [
    "## Scaling x for met_1min"
   ]
  },
  {
   "cell_type": "code",
   "execution_count": null,
   "metadata": {
    "collapsed": true
   },
   "outputs": [],
   "source": [
    "dfmetscalex = pd.DataFrame()"
   ]
  },
  {
   "cell_type": "code",
   "execution_count": null,
   "metadata": {
    "collapsed": true
   },
   "outputs": [],
   "source": [
    "for column in dfmet:\n",
    "    columnSeriesObj = dfmet[column]\n",
    "    col_min = dfmet[column].min() \n",
    "    col_max = dfmet[column].max() \n",
    "    col_list = dfmet[column].tolist()\n",
    "    scalar = make_interpolater(col_min +.0002, col_max, .9, 5.8) \n",
    "    col_interp = [scalar(x) for x in col_list] \n",
    "    dfmetscalex[(str(column) + str('_scalex'))] = col_interp"
   ]
  },
  {
   "cell_type": "code",
   "execution_count": null,
   "metadata": {
    "collapsed": true
   },
   "outputs": [],
   "source": [
    "dfmetscalex = dfmetscalex.join(weekday)\n",
    "#print(dfmetscalex.head())"
   ]
  },
  {
   "cell_type": "markdown",
   "metadata": {},
   "source": [
    "## Scaling xyz for rmssd_5min"
   ]
  },
  {
   "cell_type": "code",
   "execution_count": null,
   "metadata": {
    "collapsed": true
   },
   "outputs": [],
   "source": [
    "dfhrvxyz = pd.DataFrame()"
   ]
  },
  {
   "cell_type": "code",
   "execution_count": null,
   "metadata": {
    "collapsed": true
   },
   "outputs": [],
   "source": [
    "for column in dfhrv:\n",
    "    columnSeriesObj = dfhrv[column]\n",
    "    col_min = dfhrv[column].min() \n",
    "    col_max = dfhrv[column].max() \n",
    "    col_list = dfhrv[column].tolist()\n",
    "    scalar = make_interpolater(col_min +.0002, col_max, .1, 2.6) \n",
    "    col_interp = [scalar(x) for x in col_list] \n",
    "    dfhrvxyz[(str(column) + str('_scalexyz'))] = col_interp"
   ]
  },
  {
   "cell_type": "code",
   "execution_count": null,
   "metadata": {
    "collapsed": true
   },
   "outputs": [],
   "source": [
    "dfhrvxyz = dfhrvxyz.join(weekday)"
   ]
  },
  {
   "cell_type": "markdown",
   "metadata": {},
   "source": [
    "## Scaling x for hr_5min"
   ]
  },
  {
   "cell_type": "code",
   "execution_count": null,
   "metadata": {
    "collapsed": true
   },
   "outputs": [],
   "source": [
    "dfhrxyz = pd.DataFrame()"
   ]
  },
  {
   "cell_type": "code",
   "execution_count": null,
   "metadata": {
    "collapsed": true
   },
   "outputs": [],
   "source": [
    "for column in dfhr:\n",
    "    columnSeriesObj = dfhr[column]\n",
    "    col_min = dfhr[column].min() \n",
    "    col_max = dfhr[column].max() \n",
    "    col_list = dfhr[column].tolist()\n",
    "    scalar = make_interpolater(col_min +.0002, col_max, 1.5, 4.8) \n",
    "    col_interp = [scalar(x) for x in col_list] \n",
    "    dfhrxyz[(str(column) + str('_scalex'))] = col_interp"
   ]
  },
  {
   "cell_type": "markdown",
   "metadata": {},
   "source": [
    "## Scaling y for hr_5min"
   ]
  },
  {
   "cell_type": "code",
   "execution_count": null,
   "metadata": {
    "collapsed": true
   },
   "outputs": [],
   "source": [
    "for column in dfhr:\n",
    "    columnSeriesObj = dfhr[column]\n",
    "    col_min = dfhr[column].min() \n",
    "    col_max = dfhr[column].max() \n",
    "    col_list = dfhr[column].tolist()\n",
    "    scalar = make_interpolater(col_min +.0002, col_max, .35, 1.5) \n",
    "    col_interp = [scalar(x) for x in col_list] \n",
    "    dfhrxyz[(str(column) + str('_scaley'))] = col_interp"
   ]
  },
  {
   "cell_type": "markdown",
   "metadata": {},
   "source": [
    "## Scaling z for hr_5min"
   ]
  },
  {
   "cell_type": "code",
   "execution_count": null,
   "metadata": {
    "collapsed": true
   },
   "outputs": [],
   "source": [
    "for column in dfhr:\n",
    "    columnSeriesObj = dfhr[column]\n",
    "    col_min = dfhr[column].min() \n",
    "    col_max = dfhr[column].max() \n",
    "    col_list = dfhr[column].tolist()\n",
    "    scalar = make_interpolater(col_min +.0002, col_max, .18, .75) \n",
    "    col_interp = [scalar(x) for x in col_list] \n",
    "    dfhrxyz[(str(column) + str('_scalez'))] = col_interp"
   ]
  },
  {
   "cell_type": "code",
   "execution_count": null,
   "metadata": {
    "collapsed": true
   },
   "outputs": [],
   "source": [
    "dfhrxyz = dfhrxyz.join(weekday)"
   ]
  },
  {
   "cell_type": "markdown",
   "metadata": {
    "collapsed": true
   },
   "source": [
    "## Set up lvl2toroids number for each parameter"
   ]
  },
  {
   "cell_type": "code",
   "execution_count": null,
   "metadata": {},
   "outputs": [],
   "source": [
    "lvl2met = [col for col in dfmet if col.startswith('met')]\n",
    "lvl2met = len(lvl2met)\n",
    "print(lvl2met)"
   ]
  },
  {
   "cell_type": "code",
   "execution_count": null,
   "metadata": {},
   "outputs": [],
   "source": [
    "lvl2class = [col for col in dfc5m if col.startswith('c')]\n",
    "lvl2class = len(lvl2class)\n",
    "print(lvl2class)"
   ]
  },
  {
   "cell_type": "code",
   "execution_count": null,
   "metadata": {},
   "outputs": [],
   "source": [
    "lvl2hg = [col for col in dfhgfm if col.startswith('hg')]\n",
    "lvl2hg = len(lvl2hg)\n",
    "print(lvl2hg)"
   ]
  },
  {
   "cell_type": "code",
   "execution_count": null,
   "metadata": {},
   "outputs": [],
   "source": [
    "lvl2hrv = [col for col in dfhrv if col.startswith('hrv')]\n",
    "lvl2hrv = len(lvl2hrv)\n",
    "print(lvl2hrv)"
   ]
  },
  {
   "cell_type": "code",
   "execution_count": null,
   "metadata": {},
   "outputs": [],
   "source": [
    "lvl2hr = [col for col in dfhr if col.startswith('hr')]\n",
    "lvl2hr = len(lvl2hr)\n",
    "print(lvl2hr)"
   ]
  },
  {
   "cell_type": "markdown",
   "metadata": {},
   "source": [
    "# Set up axis data "
   ]
  },
  {
   "cell_type": "markdown",
   "metadata": {},
   "source": [
    "## met_1min axis"
   ]
  },
  {
   "cell_type": "code",
   "execution_count": null,
   "metadata": {
    "collapsed": true
   },
   "outputs": [],
   "source": []
  },
  {
   "cell_type": "code",
   "execution_count": null,
   "metadata": {
    "collapsed": true
   },
   "outputs": [],
   "source": [
    "# dfmet axes \n",
    "# spacing back, per day is the 3rd value in x axis arange.\n",
    "# multiply that chosen spacing criteria by the # of days of data in the dataframe, lenviz\n",
    "\n",
    "xa = list(range(-210, 210, 60))\n",
    "x = xa*6\n",
    "\n",
    "y1 = [41.5]*7\n",
    "y2 = [22.5]*7\n",
    "y3 = [3.5] *7\n",
    "y4 = [-17.5]*7\n",
    "y5 = [-36.5]*7\n",
    "y6 = [-55.5]*7\n",
    "y = y1 + y2 + y3 + y4 + y5 + y6\n",
    "\n",
    "z = 3\n",
    "dfmetscalex['x'] = x\n",
    "dfmetscalex['y'] = y\n",
    "dfmetscalex['z'] = z"
   ]
  },
  {
   "cell_type": "markdown",
   "metadata": {},
   "source": [
    "## class_5min axis"
   ]
  },
  {
   "cell_type": "code",
   "execution_count": null,
   "metadata": {
    "collapsed": true
   },
   "outputs": [],
   "source": [
    "# dfc5m axes\n",
    "xa = list(range(-210, 210, 60))\n",
    "x = xa*6\n",
    "\n",
    "y1 = [45]*7\n",
    "y2 = [26]*7\n",
    "y3 = [7] *7\n",
    "y4 = [-14]*7\n",
    "y5 = [-33]*7\n",
    "y6 = [-52]*7\n",
    "y = y1 + y2 + y3 + y4 + y5 + y6\n",
    "\n",
    "z = 3\n",
    "dfc5m['x'] = x\n",
    "dfc5m['y'] = y\n",
    "dfc5m['z'] = z\n",
    "#print(x)\n",
    "#print(z)"
   ]
  },
  {
   "cell_type": "markdown",
   "metadata": {},
   "source": [
    "## hypnogram_5min axis"
   ]
  },
  {
   "cell_type": "code",
   "execution_count": null,
   "metadata": {
    "collapsed": true
   },
   "outputs": [],
   "source": [
    "# dfhgfm axes\n",
    "xa = list(range(-210, 210, 60))\n",
    "x = xa*6\n",
    "\n",
    "y1 = [48.5]*7\n",
    "y2 = [29.5]*7\n",
    "y3 = [10.5] *7\n",
    "y4 = [-10.5]*7\n",
    "y5 = [-29.5]*7\n",
    "y6 = [-48.5]*7\n",
    "y = y1 + y2 + y3 + y4 + y5 + y6\n",
    "\n",
    "z = 3\n",
    "dfhgfm['x'] = x\n",
    "dfhgfm['y'] = y\n",
    "dfhgfm['z'] = z"
   ]
  },
  {
   "cell_type": "markdown",
   "metadata": {},
   "source": [
    "## rmssd_5min axis"
   ]
  },
  {
   "cell_type": "code",
   "execution_count": null,
   "metadata": {
    "collapsed": true
   },
   "outputs": [],
   "source": [
    "# dfhrvxyz axes\n",
    "xa = list(range(-210, 210, 60))\n",
    "x = xa*6\n",
    "\n",
    "y1 = [52]*7\n",
    "y2 = [33]*7\n",
    "y3 = [14] *7\n",
    "y4 = [-7]*7\n",
    "y5 = [-26]*7\n",
    "y6 = [-45]*7\n",
    "y = y1 + y2 + y3 + y4 + y5 + y6\n",
    "\n",
    "z = 3\n",
    "dfhrvxyz['x'] = x\n",
    "dfhrvxyz['y'] = y\n",
    "dfhrvxyz['z'] = z\n",
    "#print(x)\n",
    "#print(z)"
   ]
  },
  {
   "cell_type": "markdown",
   "metadata": {},
   "source": [
    "## hr_5min axis"
   ]
  },
  {
   "cell_type": "code",
   "execution_count": null,
   "metadata": {
    "collapsed": true
   },
   "outputs": [],
   "source": [
    "# dfhrxyz axes\n",
    "xa = list(range(-210, 210, 60))\n",
    "x = xa*6\n",
    "\n",
    "y1 = [55.5]*7\n",
    "y2 = [36.5]*7\n",
    "y3 = [17.5] *7\n",
    "y4 = [-3.5]*7\n",
    "y5 = [-22.5]*7\n",
    "y6 = [-41.5]*7\n",
    "y = y1 + y2 + y3 + y4 + y5 + y6\n",
    "\n",
    "z = 3\n",
    "dfhrxyz['x'] = x\n",
    "dfhrxyz['y'] = y\n",
    "dfhrxyz['z'] = z\n",
    "#print(x)\n",
    "#print(z)"
   ]
  },
  {
   "cell_type": "markdown",
   "metadata": {},
   "source": [
    "## Set baseline node file values"
   ]
  },
  {
   "cell_type": "code",
   "execution_count": null,
   "metadata": {
    "collapsed": true
   },
   "outputs": [],
   "source": [
    "# set DEBUG flag\n",
    "DEBUG = 0\n",
    "\n",
    "# Initialize all ANTz Node variables\n",
    "# You shouldn't need to change anything in this section\n",
    "# you can find an explanation of these terms in Appendix B of the user manual\n",
    "id = 0\n",
    "type = 5\n",
    "data = id\n",
    "selected = 0\n",
    "parent_id = 0\n",
    "branch_level = 0\n",
    "child_id = id\n",
    "child_index = 0\n",
    "palette_id = 0\n",
    "ch_input_id = 0\n",
    "ch_output_id = 0\n",
    "ch_last_updated = 0\n",
    "average = 0\n",
    "samples = 0\n",
    "aux_a_x = 0\n",
    "aux_a_y = 0\n",
    "aux_a_z = 0\n",
    "aux_b_x = 0\n",
    "aux_b_y = 0\n",
    "aux_b_z = 0\n",
    "color_shift = 0\n",
    "rotate_vec_x = 0\n",
    "rotate_vec_y = 0\n",
    "rotate_vec_z = 0\n",
    "rotate_vec_s = 1\n",
    "scale_x = 0\n",
    "scale_y = 0\n",
    "scale_z = 0\n",
    "translate_x = 0\n",
    "translate_y = 0\n",
    "translate_z = 0\n",
    "tag_offset_x = 0\n",
    "tag_offset_y = 0\n",
    "tag_offset_z = 0\n",
    "rotate_rate_x = 0\n",
    "rotate_rate_y = 0\n",
    "rotate_rate_z = 0\n",
    "rotate_x = 0\n",
    "rotate_y = 0\n",
    "rotate_z = 0\n",
    "scale_rate_x = 0\n",
    "scale_rate_y = 0\n",
    "scale_rate_z = 0\n",
    "translate_rate_x = 0\n",
    "translate_rate_y = 0\n",
    "translate_rate_z = 0\n",
    "translate_vec_x = 0\n",
    "translate_vec_y = 0\n",
    "translate_vec_z = 0\n",
    "shader = 0\n",
    "geometry = 7\n",
    "line_width = 1\n",
    "point_size = 0\n",
    "ratio = 0.1\n",
    "color_index = 0\n",
    "color_r = 110\n",
    "color_g = 110\n",
    "color_b = 110\n",
    "color_a = 255\n",
    "color_fade = 0\n",
    "texture_id = 0\n",
    "hide = 0\n",
    "freeze = 0\n",
    "topo = 3\n",
    "facet = 0\n",
    "auto_zoom_x = 0\n",
    "auto_zoom_y = 0\n",
    "auto_zoom_z = 0\n",
    "trigger_hi_x = 0\n",
    "trigger_hi_y = 0\n",
    "trigger_hi_z = 0\n",
    "trigger_lo_x = 0\n",
    "trigger_lo_y = 0\n",
    "trigger_lo_z = 1\n",
    "set_hi_x = 0\n",
    "set_hi_y = 0\n",
    "set_hi_z = 0\n",
    "set_lo_x = 0\n",
    "set_lo_y = 0\n",
    "set_lo_z = 0\n",
    "proximity_x = 0\n",
    "proximity_y = 0\n",
    "proximity_z = 0\n",
    "proximity_mode_x = 0\n",
    "proximity_mode_y = 0\n",
    "proximity_mode_z = 0\n",
    "segments_x = 16\n",
    "segments_y = 16\n",
    "segments_z = 0\n",
    "tag_mode = 0\n",
    "format_id = 0\n",
    "table_id = 0\n",
    "record_id = id\n",
    "size = 420"
   ]
  },
  {
   "cell_type": "code",
   "execution_count": null,
   "metadata": {
    "collapsed": true
   },
   "outputs": [],
   "source": [
    "#met_1min node files\n",
    "mn = str(initial_value) + \"ouradaily_met_node.csv\"\n",
    "\n",
    "#met_1min tag files\n",
    "mt = str(initial_value) + \"ouradaily_met_tag.csv\"\n",
    "\n",
    "# class node files\n",
    "cn = str(initial_value) + \"ouradaily_class_node.csv\"\n",
    "\n",
    "# class tag files\n",
    "ct = str(initial_value) + \"ouradaily_class_tag.csv\"\n",
    "\n",
    "# hypnogram node files\n",
    "hgn = str(initial_value) + \"ouradaily_hypnogram_node.csv\"\n",
    "\n",
    "# hypnogram tag files\n",
    "hgt = str(initial_value) + \"ouradaily_hypnogram_tag.csv\"\n",
    "\n",
    "# hrv node files\n",
    "hrvn = str(initial_value) + \"ouradaily_hrv_node.csv\"\n",
    "\n",
    "# hrv tag files\n",
    "hrvt = str(initial_value) + \"ouradaily_hrv_tag.csv\"\n",
    "\n",
    "# hr node files\n",
    "hrn = str(initial_value) + \"ouradaily_hr_node.csv\"\n",
    "\n",
    "# hr tag files\n",
    "hrt = str(initial_value) + \"ouradaily_hr_tag.csv\""
   ]
  },
  {
   "cell_type": "markdown",
   "metadata": {},
   "source": [
    "## Node file for met_1min"
   ]
  },
  {
   "cell_type": "code",
   "execution_count": null,
   "metadata": {
    "collapsed": true
   },
   "outputs": [],
   "source": [
    "# Open ANTz Node file for writing\n",
    "fout = open(mn,\"w\")\n",
    "\n",
    "# Open the Tag file to add metadata to ANTz objects\n",
    "ftag = open(mt,\"w\")\n",
    "# Write the header string\n",
    "outputstring = \"id,record_id,table_id,title,description\\n\"\n",
    "ftag.write(outputstring)\n",
    "\n",
    "# Write rows for header, world, camera views (4), and grid to Node file\n",
    "outputstring = \"id,type,data,selected,parent_id,branch_level,child_id,child_index,palette_id,ch_input_id,ch_output_id,ch_last_updated,average,samples,aux_a_x,aux_a_y,aux_a_z,aux_b_x,aux_b_y,aux_b_z,color_shift,rotate_vec_x,rotate_vec_y,rotate_vec_z,rotate_vec_s,scale_x,scale_y,scale_z,translate_x,translate_y,translate_z,tag_offset_x,tag_offset_y,tag_offset_z,rotate_rate_x,rotate_rate_y,rotate_rate_z,rotate_x,rotate_y,rotate_z,scale_rate_x,scale_rate_y,scale_rate_z,translate_rate_x,translate_rate_y,translate_rate_z,translate_vec_x,translate_vec_y,translate_vec_z,shader,geometry,line_width,point_size,ratio,color_index,color_r,color_g,color_b,color_a,color_fade,texture_id,hide,freeze,topo,facet,auto_zoom_x,auto_zoom_y,auto_zoom_z,trigger_hi_x,trigger_hi_y,trigger_hi_z,trigger_lo_x,trigger_lo_y,trigger_lo_z,set_hi_x,set_hi_y,set_hi_z,set_lo_x,set_lo_y,set_lo_z,proximity_x,proximity_y,proximity_z,proximity_mode_x,proximity_mode_y,proximity_mode_z,segments_x,segments_y,segments_z,tag_mode,format_id,table_id,record_id,size\\n\"\n",
    "fout.write(outputstring)\n",
    "\n",
    "# Row for world parameters\n",
    "outputstring = \"1,0,1,0,0,0,1,0,0,0,0,0,0,1,0,0,0,0,0,0,0,0,0,0,1,1,1,1,0,0,0,0,0,1,0,0,0,0,0,0,0,0,0,0,0,0,0,0,0,0,0,1,0,0.1,0,50,101,101,255,0,0,0,0,0,0,0,0,0,0,0,0,0,0,1,0,0,0,0,0,0,0,0,0,0,0,0,16,16,0,0,0,0,0,420\\n\"\n",
    "fout.write(outputstring)\n",
    "# Row for first camera view\n",
    "outputstring = \"2,1,2,0,0,0,2,2,3,0,0,0,0,1,0,0,0,0,0,0,0,0,0.008645,0.825266,-0.564678,1,1,1,-32.446629,-180.908295,143.514175,0,0,1,0,0,0,55.620094,0.600200,0,0,0,0,0,0,0,0,0,0,0,0,1,0,0.1,0,50,101,101,255,0,0,0,0,0,0,0,0,0,0,0,0,0,0,0,0,0,0,0,0,0,214.306686,0,0,0,0,0,16,16,0,0,0,0,0,420\\n\"\n",
    "fout.write(outputstring)\n",
    "# Row for second camera view\n",
    "outputstring = \"3,1,3,0,2,1,3,0,0,0,0,0,0,1,0,0,0,0,0,0,0,0,0,0,-1,1,1,1,-0.500000,0,571.750000,0,0,1,0,0,0,0,0,0,0,0,0,0,0,0,0,0,0,0,0,1,0,0.1,0,50,101,101,255,0,0,0,0,0,0,0,0,0,0,0,0,0,0,0,0,0,0,0,0,0,0,0,0,0,0,0,16,16,0,0,0,0,0,420\\n\"\n",
    "fout.write(outputstring)\n",
    "# Third camera view\n",
    "outputstring = \"4,1,4,0,2,1,4,0,0,0,0,0,0,1,0,0,0,0,0,0,0,0,0,1,-0,1,1,1,0,-90,7,0,0,1,0,0,0,90,0,0,0,0,0,0,0,0,0,0,0,0,0,1,0,0.1,0,50,101,101,255,0,0,0,0,0,0,0,0,0,0,0,0,0,0,0,0,0,0,0,0,0,0,0,0,0,0,0,16,16,0,0,0,0,0,420\\n\"\n",
    "fout.write(outputstring)\n",
    "# Fourth camera view\n",
    "outputstring = \"5,1,5,0,2,1,5,0,0,0,0,0,0,1,0,0,0,0,0,0,0,0,-1,-0,-0,1,1,1,85,0,7,0,0,1,0,0,0,90,270,0,0,0,0,0,0,0,-0,0,0,0,0,1,0,0.1,0,50,101,101,255,0,0,0,0,0,0,0,0,0,0,0,0,0,0,0,0,0,0,0,0,0,0,0,0,0,0,0,16,16,0,0,0,0,0,420\\n\"\n",
    "fout.write(outputstring)\n",
    "# Default Grid\n",
    "outputstring = \"6,6,6,1,0,0,0,1,0,0,0,0,0,1,0,0,0,0,0,0,0,0,0,0,0,1,1,1,0,0,0,0,0,1,0,0,0,0,0,0,0,0,0,0,0,0,0,0,0,0,0,1,0,0.1,3,0,0,255,150,0,0,0,0,0,0,0,0,0,0,0,0,0,0,0,0,0,0,0,0,0,0,0,0,0,0,0,12,6,0,0,0,0,0,420\\n\"\n",
    "fout.write(outputstring)\n",
    "\n",
    "# Initialize increments\n",
    "taginc = 0\n",
    "id = 6\n",
    "\n",
    "numlevel0toroids = 1\n",
    "numlevel1toroids = 1\n",
    "\n",
    "for index, row in dfmetscalex.iterrows() :\n",
    "    id += 1\n",
    "    data = id\n",
    "    type = 5\n",
    "    parent_id = 0\n",
    "    selected = 0\n",
    "    branch_level = 0\n",
    "    child_id = id\n",
    "    translate_x = row['x']\n",
    "    translate_y = row['y']\n",
    "    translate_z = row['z']\n",
    "    scale_x = .5 \n",
    "    scale_y = scale_x\n",
    "    scale_z = scale_x\n",
    "    rotate_x = 90\n",
    "    ratio = .1\n",
    "    line_width= 2\n",
    "    geometry = 3\n",
    "    topo = 2\n",
    "    if row['weekday'] == 1:\n",
    "        color_r = 255\n",
    "        color_g = 250\n",
    "        color_b = 240\n",
    "    if row['weekday'] == 2:\n",
    "        color_r = 205\n",
    "        color_g = 92\n",
    "        color_b = 92\n",
    "    if row['weekday'] == 3:\n",
    "        color_r = 50\n",
    "        color_g = 205\n",
    "        color_b = 50\n",
    "    if row['weekday'] == 4:\n",
    "        color_r = 255\n",
    "        color_g = 255\n",
    "        color_b = 224\n",
    "    if row['weekday'] == 5:\n",
    "        color_r = 240\n",
    "        color_g = 248\n",
    "        color_b = 255\n",
    "    if row['weekday'] == 6:\n",
    "        color_r = 102\n",
    "        color_g = 51\n",
    "        color_b = 153\n",
    "    if row['weekday'] == 7:\n",
    "        color_r = 128\n",
    "        color_g = 0\n",
    "        color_b = 0\n",
    "    color_a = 155\n",
    "    rotate_x = 0\n",
    "    rotate_y = 0\n",
    "    rotate_z = 0\n",
    "    record_id = id \n",
    "    texture_id= 0\n",
    "\n",
    "    # Creat output string and write to ANTz Node File\n",
    "    outputstring = str(id) + \",\" + str(type) + \",\" + str(data) + \",\" + str(selected) + \",\" + str(parent_id) + \",\" + str(branch_level) + \",\" + str(child_id) + \",\" + str(child_index) + \",\" + str(palette_id) + \",\" + str(ch_input_id) + \",\" + str(ch_output_id) + \",\" + str(ch_last_updated) + \",\" + str(average) + \",\" + str(samples) + \",\" + str(aux_a_x) + \",\" + str(aux_a_y) + \",\" + str(aux_a_z) + \",\" + str(aux_b_x) + \",\" + str(aux_b_y) + \",\" + str(aux_b_z) + \",\" + str(color_shift) + \",\" + str(rotate_vec_x) + \",\" + str(rotate_vec_y) + \",\" + str(rotate_vec_z) + \",\" + str(rotate_vec_s) + \",\" + str(scale_x) + \",\" + str(scale_y) + \",\" + str(scale_z) + \",\" + str(translate_x) + \",\" + str(translate_y) + \",\" + str(translate_z) + \",\" + str(tag_offset_x) + \",\" + str(tag_offset_y) + \",\" + str(tag_offset_z) + \",\" + str(rotate_rate_x) + \",\" + str(rotate_rate_y) + \",\" + str(rotate_rate_z) + \",\" + str(rotate_x) + \",\" + str(rotate_y) + \",\" + str(rotate_z) + \",\" + str(scale_rate_x) + \",\" + str(scale_rate_y) + \",\" + str(scale_rate_z) + \",\" + str(translate_rate_x) + \",\" + str(translate_rate_y) + \",\" + str(translate_rate_z) + \",\" + str(translate_vec_x) + \",\" + str(translate_vec_y) + \",\" + str(translate_vec_z) + \",\" + str(shader) + \",\" + str(geometry) + \",\" + str(line_width) + \",\" + str(point_size) + \",\" + str(ratio) + \",\" + str(color_index) + \",\" + str(color_r) + \",\" + str(color_g) + \",\" + str(color_b) + \",\" + str(color_a) + \",\" + str(color_fade) + \",\" + str(texture_id) + \",\" + str(hide) + \",\" + str(freeze) + \",\" + str(topo) + \",\" + str(facet) + \",\" + str(auto_zoom_x) + \",\" + str(auto_zoom_y) + \",\" + str(auto_zoom_z) + \",\" + str(trigger_hi_x) + \",\" + str(trigger_hi_y) + \",\" + str(trigger_hi_z) + \",\" + str(trigger_lo_x) + \",\" + str(trigger_lo_y) + \",\" + str(trigger_lo_z) + \",\" + str(set_hi_x) + \",\" + str(set_hi_y) + \",\" + str(set_hi_z) + \",\" + str(set_lo_x) + \",\" + str(set_lo_y) + \",\" + str(set_lo_z) + \",\" + str(proximity_x) + \",\" + str(proximity_y) + \",\" + str(proximity_z) + \",\" + str(proximity_mode_x) + \",\" + str(proximity_mode_y) + \",\" + str(proximity_mode_z) + \",\" + str(segments_x) + \",\" + str(segments_y) + \",\" + str(segments_z) + \",\" + str(tag_mode) + \",\" + str(format_id) + \",\" + str(table_id) + \",\" + str(record_id) + \",\" + str(size) + \"\\n\"\n",
    "    fout.write(outputstring)\n",
    "\n",
    "    # Output to Tag file\n",
    "    tagtext = \"MET levels every 1 minute/ Day: \" + str(row[\"weekday\"])\n",
    "    tagstring = str(taginc) + \",\" + str(record_id) + \",0,\\\"\" + tagtext + \"\\\",\\\"\\\"\\n\"\n",
    "    ftag.write(tagstring)\n",
    "    taginc += 1\n",
    "\n",
    "    level0objectid = id\n",
    "    \n",
    "    for j in range(numlevel1toroids):\n",
    "        id += 1\n",
    "        data = id\n",
    "        type = 5\n",
    "        parent_id = level0objectid\n",
    "        selected = 0\n",
    "        branch_level = 1\n",
    "        child_id = id\n",
    "        translate_x = 270\n",
    "        translate_y = 0\n",
    "        translate_z = 0\n",
    "        scale_x = 8.54\n",
    "        scale_y = 12\n",
    "        scale_z = 42.74\n",
    "        line_width= 1\n",
    "        geometry = 19\n",
    "        topo = 6\n",
    "        color_r = 191\n",
    "        color_g = 191\n",
    "        color_b = 191\n",
    "        color_a = 200\n",
    "        rotate_x = 0\n",
    "        rotate_y = 0\n",
    "        rotate_z = 90\n",
    "        ratio = .03\n",
    "        record_id = id \n",
    "        texture_id= 0\n",
    "\n",
    "        # Creat output string and write to ANTz Node File\n",
    "        outputstring = str(id) + \",\" + str(type) + \",\" + str(data) + \",\" + str(selected) + \",\" + str(parent_id) + \",\" + str(branch_level) + \",\" + str(child_id) + \",\" + str(child_index) + \",\" + str(palette_id) + \",\" + str(ch_input_id) + \",\" + str(ch_output_id) + \",\" + str(ch_last_updated) + \",\" + str(average) + \",\" + str(samples) + \",\" + str(aux_a_x) + \",\" + str(aux_a_y) + \",\" + str(aux_a_z) + \",\" + str(aux_b_x) + \",\" + str(aux_b_y) + \",\" + str(aux_b_z) + \",\" + str(color_shift) + \",\" + str(rotate_vec_x) + \",\" + str(rotate_vec_y) + \",\" + str(rotate_vec_z) + \",\" + str(rotate_vec_s) + \",\" + str(scale_x) + \",\" + str(scale_y) + \",\" + str(scale_z) + \",\" + str(translate_x) + \",\" + str(translate_y) + \",\" + str(translate_z) + \",\" + str(tag_offset_x) + \",\" + str(tag_offset_y) + \",\" + str(tag_offset_z) + \",\" + str(rotate_rate_x) + \",\" + str(rotate_rate_y) + \",\" + str(rotate_rate_z) + \",\" + str(rotate_x) + \",\" + str(rotate_y) + \",\" + str(rotate_z) + \",\" + str(scale_rate_x) + \",\" + str(scale_rate_y) + \",\" + str(scale_rate_z) + \",\" + str(translate_rate_x) + \",\" + str(translate_rate_y) + \",\" + str(translate_rate_z) + \",\" + str(translate_vec_x) + \",\" + str(translate_vec_y) + \",\" + str(translate_vec_z) + \",\" + str(shader) + \",\" + str(geometry) + \",\" + str(line_width) + \",\" + str(point_size) + \",\" + str(ratio) + \",\" + str(color_index) + \",\" + str(color_r) + \",\" + str(color_g) + \",\" + str(color_b) + \",\" + str(color_a) + \",\" + str(color_fade) + \",\" + str(texture_id) + \",\" + str(hide) + \",\" + str(freeze) + \",\" + str(topo) + \",\" + str(facet) + \",\" + str(auto_zoom_x) + \",\" + str(auto_zoom_y) + \",\" + str(auto_zoom_z) + \",\" + str(trigger_hi_x) + \",\" + str(trigger_hi_y) + \",\" + str(trigger_hi_z) + \",\" + str(trigger_lo_x) + \",\" + str(trigger_lo_y) + \",\" + str(trigger_lo_z) + \",\" + str(set_hi_x) + \",\" + str(set_hi_y) + \",\" + str(set_hi_z) + \",\" + str(set_lo_x) + \",\" + str(set_lo_y) + \",\" + str(set_lo_z) + \",\" + str(proximity_x) + \",\" + str(proximity_y) + \",\" + str(proximity_z) + \",\" + str(proximity_mode_x) + \",\" + str(proximity_mode_y) + \",\" + str(proximity_mode_z) + \",\" + str(segments_x) + \",\" + str(segments_y) + \",\" + str(segments_z) + \",\" + str(tag_mode) + \",\" + str(format_id) + \",\" + str(table_id) + \",\" + str(record_id) + \",\" + str(size) + \"\\n\"\n",
    "        fout.write(outputstring)\n",
    "\n",
    "        level1objectid = id\n",
    "        numlevel2toroids = lvl2met\n",
    "        #cylinder objects for each reading per day\n",
    "        for k in range(numlevel2toroids):\n",
    "            id += 1\n",
    "            data = id\n",
    "            type = 5\n",
    "            parent_id = level1objectid\n",
    "            selected = 0\n",
    "            branch_level = 2\n",
    "            child_id = id\n",
    "            column = str((str(\"met_\") + str(k+1) + str(\"_scalex\")))\n",
    "            scale_x = row[column] \n",
    "            scale_y = .14\n",
    "            scale_z = .14 \n",
    "            translate_x = -180 + (.12*k)\n",
    "            translate_y = 0\n",
    "            translate_z = 0\n",
    "            rotate_x = 90\n",
    "            rotate_y = 90\n",
    "            rotate_z = 0\n",
    "            ratio = .1\n",
    "            line_width= 1\n",
    "            geometry = 19\n",
    "            topo = 4\n",
    "            color_r = 106\n",
    "            color_g = 189\n",
    "            color_b = 139\n",
    "            color_a = 255\n",
    "            record_id = id \n",
    "            texture_id= 0\n",
    "\n",
    "            # Creat output string and write to ANTz Node File\n",
    "            outputstring = str(id) + \",\" + str(type) + \",\" + str(data) + \",\" + str(selected) + \",\" + str(parent_id) + \",\" + str(branch_level) + \",\" + str(child_id) + \",\" + str(child_index) + \",\" + str(palette_id) + \",\" + str(ch_input_id) + \",\" + str(ch_output_id) + \",\" + str(ch_last_updated) + \",\" + str(average) + \",\" + str(samples) + \",\" + str(aux_a_x) + \",\" + str(aux_a_y) + \",\" + str(aux_a_z) + \",\" + str(aux_b_x) + \",\" + str(aux_b_y) + \",\" + str(aux_b_z) + \",\" + str(color_shift) + \",\" + str(rotate_vec_x) + \",\" + str(rotate_vec_y) + \",\" + str(rotate_vec_z) + \",\" + str(rotate_vec_s) + \",\" + str(scale_x) + \",\" + str(scale_y) + \",\" + str(scale_z) + \",\" + str(translate_x) + \",\" + str(translate_y) + \",\" + str(translate_z) + \",\" + str(tag_offset_x) + \",\" + str(tag_offset_y) + \",\" + str(tag_offset_z) + \",\" + str(rotate_rate_x) + \",\" + str(rotate_rate_y) + \",\" + str(rotate_rate_z) + \",\" + str(rotate_x) + \",\" + str(rotate_y) + \",\" + str(rotate_z) + \",\" + str(scale_rate_x) + \",\" + str(scale_rate_y) + \",\" + str(scale_rate_z) + \",\" + str(translate_rate_x) + \",\" + str(translate_rate_y) + \",\" + str(translate_rate_z) + \",\" + str(translate_vec_x) + \",\" + str(translate_vec_y) + \",\" + str(translate_vec_z) + \",\" + str(shader) + \",\" + str(geometry) + \",\" + str(line_width) + \",\" + str(point_size) + \",\" + str(ratio) + \",\" + str(color_index) + \",\" + str(color_r) + \",\" + str(color_g) + \",\" + str(color_b) + \",\" + str(color_a) + \",\" + str(color_fade) + \",\" + str(texture_id) + \",\" + str(hide) + \",\" + str(freeze) + \",\" + str(topo) + \",\" + str(facet) + \",\" + str(auto_zoom_x) + \",\" + str(auto_zoom_y) + \",\" + str(auto_zoom_z) + \",\" + str(trigger_hi_x) + \",\" + str(trigger_hi_y) + \",\" + str(trigger_hi_z) + \",\" + str(trigger_lo_x) + \",\" + str(trigger_lo_y) + \",\" + str(trigger_lo_z) + \",\" + str(set_hi_x) + \",\" + str(set_hi_y) + \",\" + str(set_hi_z) + \",\" + str(set_lo_x) + \",\" + str(set_lo_y) + \",\" + str(set_lo_z) + \",\" + str(proximity_x) + \",\" + str(proximity_y) + \",\" + str(proximity_z) + \",\" + str(proximity_mode_x) + \",\" + str(proximity_mode_y) + \",\" + str(proximity_mode_z) + \",\" + str(segments_x) + \",\" + str(segments_y) + \",\" + str(segments_z) + \",\" + str(tag_mode) + \",\" + str(format_id) + \",\" + str(table_id) + \",\" + str(record_id) + \",\" + str(size) + \"\\n\"\n",
    "            fout.write(outputstring)\n"
   ]
  },
  {
   "cell_type": "markdown",
   "metadata": {},
   "source": [
    "## Node file for class_5min"
   ]
  },
  {
   "cell_type": "code",
   "execution_count": null,
   "metadata": {
    "collapsed": true
   },
   "outputs": [],
   "source": [
    "# class_5min\n",
    "# Open ANTz Node file for writing\n",
    "fout = open(cn,\"w\")\n",
    "\n",
    "# Open the Tag file to add metadata to ANTz objects\n",
    "ftag = open(ct,\"w\")\n",
    "# Write the header string\n",
    "outputstring = \"id,record_id,table_id,title,description\\n\"\n",
    "ftag.write(outputstring)\n",
    "\n",
    "# Write rows for header, world, camera views (4), and grid to Node file\n",
    "outputstring = \"id,type,data,selected,parent_id,branch_level,child_id,child_index,palette_id,ch_input_id,ch_output_id,ch_last_updated,average,samples,aux_a_x,aux_a_y,aux_a_z,aux_b_x,aux_b_y,aux_b_z,color_shift,rotate_vec_x,rotate_vec_y,rotate_vec_z,rotate_vec_s,scale_x,scale_y,scale_z,translate_x,translate_y,translate_z,tag_offset_x,tag_offset_y,tag_offset_z,rotate_rate_x,rotate_rate_y,rotate_rate_z,rotate_x,rotate_y,rotate_z,scale_rate_x,scale_rate_y,scale_rate_z,translate_rate_x,translate_rate_y,translate_rate_z,translate_vec_x,translate_vec_y,translate_vec_z,shader,geometry,line_width,point_size,ratio,color_index,color_r,color_g,color_b,color_a,color_fade,texture_id,hide,freeze,topo,facet,auto_zoom_x,auto_zoom_y,auto_zoom_z,trigger_hi_x,trigger_hi_y,trigger_hi_z,trigger_lo_x,trigger_lo_y,trigger_lo_z,set_hi_x,set_hi_y,set_hi_z,set_lo_x,set_lo_y,set_lo_z,proximity_x,proximity_y,proximity_z,proximity_mode_x,proximity_mode_y,proximity_mode_z,segments_x,segments_y,segments_z,tag_mode,format_id,table_id,record_id,size\\n\"\n",
    "fout.write(outputstring)\n",
    "\n",
    "# Row for world parameters\n",
    "outputstring = \"1,0,1,0,0,0,1,0,0,0,0,0,0,1,0,0,0,0,0,0,0,0,0,0,1,1,1,1,0,0,0,0,0,1,0,0,0,0,0,0,0,0,0,0,0,0,0,0,0,0,0,1,0,0.1,0,50,101,101,255,0,0,0,0,0,0,0,0,0,0,0,0,0,0,1,0,0,0,0,0,0,0,0,0,0,0,0,16,16,0,0,0,0,0,420\\n\"\n",
    "fout.write(outputstring)\n",
    "# Row for first camera view\n",
    "outputstring = \"2,1,2,0,0,0,2,2,3,0,0,0,0,1,0,0,0,0,0,0,0,0,0.008645,0.825266,-0.564678,1,1,1,-32.446629,-180.908295,143.514175,0,0,1,0,0,0,55.620094,0.600200,0,0,0,0,0,0,0,0,0,0,0,0,1,0,0.1,0,50,101,101,255,0,0,0,0,0,0,0,0,0,0,0,0,0,0,0,0,0,0,0,0,0,214.306686,0,0,0,0,0,16,16,0,0,0,0,0,420\\n\"\n",
    "fout.write(outputstring)\n",
    "# Row for second camera view\n",
    "outputstring = \"3,1,3,0,2,1,3,0,0,0,0,0,0,1,0,0,0,0,0,0,0,0,0,0,-1,1,1,1,-0.500000,0,571.750000,0,0,1,0,0,0,0,0,0,0,0,0,0,0,0,0,0,0,0,0,1,0,0.1,0,50,101,101,255,0,0,0,0,0,0,0,0,0,0,0,0,0,0,0,0,0,0,0,0,0,0,0,0,0,0,0,16,16,0,0,0,0,0,420\\n\"\n",
    "fout.write(outputstring)\n",
    "# Third camera view\n",
    "outputstring = \"4,1,4,0,2,1,4,0,0,0,0,0,0,1,0,0,0,0,0,0,0,0,0,1,-0,1,1,1,0,-90,7,0,0,1,0,0,0,90,0,0,0,0,0,0,0,0,0,0,0,0,0,1,0,0.1,0,50,101,101,255,0,0,0,0,0,0,0,0,0,0,0,0,0,0,0,0,0,0,0,0,0,0,0,0,0,0,0,16,16,0,0,0,0,0,420\\n\"\n",
    "fout.write(outputstring)\n",
    "# Fourth camera view\n",
    "outputstring = \"5,1,5,0,2,1,5,0,0,0,0,0,0,1,0,0,0,0,0,0,0,0,-1,-0,-0,1,1,1,85,0,7,0,0,1,0,0,0,90,270,0,0,0,0,0,0,0,-0,0,0,0,0,1,0,0.1,0,50,101,101,255,0,0,0,0,0,0,0,0,0,0,0,0,0,0,0,0,0,0,0,0,0,0,0,0,0,0,0,16,16,0,0,0,0,0,420\\n\"\n",
    "fout.write(outputstring)\n",
    "# Default Grid\n",
    "outputstring = \"6,6,6,1,0,0,0,1,0,0,0,0,0,1,0,0,0,0,0,0,0,0,0,0,0,1,1,1,0,0,0,0,0,1,0,0,0,0,0,0,0,0,0,0,0,0,0,0,0,0,0,1,0,0.1,3,0,0,255,150,0,0,0,0,0,0,0,0,0,0,0,0,0,0,0,0,0,0,0,0,0,0,0,0,0,0,0,12,6,0,0,0,0,0,420\\n\"\n",
    "fout.write(outputstring)\n",
    "\n",
    "# Initialize increments\n",
    "taginc = 0\n",
    "id = 6\n",
    "\n",
    "numlevel0toroids = 1\n",
    "numlevel1toroids = 1\n",
    "\n",
    "for index, row in dfc5m.iterrows() :\n",
    "    id += 1\n",
    "    data = id\n",
    "    type = 5\n",
    "    parent_id = 0\n",
    "    selected = 0\n",
    "    branch_level = 0\n",
    "    child_id = id\n",
    "    translate_x = row['x']\n",
    "    translate_y = row['y']\n",
    "    translate_z = row['z']\n",
    "    scale_x = .5 \n",
    "    scale_y = scale_x\n",
    "    scale_z = scale_x\n",
    "    rotate_x = 90\n",
    "    ratio = .1\n",
    "    line_width= 2\n",
    "    geometry = 3\n",
    "    topo = 2\n",
    "    if row['weekday'] == 1:\n",
    "        color_r = 255\n",
    "        color_g = 250\n",
    "        color_b = 240\n",
    "    if row['weekday'] == 2:\n",
    "        color_r = 205\n",
    "        color_g = 92\n",
    "        color_b = 92\n",
    "    if row['weekday'] == 3:\n",
    "        color_r = 50\n",
    "        color_g = 205\n",
    "        color_b = 50\n",
    "    if row['weekday'] == 4:\n",
    "        color_r = 255\n",
    "        color_g = 255\n",
    "        color_b = 224\n",
    "    if row['weekday'] == 5:\n",
    "        color_r = 240\n",
    "        color_g = 248\n",
    "        color_b = 255\n",
    "    if row['weekday'] == 6:\n",
    "        color_r = 102\n",
    "        color_g = 51\n",
    "        color_b = 153\n",
    "    if row['weekday'] == 7:\n",
    "        color_r = 128\n",
    "        color_g = 0\n",
    "        color_b = 0\n",
    "    color_a = 155\n",
    "    rotate_x = 0\n",
    "    rotate_y = 0\n",
    "    rotate_z = 0\n",
    "    record_id = id \n",
    "    texture_id= 0\n",
    "\n",
    "    # Creat output string and write to ANTz Node File\n",
    "    outputstring = str(id) + \",\" + str(type) + \",\" + str(data) + \",\" + str(selected) + \",\" + str(parent_id) + \",\" + str(branch_level) + \",\" + str(child_id) + \",\" + str(child_index) + \",\" + str(palette_id) + \",\" + str(ch_input_id) + \",\" + str(ch_output_id) + \",\" + str(ch_last_updated) + \",\" + str(average) + \",\" + str(samples) + \",\" + str(aux_a_x) + \",\" + str(aux_a_y) + \",\" + str(aux_a_z) + \",\" + str(aux_b_x) + \",\" + str(aux_b_y) + \",\" + str(aux_b_z) + \",\" + str(color_shift) + \",\" + str(rotate_vec_x) + \",\" + str(rotate_vec_y) + \",\" + str(rotate_vec_z) + \",\" + str(rotate_vec_s) + \",\" + str(scale_x) + \",\" + str(scale_y) + \",\" + str(scale_z) + \",\" + str(translate_x) + \",\" + str(translate_y) + \",\" + str(translate_z) + \",\" + str(tag_offset_x) + \",\" + str(tag_offset_y) + \",\" + str(tag_offset_z) + \",\" + str(rotate_rate_x) + \",\" + str(rotate_rate_y) + \",\" + str(rotate_rate_z) + \",\" + str(rotate_x) + \",\" + str(rotate_y) + \",\" + str(rotate_z) + \",\" + str(scale_rate_x) + \",\" + str(scale_rate_y) + \",\" + str(scale_rate_z) + \",\" + str(translate_rate_x) + \",\" + str(translate_rate_y) + \",\" + str(translate_rate_z) + \",\" + str(translate_vec_x) + \",\" + str(translate_vec_y) + \",\" + str(translate_vec_z) + \",\" + str(shader) + \",\" + str(geometry) + \",\" + str(line_width) + \",\" + str(point_size) + \",\" + str(ratio) + \",\" + str(color_index) + \",\" + str(color_r) + \",\" + str(color_g) + \",\" + str(color_b) + \",\" + str(color_a) + \",\" + str(color_fade) + \",\" + str(texture_id) + \",\" + str(hide) + \",\" + str(freeze) + \",\" + str(topo) + \",\" + str(facet) + \",\" + str(auto_zoom_x) + \",\" + str(auto_zoom_y) + \",\" + str(auto_zoom_z) + \",\" + str(trigger_hi_x) + \",\" + str(trigger_hi_y) + \",\" + str(trigger_hi_z) + \",\" + str(trigger_lo_x) + \",\" + str(trigger_lo_y) + \",\" + str(trigger_lo_z) + \",\" + str(set_hi_x) + \",\" + str(set_hi_y) + \",\" + str(set_hi_z) + \",\" + str(set_lo_x) + \",\" + str(set_lo_y) + \",\" + str(set_lo_z) + \",\" + str(proximity_x) + \",\" + str(proximity_y) + \",\" + str(proximity_z) + \",\" + str(proximity_mode_x) + \",\" + str(proximity_mode_y) + \",\" + str(proximity_mode_z) + \",\" + str(segments_x) + \",\" + str(segments_y) + \",\" + str(segments_z) + \",\" + str(tag_mode) + \",\" + str(format_id) + \",\" + str(table_id) + \",\" + str(record_id) + \",\" + str(size) + \"\\n\"\n",
    "    fout.write(outputstring)\n",
    "\n",
    "    # Output to Tag file\n",
    "    tagtext = \"Class of activity every 5 minutes/ Day: \" + str(row[\"weekday\"])\n",
    "    tagstring = str(taginc) + \",\" + str(record_id) + \",0,\\\"\" + tagtext + \"\\\",\\\"\\\"\\n\"\n",
    "    ftag.write(tagstring)\n",
    "    taginc += 1\n",
    "\n",
    "    level0objectid = id\n",
    "    \n",
    "    for j in range(numlevel1toroids):\n",
    "        id += 1\n",
    "        data = id\n",
    "        type = 5\n",
    "        parent_id = level0objectid\n",
    "        selected = 0\n",
    "        branch_level = 1\n",
    "        child_id = id\n",
    "        translate_x = 270\n",
    "        translate_y = 0\n",
    "        translate_z = 0\n",
    "        scale_x = 8.54\n",
    "        scale_y = 12\n",
    "        scale_z = 42.74\n",
    "        line_width= 1\n",
    "        geometry = 19\n",
    "        topo = 6\n",
    "        color_r = 191\n",
    "        color_g = 191\n",
    "        color_b = 191\n",
    "        color_a = 200\n",
    "        rotate_x = 0\n",
    "        rotate_y = 0\n",
    "        rotate_z = 90\n",
    "        ratio = .03\n",
    "        record_id = id \n",
    "        texture_id= 0\n",
    "\n",
    "        # Creat output string and write to ANTz Node File\n",
    "        outputstring = str(id) + \",\" + str(type) + \",\" + str(data) + \",\" + str(selected) + \",\" + str(parent_id) + \",\" + str(branch_level) + \",\" + str(child_id) + \",\" + str(child_index) + \",\" + str(palette_id) + \",\" + str(ch_input_id) + \",\" + str(ch_output_id) + \",\" + str(ch_last_updated) + \",\" + str(average) + \",\" + str(samples) + \",\" + str(aux_a_x) + \",\" + str(aux_a_y) + \",\" + str(aux_a_z) + \",\" + str(aux_b_x) + \",\" + str(aux_b_y) + \",\" + str(aux_b_z) + \",\" + str(color_shift) + \",\" + str(rotate_vec_x) + \",\" + str(rotate_vec_y) + \",\" + str(rotate_vec_z) + \",\" + str(rotate_vec_s) + \",\" + str(scale_x) + \",\" + str(scale_y) + \",\" + str(scale_z) + \",\" + str(translate_x) + \",\" + str(translate_y) + \",\" + str(translate_z) + \",\" + str(tag_offset_x) + \",\" + str(tag_offset_y) + \",\" + str(tag_offset_z) + \",\" + str(rotate_rate_x) + \",\" + str(rotate_rate_y) + \",\" + str(rotate_rate_z) + \",\" + str(rotate_x) + \",\" + str(rotate_y) + \",\" + str(rotate_z) + \",\" + str(scale_rate_x) + \",\" + str(scale_rate_y) + \",\" + str(scale_rate_z) + \",\" + str(translate_rate_x) + \",\" + str(translate_rate_y) + \",\" + str(translate_rate_z) + \",\" + str(translate_vec_x) + \",\" + str(translate_vec_y) + \",\" + str(translate_vec_z) + \",\" + str(shader) + \",\" + str(geometry) + \",\" + str(line_width) + \",\" + str(point_size) + \",\" + str(ratio) + \",\" + str(color_index) + \",\" + str(color_r) + \",\" + str(color_g) + \",\" + str(color_b) + \",\" + str(color_a) + \",\" + str(color_fade) + \",\" + str(texture_id) + \",\" + str(hide) + \",\" + str(freeze) + \",\" + str(topo) + \",\" + str(facet) + \",\" + str(auto_zoom_x) + \",\" + str(auto_zoom_y) + \",\" + str(auto_zoom_z) + \",\" + str(trigger_hi_x) + \",\" + str(trigger_hi_y) + \",\" + str(trigger_hi_z) + \",\" + str(trigger_lo_x) + \",\" + str(trigger_lo_y) + \",\" + str(trigger_lo_z) + \",\" + str(set_hi_x) + \",\" + str(set_hi_y) + \",\" + str(set_hi_z) + \",\" + str(set_lo_x) + \",\" + str(set_lo_y) + \",\" + str(set_lo_z) + \",\" + str(proximity_x) + \",\" + str(proximity_y) + \",\" + str(proximity_z) + \",\" + str(proximity_mode_x) + \",\" + str(proximity_mode_y) + \",\" + str(proximity_mode_z) + \",\" + str(segments_x) + \",\" + str(segments_y) + \",\" + str(segments_z) + \",\" + str(tag_mode) + \",\" + str(format_id) + \",\" + str(table_id) + \",\" + str(record_id) + \",\" + str(size) + \"\\n\"\n",
    "        fout.write(outputstring)\n",
    "\n",
    "        level1objectid = id\n",
    "        numlevel2toroids = lvl2class\n",
    "        #cylinder objects for each reading per day\n",
    "        for k in range(numlevel2toroids):\n",
    "            id += 1\n",
    "            data = id\n",
    "            type = 5\n",
    "            parent_id = level1objectid\n",
    "            selected = 0\n",
    "            branch_level = 2\n",
    "            child_id = id\n",
    "            scale_x = 3.53\n",
    "            scale_y = .93\n",
    "            scale_z = .71 \n",
    "            translate_x = -180 + (.6*k)\n",
    "            translate_y = 0\n",
    "            translate_z = 0\n",
    "            rotate_x = 0\n",
    "            rotate_y = 0\n",
    "            rotate_z = 0\n",
    "            ratio = .1\n",
    "            line_width= 1\n",
    "            geometry = 3\n",
    "            topo = 2\n",
    "            column = str(str(\"c_\") + str(k+1))\n",
    "            if row[column] == \"1\":\n",
    "                color_r = 178\n",
    "                color_g = 191\n",
    "                color_b = 80\n",
    "            elif row[column] == \"2\":\n",
    "                color_r = 93\n",
    "                color_g = 115\n",
    "                color_b = 45\n",
    "            elif row[column] == \"3\":\n",
    "                color_r = 48\n",
    "                color_g = 64\n",
    "                color_b = 25\n",
    "            elif row[column] == \"4\":\n",
    "                color_r = 217\n",
    "                color_g = 108\n",
    "                color_b = 108\n",
    "            elif row[column] == \"5\":\n",
    "                color_r = 242\n",
    "                color_g = 215\n",
    "                color_b = 208\n",
    "            color_a = 255\n",
    "            record_id = id \n",
    "            texture_id= 0\n",
    "\n",
    "            # Creat output string and write to ANTz Node File\n",
    "            outputstring = str(id) + \",\" + str(type) + \",\" + str(data) + \",\" + str(selected) + \",\" + str(parent_id) + \",\" + str(branch_level) + \",\" + str(child_id) + \",\" + str(child_index) + \",\" + str(palette_id) + \",\" + str(ch_input_id) + \",\" + str(ch_output_id) + \",\" + str(ch_last_updated) + \",\" + str(average) + \",\" + str(samples) + \",\" + str(aux_a_x) + \",\" + str(aux_a_y) + \",\" + str(aux_a_z) + \",\" + str(aux_b_x) + \",\" + str(aux_b_y) + \",\" + str(aux_b_z) + \",\" + str(color_shift) + \",\" + str(rotate_vec_x) + \",\" + str(rotate_vec_y) + \",\" + str(rotate_vec_z) + \",\" + str(rotate_vec_s) + \",\" + str(scale_x) + \",\" + str(scale_y) + \",\" + str(scale_z) + \",\" + str(translate_x) + \",\" + str(translate_y) + \",\" + str(translate_z) + \",\" + str(tag_offset_x) + \",\" + str(tag_offset_y) + \",\" + str(tag_offset_z) + \",\" + str(rotate_rate_x) + \",\" + str(rotate_rate_y) + \",\" + str(rotate_rate_z) + \",\" + str(rotate_x) + \",\" + str(rotate_y) + \",\" + str(rotate_z) + \",\" + str(scale_rate_x) + \",\" + str(scale_rate_y) + \",\" + str(scale_rate_z) + \",\" + str(translate_rate_x) + \",\" + str(translate_rate_y) + \",\" + str(translate_rate_z) + \",\" + str(translate_vec_x) + \",\" + str(translate_vec_y) + \",\" + str(translate_vec_z) + \",\" + str(shader) + \",\" + str(geometry) + \",\" + str(line_width) + \",\" + str(point_size) + \",\" + str(ratio) + \",\" + str(color_index) + \",\" + str(color_r) + \",\" + str(color_g) + \",\" + str(color_b) + \",\" + str(color_a) + \",\" + str(color_fade) + \",\" + str(texture_id) + \",\" + str(hide) + \",\" + str(freeze) + \",\" + str(topo) + \",\" + str(facet) + \",\" + str(auto_zoom_x) + \",\" + str(auto_zoom_y) + \",\" + str(auto_zoom_z) + \",\" + str(trigger_hi_x) + \",\" + str(trigger_hi_y) + \",\" + str(trigger_hi_z) + \",\" + str(trigger_lo_x) + \",\" + str(trigger_lo_y) + \",\" + str(trigger_lo_z) + \",\" + str(set_hi_x) + \",\" + str(set_hi_y) + \",\" + str(set_hi_z) + \",\" + str(set_lo_x) + \",\" + str(set_lo_y) + \",\" + str(set_lo_z) + \",\" + str(proximity_x) + \",\" + str(proximity_y) + \",\" + str(proximity_z) + \",\" + str(proximity_mode_x) + \",\" + str(proximity_mode_y) + \",\" + str(proximity_mode_z) + \",\" + str(segments_x) + \",\" + str(segments_y) + \",\" + str(segments_z) + \",\" + str(tag_mode) + \",\" + str(format_id) + \",\" + str(table_id) + \",\" + str(record_id) + \",\" + str(size) + \"\\n\"\n",
    "            fout.write(outputstring)\n"
   ]
  },
  {
   "cell_type": "markdown",
   "metadata": {},
   "source": [
    "## Node file for hypnogram_5min"
   ]
  },
  {
   "cell_type": "code",
   "execution_count": 9,
   "metadata": {},
   "outputs": [
    {
     "ename": "NameError",
     "evalue": "name 'hgn' is not defined",
     "output_type": "error",
     "traceback": [
      "\u001b[0;31m---------------------------------------------------------------------------\u001b[0m",
      "\u001b[0;31mNameError\u001b[0m                                 Traceback (most recent call last)",
      "\u001b[0;32m<ipython-input-9-bb8f5a86347c>\u001b[0m in \u001b[0;36m<module>\u001b[0;34m()\u001b[0m\n\u001b[1;32m      1\u001b[0m \u001b[0;31m# hypnogram_5min\u001b[0m\u001b[0;34m\u001b[0m\u001b[0;34m\u001b[0m\u001b[0m\n\u001b[1;32m      2\u001b[0m \u001b[0;31m# Open ANTz Node file for writing\u001b[0m\u001b[0;34m\u001b[0m\u001b[0;34m\u001b[0m\u001b[0m\n\u001b[0;32m----> 3\u001b[0;31m \u001b[0mfout\u001b[0m \u001b[0;34m=\u001b[0m \u001b[0mopen\u001b[0m\u001b[0;34m(\u001b[0m\u001b[0mhgn\u001b[0m\u001b[0;34m,\u001b[0m\u001b[0;34m\"w\"\u001b[0m\u001b[0;34m)\u001b[0m\u001b[0;34m\u001b[0m\u001b[0m\n\u001b[0m\u001b[1;32m      4\u001b[0m \u001b[0;34m\u001b[0m\u001b[0m\n\u001b[1;32m      5\u001b[0m \u001b[0;31m# Open the Tag file to add metadata to ANTz objects\u001b[0m\u001b[0;34m\u001b[0m\u001b[0;34m\u001b[0m\u001b[0m\n",
      "\u001b[0;31mNameError\u001b[0m: name 'hgn' is not defined"
     ]
    }
   ],
   "source": [
    "# hypnogram_5min\n",
    "# Open ANTz Node file for writing\n",
    "fout = open(hgn,\"w\")\n",
    "\n",
    "# Open the Tag file to add metadata to ANTz objects\n",
    "ftag = open(hgt,\"w\")\n",
    "# Write the header string\n",
    "outputstring = \"id,record_id,table_id,title,description\\n\"\n",
    "ftag.write(outputstring)\n",
    "\n",
    "# Write rows for header, world, camera views (4), and grid to Node file\n",
    "outputstring = \"id,type,data,selected,parent_id,branch_level,child_id,child_index,palette_id,ch_input_id,ch_output_id,ch_last_updated,average,samples,aux_a_x,aux_a_y,aux_a_z,aux_b_x,aux_b_y,aux_b_z,color_shift,rotate_vec_x,rotate_vec_y,rotate_vec_z,rotate_vec_s,scale_x,scale_y,scale_z,translate_x,translate_y,translate_z,tag_offset_x,tag_offset_y,tag_offset_z,rotate_rate_x,rotate_rate_y,rotate_rate_z,rotate_x,rotate_y,rotate_z,scale_rate_x,scale_rate_y,scale_rate_z,translate_rate_x,translate_rate_y,translate_rate_z,translate_vec_x,translate_vec_y,translate_vec_z,shader,geometry,line_width,point_size,ratio,color_index,color_r,color_g,color_b,color_a,color_fade,texture_id,hide,freeze,topo,facet,auto_zoom_x,auto_zoom_y,auto_zoom_z,trigger_hi_x,trigger_hi_y,trigger_hi_z,trigger_lo_x,trigger_lo_y,trigger_lo_z,set_hi_x,set_hi_y,set_hi_z,set_lo_x,set_lo_y,set_lo_z,proximity_x,proximity_y,proximity_z,proximity_mode_x,proximity_mode_y,proximity_mode_z,segments_x,segments_y,segments_z,tag_mode,format_id,table_id,record_id,size\\n\"\n",
    "fout.write(outputstring)\n",
    "\n",
    "# Row for world parameters\n",
    "outputstring = \"1,0,1,0,0,0,1,0,0,0,0,0,0,1,0,0,0,0,0,0,0,0,0,0,1,1,1,1,0,0,0,0,0,1,0,0,0,0,0,0,0,0,0,0,0,0,0,0,0,0,0,1,0,0.1,0,50,101,101,255,0,0,0,0,0,0,0,0,0,0,0,0,0,0,1,0,0,0,0,0,0,0,0,0,0,0,0,16,16,0,0,0,0,0,420\\n\"\n",
    "fout.write(outputstring)\n",
    "# Row for first camera view\n",
    "outputstring = \"2,1,2,0,0,0,2,2,3,0,0,0,0,1,0,0,0,0,0,0,0,0,0.008645,0.825266,-0.564678,1,1,1,-32.446629,-180.908295,143.514175,0,0,1,0,0,0,55.620094,0.600200,0,0,0,0,0,0,0,0,0,0,0,0,1,0,0.1,0,50,101,101,255,0,0,0,0,0,0,0,0,0,0,0,0,0,0,0,0,0,0,0,0,0,214.306686,0,0,0,0,0,16,16,0,0,0,0,0,420\\n\"\n",
    "fout.write(outputstring)\n",
    "# Row for second camera view\n",
    "outputstring = \"3,1,3,0,2,1,3,0,0,0,0,0,0,1,0,0,0,0,0,0,0,0,0,0,-1,1,1,1,-0.500000,0,571.750000,0,0,1,0,0,0,0,0,0,0,0,0,0,0,0,0,0,0,0,0,1,0,0.1,0,50,101,101,255,0,0,0,0,0,0,0,0,0,0,0,0,0,0,0,0,0,0,0,0,0,0,0,0,0,0,0,16,16,0,0,0,0,0,420\\n\"\n",
    "fout.write(outputstring)\n",
    "# Third camera view\n",
    "outputstring = \"4,1,4,0,2,1,4,0,0,0,0,0,0,1,0,0,0,0,0,0,0,0,0,1,-0,1,1,1,0,-90,7,0,0,1,0,0,0,90,0,0,0,0,0,0,0,0,0,0,0,0,0,1,0,0.1,0,50,101,101,255,0,0,0,0,0,0,0,0,0,0,0,0,0,0,0,0,0,0,0,0,0,0,0,0,0,0,0,16,16,0,0,0,0,0,420\\n\"\n",
    "fout.write(outputstring)\n",
    "# Fourth camera view\n",
    "outputstring = \"5,1,5,0,2,1,5,0,0,0,0,0,0,1,0,0,0,0,0,0,0,0,-1,-0,-0,1,1,1,85,0,7,0,0,1,0,0,0,90,270,0,0,0,0,0,0,0,-0,0,0,0,0,1,0,0.1,0,50,101,101,255,0,0,0,0,0,0,0,0,0,0,0,0,0,0,0,0,0,0,0,0,0,0,0,0,0,0,0,16,16,0,0,0,0,0,420\\n\"\n",
    "fout.write(outputstring)\n",
    "# Default Grid\n",
    "outputstring = \"6,6,6,1,0,0,0,1,0,0,0,0,0,1,0,0,0,0,0,0,0,0,0,0,0,1,1,1,0,0,0,0,0,1,0,0,0,0,0,0,0,0,0,0,0,0,0,0,0,0,0,1,0,0.1,3,0,0,255,150,0,0,0,0,0,0,0,0,0,0,0,0,0,0,0,0,0,0,0,0,0,0,0,0,0,0,0,12,6,0,0,0,0,0,420\\n\"\n",
    "fout.write(outputstring)\n",
    "\n",
    "# Initialize increments\n",
    "taginc = 0\n",
    "id = 6\n",
    "\n",
    "numlevel0toroids = 1\n",
    "numlevel1toroids = 1\n",
    "\n",
    "for index, row in dfhgfm.iterrows() :\n",
    "    id += 1\n",
    "    data = id\n",
    "    type = 5\n",
    "    parent_id = 0\n",
    "    selected = 0\n",
    "    branch_level = 0\n",
    "    child_id = id\n",
    "    translate_x = row['x']\n",
    "    translate_y = row['y']\n",
    "    translate_z = row['z']\n",
    "    scale_x = .5 \n",
    "    scale_y = scale_x\n",
    "    scale_z = scale_x\n",
    "    rotate_x = 90\n",
    "    ratio = .1\n",
    "    line_width= 2\n",
    "    geometry = 3\n",
    "    topo = 2\n",
    "    if row['weekday'] == 1:\n",
    "        color_r = 255\n",
    "        color_g = 250\n",
    "        color_b = 240\n",
    "    if row['weekday'] == 2:\n",
    "        color_r = 205\n",
    "        color_g = 92\n",
    "        color_b = 92\n",
    "    if row['weekday'] == 3:\n",
    "        color_r = 50\n",
    "        color_g = 205\n",
    "        color_b = 50\n",
    "    if row['weekday'] == 4:\n",
    "        color_r = 255\n",
    "        color_g = 255\n",
    "        color_b = 224\n",
    "    if row['weekday'] == 5:\n",
    "        color_r = 240\n",
    "        color_g = 248\n",
    "        color_b = 255\n",
    "    if row['weekday'] == 6:\n",
    "        color_r = 102\n",
    "        color_g = 51\n",
    "        color_b = 153\n",
    "    if row['weekday'] == 7:\n",
    "        color_r = 128\n",
    "        color_g = 0\n",
    "        color_b = 0\n",
    "    color_a = 155\n",
    "    rotate_x = 0\n",
    "    rotate_y = 0\n",
    "    rotate_z = 0\n",
    "    record_id = id \n",
    "    texture_id= 0\n",
    "\n",
    "    # Creat output string and write to ANTz Node File\n",
    "    outputstring = str(id) + \",\" + str(type) + \",\" + str(data) + \",\" + str(selected) + \",\" + str(parent_id) + \",\" + str(branch_level) + \",\" + str(child_id) + \",\" + str(child_index) + \",\" + str(palette_id) + \",\" + str(ch_input_id) + \",\" + str(ch_output_id) + \",\" + str(ch_last_updated) + \",\" + str(average) + \",\" + str(samples) + \",\" + str(aux_a_x) + \",\" + str(aux_a_y) + \",\" + str(aux_a_z) + \",\" + str(aux_b_x) + \",\" + str(aux_b_y) + \",\" + str(aux_b_z) + \",\" + str(color_shift) + \",\" + str(rotate_vec_x) + \",\" + str(rotate_vec_y) + \",\" + str(rotate_vec_z) + \",\" + str(rotate_vec_s) + \",\" + str(scale_x) + \",\" + str(scale_y) + \",\" + str(scale_z) + \",\" + str(translate_x) + \",\" + str(translate_y) + \",\" + str(translate_z) + \",\" + str(tag_offset_x) + \",\" + str(tag_offset_y) + \",\" + str(tag_offset_z) + \",\" + str(rotate_rate_x) + \",\" + str(rotate_rate_y) + \",\" + str(rotate_rate_z) + \",\" + str(rotate_x) + \",\" + str(rotate_y) + \",\" + str(rotate_z) + \",\" + str(scale_rate_x) + \",\" + str(scale_rate_y) + \",\" + str(scale_rate_z) + \",\" + str(translate_rate_x) + \",\" + str(translate_rate_y) + \",\" + str(translate_rate_z) + \",\" + str(translate_vec_x) + \",\" + str(translate_vec_y) + \",\" + str(translate_vec_z) + \",\" + str(shader) + \",\" + str(geometry) + \",\" + str(line_width) + \",\" + str(point_size) + \",\" + str(ratio) + \",\" + str(color_index) + \",\" + str(color_r) + \",\" + str(color_g) + \",\" + str(color_b) + \",\" + str(color_a) + \",\" + str(color_fade) + \",\" + str(texture_id) + \",\" + str(hide) + \",\" + str(freeze) + \",\" + str(topo) + \",\" + str(facet) + \",\" + str(auto_zoom_x) + \",\" + str(auto_zoom_y) + \",\" + str(auto_zoom_z) + \",\" + str(trigger_hi_x) + \",\" + str(trigger_hi_y) + \",\" + str(trigger_hi_z) + \",\" + str(trigger_lo_x) + \",\" + str(trigger_lo_y) + \",\" + str(trigger_lo_z) + \",\" + str(set_hi_x) + \",\" + str(set_hi_y) + \",\" + str(set_hi_z) + \",\" + str(set_lo_x) + \",\" + str(set_lo_y) + \",\" + str(set_lo_z) + \",\" + str(proximity_x) + \",\" + str(proximity_y) + \",\" + str(proximity_z) + \",\" + str(proximity_mode_x) + \",\" + str(proximity_mode_y) + \",\" + str(proximity_mode_z) + \",\" + str(segments_x) + \",\" + str(segments_y) + \",\" + str(segments_z) + \",\" + str(tag_mode) + \",\" + str(format_id) + \",\" + str(table_id) + \",\" + str(record_id) + \",\" + str(size) + \"\\n\"\n",
    "    fout.write(outputstring)\n",
    "\n",
    "    # Output to Tag file\n",
    "    tagtext = \"Sleep stage/ Weekday: \" + str(row[\"weekday\"])\n",
    "    tagstring = str(taginc) + \",\" + str(record_id) + \",0,\\\"\" + tagtext + \"\\\",\\\"\\\"\\n\"\n",
    "    ftag.write(tagstring)\n",
    "    taginc += 1\n",
    "\n",
    "    level0objectid = id\n",
    "    \n",
    "    for j in range(numlevel1toroids):\n",
    "        id += 1\n",
    "        data = id\n",
    "        type = 5\n",
    "        parent_id = level0objectid\n",
    "        selected = 0\n",
    "        branch_level = 1\n",
    "        child_id = id\n",
    "        translate_x = 270\n",
    "        translate_y = 0\n",
    "        translate_z = 0\n",
    "        scale_x = 8.54\n",
    "        scale_y = 12\n",
    "        scale_z = 42.74\n",
    "        line_width= 1\n",
    "        geometry = 19\n",
    "        topo = 6\n",
    "        color_r = 191\n",
    "        color_g = 191\n",
    "        color_b = 191\n",
    "        color_a = 200\n",
    "        rotate_x = 0\n",
    "        rotate_y = 0\n",
    "        rotate_z = 90\n",
    "        ratio = .03\n",
    "        record_id = id \n",
    "        texture_id= 0\n",
    "\n",
    "        # Creat output string and write to ANTz Node File\n",
    "        outputstring = str(id) + \",\" + str(type) + \",\" + str(data) + \",\" + str(selected) + \",\" + str(parent_id) + \",\" + str(branch_level) + \",\" + str(child_id) + \",\" + str(child_index) + \",\" + str(palette_id) + \",\" + str(ch_input_id) + \",\" + str(ch_output_id) + \",\" + str(ch_last_updated) + \",\" + str(average) + \",\" + str(samples) + \",\" + str(aux_a_x) + \",\" + str(aux_a_y) + \",\" + str(aux_a_z) + \",\" + str(aux_b_x) + \",\" + str(aux_b_y) + \",\" + str(aux_b_z) + \",\" + str(color_shift) + \",\" + str(rotate_vec_x) + \",\" + str(rotate_vec_y) + \",\" + str(rotate_vec_z) + \",\" + str(rotate_vec_s) + \",\" + str(scale_x) + \",\" + str(scale_y) + \",\" + str(scale_z) + \",\" + str(translate_x) + \",\" + str(translate_y) + \",\" + str(translate_z) + \",\" + str(tag_offset_x) + \",\" + str(tag_offset_y) + \",\" + str(tag_offset_z) + \",\" + str(rotate_rate_x) + \",\" + str(rotate_rate_y) + \",\" + str(rotate_rate_z) + \",\" + str(rotate_x) + \",\" + str(rotate_y) + \",\" + str(rotate_z) + \",\" + str(scale_rate_x) + \",\" + str(scale_rate_y) + \",\" + str(scale_rate_z) + \",\" + str(translate_rate_x) + \",\" + str(translate_rate_y) + \",\" + str(translate_rate_z) + \",\" + str(translate_vec_x) + \",\" + str(translate_vec_y) + \",\" + str(translate_vec_z) + \",\" + str(shader) + \",\" + str(geometry) + \",\" + str(line_width) + \",\" + str(point_size) + \",\" + str(ratio) + \",\" + str(color_index) + \",\" + str(color_r) + \",\" + str(color_g) + \",\" + str(color_b) + \",\" + str(color_a) + \",\" + str(color_fade) + \",\" + str(texture_id) + \",\" + str(hide) + \",\" + str(freeze) + \",\" + str(topo) + \",\" + str(facet) + \",\" + str(auto_zoom_x) + \",\" + str(auto_zoom_y) + \",\" + str(auto_zoom_z) + \",\" + str(trigger_hi_x) + \",\" + str(trigger_hi_y) + \",\" + str(trigger_hi_z) + \",\" + str(trigger_lo_x) + \",\" + str(trigger_lo_y) + \",\" + str(trigger_lo_z) + \",\" + str(set_hi_x) + \",\" + str(set_hi_y) + \",\" + str(set_hi_z) + \",\" + str(set_lo_x) + \",\" + str(set_lo_y) + \",\" + str(set_lo_z) + \",\" + str(proximity_x) + \",\" + str(proximity_y) + \",\" + str(proximity_z) + \",\" + str(proximity_mode_x) + \",\" + str(proximity_mode_y) + \",\" + str(proximity_mode_z) + \",\" + str(segments_x) + \",\" + str(segments_y) + \",\" + str(segments_z) + \",\" + str(tag_mode) + \",\" + str(format_id) + \",\" + str(table_id) + \",\" + str(record_id) + \",\" + str(size) + \"\\n\"\n",
    "        fout.write(outputstring)\n",
    "\n",
    "        level1objectid = id\n",
    "        numlevel2toroids = lvl2hg\n",
    "        #spheres for each 5 min of sleep\n",
    "        for k in range(numlevel2toroids):\n",
    "            id += 1\n",
    "            data = id\n",
    "            type = 5\n",
    "            parent_id = level1objectid\n",
    "            selected = 0\n",
    "            branch_level = 2\n",
    "            child_id = id\n",
    "            scale_x =  1.48 \n",
    "            scale_y = 1.48\n",
    "            scale_z = .65\n",
    "            translate_x = -180 + (.6*k)\n",
    "            translate_y = 0\n",
    "            translate_z = 0\n",
    "            rotate_x = 0\n",
    "            rotate_y = 0\n",
    "            rotate_z = 0\n",
    "            ratio = .1\n",
    "            line_width= 1\n",
    "            geometry = 3\n",
    "            topo = 2\n",
    "            column = str(str(\"hg_\") + str(k))\n",
    "            if row[column] == \"1\":\n",
    "                color_r = 60\n",
    "                color_g = 116\n",
    "                color_b = 166\n",
    "                color_a = 255\n",
    "            elif row[column] == \"2\":\n",
    "                color_r = 102\n",
    "                color_g = 184\n",
    "                color_b = 217\n",
    "                color_a = 255\n",
    "            elif row[column] == \"3\":\n",
    "                color_r = 217\n",
    "                color_g = 84\n",
    "                color_b = 54\n",
    "                color_a = 255\n",
    "            elif row[column] == \"4\":\n",
    "                color_r = 188\n",
    "                color_g = 191\n",
    "                color_b = 96\n",
    "                color_a = 255\n",
    "            elif row[column] == \"5\":\n",
    "                color_r = 217\n",
    "                color_g = 162\n",
    "                color_b = 95\n",
    "                color_a = 105\n",
    "            record_id = id \n",
    "            texture_id= 0\n",
    "\n",
    "            # Creat output string and write to ANTz Node File\n",
    "            outputstring = str(id) + \",\" + str(type) + \",\" + str(data) + \",\" + str(selected) + \",\" + str(parent_id) + \",\" + str(branch_level) + \",\" + str(child_id) + \",\" + str(child_index) + \",\" + str(palette_id) + \",\" + str(ch_input_id) + \",\" + str(ch_output_id) + \",\" + str(ch_last_updated) + \",\" + str(average) + \",\" + str(samples) + \",\" + str(aux_a_x) + \",\" + str(aux_a_y) + \",\" + str(aux_a_z) + \",\" + str(aux_b_x) + \",\" + str(aux_b_y) + \",\" + str(aux_b_z) + \",\" + str(color_shift) + \",\" + str(rotate_vec_x) + \",\" + str(rotate_vec_y) + \",\" + str(rotate_vec_z) + \",\" + str(rotate_vec_s) + \",\" + str(scale_x) + \",\" + str(scale_y) + \",\" + str(scale_z) + \",\" + str(translate_x) + \",\" + str(translate_y) + \",\" + str(translate_z) + \",\" + str(tag_offset_x) + \",\" + str(tag_offset_y) + \",\" + str(tag_offset_z) + \",\" + str(rotate_rate_x) + \",\" + str(rotate_rate_y) + \",\" + str(rotate_rate_z) + \",\" + str(rotate_x) + \",\" + str(rotate_y) + \",\" + str(rotate_z) + \",\" + str(scale_rate_x) + \",\" + str(scale_rate_y) + \",\" + str(scale_rate_z) + \",\" + str(translate_rate_x) + \",\" + str(translate_rate_y) + \",\" + str(translate_rate_z) + \",\" + str(translate_vec_x) + \",\" + str(translate_vec_y) + \",\" + str(translate_vec_z) + \",\" + str(shader) + \",\" + str(geometry) + \",\" + str(line_width) + \",\" + str(point_size) + \",\" + str(ratio) + \",\" + str(color_index) + \",\" + str(color_r) + \",\" + str(color_g) + \",\" + str(color_b) + \",\" + str(color_a) + \",\" + str(color_fade) + \",\" + str(texture_id) + \",\" + str(hide) + \",\" + str(freeze) + \",\" + str(topo) + \",\" + str(facet) + \",\" + str(auto_zoom_x) + \",\" + str(auto_zoom_y) + \",\" + str(auto_zoom_z) + \",\" + str(trigger_hi_x) + \",\" + str(trigger_hi_y) + \",\" + str(trigger_hi_z) + \",\" + str(trigger_lo_x) + \",\" + str(trigger_lo_y) + \",\" + str(trigger_lo_z) + \",\" + str(set_hi_x) + \",\" + str(set_hi_y) + \",\" + str(set_hi_z) + \",\" + str(set_lo_x) + \",\" + str(set_lo_y) + \",\" + str(set_lo_z) + \",\" + str(proximity_x) + \",\" + str(proximity_y) + \",\" + str(proximity_z) + \",\" + str(proximity_mode_x) + \",\" + str(proximity_mode_y) + \",\" + str(proximity_mode_z) + \",\" + str(segments_x) + \",\" + str(segments_y) + \",\" + str(segments_z) + \",\" + str(tag_mode) + \",\" + str(format_id) + \",\" + str(table_id) + \",\" + str(record_id) + \",\" + str(size) + \"\\n\"\n",
    "            fout.write(outputstring)\n"
   ]
  },
  {
   "cell_type": "markdown",
   "metadata": {},
   "source": [
    "## Node file for rmssd_5min"
   ]
  },
  {
   "cell_type": "code",
   "execution_count": null,
   "metadata": {
    "collapsed": true
   },
   "outputs": [],
   "source": [
    "# rmssd_5min (hrv)\n",
    "# Open ANTz Node file for writing\n",
    "fout = open(hrvn,\"w\")\n",
    "\n",
    "# Open the Tag file to add metadata to ANTz objects\n",
    "ftag = open(hrvt,\"w\")\n",
    "# Write the header string\n",
    "outputstring = \"id,record_id,table_id,title,description\\n\"\n",
    "ftag.write(outputstring)\n",
    "\n",
    "# Write rows for header, world, camera views (4), and grid to Node file\n",
    "outputstring = \"id,type,data,selected,parent_id,branch_level,child_id,child_index,palette_id,ch_input_id,ch_output_id,ch_last_updated,average,samples,aux_a_x,aux_a_y,aux_a_z,aux_b_x,aux_b_y,aux_b_z,color_shift,rotate_vec_x,rotate_vec_y,rotate_vec_z,rotate_vec_s,scale_x,scale_y,scale_z,translate_x,translate_y,translate_z,tag_offset_x,tag_offset_y,tag_offset_z,rotate_rate_x,rotate_rate_y,rotate_rate_z,rotate_x,rotate_y,rotate_z,scale_rate_x,scale_rate_y,scale_rate_z,translate_rate_x,translate_rate_y,translate_rate_z,translate_vec_x,translate_vec_y,translate_vec_z,shader,geometry,line_width,point_size,ratio,color_index,color_r,color_g,color_b,color_a,color_fade,texture_id,hide,freeze,topo,facet,auto_zoom_x,auto_zoom_y,auto_zoom_z,trigger_hi_x,trigger_hi_y,trigger_hi_z,trigger_lo_x,trigger_lo_y,trigger_lo_z,set_hi_x,set_hi_y,set_hi_z,set_lo_x,set_lo_y,set_lo_z,proximity_x,proximity_y,proximity_z,proximity_mode_x,proximity_mode_y,proximity_mode_z,segments_x,segments_y,segments_z,tag_mode,format_id,table_id,record_id,size\\n\"\n",
    "fout.write(outputstring)\n",
    "\n",
    "# Row for world parameters\n",
    "outputstring = \"1,0,1,0,0,0,1,0,0,0,0,0,0,1,0,0,0,0,0,0,0,0,0,0,1,1,1,1,0,0,0,0,0,1,0,0,0,0,0,0,0,0,0,0,0,0,0,0,0,0,0,1,0,0.1,0,50,101,101,255,0,0,0,0,0,0,0,0,0,0,0,0,0,0,1,0,0,0,0,0,0,0,0,0,0,0,0,16,16,0,0,0,0,0,420\\n\"\n",
    "fout.write(outputstring)\n",
    "# Row for first camera view\n",
    "outputstring = \"2,1,2,0,0,0,2,2,3,0,0,0,0,1,0,0,0,0,0,0,0,0,0.008645,0.825266,-0.564678,1,1,1,-32.446629,-180.908295,143.514175,0,0,1,0,0,0,55.620094,0.600200,0,0,0,0,0,0,0,0,0,0,0,0,1,0,0.1,0,50,101,101,255,0,0,0,0,0,0,0,0,0,0,0,0,0,0,0,0,0,0,0,0,0,214.306686,0,0,0,0,0,16,16,0,0,0,0,0,420\\n\"\n",
    "fout.write(outputstring)\n",
    "# Row for second camera view\n",
    "outputstring = \"3,1,3,0,2,1,3,0,0,0,0,0,0,1,0,0,0,0,0,0,0,0,0,0,-1,1,1,1,-0.500000,0,571.750000,0,0,1,0,0,0,0,0,0,0,0,0,0,0,0,0,0,0,0,0,1,0,0.1,0,50,101,101,255,0,0,0,0,0,0,0,0,0,0,0,0,0,0,0,0,0,0,0,0,0,0,0,0,0,0,0,16,16,0,0,0,0,0,420\\n\"\n",
    "fout.write(outputstring)\n",
    "# Third camera view\n",
    "outputstring = \"4,1,4,0,2,1,4,0,0,0,0,0,0,1,0,0,0,0,0,0,0,0,0,1,-0,1,1,1,0,-90,7,0,0,1,0,0,0,90,0,0,0,0,0,0,0,0,0,0,0,0,0,1,0,0.1,0,50,101,101,255,0,0,0,0,0,0,0,0,0,0,0,0,0,0,0,0,0,0,0,0,0,0,0,0,0,0,0,16,16,0,0,0,0,0,420\\n\"\n",
    "fout.write(outputstring)\n",
    "# Fourth camera view\n",
    "outputstring = \"5,1,5,0,2,1,5,0,0,0,0,0,0,1,0,0,0,0,0,0,0,0,-1,-0,-0,1,1,1,85,0,7,0,0,1,0,0,0,90,270,0,0,0,0,0,0,0,-0,0,0,0,0,1,0,0.1,0,50,101,101,255,0,0,0,0,0,0,0,0,0,0,0,0,0,0,0,0,0,0,0,0,0,0,0,0,0,0,0,16,16,0,0,0,0,0,420\\n\"\n",
    "fout.write(outputstring)\n",
    "# Default Grid\n",
    "outputstring = \"6,6,6,1,0,0,0,1,0,0,0,0,0,1,0,0,0,0,0,0,0,0,0,0,0,1,1,1,0,0,0,0,0,1,0,0,0,0,0,0,0,0,0,0,0,0,0,0,0,0,0,1,0,0.1,3,0,0,255,150,0,0,0,0,0,0,0,0,0,0,0,0,0,0,0,0,0,0,0,0,0,0,0,0,0,0,0,12,6,0,0,0,0,0,420\\n\"\n",
    "fout.write(outputstring)\n",
    "\n",
    "# Initialize increments\n",
    "taginc = 0\n",
    "id = 6\n",
    "\n",
    "numlevel0toroids = 1\n",
    "numlevel1toroids = 1\n",
    "\n",
    "for index, row in dfhrvxyz.iterrows() :\n",
    "    id += 1\n",
    "    data = id\n",
    "    type = 5\n",
    "    parent_id = 0\n",
    "    selected = 0\n",
    "    branch_level = 0\n",
    "    child_id = id\n",
    "    translate_x = row['x']\n",
    "    translate_y = row['y']\n",
    "    translate_z = row['z']\n",
    "    scale_x = .5 \n",
    "    scale_y = scale_x\n",
    "    scale_z = scale_x\n",
    "    rotate_x = 90\n",
    "    ratio = .1\n",
    "    line_width= 2\n",
    "    geometry = 3\n",
    "    topo = 2\n",
    "    if row['weekday'] == 1:\n",
    "        color_r = 255\n",
    "        color_g = 250\n",
    "        color_b = 240\n",
    "    elif row['weekday'] == 2:\n",
    "        color_r = 205\n",
    "        color_g = 92\n",
    "        color_b = 92\n",
    "    elif row['weekday'] == 3:\n",
    "        color_r = 50\n",
    "        color_g = 205\n",
    "        color_b = 50\n",
    "    elif row['weekday'] == 4:\n",
    "        color_r = 255\n",
    "        color_g = 255\n",
    "        color_b = 224\n",
    "    elif row['weekday'] == 5:\n",
    "        color_r = 240\n",
    "        color_g = 248\n",
    "        color_b = 255\n",
    "    elif row['weekday'] == 6:\n",
    "        color_r = 102\n",
    "        color_g = 51\n",
    "        color_b = 153\n",
    "    elif row['weekday'] == 7:\n",
    "        color_r = 128\n",
    "        color_g = 0\n",
    "        color_b = 0\n",
    "    color_a = 155\n",
    "    rotate_x = 0\n",
    "    rotate_y = 0\n",
    "    rotate_z = 0\n",
    "    record_id = id \n",
    "    texture_id= 0\n",
    "\n",
    "    # Creat output string and write to ANTz Node File\n",
    "    outputstring = str(id) + \",\" + str(type) + \",\" + str(data) + \",\" + str(selected) + \",\" + str(parent_id) + \",\" + str(branch_level) + \",\" + str(child_id) + \",\" + str(child_index) + \",\" + str(palette_id) + \",\" + str(ch_input_id) + \",\" + str(ch_output_id) + \",\" + str(ch_last_updated) + \",\" + str(average) + \",\" + str(samples) + \",\" + str(aux_a_x) + \",\" + str(aux_a_y) + \",\" + str(aux_a_z) + \",\" + str(aux_b_x) + \",\" + str(aux_b_y) + \",\" + str(aux_b_z) + \",\" + str(color_shift) + \",\" + str(rotate_vec_x) + \",\" + str(rotate_vec_y) + \",\" + str(rotate_vec_z) + \",\" + str(rotate_vec_s) + \",\" + str(scale_x) + \",\" + str(scale_y) + \",\" + str(scale_z) + \",\" + str(translate_x) + \",\" + str(translate_y) + \",\" + str(translate_z) + \",\" + str(tag_offset_x) + \",\" + str(tag_offset_y) + \",\" + str(tag_offset_z) + \",\" + str(rotate_rate_x) + \",\" + str(rotate_rate_y) + \",\" + str(rotate_rate_z) + \",\" + str(rotate_x) + \",\" + str(rotate_y) + \",\" + str(rotate_z) + \",\" + str(scale_rate_x) + \",\" + str(scale_rate_y) + \",\" + str(scale_rate_z) + \",\" + str(translate_rate_x) + \",\" + str(translate_rate_y) + \",\" + str(translate_rate_z) + \",\" + str(translate_vec_x) + \",\" + str(translate_vec_y) + \",\" + str(translate_vec_z) + \",\" + str(shader) + \",\" + str(geometry) + \",\" + str(line_width) + \",\" + str(point_size) + \",\" + str(ratio) + \",\" + str(color_index) + \",\" + str(color_r) + \",\" + str(color_g) + \",\" + str(color_b) + \",\" + str(color_a) + \",\" + str(color_fade) + \",\" + str(texture_id) + \",\" + str(hide) + \",\" + str(freeze) + \",\" + str(topo) + \",\" + str(facet) + \",\" + str(auto_zoom_x) + \",\" + str(auto_zoom_y) + \",\" + str(auto_zoom_z) + \",\" + str(trigger_hi_x) + \",\" + str(trigger_hi_y) + \",\" + str(trigger_hi_z) + \",\" + str(trigger_lo_x) + \",\" + str(trigger_lo_y) + \",\" + str(trigger_lo_z) + \",\" + str(set_hi_x) + \",\" + str(set_hi_y) + \",\" + str(set_hi_z) + \",\" + str(set_lo_x) + \",\" + str(set_lo_y) + \",\" + str(set_lo_z) + \",\" + str(proximity_x) + \",\" + str(proximity_y) + \",\" + str(proximity_z) + \",\" + str(proximity_mode_x) + \",\" + str(proximity_mode_y) + \",\" + str(proximity_mode_z) + \",\" + str(segments_x) + \",\" + str(segments_y) + \",\" + str(segments_z) + \",\" + str(tag_mode) + \",\" + str(format_id) + \",\" + str(table_id) + \",\" + str(record_id) + \",\" + str(size) + \"\\n\"\n",
    "    fout.write(outputstring)\n",
    "\n",
    "    # Output to Tag file\n",
    "    tagtext = \"HRV every 5 min/ Day: \" + str(row[\"weekday\"])\n",
    "    tagstring = str(taginc) + \",\" + str(record_id) + \",0,\\\"\" + tagtext + \"\\\",\\\"\\\"\\n\"\n",
    "    ftag.write(tagstring)\n",
    "    taginc += 1\n",
    "\n",
    "    level0objectid = id\n",
    "    \n",
    "    for j in range(numlevel1toroids):\n",
    "        id += 1\n",
    "        data = id\n",
    "        type = 5\n",
    "        parent_id = level0objectid\n",
    "        selected = 0\n",
    "        branch_level = 1\n",
    "        child_id = id\n",
    "        translate_x = 270\n",
    "        translate_y = 0\n",
    "        translate_z = 0\n",
    "        scale_x = 8.54\n",
    "        scale_y = 12\n",
    "        scale_z = 42.74\n",
    "        line_width= 1\n",
    "        geometry = 19\n",
    "        topo = 6\n",
    "        color_r = 191\n",
    "        color_g = 191\n",
    "        color_b = 191\n",
    "        color_a = 200\n",
    "        rotate_x = 0\n",
    "        rotate_y = 0\n",
    "        rotate_z = 90\n",
    "        ratio = .03\n",
    "        record_id = id \n",
    "        texture_id= 0\n",
    "\n",
    "        # Creat output string and write to ANTz Node File\n",
    "        outputstring = str(id) + \",\" + str(type) + \",\" + str(data) + \",\" + str(selected) + \",\" + str(parent_id) + \",\" + str(branch_level) + \",\" + str(child_id) + \",\" + str(child_index) + \",\" + str(palette_id) + \",\" + str(ch_input_id) + \",\" + str(ch_output_id) + \",\" + str(ch_last_updated) + \",\" + str(average) + \",\" + str(samples) + \",\" + str(aux_a_x) + \",\" + str(aux_a_y) + \",\" + str(aux_a_z) + \",\" + str(aux_b_x) + \",\" + str(aux_b_y) + \",\" + str(aux_b_z) + \",\" + str(color_shift) + \",\" + str(rotate_vec_x) + \",\" + str(rotate_vec_y) + \",\" + str(rotate_vec_z) + \",\" + str(rotate_vec_s) + \",\" + str(scale_x) + \",\" + str(scale_y) + \",\" + str(scale_z) + \",\" + str(translate_x) + \",\" + str(translate_y) + \",\" + str(translate_z) + \",\" + str(tag_offset_x) + \",\" + str(tag_offset_y) + \",\" + str(tag_offset_z) + \",\" + str(rotate_rate_x) + \",\" + str(rotate_rate_y) + \",\" + str(rotate_rate_z) + \",\" + str(rotate_x) + \",\" + str(rotate_y) + \",\" + str(rotate_z) + \",\" + str(scale_rate_x) + \",\" + str(scale_rate_y) + \",\" + str(scale_rate_z) + \",\" + str(translate_rate_x) + \",\" + str(translate_rate_y) + \",\" + str(translate_rate_z) + \",\" + str(translate_vec_x) + \",\" + str(translate_vec_y) + \",\" + str(translate_vec_z) + \",\" + str(shader) + \",\" + str(geometry) + \",\" + str(line_width) + \",\" + str(point_size) + \",\" + str(ratio) + \",\" + str(color_index) + \",\" + str(color_r) + \",\" + str(color_g) + \",\" + str(color_b) + \",\" + str(color_a) + \",\" + str(color_fade) + \",\" + str(texture_id) + \",\" + str(hide) + \",\" + str(freeze) + \",\" + str(topo) + \",\" + str(facet) + \",\" + str(auto_zoom_x) + \",\" + str(auto_zoom_y) + \",\" + str(auto_zoom_z) + \",\" + str(trigger_hi_x) + \",\" + str(trigger_hi_y) + \",\" + str(trigger_hi_z) + \",\" + str(trigger_lo_x) + \",\" + str(trigger_lo_y) + \",\" + str(trigger_lo_z) + \",\" + str(set_hi_x) + \",\" + str(set_hi_y) + \",\" + str(set_hi_z) + \",\" + str(set_lo_x) + \",\" + str(set_lo_y) + \",\" + str(set_lo_z) + \",\" + str(proximity_x) + \",\" + str(proximity_y) + \",\" + str(proximity_z) + \",\" + str(proximity_mode_x) + \",\" + str(proximity_mode_y) + \",\" + str(proximity_mode_z) + \",\" + str(segments_x) + \",\" + str(segments_y) + \",\" + str(segments_z) + \",\" + str(tag_mode) + \",\" + str(format_id) + \",\" + str(table_id) + \",\" + str(record_id) + \",\" + str(size) + \"\\n\"\n",
    "        fout.write(outputstring)\n",
    "\n",
    "        level1objectid = id\n",
    "        numlevel2toroids = lvl2hrv\n",
    "        #pin objects for each reading per day\n",
    "        for k in range(numlevel2toroids):\n",
    "            id += 1\n",
    "            data = id\n",
    "            type = 5\n",
    "            parent_id = level1objectid\n",
    "            selected = 0\n",
    "            branch_level = 2\n",
    "            child_id = id\n",
    "            column = str(str(\"hrv_\") + str(k) + str(\"_scalexyz\"))\n",
    "            scale_x = row[column] \n",
    "            scale_y = scale_x\n",
    "            scale_z = scale_x\n",
    "            translate_x = -180 + (.6*k)\n",
    "            translate_y = 0\n",
    "            translate_z = 0\n",
    "            rotate_x = 90\n",
    "            rotate_y = 270\n",
    "            rotate_z = 0\n",
    "            ratio = .1\n",
    "            line_width= 1\n",
    "            geometry = 16\n",
    "            topo = 5\n",
    "            color_r = 242\n",
    "            color_g = 29\n",
    "            color_b = 181\n",
    "            color_a = 255\n",
    "            record_id = id \n",
    "            texture_id= 0\n",
    "\n",
    "            # Creat output string and write to ANTz Node File\n",
    "            outputstring = str(id) + \",\" + str(type) + \",\" + str(data) + \",\" + str(selected) + \",\" + str(parent_id) + \",\" + str(branch_level) + \",\" + str(child_id) + \",\" + str(child_index) + \",\" + str(palette_id) + \",\" + str(ch_input_id) + \",\" + str(ch_output_id) + \",\" + str(ch_last_updated) + \",\" + str(average) + \",\" + str(samples) + \",\" + str(aux_a_x) + \",\" + str(aux_a_y) + \",\" + str(aux_a_z) + \",\" + str(aux_b_x) + \",\" + str(aux_b_y) + \",\" + str(aux_b_z) + \",\" + str(color_shift) + \",\" + str(rotate_vec_x) + \",\" + str(rotate_vec_y) + \",\" + str(rotate_vec_z) + \",\" + str(rotate_vec_s) + \",\" + str(scale_x) + \",\" + str(scale_y) + \",\" + str(scale_z) + \",\" + str(translate_x) + \",\" + str(translate_y) + \",\" + str(translate_z) + \",\" + str(tag_offset_x) + \",\" + str(tag_offset_y) + \",\" + str(tag_offset_z) + \",\" + str(rotate_rate_x) + \",\" + str(rotate_rate_y) + \",\" + str(rotate_rate_z) + \",\" + str(rotate_x) + \",\" + str(rotate_y) + \",\" + str(rotate_z) + \",\" + str(scale_rate_x) + \",\" + str(scale_rate_y) + \",\" + str(scale_rate_z) + \",\" + str(translate_rate_x) + \",\" + str(translate_rate_y) + \",\" + str(translate_rate_z) + \",\" + str(translate_vec_x) + \",\" + str(translate_vec_y) + \",\" + str(translate_vec_z) + \",\" + str(shader) + \",\" + str(geometry) + \",\" + str(line_width) + \",\" + str(point_size) + \",\" + str(ratio) + \",\" + str(color_index) + \",\" + str(color_r) + \",\" + str(color_g) + \",\" + str(color_b) + \",\" + str(color_a) + \",\" + str(color_fade) + \",\" + str(texture_id) + \",\" + str(hide) + \",\" + str(freeze) + \",\" + str(topo) + \",\" + str(facet) + \",\" + str(auto_zoom_x) + \",\" + str(auto_zoom_y) + \",\" + str(auto_zoom_z) + \",\" + str(trigger_hi_x) + \",\" + str(trigger_hi_y) + \",\" + str(trigger_hi_z) + \",\" + str(trigger_lo_x) + \",\" + str(trigger_lo_y) + \",\" + str(trigger_lo_z) + \",\" + str(set_hi_x) + \",\" + str(set_hi_y) + \",\" + str(set_hi_z) + \",\" + str(set_lo_x) + \",\" + str(set_lo_y) + \",\" + str(set_lo_z) + \",\" + str(proximity_x) + \",\" + str(proximity_y) + \",\" + str(proximity_z) + \",\" + str(proximity_mode_x) + \",\" + str(proximity_mode_y) + \",\" + str(proximity_mode_z) + \",\" + str(segments_x) + \",\" + str(segments_y) + \",\" + str(segments_z) + \",\" + str(tag_mode) + \",\" + str(format_id) + \",\" + str(table_id) + \",\" + str(record_id) + \",\" + str(size) + \"\\n\"\n",
    "            fout.write(outputstring)\n"
   ]
  },
  {
   "cell_type": "markdown",
   "metadata": {},
   "source": [
    "## Node file for hr_5min"
   ]
  },
  {
   "cell_type": "code",
   "execution_count": null,
   "metadata": {
    "collapsed": true
   },
   "outputs": [],
   "source": [
    "#hr_5min \n",
    "# Open ANTz Node file for writing\n",
    "fout = open(hrn,\"w\")\n",
    "\n",
    "# Open the Tag file to add metadata to ANTz objects\n",
    "ftag = open(hrt,\"w\")\n",
    "# Write the header string\n",
    "outputstring = \"id,record_id,table_id,title,description\\n\"\n",
    "ftag.write(outputstring)\n",
    "\n",
    "# Write rows for header, world, camera views (4), and grid to Node file\n",
    "outputstring = \"id,type,data,selected,parent_id,branch_level,child_id,child_index,palette_id,ch_input_id,ch_output_id,ch_last_updated,average,samples,aux_a_x,aux_a_y,aux_a_z,aux_b_x,aux_b_y,aux_b_z,color_shift,rotate_vec_x,rotate_vec_y,rotate_vec_z,rotate_vec_s,scale_x,scale_y,scale_z,translate_x,translate_y,translate_z,tag_offset_x,tag_offset_y,tag_offset_z,rotate_rate_x,rotate_rate_y,rotate_rate_z,rotate_x,rotate_y,rotate_z,scale_rate_x,scale_rate_y,scale_rate_z,translate_rate_x,translate_rate_y,translate_rate_z,translate_vec_x,translate_vec_y,translate_vec_z,shader,geometry,line_width,point_size,ratio,color_index,color_r,color_g,color_b,color_a,color_fade,texture_id,hide,freeze,topo,facet,auto_zoom_x,auto_zoom_y,auto_zoom_z,trigger_hi_x,trigger_hi_y,trigger_hi_z,trigger_lo_x,trigger_lo_y,trigger_lo_z,set_hi_x,set_hi_y,set_hi_z,set_lo_x,set_lo_y,set_lo_z,proximity_x,proximity_y,proximity_z,proximity_mode_x,proximity_mode_y,proximity_mode_z,segments_x,segments_y,segments_z,tag_mode,format_id,table_id,record_id,size\\n\"\n",
    "fout.write(outputstring)\n",
    "\n",
    "# Row for world parameters\n",
    "outputstring = \"1,0,1,0,0,0,1,0,0,0,0,0,0,1,0,0,0,0,0,0,0,0,0,0,1,1,1,1,0,0,0,0,0,1,0,0,0,0,0,0,0,0,0,0,0,0,0,0,0,0,0,1,0,0.1,0,50,101,101,255,0,0,0,0,0,0,0,0,0,0,0,0,0,0,1,0,0,0,0,0,0,0,0,0,0,0,0,16,16,0,0,0,0,0,420\\n\"\n",
    "fout.write(outputstring)\n",
    "# Row for first camera view\n",
    "outputstring = \"2,1,2,0,0,0,2,2,3,0,0,0,0,1,0,0,0,0,0,0,0,0,0.008645,0.825266,-0.564678,1,1,1,-32.446629,-180.908295,143.514175,0,0,1,0,0,0,55.620094,0.600200,0,0,0,0,0,0,0,0,0,0,0,0,1,0,0.1,0,50,101,101,255,0,0,0,0,0,0,0,0,0,0,0,0,0,0,0,0,0,0,0,0,0,214.306686,0,0,0,0,0,16,16,0,0,0,0,0,420\\n\"\n",
    "fout.write(outputstring)\n",
    "# Row for second camera view\n",
    "outputstring = \"3,1,3,0,2,1,3,0,0,0,0,0,0,1,0,0,0,0,0,0,0,0,0,0,-1,1,1,1,-0.500000,0,571.750000,0,0,1,0,0,0,0,0,0,0,0,0,0,0,0,0,0,0,0,0,1,0,0.1,0,50,101,101,255,0,0,0,0,0,0,0,0,0,0,0,0,0,0,0,0,0,0,0,0,0,0,0,0,0,0,0,16,16,0,0,0,0,0,420\\n\"\n",
    "fout.write(outputstring)\n",
    "# Third camera view\n",
    "outputstring = \"4,1,4,0,2,1,4,0,0,0,0,0,0,1,0,0,0,0,0,0,0,0,0,1,-0,1,1,1,0,-90,7,0,0,1,0,0,0,90,0,0,0,0,0,0,0,0,0,0,0,0,0,1,0,0.1,0,50,101,101,255,0,0,0,0,0,0,0,0,0,0,0,0,0,0,0,0,0,0,0,0,0,0,0,0,0,0,0,16,16,0,0,0,0,0,420\\n\"\n",
    "fout.write(outputstring)\n",
    "# Fourth camera view\n",
    "outputstring = \"5,1,5,0,2,1,5,0,0,0,0,0,0,1,0,0,0,0,0,0,0,0,-1,-0,-0,1,1,1,85,0,7,0,0,1,0,0,0,90,270,0,0,0,0,0,0,0,-0,0,0,0,0,1,0,0.1,0,50,101,101,255,0,0,0,0,0,0,0,0,0,0,0,0,0,0,0,0,0,0,0,0,0,0,0,0,0,0,0,16,16,0,0,0,0,0,420\\n\"\n",
    "fout.write(outputstring)\n",
    "# Default Grid\n",
    "outputstring = \"6,6,6,1,0,0,0,1,0,0,0,0,0,1,0,0,0,0,0,0,0,0,0,0,0,1,1,1,0,0,0,0,0,1,0,0,0,0,0,0,0,0,0,0,0,0,0,0,0,0,0,1,0,0.1,3,0,0,255,150,0,0,0,0,0,0,0,0,0,0,0,0,0,0,0,0,0,0,0,0,0,0,0,0,0,0,0,12,6,0,0,0,0,0,420\\n\"\n",
    "fout.write(outputstring)\n",
    "\n",
    "# Initialize increments\n",
    "taginc = 0\n",
    "id = 6\n",
    "\n",
    "numlevel0toroids = 1\n",
    "numlevel1toroids = 1\n",
    "\n",
    "for index, row in dfhrxyz.iterrows() :\n",
    "    id += 1\n",
    "    data = id\n",
    "    type = 5\n",
    "    parent_id = 0\n",
    "    selected = 0\n",
    "    branch_level = 0\n",
    "    child_id = id\n",
    "    translate_x = row['x']\n",
    "    translate_y = row['y']\n",
    "    translate_z = row['z']\n",
    "    scale_x = .5 \n",
    "    scale_y = scale_x\n",
    "    scale_z = scale_x\n",
    "    rotate_x = 90\n",
    "    ratio = .1\n",
    "    line_width= 2\n",
    "    geometry = 3\n",
    "    topo = 2\n",
    "    if row['weekday'] == 1:\n",
    "        color_r = 255\n",
    "        color_g = 250\n",
    "        color_b = 240\n",
    "    if row['weekday'] == 2:\n",
    "        color_r = 205\n",
    "        color_g = 92\n",
    "        color_b = 92\n",
    "    if row['weekday'] == 3:\n",
    "        color_r = 50\n",
    "        color_g = 205\n",
    "        color_b = 50\n",
    "    if row['weekday'] == 4:\n",
    "        color_r = 255\n",
    "        color_g = 255\n",
    "        color_b = 224\n",
    "    if row['weekday'] == 5:\n",
    "        color_r = 240\n",
    "        color_g = 248\n",
    "        color_b = 255\n",
    "    if row['weekday'] == 6:\n",
    "        color_r = 102\n",
    "        color_g = 51\n",
    "        color_b = 153\n",
    "    if row['weekday'] == 7:\n",
    "        color_r = 128\n",
    "        color_g = 0\n",
    "        color_b = 0\n",
    "    color_a = 155\n",
    "    rotate_x = 0\n",
    "    rotate_y = 0\n",
    "    rotate_z = 0\n",
    "    record_id = id \n",
    "    texture_id= 0\n",
    "\n",
    "    # Creat output string and write to ANTz Node File\n",
    "    outputstring = str(id) + \",\" + str(type) + \",\" + str(data) + \",\" + str(selected) + \",\" + str(parent_id) + \",\" + str(branch_level) + \",\" + str(child_id) + \",\" + str(child_index) + \",\" + str(palette_id) + \",\" + str(ch_input_id) + \",\" + str(ch_output_id) + \",\" + str(ch_last_updated) + \",\" + str(average) + \",\" + str(samples) + \",\" + str(aux_a_x) + \",\" + str(aux_a_y) + \",\" + str(aux_a_z) + \",\" + str(aux_b_x) + \",\" + str(aux_b_y) + \",\" + str(aux_b_z) + \",\" + str(color_shift) + \",\" + str(rotate_vec_x) + \",\" + str(rotate_vec_y) + \",\" + str(rotate_vec_z) + \",\" + str(rotate_vec_s) + \",\" + str(scale_x) + \",\" + str(scale_y) + \",\" + str(scale_z) + \",\" + str(translate_x) + \",\" + str(translate_y) + \",\" + str(translate_z) + \",\" + str(tag_offset_x) + \",\" + str(tag_offset_y) + \",\" + str(tag_offset_z) + \",\" + str(rotate_rate_x) + \",\" + str(rotate_rate_y) + \",\" + str(rotate_rate_z) + \",\" + str(rotate_x) + \",\" + str(rotate_y) + \",\" + str(rotate_z) + \",\" + str(scale_rate_x) + \",\" + str(scale_rate_y) + \",\" + str(scale_rate_z) + \",\" + str(translate_rate_x) + \",\" + str(translate_rate_y) + \",\" + str(translate_rate_z) + \",\" + str(translate_vec_x) + \",\" + str(translate_vec_y) + \",\" + str(translate_vec_z) + \",\" + str(shader) + \",\" + str(geometry) + \",\" + str(line_width) + \",\" + str(point_size) + \",\" + str(ratio) + \",\" + str(color_index) + \",\" + str(color_r) + \",\" + str(color_g) + \",\" + str(color_b) + \",\" + str(color_a) + \",\" + str(color_fade) + \",\" + str(texture_id) + \",\" + str(hide) + \",\" + str(freeze) + \",\" + str(topo) + \",\" + str(facet) + \",\" + str(auto_zoom_x) + \",\" + str(auto_zoom_y) + \",\" + str(auto_zoom_z) + \",\" + str(trigger_hi_x) + \",\" + str(trigger_hi_y) + \",\" + str(trigger_hi_z) + \",\" + str(trigger_lo_x) + \",\" + str(trigger_lo_y) + \",\" + str(trigger_lo_z) + \",\" + str(set_hi_x) + \",\" + str(set_hi_y) + \",\" + str(set_hi_z) + \",\" + str(set_lo_x) + \",\" + str(set_lo_y) + \",\" + str(set_lo_z) + \",\" + str(proximity_x) + \",\" + str(proximity_y) + \",\" + str(proximity_z) + \",\" + str(proximity_mode_x) + \",\" + str(proximity_mode_y) + \",\" + str(proximity_mode_z) + \",\" + str(segments_x) + \",\" + str(segments_y) + \",\" + str(segments_z) + \",\" + str(tag_mode) + \",\" + str(format_id) + \",\" + str(table_id) + \",\" + str(record_id) + \",\" + str(size) + \"\\n\"\n",
    "    fout.write(outputstring)\n",
    "\n",
    "    # Output to Tag file\n",
    "    tagtext = \"HR every 5 min / Day: \" + str(row[\"weekday\"])\n",
    "    tagstring = str(taginc) + \",\" + str(record_id) + \",0,\\\"\" + tagtext + \"\\\",\\\"\\\"\\n\"\n",
    "    ftag.write(tagstring)\n",
    "    taginc += 1\n",
    "\n",
    "    level0objectid = id\n",
    "    \n",
    "    for j in range(numlevel1toroids):\n",
    "        id += 1\n",
    "        data = id\n",
    "        type = 5\n",
    "        parent_id = level0objectid\n",
    "        selected = 0\n",
    "        branch_level = 1\n",
    "        child_id = id\n",
    "        translate_x = 270\n",
    "        translate_y = 0\n",
    "        translate_z = 0\n",
    "        scale_x = 8.54\n",
    "        scale_y = 12\n",
    "        scale_z = 42.74\n",
    "        line_width= 1\n",
    "        geometry = 19\n",
    "        topo = 6\n",
    "        color_r = 191\n",
    "        color_g = 191\n",
    "        color_b = 191\n",
    "        color_a = 200\n",
    "        rotate_x = 0\n",
    "        rotate_y = 0\n",
    "        rotate_z = 90\n",
    "        ratio = .03\n",
    "        record_id = id \n",
    "        texture_id= 0\n",
    "\n",
    "        # Creat output string and write to ANTz Node File\n",
    "        outputstring = str(id) + \",\" + str(type) + \",\" + str(data) + \",\" + str(selected) + \",\" + str(parent_id) + \",\" + str(branch_level) + \",\" + str(child_id) + \",\" + str(child_index) + \",\" + str(palette_id) + \",\" + str(ch_input_id) + \",\" + str(ch_output_id) + \",\" + str(ch_last_updated) + \",\" + str(average) + \",\" + str(samples) + \",\" + str(aux_a_x) + \",\" + str(aux_a_y) + \",\" + str(aux_a_z) + \",\" + str(aux_b_x) + \",\" + str(aux_b_y) + \",\" + str(aux_b_z) + \",\" + str(color_shift) + \",\" + str(rotate_vec_x) + \",\" + str(rotate_vec_y) + \",\" + str(rotate_vec_z) + \",\" + str(rotate_vec_s) + \",\" + str(scale_x) + \",\" + str(scale_y) + \",\" + str(scale_z) + \",\" + str(translate_x) + \",\" + str(translate_y) + \",\" + str(translate_z) + \",\" + str(tag_offset_x) + \",\" + str(tag_offset_y) + \",\" + str(tag_offset_z) + \",\" + str(rotate_rate_x) + \",\" + str(rotate_rate_y) + \",\" + str(rotate_rate_z) + \",\" + str(rotate_x) + \",\" + str(rotate_y) + \",\" + str(rotate_z) + \",\" + str(scale_rate_x) + \",\" + str(scale_rate_y) + \",\" + str(scale_rate_z) + \",\" + str(translate_rate_x) + \",\" + str(translate_rate_y) + \",\" + str(translate_rate_z) + \",\" + str(translate_vec_x) + \",\" + str(translate_vec_y) + \",\" + str(translate_vec_z) + \",\" + str(shader) + \",\" + str(geometry) + \",\" + str(line_width) + \",\" + str(point_size) + \",\" + str(ratio) + \",\" + str(color_index) + \",\" + str(color_r) + \",\" + str(color_g) + \",\" + str(color_b) + \",\" + str(color_a) + \",\" + str(color_fade) + \",\" + str(texture_id) + \",\" + str(hide) + \",\" + str(freeze) + \",\" + str(topo) + \",\" + str(facet) + \",\" + str(auto_zoom_x) + \",\" + str(auto_zoom_y) + \",\" + str(auto_zoom_z) + \",\" + str(trigger_hi_x) + \",\" + str(trigger_hi_y) + \",\" + str(trigger_hi_z) + \",\" + str(trigger_lo_x) + \",\" + str(trigger_lo_y) + \",\" + str(trigger_lo_z) + \",\" + str(set_hi_x) + \",\" + str(set_hi_y) + \",\" + str(set_hi_z) + \",\" + str(set_lo_x) + \",\" + str(set_lo_y) + \",\" + str(set_lo_z) + \",\" + str(proximity_x) + \",\" + str(proximity_y) + \",\" + str(proximity_z) + \",\" + str(proximity_mode_x) + \",\" + str(proximity_mode_y) + \",\" + str(proximity_mode_z) + \",\" + str(segments_x) + \",\" + str(segments_y) + \",\" + str(segments_z) + \",\" + str(tag_mode) + \",\" + str(format_id) + \",\" + str(table_id) + \",\" + str(record_id) + \",\" + str(size) + \"\\n\"\n",
    "        fout.write(outputstring)\n",
    "\n",
    "        level1objectid = id\n",
    "        numlevel2toroids = lvl2hr\n",
    "        #cone objects for each reading per day\n",
    "        for k in range(numlevel2toroids):\n",
    "            id += 1\n",
    "            data = id\n",
    "            type = 5\n",
    "            parent_id = level1objectid\n",
    "            selected = 0\n",
    "            branch_level = 2\n",
    "            child_id = id\n",
    "            column = str((str(\"hr_\") + str(k) + str(\"_scalex\")))\n",
    "            scale_x = row[column] \n",
    "            column = str((str(\"hr_\") + str(k) + str(\"_scaley\")))\n",
    "            scale_y = row[column]\n",
    "            column = str((str(\"hr_\") + str(k) + str(\"_scalez\")))\n",
    "            scale_z = row[column] \n",
    "            translate_x = -180 + (.6*k)\n",
    "            translate_y = 0\n",
    "            translate_z = 0\n",
    "            rotate_x = 90\n",
    "            rotate_y = 90\n",
    "            rotate_z = 0\n",
    "            ratio = .1\n",
    "            line_width= 1\n",
    "            geometry = 5\n",
    "            topo = 4\n",
    "            color_r = 242\n",
    "            color_g = 58\n",
    "            color_b = 41\n",
    "            color_a = 255\n",
    "            record_id = id \n",
    "            texture_id= 0\n",
    "\n",
    "            # Creat output string and write to ANTz Node File\n",
    "            outputstring = str(id) + \",\" + str(type) + \",\" + str(data) + \",\" + str(selected) + \",\" + str(parent_id) + \",\" + str(branch_level) + \",\" + str(child_id) + \",\" + str(child_index) + \",\" + str(palette_id) + \",\" + str(ch_input_id) + \",\" + str(ch_output_id) + \",\" + str(ch_last_updated) + \",\" + str(average) + \",\" + str(samples) + \",\" + str(aux_a_x) + \",\" + str(aux_a_y) + \",\" + str(aux_a_z) + \",\" + str(aux_b_x) + \",\" + str(aux_b_y) + \",\" + str(aux_b_z) + \",\" + str(color_shift) + \",\" + str(rotate_vec_x) + \",\" + str(rotate_vec_y) + \",\" + str(rotate_vec_z) + \",\" + str(rotate_vec_s) + \",\" + str(scale_x) + \",\" + str(scale_y) + \",\" + str(scale_z) + \",\" + str(translate_x) + \",\" + str(translate_y) + \",\" + str(translate_z) + \",\" + str(tag_offset_x) + \",\" + str(tag_offset_y) + \",\" + str(tag_offset_z) + \",\" + str(rotate_rate_x) + \",\" + str(rotate_rate_y) + \",\" + str(rotate_rate_z) + \",\" + str(rotate_x) + \",\" + str(rotate_y) + \",\" + str(rotate_z) + \",\" + str(scale_rate_x) + \",\" + str(scale_rate_y) + \",\" + str(scale_rate_z) + \",\" + str(translate_rate_x) + \",\" + str(translate_rate_y) + \",\" + str(translate_rate_z) + \",\" + str(translate_vec_x) + \",\" + str(translate_vec_y) + \",\" + str(translate_vec_z) + \",\" + str(shader) + \",\" + str(geometry) + \",\" + str(line_width) + \",\" + str(point_size) + \",\" + str(ratio) + \",\" + str(color_index) + \",\" + str(color_r) + \",\" + str(color_g) + \",\" + str(color_b) + \",\" + str(color_a) + \",\" + str(color_fade) + \",\" + str(texture_id) + \",\" + str(hide) + \",\" + str(freeze) + \",\" + str(topo) + \",\" + str(facet) + \",\" + str(auto_zoom_x) + \",\" + str(auto_zoom_y) + \",\" + str(auto_zoom_z) + \",\" + str(trigger_hi_x) + \",\" + str(trigger_hi_y) + \",\" + str(trigger_hi_z) + \",\" + str(trigger_lo_x) + \",\" + str(trigger_lo_y) + \",\" + str(trigger_lo_z) + \",\" + str(set_hi_x) + \",\" + str(set_hi_y) + \",\" + str(set_hi_z) + \",\" + str(set_lo_x) + \",\" + str(set_lo_y) + \",\" + str(set_lo_z) + \",\" + str(proximity_x) + \",\" + str(proximity_y) + \",\" + str(proximity_z) + \",\" + str(proximity_mode_x) + \",\" + str(proximity_mode_y) + \",\" + str(proximity_mode_z) + \",\" + str(segments_x) + \",\" + str(segments_y) + \",\" + str(segments_z) + \",\" + str(tag_mode) + \",\" + str(format_id) + \",\" + str(table_id) + \",\" + str(record_id) + \",\" + str(size) + \"\\n\"\n",
    "            fout.write(outputstring)\n"
   ]
  },
  {
   "cell_type": "code",
   "execution_count": null,
   "metadata": {
    "collapsed": true
   },
   "outputs": [],
   "source": []
  }
 ],
 "metadata": {
  "kernelspec": {
   "display_name": "Python 3",
   "language": "python",
   "name": "python3"
  },
  "language_info": {
   "codemirror_mode": {
    "name": "ipython",
    "version": 3
   },
   "file_extension": ".py",
   "mimetype": "text/x-python",
   "name": "python",
   "nbconvert_exporter": "python",
   "pygments_lexer": "ipython3",
   "version": "3.6.12"
  }
 },
 "nbformat": 4,
 "nbformat_minor": 2
}
