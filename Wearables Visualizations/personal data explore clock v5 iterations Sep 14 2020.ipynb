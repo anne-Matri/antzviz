{
 "cells": [
  {
   "cell_type": "code",
   "execution_count": 461,
   "metadata": {
    "collapsed": true
   },
   "outputs": [],
   "source": [
    "from scipy.io import loadmat\n",
    "from scipy.stats import zscore\n",
    "from decimal import *\n",
    "import pandas as pd\n",
    "import numpy as np\n",
    "import datetime as dt\n",
    "import os\n",
    "import sys\n",
    "import math\n",
    "import pandas as pd\n",
    "import numpy as np\n",
    "from pprint import pprint\n",
    "import json\n",
    "import requests\n",
    "import datetime\n",
    "from datetime import date\n",
    "import os\n",
    "import xmltodict\n",
    "from pandas.io.json import json_normalize"
   ]
  },
  {
   "cell_type": "code",
   "execution_count": 462,
   "metadata": {
    "collapsed": true
   },
   "outputs": [],
   "source": [
    "initial_value = \"Anne_v5e_\"\n",
    "\n",
    "#v1: no colors, initial run to make sure the code works and generates the rough glyph design\n",
    "#v2: colors added, topologies fixed\n",
    "#v3: refinement, added facet\n",
    "#v4: change oura score rods to spheres with cylinders, change location of food glyphs\n",
    "#v5a: new clock face design, too close together but snowflake looking\n",
    "#v5b: clock face design flat, evenly spaced out\n",
    "#v5c: rotate the root sphere, stand up clock and examine each day\n",
    "#v5d: line up all 14 days, clock face is vertical\n",
    "#v5e: rods are hidden"
   ]
  },
  {
   "cell_type": "markdown",
   "metadata": {},
   "source": [
    "# Food DataFrame"
   ]
  },
  {
   "cell_type": "code",
   "execution_count": 463,
   "metadata": {
    "collapsed": true
   },
   "outputs": [],
   "source": [
    "dffd = pd.read_csv(\"servings.csv\")"
   ]
  },
  {
   "cell_type": "code",
   "execution_count": 464,
   "metadata": {
    "collapsed": true
   },
   "outputs": [],
   "source": [
    "dffd = dffd.set_index(pd.to_datetime(dffd['Day']))\n"
   ]
  },
  {
   "cell_type": "code",
   "execution_count": 465,
   "metadata": {
    "collapsed": true
   },
   "outputs": [],
   "source": [
    "dffd = dffd.loc['2020-07-14':'2020-07-27']\n"
   ]
  },
  {
   "cell_type": "code",
   "execution_count": 466,
   "metadata": {
    "collapsed": true
   },
   "outputs": [],
   "source": [
    "dffd = dffd.reset_index(drop=True)"
   ]
  },
  {
   "cell_type": "code",
   "execution_count": 467,
   "metadata": {
    "collapsed": true
   },
   "outputs": [],
   "source": [
    "dffd['Time'] = pd.to_datetime(dffd['Time'])\n",
    "dffd['mealtime'] = [d.time() for d in dffd['Time']]"
   ]
  },
  {
   "cell_type": "code",
   "execution_count": 468,
   "metadata": {
    "collapsed": true
   },
   "outputs": [],
   "source": [
    "df3 = dffd.groupby(['Day', 'mealtime']).sum()"
   ]
  },
  {
   "cell_type": "code",
   "execution_count": 469,
   "metadata": {
    "collapsed": true
   },
   "outputs": [],
   "source": [
    "df3 = df3[['energy', 'protein', 'fat', 'carbs', 'fiber', 'sugar']]"
   ]
  },
  {
   "cell_type": "code",
   "execution_count": 470,
   "metadata": {
    "collapsed": true
   },
   "outputs": [],
   "source": [
    "tmlist = []\n",
    "for index, row in df3.iterrows():\n",
    "    totalmeal = row['protein'] + row['carbs'] + row['fat']\n",
    "    tmlist.append(totalmeal)"
   ]
  },
  {
   "cell_type": "code",
   "execution_count": 471,
   "metadata": {
    "collapsed": true
   },
   "outputs": [],
   "source": [
    "df3['totalmeal'] = tmlist\n",
    "#df3['totalmeal'] = df3['totalmeal'].fillna(0)"
   ]
  },
  {
   "cell_type": "code",
   "execution_count": 472,
   "metadata": {
    "collapsed": true
   },
   "outputs": [],
   "source": [
    "df3['p'] = df3['protein']/ df3['totalmeal']\n",
    "df3['ft'] = df3['fat']/ df3['totalmeal']\n",
    "df3['c'] = df3['carbs']/ df3['totalmeal']\n",
    "df3['s'] = df3['sugar']/ df3['carbs']\n",
    "df3['fb'] = df3['fiber']/ df3['carbs']"
   ]
  },
  {
   "cell_type": "code",
   "execution_count": 473,
   "metadata": {
    "collapsed": true
   },
   "outputs": [],
   "source": [
    "def make_interpolater(left_min, left_max, right_min, right_max): \n",
    "    # Figure out how 'wide' each range is  \n",
    "    leftSpan = left_max - left_min  \n",
    "    rightSpan = right_max - right_min  \n",
    "\n",
    "    # Compute the scale factor between left and right values \n",
    "    scaleFactor = float(rightSpan) / float(leftSpan) \n",
    "\n",
    "    # create interpolation function using pre-calculated scaleFactor\n",
    "    def interp_fn(value):\n",
    "        return right_min + (value-left_min)*scaleFactor\n",
    "\n",
    "    return interp_fn"
   ]
  },
  {
   "cell_type": "code",
   "execution_count": 474,
   "metadata": {
    "collapsed": true
   },
   "outputs": [],
   "source": [
    "for column in df3[['p', 'ft', 'c']]:\n",
    "    columnSeriesObj = df3[column]\n",
    "    col_min = df3[column].min() \n",
    "    col_max = df3[column].max() \n",
    "    col_list = df3[column].tolist()\n",
    "    scalar = make_interpolater(col_min + .0002, col_max, 1.84, 2.8) \n",
    "    col_interp = [scalar(x) for x in col_list] \n",
    "    df3[(str(column) + str('_scale_xy'))] = col_interp"
   ]
  },
  {
   "cell_type": "code",
   "execution_count": 475,
   "metadata": {
    "collapsed": true
   },
   "outputs": [],
   "source": [
    "for column in df3[['p', 'ft', 'c']]:\n",
    "    columnSeriesObj = df3[column]\n",
    "    col_min = df3[column].min() \n",
    "    col_max = df3[column].max() \n",
    "    col_list = df3[column].tolist()\n",
    "    scalar = make_interpolater(col_min + .0002, col_max, .5, 1.48) \n",
    "    col_interp = [scalar(x) for x in col_list] \n",
    "    df3[(str(column) + str('_scale_z'))] = col_interp"
   ]
  },
  {
   "cell_type": "code",
   "execution_count": 476,
   "metadata": {
    "collapsed": true
   },
   "outputs": [],
   "source": [
    "# cal_chunk is every  100 calories per meal\n",
    "df3['cal_chunk'] = df3['energy']/100\n",
    "df3['cal_chunk'] = df3['cal_chunk'].round(0).astype(int)"
   ]
  },
  {
   "cell_type": "code",
   "execution_count": 477,
   "metadata": {
    "collapsed": true
   },
   "outputs": [],
   "source": [
    "df3 = df3.reset_index()"
   ]
  },
  {
   "cell_type": "code",
   "execution_count": 478,
   "metadata": {
    "collapsed": true
   },
   "outputs": [],
   "source": [
    "df3['date'] = pd.to_datetime(df3['Day'])"
   ]
  },
  {
   "cell_type": "code",
   "execution_count": 479,
   "metadata": {
    "collapsed": true
   },
   "outputs": [],
   "source": [
    "df3['mtime'] = df3['mealtime'].astype(str)"
   ]
  },
  {
   "cell_type": "code",
   "execution_count": 480,
   "metadata": {
    "collapsed": true
   },
   "outputs": [],
   "source": [
    "df3['dtime'] = df3['date'].astype(str)"
   ]
  },
  {
   "cell_type": "code",
   "execution_count": 481,
   "metadata": {
    "collapsed": true
   },
   "outputs": [],
   "source": [
    "df3['fulldate'] = pd.to_datetime(df3['dtime'] + ' ' + df3['mtime'])"
   ]
  },
  {
   "cell_type": "code",
   "execution_count": 482,
   "metadata": {
    "collapsed": true
   },
   "outputs": [],
   "source": [
    "df3['hour'] = df3['fulldate'].dt.hour"
   ]
  },
  {
   "cell_type": "code",
   "execution_count": 483,
   "metadata": {
    "collapsed": true
   },
   "outputs": [],
   "source": [
    "dfenergy = df3.groupby(['Day']).sum()"
   ]
  },
  {
   "cell_type": "code",
   "execution_count": 484,
   "metadata": {
    "collapsed": true
   },
   "outputs": [],
   "source": [
    "caltotal = []\n",
    "for i in dfenergy['energy']:\n",
    "    if i >= 2000:\n",
    "        x = True\n",
    "    else:\n",
    "        x = False\n",
    "    caltotal.append(x)"
   ]
  },
  {
   "cell_type": "code",
   "execution_count": 485,
   "metadata": {},
   "outputs": [
    {
     "data": {
      "text/plain": [
       "14"
      ]
     },
     "execution_count": 485,
     "metadata": {},
     "output_type": "execute_result"
    }
   ],
   "source": [
    "len(caltotal)"
   ]
  },
  {
   "cell_type": "markdown",
   "metadata": {},
   "source": [
    "## df4 blood glucose"
   ]
  },
  {
   "cell_type": "code",
   "execution_count": 486,
   "metadata": {
    "collapsed": true
   },
   "outputs": [],
   "source": [
    "dfblood = pd.read_csv(\"blood_glucose.csv\")"
   ]
  },
  {
   "cell_type": "code",
   "execution_count": 487,
   "metadata": {
    "collapsed": true
   },
   "outputs": [],
   "source": [
    "dfg = dfblood.loc[dfblood['type'] == 'glucose']\n",
    "dfg = dfg[['value', 'date', 'time', 'gki']]\n",
    "col_list = ['bg', 'date', 'time', 'gki']\n",
    "dfg.columns = col_list\n",
    "#dfg.head()"
   ]
  },
  {
   "cell_type": "code",
   "execution_count": 488,
   "metadata": {
    "collapsed": true
   },
   "outputs": [],
   "source": [
    "dfk = dfblood.loc[dfblood['type'] == 'ketone']\n",
    "dfk = dfk[['value', 'date', 'time']]\n",
    "col_list = ['k', 'date', 'time']\n",
    "dfk.columns = col_list\n",
    "#dfk.head()"
   ]
  },
  {
   "cell_type": "code",
   "execution_count": 489,
   "metadata": {
    "collapsed": true
   },
   "outputs": [],
   "source": [
    "col_min = dfg['bg'].min() \n",
    "col_max = dfg['bg'].max() \n",
    "col_list = dfg['bg'].tolist()\n",
    "scalar = make_interpolater(col_min + .0002, col_max, .8, 2) \n",
    "col_interp = [scalar(x) for x in col_list] \n",
    "dfg['bg_scale'] = col_interp"
   ]
  },
  {
   "cell_type": "code",
   "execution_count": 490,
   "metadata": {
    "collapsed": true
   },
   "outputs": [],
   "source": [
    "col_min = dfg['gki'].min() \n",
    "col_max = dfg['gki'].max() \n",
    "col_list = dfg['gki'].tolist()\n",
    "scalar = make_interpolater(col_min + .0002, col_max, .03, .58) \n",
    "col_interp = [scalar(x) for x in col_list] \n",
    "dfg['gki_scale'] = col_interp"
   ]
  },
  {
   "cell_type": "code",
   "execution_count": 491,
   "metadata": {
    "collapsed": true
   },
   "outputs": [],
   "source": [
    "col_min = dfk['k'].min() \n",
    "col_max = dfk['k'].max() \n",
    "col_list = dfk['k'].tolist()\n",
    "scalar = make_interpolater(col_min + .0002, col_max, .03, .58) \n",
    "col_interp = [scalar(x) for x in col_list] \n",
    "dfk['k_scale'] = col_interp"
   ]
  },
  {
   "cell_type": "code",
   "execution_count": 492,
   "metadata": {
    "collapsed": true
   },
   "outputs": [],
   "source": [
    "dfg['time'] = pd.to_datetime(dfg['time'])"
   ]
  },
  {
   "cell_type": "code",
   "execution_count": 493,
   "metadata": {
    "collapsed": true
   },
   "outputs": [],
   "source": [
    "dfk = dfk.fillna(0)\n",
    "dfk['time'] = pd.to_datetime(dfk['time'])"
   ]
  },
  {
   "cell_type": "code",
   "execution_count": 494,
   "metadata": {
    "collapsed": true
   },
   "outputs": [],
   "source": [
    "#dfsurvey.loc[dfsurvey[\"Are_you_in_isolation\"] == 'Yes', 'Are_you_in_isolation'] = 1\n",
    "dfk.loc[(dfk['time'] > '07:00:00') & (dfk['time'] < '09:00:00'), 'time_num'] = 8\n",
    "dfk.loc[(dfk['time'] > '09:00:00') & (dfk['time'] < '11:00:00'), 'time_num'] = 10\n",
    "dfk.loc[(dfk['time'] > '11:00:00') & (dfk['time'] < '13:00:00'), 'time_num'] = 12\n",
    "dfk.loc[(dfk['time'] > '13:00:00') & (dfk['time'] < '15:00:00'), 'time_num'] = 14\n",
    "dfk.loc[(dfk['time'] > '15:00:00') & (dfk['time'] < '17:00:00'), 'time_num'] = 16\n",
    "dfk.loc[(dfk['time'] > '17:00:00') & (dfk['time'] < '19:00:00'), 'time_num'] = 18"
   ]
  },
  {
   "cell_type": "code",
   "execution_count": 495,
   "metadata": {
    "collapsed": true
   },
   "outputs": [],
   "source": [
    "dfk['time_num'] = dfk['time_num'].astype(int)\n",
    "dfk['t_num'] = pd.to_datetime(dfk['time_num'], format = '%H')"
   ]
  },
  {
   "cell_type": "code",
   "execution_count": 496,
   "metadata": {
    "collapsed": true
   },
   "outputs": [],
   "source": [
    "dfk['t_num_time'] = dfk['t_num'].dt.time"
   ]
  },
  {
   "cell_type": "code",
   "execution_count": 497,
   "metadata": {
    "collapsed": true
   },
   "outputs": [],
   "source": [
    "klist = []\n",
    "for index, row in dfk.iterrows():\n",
    "    x = '2020-01-01' + ' ' + str(row['t_num_time'])\n",
    "    klist.append(x)"
   ]
  },
  {
   "cell_type": "code",
   "execution_count": 498,
   "metadata": {
    "collapsed": true
   },
   "outputs": [],
   "source": [
    "dfk['tmt'] = pd.to_datetime(klist)"
   ]
  },
  {
   "cell_type": "code",
   "execution_count": 499,
   "metadata": {
    "collapsed": true
   },
   "outputs": [],
   "source": [
    "dfk['tmtstamp'] = (dfk['tmt'].astype(int) / 10**9)"
   ]
  },
  {
   "cell_type": "code",
   "execution_count": 500,
   "metadata": {
    "collapsed": true
   },
   "outputs": [],
   "source": [
    "col_list = dfk['tmtstamp'].values.tolist()\n",
    "scalar = make_interpolater(1577851200, 1577937600, 105, -120) \n",
    "col_interp = [scalar(x) for x in col_list] "
   ]
  },
  {
   "cell_type": "code",
   "execution_count": 501,
   "metadata": {
    "collapsed": true
   },
   "outputs": [],
   "source": [
    "dfk['y4'] = col_interp"
   ]
  },
  {
   "cell_type": "code",
   "execution_count": 502,
   "metadata": {
    "collapsed": true
   },
   "outputs": [],
   "source": [
    "dfg.loc[(dfg['time'] > '07:00:00') & (dfg['time'] < '09:00:00'), 'time_num'] = 8\n",
    "dfg.loc[(dfg['time'] > '09:00:00') & (dfg['time'] < '11:00:00'), 'time_num'] = 10\n",
    "dfg.loc[(dfg['time'] > '11:00:00') & (dfg['time'] < '13:00:00'), 'time_num'] = 12\n",
    "dfg.loc[(dfg['time'] > '13:00:00') & (dfg['time'] < '15:00:00'), 'time_num'] = 14\n",
    "dfg.loc[(dfg['time'] > '15:00:00') & (dfg['time'] < '17:00:00'), 'time_num'] = 16\n",
    "dfg.loc[(dfg['time'] > '17:00:00') & (dfg['time'] < '19:00:00'), 'time_num'] = 18"
   ]
  },
  {
   "cell_type": "code",
   "execution_count": 503,
   "metadata": {
    "collapsed": true
   },
   "outputs": [],
   "source": [
    "dfg = dfg.fillna(0)"
   ]
  },
  {
   "cell_type": "code",
   "execution_count": 504,
   "metadata": {
    "collapsed": true
   },
   "outputs": [],
   "source": [
    "dfg['time_num'] = dfg['time_num'].astype(int)\n",
    "dfg['t_num'] = pd.to_datetime(dfg['time_num'], format = '%H')"
   ]
  },
  {
   "cell_type": "code",
   "execution_count": 505,
   "metadata": {
    "collapsed": true
   },
   "outputs": [],
   "source": [
    "dfg['t_num_time'] = dfg['t_num'].dt.time"
   ]
  },
  {
   "cell_type": "code",
   "execution_count": 506,
   "metadata": {
    "collapsed": true
   },
   "outputs": [],
   "source": [
    "glist = []\n",
    "for index, row in dfg.iterrows():\n",
    "    x = '2020-01-01' + ' ' + str(row['t_num_time'])\n",
    "    glist.append(x)"
   ]
  },
  {
   "cell_type": "code",
   "execution_count": 507,
   "metadata": {
    "collapsed": true
   },
   "outputs": [],
   "source": [
    "dfg['tmt'] = pd.to_datetime(glist)"
   ]
  },
  {
   "cell_type": "code",
   "execution_count": 508,
   "metadata": {
    "collapsed": true
   },
   "outputs": [],
   "source": [
    "dfg['tmtstamp'] = (dfg['tmt'].astype(int) / 10**9)"
   ]
  },
  {
   "cell_type": "code",
   "execution_count": 509,
   "metadata": {
    "collapsed": true
   },
   "outputs": [],
   "source": [
    "col_list = dfg['tmtstamp'].values.tolist()\n",
    "scalar = make_interpolater(1577851200, 1577937600, 105, -120) \n",
    "col_interp = [scalar(x) for x in col_list] "
   ]
  },
  {
   "cell_type": "code",
   "execution_count": 510,
   "metadata": {
    "collapsed": true
   },
   "outputs": [],
   "source": [
    "dfg['y4'] = col_interp"
   ]
  },
  {
   "cell_type": "code",
   "execution_count": 511,
   "metadata": {
    "collapsed": true
   },
   "outputs": [],
   "source": [
    "df4 = dfg.merge(dfk,on = ['date', 'time_num'], how = 'outer')"
   ]
  },
  {
   "cell_type": "code",
   "execution_count": 512,
   "metadata": {
    "collapsed": true
   },
   "outputs": [],
   "source": [
    "df4['date'] = pd.to_datetime(df4['date'])"
   ]
  },
  {
   "cell_type": "code",
   "execution_count": 513,
   "metadata": {
    "collapsed": true
   },
   "outputs": [],
   "source": [
    "df4 = df4.loc[(df4['date'] > '2020-07-14') & (df4['date'] < '2020-07-28')]"
   ]
  },
  {
   "cell_type": "code",
   "execution_count": 514,
   "metadata": {
    "collapsed": true
   },
   "outputs": [],
   "source": [
    "df4['y4'] = df4['y4_x']"
   ]
  },
  {
   "cell_type": "code",
   "execution_count": 515,
   "metadata": {
    "collapsed": true
   },
   "outputs": [],
   "source": [
    "df4['hour'] = df4['time_num']\n",
    "df4 = df4.drop(['time_num'], axis =1)"
   ]
  },
  {
   "cell_type": "markdown",
   "metadata": {},
   "source": [
    "## df5 Workouts "
   ]
  },
  {
   "cell_type": "code",
   "execution_count": 516,
   "metadata": {
    "collapsed": true
   },
   "outputs": [],
   "source": [
    "dfw = pd.read_csv(\"14dworkouts.csv\")"
   ]
  },
  {
   "cell_type": "code",
   "execution_count": 517,
   "metadata": {
    "collapsed": true
   },
   "outputs": [],
   "source": [
    "llist = []\n",
    "for index, row in dfw.iterrows():\n",
    "    x = '2020-01-01' + ' ' + str(row['time_start'])\n",
    "    llist.append(x)"
   ]
  },
  {
   "cell_type": "code",
   "execution_count": 518,
   "metadata": {
    "collapsed": true
   },
   "outputs": [],
   "source": [
    "dfw['dtstart'] = pd.to_datetime(llist)"
   ]
  },
  {
   "cell_type": "code",
   "execution_count": 519,
   "metadata": {},
   "outputs": [
    {
     "data": {
      "text/plain": [
       "HKWorkoutActivityTypeTraditionalStrengthTraining    8\n",
       "HKWorkoutActivityTypeYoga                           6\n",
       "Name: @workoutActivityType, dtype: int64"
      ]
     },
     "execution_count": 519,
     "metadata": {},
     "output_type": "execute_result"
    }
   ],
   "source": [
    "dfw['@workoutActivityType'].value_counts()"
   ]
  },
  {
   "cell_type": "code",
   "execution_count": 520,
   "metadata": {
    "collapsed": true
   },
   "outputs": [],
   "source": [
    "dfw.rename(columns = {'@workoutActivityType': 'type'}, inplace=True)"
   ]
  },
  {
   "cell_type": "code",
   "execution_count": 521,
   "metadata": {
    "collapsed": true
   },
   "outputs": [],
   "source": [
    "dfw.loc[dfw['type'] == 'HKWorkoutActivityTypeTraditionalStrengthTraining', 'type'] = 'lifting'"
   ]
  },
  {
   "cell_type": "code",
   "execution_count": 522,
   "metadata": {
    "collapsed": true
   },
   "outputs": [],
   "source": [
    "dfw.loc[dfw['type'] == 'HKWorkoutActivityTypeYoga', 'type'] = 'yoga'"
   ]
  },
  {
   "cell_type": "code",
   "execution_count": 523,
   "metadata": {
    "collapsed": true
   },
   "outputs": [],
   "source": [
    "dfw['wcal_chunk'] = dfw['@totalEnergyBurned']/25\n",
    "dfw['wcal_chunk'] = dfw['wcal_chunk'].round(0).astype(int)"
   ]
  },
  {
   "cell_type": "code",
   "execution_count": 524,
   "metadata": {
    "collapsed": true
   },
   "outputs": [],
   "source": [
    "dfw['@creationDate'] = pd.to_datetime(dfw['@creationDate'])"
   ]
  },
  {
   "cell_type": "code",
   "execution_count": 525,
   "metadata": {
    "collapsed": true
   },
   "outputs": [],
   "source": [
    "dfw['date'] = dfw['@creationDate'].dt.date\n",
    "dfw['hour'] = dfw['dtstart'].dt.hour"
   ]
  },
  {
   "cell_type": "code",
   "execution_count": 526,
   "metadata": {
    "collapsed": true
   },
   "outputs": [],
   "source": [
    "df5 = pd.DataFrame()"
   ]
  },
  {
   "cell_type": "code",
   "execution_count": 527,
   "metadata": {},
   "outputs": [
    {
     "data": {
      "text/html": [
       "<div>\n",
       "<style>\n",
       "    .dataframe thead tr:only-child th {\n",
       "        text-align: right;\n",
       "    }\n",
       "\n",
       "    .dataframe thead th {\n",
       "        text-align: left;\n",
       "    }\n",
       "\n",
       "    .dataframe tbody tr th {\n",
       "        vertical-align: top;\n",
       "    }\n",
       "</style>\n",
       "<table border=\"1\" class=\"dataframe\">\n",
       "  <thead>\n",
       "    <tr style=\"text-align: right;\">\n",
       "      <th></th>\n",
       "      <th>date</th>\n",
       "      <th>type</th>\n",
       "      <th>wcal_chunk</th>\n",
       "      <th>hour</th>\n",
       "    </tr>\n",
       "  </thead>\n",
       "  <tbody>\n",
       "    <tr>\n",
       "      <th>0</th>\n",
       "      <td>2020-07-15</td>\n",
       "      <td>yoga</td>\n",
       "      <td>5</td>\n",
       "      <td>6</td>\n",
       "    </tr>\n",
       "    <tr>\n",
       "      <th>1</th>\n",
       "      <td>2020-07-15</td>\n",
       "      <td>lifting</td>\n",
       "      <td>4</td>\n",
       "      <td>6</td>\n",
       "    </tr>\n",
       "    <tr>\n",
       "      <th>2</th>\n",
       "      <td>2020-07-16</td>\n",
       "      <td>yoga</td>\n",
       "      <td>5</td>\n",
       "      <td>6</td>\n",
       "    </tr>\n",
       "    <tr>\n",
       "      <th>3</th>\n",
       "      <td>2020-07-16</td>\n",
       "      <td>lifting</td>\n",
       "      <td>7</td>\n",
       "      <td>6</td>\n",
       "    </tr>\n",
       "    <tr>\n",
       "      <th>4</th>\n",
       "      <td>2020-07-17</td>\n",
       "      <td>yoga</td>\n",
       "      <td>5</td>\n",
       "      <td>5</td>\n",
       "    </tr>\n",
       "  </tbody>\n",
       "</table>\n",
       "</div>"
      ],
      "text/plain": [
       "         date     type  wcal_chunk  hour\n",
       "0  2020-07-15     yoga           5     6\n",
       "1  2020-07-15  lifting           4     6\n",
       "2  2020-07-16     yoga           5     6\n",
       "3  2020-07-16  lifting           7     6\n",
       "4  2020-07-17     yoga           5     5"
      ]
     },
     "execution_count": 527,
     "metadata": {},
     "output_type": "execute_result"
    }
   ],
   "source": [
    "df5 = dfw[['date','type', 'wcal_chunk', 'hour']]\n",
    "df5.head()"
   ]
  },
  {
   "cell_type": "markdown",
   "metadata": {},
   "source": [
    "## df1 Oura data"
   ]
  },
  {
   "cell_type": "code",
   "execution_count": 528,
   "metadata": {
    "collapsed": true
   },
   "outputs": [],
   "source": [
    "with open('oura_2020-08-19_AG.json') as json_data:\n",
    "    dataJ = json.load(json_data)\n",
    "    \n",
    "sleep = json_normalize(dataJ, 'sleep')\n",
    "dfs = pd.DataFrame(sleep)\n",
    "\n",
    "readiness = json_normalize(dataJ, 'readiness')\n",
    "dfr = pd.DataFrame(readiness)\n",
    "\n",
    "activity = json_normalize(dataJ, 'activity')\n",
    "dfa = pd.DataFrame(activity)"
   ]
  },
  {
   "cell_type": "code",
   "execution_count": 529,
   "metadata": {
    "collapsed": true
   },
   "outputs": [],
   "source": [
    "df = dfa.merge(dfr, on='summary_date')"
   ]
  },
  {
   "cell_type": "code",
   "execution_count": 530,
   "metadata": {
    "collapsed": true
   },
   "outputs": [],
   "source": [
    "df = df.merge(dfs, on = 'summary_date')\n",
    "df.rename( columns={'Unnamed: 0':'index'}, inplace=True )"
   ]
  },
  {
   "cell_type": "code",
   "execution_count": 531,
   "metadata": {
    "collapsed": true
   },
   "outputs": [],
   "source": [
    "df['bedstart'] = pd.to_datetime(df['bedtime_start'])\n",
    "df['sum_date'] = pd.to_datetime(df['summary_date'])"
   ]
  },
  {
   "cell_type": "code",
   "execution_count": 532,
   "metadata": {
    "collapsed": true
   },
   "outputs": [],
   "source": [
    "df['date'] = df['sum_date'].dt.date"
   ]
  },
  {
   "cell_type": "code",
   "execution_count": 533,
   "metadata": {
    "collapsed": true
   },
   "outputs": [],
   "source": [
    "df = df.set_index(pd.DatetimeIndex(df['date']))"
   ]
  },
  {
   "cell_type": "code",
   "execution_count": 534,
   "metadata": {
    "collapsed": true
   },
   "outputs": [],
   "source": [
    "df1 = df.loc['2020-07-14':'2020-07-27']"
   ]
  },
  {
   "cell_type": "code",
   "execution_count": 535,
   "metadata": {
    "collapsed": true
   },
   "outputs": [],
   "source": [
    "df1 = df1.reset_index(drop=True)"
   ]
  },
  {
   "cell_type": "code",
   "execution_count": 536,
   "metadata": {
    "collapsed": true
   },
   "outputs": [],
   "source": [
    "df1.replace({0:0.001}, inplace = True)\n",
    "df1.fillna(0.001, inplace=True)"
   ]
  },
  {
   "cell_type": "code",
   "execution_count": 537,
   "metadata": {
    "collapsed": true
   },
   "outputs": [],
   "source": [
    "def Reverse(lst): \n",
    "    lst.reverse() \n",
    "    return lst "
   ]
  },
  {
   "cell_type": "code",
   "execution_count": 538,
   "metadata": {
    "collapsed": true
   },
   "outputs": [],
   "source": [
    "for column in df1[['score_x', 'score', 'score_y']]:\n",
    "    col_min = df1[column].min() \n",
    "    col_max = df1[column].max() \n",
    "    col_list = df1[column].tolist()\n",
    "    scalar = make_interpolater(col_min + .0002, col_max, .6, 2.4) \n",
    "    col_interp = [scalar(x) for x in col_list] \n",
    "    df1[(str(column) + str('_scale'))] = col_interp"
   ]
  },
  {
   "cell_type": "code",
   "execution_count": 539,
   "metadata": {
    "collapsed": true
   },
   "outputs": [],
   "source": [
    "xlist = list(range(-140, 140, 20))"
   ]
  },
  {
   "cell_type": "code",
   "execution_count": 540,
   "metadata": {},
   "outputs": [
    {
     "name": "stdout",
     "output_type": "stream",
     "text": [
      "[-140, -120, -100, -80, -60, -40, -20, 0, 20, 40, 60, 80, 100, 120]\n"
     ]
    }
   ],
   "source": [
    "print((xlist))"
   ]
  },
  {
   "cell_type": "code",
   "execution_count": 541,
   "metadata": {
    "collapsed": true
   },
   "outputs": [],
   "source": [
    "#xlist = [xlist]*2\n",
    "#xaxis = [y for x in xlist for y in x]"
   ]
  },
  {
   "cell_type": "code",
   "execution_count": 542,
   "metadata": {
    "collapsed": true
   },
   "outputs": [],
   "source": [
    "ylist = [0] * 14"
   ]
  },
  {
   "cell_type": "code",
   "execution_count": 543,
   "metadata": {
    "collapsed": true
   },
   "outputs": [],
   "source": [
    "df1['xroot'] = xlist\n",
    "df1['yroot'] = ylist\n",
    "df1['zroot'] = 3"
   ]
  },
  {
   "cell_type": "code",
   "execution_count": 544,
   "metadata": {
    "collapsed": true
   },
   "outputs": [],
   "source": [
    "df1['bedstart'] = df1['bedstart'].dt.tz_localize(tz='UTC')"
   ]
  },
  {
   "cell_type": "code",
   "execution_count": 545,
   "metadata": {
    "collapsed": true
   },
   "outputs": [],
   "source": [
    "df1['bedstart'] = df1['bedstart'].dt.tz_convert(tz='America/Los_Angeles')"
   ]
  },
  {
   "cell_type": "code",
   "execution_count": 546,
   "metadata": {
    "collapsed": true
   },
   "outputs": [],
   "source": [
    "df1['bedtime'] = df1['bedstart'].dt.time"
   ]
  },
  {
   "cell_type": "code",
   "execution_count": 547,
   "metadata": {
    "collapsed": true
   },
   "outputs": [],
   "source": [
    "df1['bed_start'] = df1['bedstart'].dt.hour"
   ]
  },
  {
   "cell_type": "code",
   "execution_count": 548,
   "metadata": {
    "collapsed": true
   },
   "outputs": [],
   "source": [
    "dfcheck = pd.merge(left = df1, right = df5, how = 'left', left_on = 'date', right_on = 'date')"
   ]
  },
  {
   "cell_type": "code",
   "execution_count": 549,
   "metadata": {
    "collapsed": true
   },
   "outputs": [],
   "source": [
    "wkoutday = set(df5['date'].unique())\n",
    "df1['wout'] = df1['date'].map(lambda x: True if x in wkoutday else False)"
   ]
  },
  {
   "cell_type": "code",
   "execution_count": 550,
   "metadata": {
    "collapsed": true
   },
   "outputs": [],
   "source": [
    "df1['caltotal'] = caltotal"
   ]
  },
  {
   "cell_type": "code",
   "execution_count": 551,
   "metadata": {
    "collapsed": true
   },
   "outputs": [],
   "source": [
    "cwlist = []\n",
    "for index, row in df1.iterrows():\n",
    "    if (row['wout'] == True) & (row['caltotal'] == False):\n",
    "        x = 1\n",
    "    elif (row['wout'] == False) & (row['caltotal'] == True):\n",
    "        x = 4\n",
    "    elif (row['wout'] == False) & (row['caltotal'] == False):\n",
    "        x = 2\n",
    "    elif (row['wout'] == True) & (row['caltotal'] == True):\n",
    "        x = 3\n",
    "    cwlist.append(x)"
   ]
  },
  {
   "cell_type": "code",
   "execution_count": 552,
   "metadata": {
    "collapsed": true
   },
   "outputs": [],
   "source": [
    "df1['calwork'] = cwlist"
   ]
  },
  {
   "cell_type": "code",
   "execution_count": 553,
   "metadata": {
    "collapsed": true
   },
   "outputs": [],
   "source": [
    "bedlist = []\n",
    "for index, row in df1.iterrows():\n",
    "    if (row['bed_start'] < 22) & (row['bed_start'] > 14):\n",
    "        x = 1\n",
    "    elif (row['bed_start'] == 23) | (row['bed_start'] == 22):\n",
    "        x = 2\n",
    "    elif (row['bed_start'] >= 0) | (row['bed_start'] < 2):\n",
    "        x = 3\n",
    "    elif (row['bed_start'] >= 2) & (row['bed_start'] < 13) :\n",
    "        x = 4\n",
    "    bedlist.append(x)"
   ]
  },
  {
   "cell_type": "code",
   "execution_count": 554,
   "metadata": {
    "collapsed": true
   },
   "outputs": [],
   "source": [
    "df1['btchunk'] = bedlist"
   ]
  },
  {
   "cell_type": "markdown",
   "metadata": {},
   "source": [
    "## df6 survey data"
   ]
  },
  {
   "cell_type": "code",
   "execution_count": 555,
   "metadata": {
    "collapsed": true
   },
   "outputs": [],
   "source": [
    "dfsd = pd.read_csv('focus_survey_change.csv')"
   ]
  },
  {
   "cell_type": "code",
   "execution_count": 556,
   "metadata": {},
   "outputs": [
    {
     "data": {
      "text/html": [
       "<div>\n",
       "<style>\n",
       "    .dataframe thead tr:only-child th {\n",
       "        text-align: right;\n",
       "    }\n",
       "\n",
       "    .dataframe thead th {\n",
       "        text-align: left;\n",
       "    }\n",
       "\n",
       "    .dataframe tbody tr th {\n",
       "        vertical-align: top;\n",
       "    }\n",
       "</style>\n",
       "<table border=\"1\" class=\"dataframe\">\n",
       "  <thead>\n",
       "    <tr style=\"text-align: right;\">\n",
       "      <th></th>\n",
       "      <th>Timestamp</th>\n",
       "      <th>work_type</th>\n",
       "      <th>focus_quality</th>\n",
       "      <th>engagement_rating</th>\n",
       "      <th>company_benefit</th>\n",
       "      <th>comment</th>\n",
       "    </tr>\n",
       "  </thead>\n",
       "  <tbody>\n",
       "    <tr>\n",
       "      <th>0</th>\n",
       "      <td>7/14/20 8:12</td>\n",
       "      <td>admin</td>\n",
       "      <td>4</td>\n",
       "      <td>4</td>\n",
       "      <td>5</td>\n",
       "      <td>prepping forms</td>\n",
       "    </tr>\n",
       "    <tr>\n",
       "      <th>1</th>\n",
       "      <td>7/14/20 10:00</td>\n",
       "      <td>creative_generative</td>\n",
       "      <td>4</td>\n",
       "      <td>5</td>\n",
       "      <td>5</td>\n",
       "      <td>personal glyph design</td>\n",
       "    </tr>\n",
       "  </tbody>\n",
       "</table>\n",
       "</div>"
      ],
      "text/plain": [
       "       Timestamp            work_type  focus_quality  engagement_rating  \\\n",
       "0   7/14/20 8:12                admin              4                  4   \n",
       "1  7/14/20 10:00  creative_generative              4                  5   \n",
       "\n",
       "   company_benefit                comment  \n",
       "0                5         prepping forms  \n",
       "1                5  personal glyph design  "
      ]
     },
     "execution_count": 556,
     "metadata": {},
     "output_type": "execute_result"
    }
   ],
   "source": [
    "dfsd.head(2)"
   ]
  },
  {
   "cell_type": "code",
   "execution_count": 557,
   "metadata": {},
   "outputs": [
    {
     "data": {
      "text/plain": [
       "creative_generative            40\n",
       "admin                          14\n",
       "with_people                    14\n",
       "fucking_off                     8\n",
       "consuming_learning_strategy     6\n",
       "consuming_learing_strategy      2\n",
       "Name: work_type, dtype: int64"
      ]
     },
     "execution_count": 557,
     "metadata": {},
     "output_type": "execute_result"
    }
   ],
   "source": [
    "dfsd.work_type.value_counts()"
   ]
  },
  {
   "cell_type": "code",
   "execution_count": 558,
   "metadata": {
    "collapsed": true
   },
   "outputs": [],
   "source": [
    "dfsd = dfsd.fillna(0)"
   ]
  },
  {
   "cell_type": "code",
   "execution_count": 559,
   "metadata": {
    "collapsed": true
   },
   "outputs": [],
   "source": [
    "dfsd['datestamp'] = pd.to_datetime(dfsd['Timestamp'])"
   ]
  },
  {
   "cell_type": "code",
   "execution_count": 560,
   "metadata": {
    "collapsed": true
   },
   "outputs": [],
   "source": [
    "dfsd['date'] = dfsd['datestamp'].dt.date"
   ]
  },
  {
   "cell_type": "code",
   "execution_count": 561,
   "metadata": {
    "collapsed": true
   },
   "outputs": [],
   "source": [
    "dfsd['time_s'] = dfsd['datestamp'].dt.time"
   ]
  },
  {
   "cell_type": "code",
   "execution_count": 562,
   "metadata": {
    "collapsed": true
   },
   "outputs": [],
   "source": [
    "dfsd['hour'] = dfsd['datestamp'].dt.hour"
   ]
  },
  {
   "cell_type": "code",
   "execution_count": 563,
   "metadata": {
    "collapsed": true
   },
   "outputs": [],
   "source": [
    "df6 = pd.DataFrame()"
   ]
  },
  {
   "cell_type": "code",
   "execution_count": 564,
   "metadata": {
    "collapsed": true
   },
   "outputs": [],
   "source": [
    "df6 = dfsd[['work_type', 'comment', 'date', 'hour', 'focus_quality', 'engagement_rating', 'company_benefit']]"
   ]
  },
  {
   "cell_type": "markdown",
   "metadata": {},
   "source": [
    "## Start df7  timing nodes"
   ]
  },
  {
   "cell_type": "code",
   "execution_count": 565,
   "metadata": {
    "collapsed": true
   },
   "outputs": [],
   "source": [
    "hrs_list = ['2020-01-01 04:00:00', '2020-01-01 06:00:00', '2020-01-01 08:00:00', '2020-01-01 10:00:00', '2020-01-01 12:00:00', '2020-01-01 14:00:00', '2020-01-01 16:00:00', '2020-01-01 18:00:00', '2020-01-01 20:00:00', '2020-01-01 22:00:00', '2020-01-02 00:00:00', '2020-01-02 02:00:00', '2020-01-02 04:00:00']"
   ]
  },
  {
   "cell_type": "code",
   "execution_count": 566,
   "metadata": {
    "collapsed": true
   },
   "outputs": [],
   "source": [
    "dfhrs = pd.to_datetime(hrs_list)"
   ]
  },
  {
   "cell_type": "code",
   "execution_count": 567,
   "metadata": {
    "collapsed": true
   },
   "outputs": [],
   "source": [
    "dfhrs2 = (dfhrs.astype(int)/10**9)"
   ]
  },
  {
   "cell_type": "code",
   "execution_count": 568,
   "metadata": {
    "collapsed": true
   },
   "outputs": [],
   "source": [
    "# hrs_list = values for every 2 hours from 04 am to next day at 04 am\n",
    "hrs_list = dfhrs2.values.tolist()"
   ]
  },
  {
   "cell_type": "code",
   "execution_count": 569,
   "metadata": {
    "collapsed": true
   },
   "outputs": [],
   "source": [
    "scalar = make_interpolater(1577851200, 1577937600, -120, 105) \n",
    "col_interp = [scalar(x) for x in hrs_list] \n",
    "Rcol_interp = Reverse(col_interp)"
   ]
  },
  {
   "cell_type": "code",
   "execution_count": 570,
   "metadata": {
    "collapsed": true
   },
   "outputs": [],
   "source": [
    "df7 = pd.DataFrame()\n",
    "df7['time_toroid'] = Rcol_interp"
   ]
  },
  {
   "cell_type": "code",
   "execution_count": 571,
   "metadata": {
    "collapsed": true
   },
   "outputs": [],
   "source": [
    "#df7"
   ]
  },
  {
   "cell_type": "code",
   "execution_count": null,
   "metadata": {
    "collapsed": true
   },
   "outputs": [],
   "source": []
  },
  {
   "cell_type": "code",
   "execution_count": 572,
   "metadata": {
    "collapsed": true
   },
   "outputs": [],
   "source": [
    "# set DEBUG flag\n",
    "DEBUG = 0\n",
    "\n",
    "# Initialize all ANTz Node variables\n",
    "# You shouldn't need to change anything in this section\n",
    "# you can find an explanation of these terms in Appendix B of the user manual\n",
    "id = 0\n",
    "type = 5\n",
    "data = id\n",
    "selected = 0\n",
    "parent_id = 0\n",
    "branch_level = 0\n",
    "child_id = id\n",
    "child_index = 0\n",
    "palette_id = 0\n",
    "ch_input_id = 0\n",
    "ch_output_id = 0\n",
    "ch_last_updated = 0\n",
    "average = 0\n",
    "samples = 0\n",
    "aux_a_x = 0\n",
    "aux_a_y = 0\n",
    "aux_a_z = 0\n",
    "aux_b_x = 0\n",
    "aux_b_y = 0\n",
    "aux_b_z = 0\n",
    "color_shift = 0\n",
    "rotate_vec_x = 0\n",
    "rotate_vec_y = 0\n",
    "rotate_vec_z = 0\n",
    "rotate_vec_s = 1\n",
    "scale_x = 0\n",
    "scale_y = 0\n",
    "scale_z = 0\n",
    "translate_x = 0\n",
    "translate_y = 0\n",
    "translate_z = 0\n",
    "tag_offset_x = 0\n",
    "tag_offset_y = 0\n",
    "tag_offset_z = 0\n",
    "rotate_rate_x = 0\n",
    "rotate_rate_y = 0\n",
    "rotate_rate_z = 0\n",
    "rotate_x = 0\n",
    "rotate_y = 0\n",
    "rotate_z = 0\n",
    "scale_rate_x = 0\n",
    "scale_rate_y = 0\n",
    "scale_rate_z = 0\n",
    "translate_rate_x = 0\n",
    "translate_rate_y = 0\n",
    "translate_rate_z = 0\n",
    "translate_vec_x = 0\n",
    "translate_vec_y = 0\n",
    "translate_vec_z = 0\n",
    "shader = 0\n",
    "geometry = 7\n",
    "line_width = 1\n",
    "point_size = 0\n",
    "ratio = 0.1\n",
    "color_index = 0\n",
    "color_r = 110\n",
    "color_g = 110\n",
    "color_b = 110\n",
    "color_a = 255\n",
    "color_fade = 0\n",
    "texture_id = 0\n",
    "hide = 0\n",
    "freeze = 0\n",
    "topo = 3\n",
    "facet = 0\n",
    "auto_zoom_x = 0\n",
    "auto_zoom_y = 0\n",
    "auto_zoom_z = 0\n",
    "trigger_hi_x = 0\n",
    "trigger_hi_y = 0\n",
    "trigger_hi_z = 0\n",
    "trigger_lo_x = 0\n",
    "trigger_lo_y = 0\n",
    "trigger_lo_z = 1\n",
    "set_hi_x = 0\n",
    "set_hi_y = 0\n",
    "set_hi_z = 0\n",
    "set_lo_x = 0\n",
    "set_lo_y = 0\n",
    "set_lo_z = 0\n",
    "proximity_x = 0\n",
    "proximity_y = 0\n",
    "proximity_z = 0\n",
    "proximity_mode_x = 0\n",
    "proximity_mode_y = 0\n",
    "proximity_mode_z = 0\n",
    "segments_x = 18\n",
    "segments_y = 16\n",
    "segments_z = 0\n",
    "tag_mode = 0\n",
    "format_id = 0\n",
    "table_id = 0\n",
    "record_id = id\n",
    "size = 420"
   ]
  },
  {
   "cell_type": "code",
   "execution_count": 573,
   "metadata": {
    "collapsed": true
   },
   "outputs": [],
   "source": [
    "#personal glyph node files\n",
    "mn = str(initial_value) + \"personalglyph_node.csv\"\n",
    "\n",
    "#met_1min tag files\n",
    "mt = str(initial_value) + \"personalglyph_tag.csv\""
   ]
  },
  {
   "cell_type": "code",
   "execution_count": 574,
   "metadata": {
    "collapsed": true
   },
   "outputs": [],
   "source": [
    "# Open ANTz Node file for writing\n",
    "fout = open(mn,\"w\")\n",
    "\n",
    "# Open the Tag file to add metadata to ANTz objects\n",
    "ftag = open(mt,\"w\")\n",
    "# Write the header string\n",
    "outputstring = \"id,record_id,table_id,title,description\\n\"\n",
    "ftag.write(outputstring)\n",
    "\n",
    "# Write rows for header, world, camera views (4), and grid to Node file\n",
    "outputstring = \"id,type,data,selected,parent_id,branch_level,child_id,child_index,palette_id,ch_input_id,ch_output_id,ch_last_updated,average,samples,aux_a_x,aux_a_y,aux_a_z,aux_b_x,aux_b_y,aux_b_z,color_shift,rotate_vec_x,rotate_vec_y,rotate_vec_z,rotate_vec_s,scale_x,scale_y,scale_z,translate_x,translate_y,translate_z,tag_offset_x,tag_offset_y,tag_offset_z,rotate_rate_x,rotate_rate_y,rotate_rate_z,rotate_x,rotate_y,rotate_z,scale_rate_x,scale_rate_y,scale_rate_z,translate_rate_x,translate_rate_y,translate_rate_z,translate_vec_x,translate_vec_y,translate_vec_z,shader,geometry,line_width,point_size,ratio,color_index,color_r,color_g,color_b,color_a,color_fade,texture_id,hide,freeze,topo,facet,auto_zoom_x,auto_zoom_y,auto_zoom_z,trigger_hi_x,trigger_hi_y,trigger_hi_z,trigger_lo_x,trigger_lo_y,trigger_lo_z,set_hi_x,set_hi_y,set_hi_z,set_lo_x,set_lo_y,set_lo_z,proximity_x,proximity_y,proximity_z,proximity_mode_x,proximity_mode_y,proximity_mode_z,segments_x,segments_y,segments_z,tag_mode,format_id,table_id,record_id,size\\n\"\n",
    "fout.write(outputstring)\n",
    "\n",
    "# Row for world parameters\n",
    "outputstring = \"1,0,1,0,0,0,1,0,0,0,0,0,0,1,0,0,0,0,0,0,0,0,0,0,1,1,1,1,0,0,0,0,0,1,0,0,0,0,0,0,0,0,0,0,0,0,0,0,0,0,0,1,0,0.1,0,50,101,101,255,0,0,0,0,0,0,0,0,0,0,0,0,0,0,1,0,0,0,0,0,0,0,0,0,0,0,0,16,16,0,0,0,0,0,420\\n\"\n",
    "fout.write(outputstring)\n",
    "# Row for first camera view\n",
    "outputstring = \"2,1,2,0,0,0,2,2,3,0,0,0,0,1,0,0,0,0,0,0,0,0,0.008645,0.825266,-0.564678,1,1,1,-32.446629,-180.908295,143.514175,0,0,1,0,0,0,55.620094,0.600200,0,0,0,0,0,0,0,0,0,0,0,0,1,0,0.1,0,50,101,101,255,0,0,0,0,0,0,0,0,0,0,0,0,0,0,0,0,0,0,0,0,0,214.306686,0,0,0,0,0,16,16,0,0,0,0,0,420\\n\"\n",
    "fout.write(outputstring)\n",
    "# Row for second camera view\n",
    "outputstring = \"3,1,3,0,2,1,3,0,0,0,0,0,0,1,0,0,0,0,0,0,0,0,0,0,-1,1,1,1,-0.500000,0,571.750000,0,0,1,0,0,0,0,0,0,0,0,0,0,0,0,0,0,0,0,0,1,0,0.1,0,50,101,101,255,0,0,0,0,0,0,0,0,0,0,0,0,0,0,0,0,0,0,0,0,0,0,0,0,0,0,0,16,16,0,0,0,0,0,420\\n\"\n",
    "fout.write(outputstring)\n",
    "# Third camera view\n",
    "outputstring = \"4,1,4,0,2,1,4,0,0,0,0,0,0,1,0,0,0,0,0,0,0,0,0,1,-0,1,1,1,0,-90,7,0,0,1,0,0,0,90,0,0,0,0,0,0,0,0,0,0,0,0,0,1,0,0.1,0,50,101,101,255,0,0,0,0,0,0,0,0,0,0,0,0,0,0,0,0,0,0,0,0,0,0,0,0,0,0,0,16,16,0,0,0,0,0,420\\n\"\n",
    "fout.write(outputstring)\n",
    "# Fourth camera view\n",
    "outputstring = \"5,1,5,0,2,1,5,0,0,0,0,0,0,1,0,0,0,0,0,0,0,0,-1,-0,-0,1,1,1,85,0,7,0,0,1,0,0,0,90,270,0,0,0,0,0,0,0,-0,0,0,0,0,1,0,0.1,0,50,101,101,255,0,0,0,0,0,0,0,0,0,0,0,0,0,0,0,0,0,0,0,0,0,0,0,0,0,0,0,16,16,0,0,0,0,0,420\\n\"\n",
    "fout.write(outputstring)\n",
    "# Default Grid\n",
    "outputstring = \"6,6,6,1,0,0,0,1,0,0,0,0,0,1,700,250,0,0,0,0,0,0,0,0,0,1,1,1,0,0,0,0,0,1,0,0,0,0,0,0,0,0,0,0,0,0,0,0,0,0,0,1,0,0.1,3,0,0,255,150,0,0,0,0,0,0,0,0,0,0,0,0,0,0,0,0,0,0,0,0,0,0,0,0,0,0,0,1,1,0,0,0,0,0,420\\n\"\n",
    "fout.write(outputstring)\n",
    "\n",
    "# Initialize increments\n",
    "taginc = 0\n",
    "id = 6\n",
    "\n",
    "numlevel1toroids = 1\n",
    "numlevel2toroids = 2\n",
    "\n",
    "for index, row in df1.iterrows() :\n",
    "    id += 1\n",
    "    data = id\n",
    "    type = 5\n",
    "    parent_id = 6\n",
    "    selected = 0\n",
    "    branch_level = 1\n",
    "    child_id = id\n",
    "    scale_x = 1.8\n",
    "    scale_y = scale_x\n",
    "    scale_z = scale_x \n",
    "    translate_x = row['xroot']\n",
    "    translate_y = row['yroot']\n",
    "    translate_z = row['zroot']\n",
    "    rotate_x = 90\n",
    "    rotate_y = 90\n",
    "    rotate_z = 180\n",
    "    ratio = .1\n",
    "    line_width= 1\n",
    "    geometry = 3\n",
    "    topo = 10\n",
    "    hide = 0\n",
    "    if row['calwork'] == 1:\n",
    "        color_r = 166\n",
    "        color_g = 31\n",
    "        color_b = 81\n",
    "    elif row['calwork'] == 2:\n",
    "        color_r = 242\n",
    "        color_g = 220\n",
    "        color_b = 224\n",
    "    elif row['calwork'] == 3:\n",
    "        color_r = 242\n",
    "        color_g = 216\n",
    "        color_b = 87\n",
    "    elif row['calwork'] == 4:\n",
    "        color_r = 140\n",
    "        color_g = 67\n",
    "        color_b = 3\n",
    "    color_a = 255\n",
    "    record_id = id \n",
    "    texture_id= 0\n",
    "\n",
    "    # Creat output string and write to ANTz Node File\n",
    "    outputstring = str(id) + \",\" + str(type) + \",\" + str(data) + \",\" + str(selected) + \",\" + str(parent_id) + \",\" + str(branch_level) + \",\" + str(child_id) + \",\" + str(child_index) + \",\" + str(palette_id) + \",\" + str(ch_input_id) + \",\" + str(ch_output_id) + \",\" + str(ch_last_updated) + \",\" + str(average) + \",\" + str(samples) + \",\" + str(aux_a_x) + \",\" + str(aux_a_y) + \",\" + str(aux_a_z) + \",\" + str(aux_b_x) + \",\" + str(aux_b_y) + \",\" + str(aux_b_z) + \",\" + str(color_shift) + \",\" + str(rotate_vec_x) + \",\" + str(rotate_vec_y) + \",\" + str(rotate_vec_z) + \",\" + str(rotate_vec_s) + \",\" + str(scale_x) + \",\" + str(scale_y) + \",\" + str(scale_z) + \",\" + str(translate_x) + \",\" + str(translate_y) + \",\" + str(translate_z) + \",\" + str(tag_offset_x) + \",\" + str(tag_offset_y) + \",\" + str(tag_offset_z) + \",\" + str(rotate_rate_x) + \",\" + str(rotate_rate_y) + \",\" + str(rotate_rate_z) + \",\" + str(rotate_x) + \",\" + str(rotate_y) + \",\" + str(rotate_z) + \",\" + str(scale_rate_x) + \",\" + str(scale_rate_y) + \",\" + str(scale_rate_z) + \",\" + str(translate_rate_x) + \",\" + str(translate_rate_y) + \",\" + str(translate_rate_z) + \",\" + str(translate_vec_x) + \",\" + str(translate_vec_y) + \",\" + str(translate_vec_z) + \",\" + str(shader) + \",\" + str(geometry) + \",\" + str(line_width) + \",\" + str(point_size) + \",\" + str(ratio) + \",\" + str(color_index) + \",\" + str(color_r) + \",\" + str(color_g) + \",\" + str(color_b) + \",\" + str(color_a) + \",\" + str(color_fade) + \",\" + str(texture_id) + \",\" + str(hide) + \",\" + str(freeze) + \",\" + str(topo) + \",\" + str(facet) + \",\" + str(auto_zoom_x) + \",\" + str(auto_zoom_y) + \",\" + str(auto_zoom_z) + \",\" + str(trigger_hi_x) + \",\" + str(trigger_hi_y) + \",\" + str(trigger_hi_z) + \",\" + str(trigger_lo_x) + \",\" + str(trigger_lo_y) + \",\" + str(trigger_lo_z) + \",\" + str(set_hi_x) + \",\" + str(set_hi_y) + \",\" + str(set_hi_z) + \",\" + str(set_lo_x) + \",\" + str(set_lo_y) + \",\" + str(set_lo_z) + \",\" + str(proximity_x) + \",\" + str(proximity_y) + \",\" + str(proximity_z) + \",\" + str(proximity_mode_x) + \",\" + str(proximity_mode_y) + \",\" + str(proximity_mode_z) + \",\" + str(segments_x) + \",\" + str(segments_y) + \",\" + str(segments_z) + \",\" + str(tag_mode) + \",\" + str(format_id) + \",\" + str(table_id) + \",\" + str(record_id) + \",\" + str(size) + \"\\n\"\n",
    "    fout.write(outputstring)\n",
    "\n",
    "    # Output to Tag file\n",
    "    tagtext = \"Date: \" + str(row['date'])\n",
    "    tagstring = str(taginc) + \",\" + str(record_id) + \",0,\\\"\" + tagtext + \"\\\",\\\"\\\"\\n\"\n",
    "    ftag.write(tagstring)\n",
    "    taginc += 1\n",
    "\n",
    "    level1objectid = id\n",
    "    # toroid holding rods & time marker object\n",
    "    for j in range(numlevel2toroids):    \n",
    "        if j == 0: \n",
    "            id += 1\n",
    "            data = id\n",
    "            type = 5\n",
    "            parent_id = level1objectid\n",
    "            selected = 0\n",
    "            branch_level = 2\n",
    "            child_id = id\n",
    "            scale_x = 5.8\n",
    "            scale_y = scale_x\n",
    "            scale_z = scale_x \n",
    "            translate_x = 180\n",
    "            translate_y = 0\n",
    "            translate_z = 0\n",
    "            rotate_x = 90\n",
    "            rotate_y = 0\n",
    "            rotate_z = 0\n",
    "            ratio = .11\n",
    "            line_width= 1\n",
    "            geometry = 7\n",
    "            topo = 3\n",
    "            hide = 0\n",
    "            if row['btchunk'] == 1:\n",
    "                color_r = 191\n",
    "                color_g = 181\n",
    "                color_b = 184\n",
    "            elif row['btchunk'] == 2:\n",
    "                color_r = 164\n",
    "                color_g = 166\n",
    "                color_b = 156\n",
    "            elif row['btchunk'] == 3:\n",
    "                color_r = 76\n",
    "                color_g = 89\n",
    "                color_b = 79\n",
    "            elif row['btchunk'] == 4:\n",
    "                color_r = 53\n",
    "                color_g = 64\n",
    "                color_b = 58\n",
    "            color_a = 255\n",
    "            record_id = id \n",
    "\n",
    "            # Creat output string and write to ANTz Node File\n",
    "            outputstring = str(id) + \",\" + str(type) + \",\" + str(data) + \",\" + str(selected) + \",\" + str(parent_id) + \",\" + str(branch_level) + \",\" + str(child_id) + \",\" + str(child_index) + \",\" + str(palette_id) + \",\" + str(ch_input_id) + \",\" + str(ch_output_id) + \",\" + str(ch_last_updated) + \",\" + str(average) + \",\" + str(samples) + \",\" + str(aux_a_x) + \",\" + str(aux_a_y) + \",\" + str(aux_a_z) + \",\" + str(aux_b_x) + \",\" + str(aux_b_y) + \",\" + str(aux_b_z) + \",\" + str(color_shift) + \",\" + str(rotate_vec_x) + \",\" + str(rotate_vec_y) + \",\" + str(rotate_vec_z) + \",\" + str(rotate_vec_s) + \",\" + str(scale_x) + \",\" + str(scale_y) + \",\" + str(scale_z) + \",\" + str(translate_x) + \",\" + str(translate_y) + \",\" + str(translate_z) + \",\" + str(tag_offset_x) + \",\" + str(tag_offset_y) + \",\" + str(tag_offset_z) + \",\" + str(rotate_rate_x) + \",\" + str(rotate_rate_y) + \",\" + str(rotate_rate_z) + \",\" + str(rotate_x) + \",\" + str(rotate_y) + \",\" + str(rotate_z) + \",\" + str(scale_rate_x) + \",\" + str(scale_rate_y) + \",\" + str(scale_rate_z) + \",\" + str(translate_rate_x) + \",\" + str(translate_rate_y) + \",\" + str(translate_rate_z) + \",\" + str(translate_vec_x) + \",\" + str(translate_vec_y) + \",\" + str(translate_vec_z) + \",\" + str(shader) + \",\" + str(geometry) + \",\" + str(line_width) + \",\" + str(point_size) + \",\" + str(ratio) + \",\" + str(color_index) + \",\" + str(color_r) + \",\" + str(color_g) + \",\" + str(color_b) + \",\" + str(color_a) + \",\" + str(color_fade) + \",\" + str(texture_id) + \",\" + str(hide) + \",\" + str(freeze) + \",\" + str(topo) + \",\" + str(facet) + \",\" + str(auto_zoom_x) + \",\" + str(auto_zoom_y) + \",\" + str(auto_zoom_z) + \",\" + str(trigger_hi_x) + \",\" + str(trigger_hi_y) + \",\" + str(trigger_hi_z) + \",\" + str(trigger_lo_x) + \",\" + str(trigger_lo_y) + \",\" + str(trigger_lo_z) + \",\" + str(set_hi_x) + \",\" + str(set_hi_y) + \",\" + str(set_hi_z) + \",\" + str(set_lo_x) + \",\" + str(set_lo_y) + \",\" + str(set_lo_z) + \",\" + str(proximity_x) + \",\" + str(proximity_y) + \",\" + str(proximity_z) + \",\" + str(proximity_mode_x) + \",\" + str(proximity_mode_y) + \",\" + str(proximity_mode_z) + \",\" + str(segments_x) + \",\" + str(segments_y) + \",\" + str(segments_z) + \",\" + str(tag_mode) + \",\" + str(format_id) + \",\" + str(table_id) + \",\" + str(record_id) + \",\" + str(size) + \"\\n\"\n",
    "            fout.write(outputstring)\n",
    "\n",
    "            # Output to Tag file\n",
    "            tagtext = \"\"\n",
    "            tagstring = str(taginc) + \",\" + str(record_id) + \",0,\\\"\" + tagtext + \"\\\",\\\"\\\"\\n\"\n",
    "            ftag.write(tagstring)\n",
    "            taginc += 1\n",
    "\n",
    "            level2objectid = id\n",
    "\n",
    "            numlevel3toroids = 3\n",
    "            #k cones with oura summary scores\n",
    "            for k in range(numlevel3toroids):\n",
    "                id += 1\n",
    "                data = id\n",
    "                type = 5\n",
    "                parent_id = level2objectid\n",
    "                selected = 0\n",
    "                branch_level = 3\n",
    "                child_id = id\n",
    "                if k == 0:\n",
    "                    translate_x = 0\n",
    "                    scale_x = row['score_scale'] \n",
    "                    scale_y = scale_x\n",
    "                    scale_z = scale_x\n",
    "                    color_r = 102\n",
    "                    color_g = 0\n",
    "                    color_b = 0\n",
    "                    tagtext = \"Sleep Score: \" + str(row['score'])\n",
    "                elif k == 1:\n",
    "                    translate_x = -120\n",
    "                    scale_x = row['score_x_scale'] \n",
    "                    scale_y = scale_x\n",
    "                    scale_z = scale_x\n",
    "                    color_r = 51\n",
    "                    color_g = 0\n",
    "                    color_b = 102\n",
    "                    tagtext = \"Activity Score: \" + str(row['score_x'])\n",
    "                elif k == 2: \n",
    "                    translate_x = 120\n",
    "                    scale_x = row['score_y_scale'] \n",
    "                    scale_y = scale_x\n",
    "                    scale_z = scale_x\n",
    "                    color_r = 0\n",
    "                    color_g = 51\n",
    "                    color_b = 102\n",
    "                    tagtext = \"Readiness Score: \" + str(row['score_y'])\n",
    "                translate_y = 165\n",
    "                translate_z = 570\n",
    "                ratio = .1\n",
    "                line_width= 1\n",
    "                geometry = 5\n",
    "                topo = 2\n",
    "                rotate_x = 0\n",
    "                rotate_y = 0\n",
    "                color_a = 255\n",
    "                hide = 0\n",
    "                record_id = id \n",
    "                texture_id= 0\n",
    "\n",
    "                # Creat output string and write to ANTz Node File\n",
    "                outputstring = str(id) + \",\" + str(type) + \",\" + str(data) + \",\" + str(selected) + \",\" + str(parent_id) + \",\" + str(branch_level) + \",\" + str(child_id) + \",\" + str(child_index) + \",\" + str(palette_id) + \",\" + str(ch_input_id) + \",\" + str(ch_output_id) + \",\" + str(ch_last_updated) + \",\" + str(average) + \",\" + str(samples) + \",\" + str(aux_a_x) + \",\" + str(aux_a_y) + \",\" + str(aux_a_z) + \",\" + str(aux_b_x) + \",\" + str(aux_b_y) + \",\" + str(aux_b_z) + \",\" + str(color_shift) + \",\" + str(rotate_vec_x) + \",\" + str(rotate_vec_y) + \",\" + str(rotate_vec_z) + \",\" + str(rotate_vec_s) + \",\" + str(scale_x) + \",\" + str(scale_y) + \",\" + str(scale_z) + \",\" + str(translate_x) + \",\" + str(translate_y) + \",\" + str(translate_z) + \",\" + str(tag_offset_x) + \",\" + str(tag_offset_y) + \",\" + str(tag_offset_z) + \",\" + str(rotate_rate_x) + \",\" + str(rotate_rate_y) + \",\" + str(rotate_rate_z) + \",\" + str(rotate_x) + \",\" + str(rotate_y) + \",\" + str(rotate_z) + \",\" + str(scale_rate_x) + \",\" + str(scale_rate_y) + \",\" + str(scale_rate_z) + \",\" + str(translate_rate_x) + \",\" + str(translate_rate_y) + \",\" + str(translate_rate_z) + \",\" + str(translate_vec_x) + \",\" + str(translate_vec_y) + \",\" + str(translate_vec_z) + \",\" + str(shader) + \",\" + str(geometry) + \",\" + str(line_width) + \",\" + str(point_size) + \",\" + str(ratio) + \",\" + str(color_index) + \",\" + str(color_r) + \",\" + str(color_g) + \",\" + str(color_b) + \",\" + str(color_a) + \",\" + str(color_fade) + \",\" + str(texture_id) + \",\" + str(hide) + \",\" + str(freeze) + \",\" + str(topo) + \",\" + str(facet) + \",\" + str(auto_zoom_x) + \",\" + str(auto_zoom_y) + \",\" + str(auto_zoom_z) + \",\" + str(trigger_hi_x) + \",\" + str(trigger_hi_y) + \",\" + str(trigger_hi_z) + \",\" + str(trigger_lo_x) + \",\" + str(trigger_lo_y) + \",\" + str(trigger_lo_z) + \",\" + str(set_hi_x) + \",\" + str(set_hi_y) + \",\" + str(set_hi_z) + \",\" + str(set_lo_x) + \",\" + str(set_lo_y) + \",\" + str(set_lo_z) + \",\" + str(proximity_x) + \",\" + str(proximity_y) + \",\" + str(proximity_z) + \",\" + str(proximity_mode_x) + \",\" + str(proximity_mode_y) + \",\" + str(proximity_mode_z) + \",\" + str(segments_x) + \",\" + str(segments_y) + \",\" + str(segments_z) + \",\" + str(tag_mode) + \",\" + str(format_id) + \",\" + str(table_id) + \",\" + str(record_id) + \",\" + str(size) + \"\\n\"\n",
    "                fout.write(outputstring)\n",
    "\n",
    "                # Output to Tag file\n",
    "                tagstring = str(taginc) + \",\" + str(record_id) + \",0,\\\"\" + tagtext + \"\\\",\\\"\\\"\\n\"\n",
    "                ftag.write(tagstring)\n",
    "                taginc += 1    \n",
    "\n",
    "            # cone indicating midnight\n",
    "            numlevel3toroids = 1\n",
    "            for j in range(numlevel3toroids):     \n",
    "                id += 1\n",
    "                data = id\n",
    "                type = 5\n",
    "                parent_id = level2objectid\n",
    "                selected = 0\n",
    "                branch_level = 3\n",
    "                child_id = id\n",
    "                scale_x = 1\n",
    "                scale_y = scale_x\n",
    "                scale_z = scale_x \n",
    "                translate_x = 0\n",
    "                translate_y = 0\n",
    "                translate_z = 255\n",
    "                rotate_x = 0\n",
    "                rotate_y = 0\n",
    "                rotate_z = 0\n",
    "                ratio = .1\n",
    "                line_width= 1\n",
    "                geometry = 5\n",
    "                topo = 2\n",
    "                color_r = 191\n",
    "                color_g = 164\n",
    "                color_b = 115\n",
    "                color_a = 255\n",
    "                hide = 0\n",
    "                record_id = id \n",
    "\n",
    "                # Creat output string and write to ANTz Node File\n",
    "                outputstring = str(id) + \",\" + str(type) + \",\" + str(data) + \",\" + str(selected) + \",\" + str(parent_id) + \",\" + str(branch_level) + \",\" + str(child_id) + \",\" + str(child_index) + \",\" + str(palette_id) + \",\" + str(ch_input_id) + \",\" + str(ch_output_id) + \",\" + str(ch_last_updated) + \",\" + str(average) + \",\" + str(samples) + \",\" + str(aux_a_x) + \",\" + str(aux_a_y) + \",\" + str(aux_a_z) + \",\" + str(aux_b_x) + \",\" + str(aux_b_y) + \",\" + str(aux_b_z) + \",\" + str(color_shift) + \",\" + str(rotate_vec_x) + \",\" + str(rotate_vec_y) + \",\" + str(rotate_vec_z) + \",\" + str(rotate_vec_s) + \",\" + str(scale_x) + \",\" + str(scale_y) + \",\" + str(scale_z) + \",\" + str(translate_x) + \",\" + str(translate_y) + \",\" + str(translate_z) + \",\" + str(tag_offset_x) + \",\" + str(tag_offset_y) + \",\" + str(tag_offset_z) + \",\" + str(rotate_rate_x) + \",\" + str(rotate_rate_y) + \",\" + str(rotate_rate_z) + \",\" + str(rotate_x) + \",\" + str(rotate_y) + \",\" + str(rotate_z) + \",\" + str(scale_rate_x) + \",\" + str(scale_rate_y) + \",\" + str(scale_rate_z) + \",\" + str(translate_rate_x) + \",\" + str(translate_rate_y) + \",\" + str(translate_rate_z) + \",\" + str(translate_vec_x) + \",\" + str(translate_vec_y) + \",\" + str(translate_vec_z) + \",\" + str(shader) + \",\" + str(geometry) + \",\" + str(line_width) + \",\" + str(point_size) + \",\" + str(ratio) + \",\" + str(color_index) + \",\" + str(color_r) + \",\" + str(color_g) + \",\" + str(color_b) + \",\" + str(color_a) + \",\" + str(color_fade) + \",\" + str(texture_id) + \",\" + str(hide) + \",\" + str(freeze) + \",\" + str(topo) + \",\" + str(facet) + \",\" + str(auto_zoom_x) + \",\" + str(auto_zoom_y) + \",\" + str(auto_zoom_z) + \",\" + str(trigger_hi_x) + \",\" + str(trigger_hi_y) + \",\" + str(trigger_hi_z) + \",\" + str(trigger_lo_x) + \",\" + str(trigger_lo_y) + \",\" + str(trigger_lo_z) + \",\" + str(set_hi_x) + \",\" + str(set_hi_y) + \",\" + str(set_hi_z) + \",\" + str(set_lo_x) + \",\" + str(set_lo_y) + \",\" + str(set_lo_z) + \",\" + str(proximity_x) + \",\" + str(proximity_y) + \",\" + str(proximity_z) + \",\" + str(proximity_mode_x) + \",\" + str(proximity_mode_y) + \",\" + str(proximity_mode_z) + \",\" + str(segments_x) + \",\" + str(segments_y) + \",\" + str(segments_z) + \",\" + str(tag_mode) + \",\" + str(format_id) + \",\" + str(table_id) + \",\" + str(record_id) + \",\" + str(size) + \"\\n\"\n",
    "                fout.write(outputstring)\n",
    "                \n",
    "            numlevel3toroids = 24\n",
    "            # rods for each hour\n",
    "            hlist = []\n",
    "            for h in range(numlevel3toroids):\n",
    "                id += 1\n",
    "                data = id\n",
    "                type = 5\n",
    "                parent_id = level2objectid\n",
    "                selected = 0\n",
    "                branch_level = 3\n",
    "                translate_x = 360 - ((360/numlevel3toroids)*h) \n",
    "                translate_y = 0\n",
    "                translate_z = 370\n",
    "                scale_x = 4.35\n",
    "                scale_y = scale_x\n",
    "                scale_z = scale_x\n",
    "                ratio = .06\n",
    "                color_r = 89\n",
    "                color_g = 89\n",
    "                color_b = 89\n",
    "                geometry = 19\n",
    "                topo = 6\n",
    "                hide = 1\n",
    "                record_id = id\n",
    "\n",
    "                # Creat output string and write to ANTz Node File\n",
    "                outputstring = str(id) + \",\" + str(type) + \",\" + str(data) + \",\" + str(selected) + \",\" + str(parent_id) + \",\" + str(branch_level) + \",\" + str(child_id) + \",\" + str(child_index) + \",\" + str(palette_id) + \",\" + str(ch_input_id) + \",\" + str(ch_output_id) + \",\" + str(ch_last_updated) + \",\" + str(average) + \",\" + str(samples) + \",\" + str(aux_a_x) + \",\" + str(aux_a_y) + \",\" + str(aux_a_z) + \",\" + str(aux_b_x) + \",\" + str(aux_b_y) + \",\" + str(aux_b_z) + \",\" + str(color_shift) + \",\" + str(rotate_vec_x) + \",\" + str(rotate_vec_y) + \",\" + str(rotate_vec_z) + \",\" + str(rotate_vec_s) + \",\" + str(scale_x) + \",\" + str(scale_y) + \",\" + str(scale_z) + \",\" + str(translate_x) + \",\" + str(translate_y) + \",\" + str(translate_z) + \",\" + str(tag_offset_x) + \",\" + str(tag_offset_y) + \",\" + str(tag_offset_z) + \",\" + str(rotate_rate_x) + \",\" + str(rotate_rate_y) + \",\" + str(rotate_rate_z) + \",\" + str(rotate_x) + \",\" + str(rotate_y) + \",\" + str(rotate_z) + \",\" + str(scale_rate_x) + \",\" + str(scale_rate_y) + \",\" + str(scale_rate_z) + \",\" + str(translate_rate_x) + \",\" + str(translate_rate_y) + \",\" + str(translate_rate_z) + \",\" + str(translate_vec_x) + \",\" + str(translate_vec_y) + \",\" + str(translate_vec_z) + \",\" + str(shader) + \",\" + str(geometry) + \",\" + str(line_width) + \",\" + str(point_size) + \",\" + str(ratio) + \",\" + str(color_index) + \",\" + str(color_r) + \",\" + str(color_g) + \",\" + str(color_b) + \",\" + str(color_a) + \",\" + str(color_fade) + \",\" + str(texture_id) + \",\" + str(hide) + \",\" + str(freeze) + \",\" + str(topo) + \",\" + str(facet) + \",\" + str(auto_zoom_x) + \",\" + str(auto_zoom_y) + \",\" + str(auto_zoom_z) + \",\" + str(trigger_hi_x) + \",\" + str(trigger_hi_y) + \",\" + str(trigger_hi_z) + \",\" + str(trigger_lo_x) + \",\" + str(trigger_lo_y) + \",\" + str(trigger_lo_z) + \",\" + str(set_hi_x) + \",\" + str(set_hi_y) + \",\" + str(set_hi_z) + \",\" + str(set_lo_x) + \",\" + str(set_lo_y) + \",\" + str(set_lo_z) + \",\" + str(proximity_x) + \",\" + str(proximity_y) + \",\" + str(proximity_z) + \",\" + str(proximity_mode_x) + \",\" + str(proximity_mode_y) + \",\" + str(proximity_mode_z) + \",\" + str(segments_x) + \",\" + str(segments_y) + \",\" + str(segments_z) + \",\" + str(tag_mode) + \",\" + str(format_id) + \",\" + str(table_id) + \",\" + str(record_id) + \",\" + str(size) + \"\\n\"\n",
    "                fout.write(outputstring)\n",
    "                \n",
    "                # Output to Tag file\n",
    "                tagtext = str(\"H: \") + str(h)\n",
    "                tagstring = str(taginc) + \",\" + str(record_id) + \",0,\\\"\" + tagtext + \"\\\",\\\"\\\"\\n\"\n",
    "                ftag.write(tagstring)\n",
    "                taginc += 1 \n",
    "                \n",
    "                \n",
    "                x = id\n",
    "                hlist.append(x)\n",
    "                \n",
    "            listh = list(range(24))\n",
    "            #hlist = parent_id's, and listh = 0 to 23 for h time\n",
    "            for i, h in zip(hlist, listh):\n",
    "                #blood glucose glyphs\n",
    "                for i4, row4 in df4.loc[(df4['date'] == row['date']) & (df4['hour'] == h)].iterrows():\n",
    "                    id += 1\n",
    "                    data = id\n",
    "                    type = 5\n",
    "                    parent_id = i\n",
    "                    selected = 0\n",
    "                    branch_level = 4\n",
    "                    translate_x = -172\n",
    "                    translate_y = 0\n",
    "                    translate_z = 0\n",
    "                    scale_x = row4['bg_scale']\n",
    "                    scale_y = scale_x\n",
    "                    scale_z = scale_x\n",
    "                    geometry = 3\n",
    "                    topo = 2\n",
    "                    color_r = 191\n",
    "                    color_g = 15\n",
    "                    color_b = 15\n",
    "                    hide = 0\n",
    "                    record_id = id\n",
    "                    tagtext = \"Blood Glucose: \" + str(row4['bg'])\n",
    "\n",
    "                    # Creat output string and write to ANTz Node File\n",
    "                    outputstring = str(id) + \",\" + str(type) + \",\" + str(data) + \",\" + str(selected) + \",\" + str(parent_id) + \",\" + str(branch_level) + \",\" + str(child_id) + \",\" + str(child_index) + \",\" + str(palette_id) + \",\" + str(ch_input_id) + \",\" + str(ch_output_id) + \",\" + str(ch_last_updated) + \",\" + str(average) + \",\" + str(samples) + \",\" + str(aux_a_x) + \",\" + str(aux_a_y) + \",\" + str(aux_a_z) + \",\" + str(aux_b_x) + \",\" + str(aux_b_y) + \",\" + str(aux_b_z) + \",\" + str(color_shift) + \",\" + str(rotate_vec_x) + \",\" + str(rotate_vec_y) + \",\" + str(rotate_vec_z) + \",\" + str(rotate_vec_s) + \",\" + str(scale_x) + \",\" + str(scale_y) + \",\" + str(scale_z) + \",\" + str(translate_x) + \",\" + str(translate_y) + \",\" + str(translate_z) + \",\" + str(tag_offset_x) + \",\" + str(tag_offset_y) + \",\" + str(tag_offset_z) + \",\" + str(rotate_rate_x) + \",\" + str(rotate_rate_y) + \",\" + str(rotate_rate_z) + \",\" + str(rotate_x) + \",\" + str(rotate_y) + \",\" + str(rotate_z) + \",\" + str(scale_rate_x) + \",\" + str(scale_rate_y) + \",\" + str(scale_rate_z) + \",\" + str(translate_rate_x) + \",\" + str(translate_rate_y) + \",\" + str(translate_rate_z) + \",\" + str(translate_vec_x) + \",\" + str(translate_vec_y) + \",\" + str(translate_vec_z) + \",\" + str(shader) + \",\" + str(geometry) + \",\" + str(line_width) + \",\" + str(point_size) + \",\" + str(ratio) + \",\" + str(color_index) + \",\" + str(color_r) + \",\" + str(color_g) + \",\" + str(color_b) + \",\" + str(color_a) + \",\" + str(color_fade) + \",\" + str(texture_id) + \",\" + str(hide) + \",\" + str(freeze) + \",\" + str(topo) + \",\" + str(facet) + \",\" + str(auto_zoom_x) + \",\" + str(auto_zoom_y) + \",\" + str(auto_zoom_z) + \",\" + str(trigger_hi_x) + \",\" + str(trigger_hi_y) + \",\" + str(trigger_hi_z) + \",\" + str(trigger_lo_x) + \",\" + str(trigger_lo_y) + \",\" + str(trigger_lo_z) + \",\" + str(set_hi_x) + \",\" + str(set_hi_y) + \",\" + str(set_hi_z) + \",\" + str(set_lo_x) + \",\" + str(set_lo_y) + \",\" + str(set_lo_z) + \",\" + str(proximity_x) + \",\" + str(proximity_y) + \",\" + str(proximity_z) + \",\" + str(proximity_mode_x) + \",\" + str(proximity_mode_y) + \",\" + str(proximity_mode_z) + \",\" + str(segments_x) + \",\" + str(segments_y) + \",\" + str(segments_z) + \",\" + str(tag_mode) + \",\" + str(format_id) + \",\" + str(table_id) + \",\" + str(record_id) + \",\" + str(size) + \"\\n\"\n",
    "                    fout.write(outputstring)\n",
    "                    # Output to Tag file\n",
    "                    tagstring = str(taginc) + \",\" + str(record_id) + \",0,\\\"\" + tagtext + \"\\\",\\\"\\\"\\n\"\n",
    "                    ftag.write(tagstring)\n",
    "                    taginc += 1 \n",
    "\n",
    "                #survey cylinders\n",
    "                numlevel4toroids = 3\n",
    "                for i6, row6 in df6.loc[(df6['date'] == row['date']) & (df6['hour'] == h)].iterrows():\n",
    "                    for jj in range(numlevel4toroids):\n",
    "                        if jj == 0:\n",
    "                            id += 1\n",
    "                            data = id\n",
    "                            type = 5\n",
    "                            parent_id = i\n",
    "                            selected = 0\n",
    "                            branch_level = 4\n",
    "                            translate_x = -142\n",
    "                            translate_y = 0\n",
    "                            translate_z = 0\n",
    "                            geometry = 19\n",
    "                            topo = 4\n",
    "                            if row6['focus_quality'] == 1:\n",
    "                                scale_x = .5\n",
    "                                scale_y = .5\n",
    "                                scale_z = scale_x\n",
    "                            elif row6['focus_quality'] == 2:\n",
    "                                scale_x = .67\n",
    "                                scale_y = 1\n",
    "                                scale_z = scale_x\n",
    "                            elif row6['focus_quality'] == 3:\n",
    "                                scale_x = .85\n",
    "                                scale_y = 1.5\n",
    "                                scale_z = scale_x\n",
    "                            elif row6['focus_quality'] == 4:\n",
    "                                scale_x = 1.05\n",
    "                                scale_y = 2\n",
    "                                scale_z = scale_x\n",
    "                            elif row6['focus_quality'] == 5:\n",
    "                                scale_x = 1.25\n",
    "                                scale_y = 2.5\n",
    "                                scale_z = scale_x\n",
    "                            if row6['work_type'] == 'admin':\n",
    "                                color_r = 217\n",
    "                                color_g = 201\n",
    "                                color_b = 173\n",
    "                            elif row6['work_type'] == 'creative_generative':\n",
    "                                color_r = 242\n",
    "                                color_g = 92\n",
    "                                color_b = 132\n",
    "                            elif row6['work_type'] == 'with_people':\n",
    "                                color_r = 4\n",
    "                                color_g = 191\n",
    "                                color_b = 157\n",
    "                            elif row6['work_type'] == 'fucking_off':\n",
    "                                color_r = 242\n",
    "                                color_g = 159\n",
    "                                color_b = 5\n",
    "                            elif row6['work_type'] == 'consuming_learning_strategy':\n",
    "                                color_r = 191\n",
    "                                color_g = 73\n",
    "                                color_b = 150\n",
    "                            elif row6['work_type'] == 'consuming_learing_strategy':\n",
    "                                color_r = 191\n",
    "                                color_g = 73\n",
    "                                color_b = 150\n",
    "                            hide = 0\n",
    "                            record_id = id\n",
    "                            tagtext = \"Work Type: \" + str(row6['work_type']) + \"/ Focus Quality: \" + str(row6['focus_quality'])\n",
    "\n",
    "                            # Creat output string and write to ANTz Node File\n",
    "                            outputstring = str(id) + \",\" + str(type) + \",\" + str(data) + \",\" + str(selected) + \",\" + str(parent_id) + \",\" + str(branch_level) + \",\" + str(child_id) + \",\" + str(child_index) + \",\" + str(palette_id) + \",\" + str(ch_input_id) + \",\" + str(ch_output_id) + \",\" + str(ch_last_updated) + \",\" + str(average) + \",\" + str(samples) + \",\" + str(aux_a_x) + \",\" + str(aux_a_y) + \",\" + str(aux_a_z) + \",\" + str(aux_b_x) + \",\" + str(aux_b_y) + \",\" + str(aux_b_z) + \",\" + str(color_shift) + \",\" + str(rotate_vec_x) + \",\" + str(rotate_vec_y) + \",\" + str(rotate_vec_z) + \",\" + str(rotate_vec_s) + \",\" + str(scale_x) + \",\" + str(scale_y) + \",\" + str(scale_z) + \",\" + str(translate_x) + \",\" + str(translate_y) + \",\" + str(translate_z) + \",\" + str(tag_offset_x) + \",\" + str(tag_offset_y) + \",\" + str(tag_offset_z) + \",\" + str(rotate_rate_x) + \",\" + str(rotate_rate_y) + \",\" + str(rotate_rate_z) + \",\" + str(rotate_x) + \",\" + str(rotate_y) + \",\" + str(rotate_z) + \",\" + str(scale_rate_x) + \",\" + str(scale_rate_y) + \",\" + str(scale_rate_z) + \",\" + str(translate_rate_x) + \",\" + str(translate_rate_y) + \",\" + str(translate_rate_z) + \",\" + str(translate_vec_x) + \",\" + str(translate_vec_y) + \",\" + str(translate_vec_z) + \",\" + str(shader) + \",\" + str(geometry) + \",\" + str(line_width) + \",\" + str(point_size) + \",\" + str(ratio) + \",\" + str(color_index) + \",\" + str(color_r) + \",\" + str(color_g) + \",\" + str(color_b) + \",\" + str(color_a) + \",\" + str(color_fade) + \",\" + str(texture_id) + \",\" + str(hide) + \",\" + str(freeze) + \",\" + str(topo) + \",\" + str(facet) + \",\" + str(auto_zoom_x) + \",\" + str(auto_zoom_y) + \",\" + str(auto_zoom_z) + \",\" + str(trigger_hi_x) + \",\" + str(trigger_hi_y) + \",\" + str(trigger_hi_z) + \",\" + str(trigger_lo_x) + \",\" + str(trigger_lo_y) + \",\" + str(trigger_lo_z) + \",\" + str(set_hi_x) + \",\" + str(set_hi_y) + \",\" + str(set_hi_z) + \",\" + str(set_lo_x) + \",\" + str(set_lo_y) + \",\" + str(set_lo_z) + \",\" + str(proximity_x) + \",\" + str(proximity_y) + \",\" + str(proximity_z) + \",\" + str(proximity_mode_x) + \",\" + str(proximity_mode_y) + \",\" + str(proximity_mode_z) + \",\" + str(segments_x) + \",\" + str(segments_y) + \",\" + str(segments_z) + \",\" + str(tag_mode) + \",\" + str(format_id) + \",\" + str(table_id) + \",\" + str(record_id) + \",\" + str(size) + \"\\n\"\n",
    "                            fout.write(outputstring)\n",
    "\n",
    "                            # Output to Tag file\n",
    "                            tagstring = str(taginc) + \",\" + str(record_id) + \",0,\\\"\" + tagtext + \"\\\",\\\"\\\"\\n\"\n",
    "                            ftag.write(tagstring)\n",
    "                            taginc += 1 \n",
    "\n",
    "                        elif jj == 1:\n",
    "                            id += 1\n",
    "                            data = id\n",
    "                            type = 5\n",
    "                            parent_id = i\n",
    "                            selected = 0\n",
    "                            branch_level = 4\n",
    "                            translate_x = -130\n",
    "                            translate_y = 0\n",
    "                            translate_z = 0\n",
    "                            geometry = 19\n",
    "                            topo = 4\n",
    "                            if row6['engagement_rating'] == 1:\n",
    "                                scale_x = .5\n",
    "                                scale_y = .5\n",
    "                                scale_z = scale_x\n",
    "                            elif row6['engagement_rating'] == 2:\n",
    "                                scale_x = .67\n",
    "                                scale_y = 1\n",
    "                                scale_z = scale_x\n",
    "                            elif row6['engagement_rating'] == 3:\n",
    "                                scale_x = .85\n",
    "                                scale_y = 1.5\n",
    "                                scale_z = scale_x\n",
    "                            elif row6['engagement_rating'] == 4:\n",
    "                                scale_x = 1.05\n",
    "                                scale_y = 2\n",
    "                                scale_z = scale_x\n",
    "                            elif row6['engagement_rating'] == 5:\n",
    "                                scale_x = 1.25\n",
    "                                scale_y = 2.5\n",
    "                                scale_z = scale_x\n",
    "                            if row6['work_type'] == 'admin':\n",
    "                                color_r = 217\n",
    "                                color_g = 201\n",
    "                                color_b = 173\n",
    "                            elif row6['work_type'] == 'creative_generative':\n",
    "                                color_r = 242\n",
    "                                color_g = 92\n",
    "                                color_b = 132\n",
    "                            elif row6['work_type'] == 'with_people':\n",
    "                                color_r = 4\n",
    "                                color_g = 191\n",
    "                                color_b = 157\n",
    "                            elif row6['work_type'] == 'fucking_off':\n",
    "                                color_r = 242\n",
    "                                color_g = 159\n",
    "                                color_b = 5\n",
    "                            elif row6['work_type'] == 'consuming_learning_strategy':\n",
    "                                color_r = 191\n",
    "                                color_g = 73\n",
    "                                color_b = 150\n",
    "                            elif row6['work_type'] == 'consuming_learing_strategy':\n",
    "                                color_r = 191\n",
    "                                color_g = 73\n",
    "                                color_b = 150\n",
    "                            hide = 0\n",
    "                            record_id = id\n",
    "                            tagtext = \"Engagement Rating: \" + str(row6['engagement_rating'])\n",
    "\n",
    "                            # Creat output string and write to ANTz Node File\n",
    "                            outputstring = str(id) + \",\" + str(type) + \",\" + str(data) + \",\" + str(selected) + \",\" + str(parent_id) + \",\" + str(branch_level) + \",\" + str(child_id) + \",\" + str(child_index) + \",\" + str(palette_id) + \",\" + str(ch_input_id) + \",\" + str(ch_output_id) + \",\" + str(ch_last_updated) + \",\" + str(average) + \",\" + str(samples) + \",\" + str(aux_a_x) + \",\" + str(aux_a_y) + \",\" + str(aux_a_z) + \",\" + str(aux_b_x) + \",\" + str(aux_b_y) + \",\" + str(aux_b_z) + \",\" + str(color_shift) + \",\" + str(rotate_vec_x) + \",\" + str(rotate_vec_y) + \",\" + str(rotate_vec_z) + \",\" + str(rotate_vec_s) + \",\" + str(scale_x) + \",\" + str(scale_y) + \",\" + str(scale_z) + \",\" + str(translate_x) + \",\" + str(translate_y) + \",\" + str(translate_z) + \",\" + str(tag_offset_x) + \",\" + str(tag_offset_y) + \",\" + str(tag_offset_z) + \",\" + str(rotate_rate_x) + \",\" + str(rotate_rate_y) + \",\" + str(rotate_rate_z) + \",\" + str(rotate_x) + \",\" + str(rotate_y) + \",\" + str(rotate_z) + \",\" + str(scale_rate_x) + \",\" + str(scale_rate_y) + \",\" + str(scale_rate_z) + \",\" + str(translate_rate_x) + \",\" + str(translate_rate_y) + \",\" + str(translate_rate_z) + \",\" + str(translate_vec_x) + \",\" + str(translate_vec_y) + \",\" + str(translate_vec_z) + \",\" + str(shader) + \",\" + str(geometry) + \",\" + str(line_width) + \",\" + str(point_size) + \",\" + str(ratio) + \",\" + str(color_index) + \",\" + str(color_r) + \",\" + str(color_g) + \",\" + str(color_b) + \",\" + str(color_a) + \",\" + str(color_fade) + \",\" + str(texture_id) + \",\" + str(hide) + \",\" + str(freeze) + \",\" + str(topo) + \",\" + str(facet) + \",\" + str(auto_zoom_x) + \",\" + str(auto_zoom_y) + \",\" + str(auto_zoom_z) + \",\" + str(trigger_hi_x) + \",\" + str(trigger_hi_y) + \",\" + str(trigger_hi_z) + \",\" + str(trigger_lo_x) + \",\" + str(trigger_lo_y) + \",\" + str(trigger_lo_z) + \",\" + str(set_hi_x) + \",\" + str(set_hi_y) + \",\" + str(set_hi_z) + \",\" + str(set_lo_x) + \",\" + str(set_lo_y) + \",\" + str(set_lo_z) + \",\" + str(proximity_x) + \",\" + str(proximity_y) + \",\" + str(proximity_z) + \",\" + str(proximity_mode_x) + \",\" + str(proximity_mode_y) + \",\" + str(proximity_mode_z) + \",\" + str(segments_x) + \",\" + str(segments_y) + \",\" + str(segments_z) + \",\" + str(tag_mode) + \",\" + str(format_id) + \",\" + str(table_id) + \",\" + str(record_id) + \",\" + str(size) + \"\\n\"\n",
    "                            fout.write(outputstring)\n",
    "\n",
    "                            # Output to Tag file\n",
    "                            tagstring = str(taginc) + \",\" + str(record_id) + \",0,\\\"\" + tagtext + \"\\\",\\\"\\\"\\n\"\n",
    "                            ftag.write(tagstring)\n",
    "                            taginc += 1 \n",
    "\n",
    "\n",
    "                        elif jj == 2:\n",
    "                            id += 1\n",
    "                            data = id\n",
    "                            type = 5\n",
    "                            parent_id = i\n",
    "                            selected = 0\n",
    "                            branch_level = 4\n",
    "                            translate_x = -118\n",
    "                            translate_y = 0\n",
    "                            translate_z = 0\n",
    "                            geometry = 19\n",
    "                            topo = 4\n",
    "                            hide = 0\n",
    "                            if row6['company_benefit'] == 1:\n",
    "                                scale_x = .5\n",
    "                                scale_y = .5\n",
    "                                scale_z = scale_x\n",
    "                            elif row6['company_benefit'] == 2:\n",
    "                                scale_x = .67\n",
    "                                scale_y = 1\n",
    "                                scale_z = scale_x\n",
    "                            elif row6['company_benefit'] == 3:\n",
    "                                scale_x = .85\n",
    "                                scale_y = 1.5\n",
    "                                scale_z = scale_x\n",
    "                            elif row6['company_benefit'] == 4:\n",
    "                                scale_x = 1.05\n",
    "                                scale_y = 2\n",
    "                                scale_z = scale_x\n",
    "                            elif row6['company_benefit'] == 5:\n",
    "                                scale_x = 1.25\n",
    "                                scale_y = 2.5\n",
    "                                scale_z = scale_x\n",
    "                            if row6['work_type'] == 'admin':\n",
    "                                color_r = 217\n",
    "                                color_g = 201\n",
    "                                color_b = 173\n",
    "                            elif row6['work_type'] == 'creative_generative':\n",
    "                                color_r = 242\n",
    "                                color_g = 92\n",
    "                                color_b = 132\n",
    "                            elif row6['work_type'] == 'with_people':\n",
    "                                color_r = 4\n",
    "                                color_g = 191\n",
    "                                color_b = 157\n",
    "                            elif row6['work_type'] == 'fucking_off':\n",
    "                                color_r = 242\n",
    "                                color_g = 159\n",
    "                                color_b = 5\n",
    "                            elif row6['work_type'] == 'consuming_learning_strategy':\n",
    "                                color_r = 191\n",
    "                                color_g = 73\n",
    "                                color_b = 150\n",
    "                            elif row6['work_type'] == 'consuming_learing_strategy':\n",
    "                                color_r = 191\n",
    "                                color_g = 73\n",
    "                                color_b = 150\n",
    "                            record_id = id\n",
    "                            tagtext = \"Company Benefit: \" + str(row6['company_benefit'])\n",
    "\n",
    "                            # Creat output string and write to ANTz Node File\n",
    "                            outputstring = str(id) + \",\" + str(type) + \",\" + str(data) + \",\" + str(selected) + \",\" + str(parent_id) + \",\" + str(branch_level) + \",\" + str(child_id) + \",\" + str(child_index) + \",\" + str(palette_id) + \",\" + str(ch_input_id) + \",\" + str(ch_output_id) + \",\" + str(ch_last_updated) + \",\" + str(average) + \",\" + str(samples) + \",\" + str(aux_a_x) + \",\" + str(aux_a_y) + \",\" + str(aux_a_z) + \",\" + str(aux_b_x) + \",\" + str(aux_b_y) + \",\" + str(aux_b_z) + \",\" + str(color_shift) + \",\" + str(rotate_vec_x) + \",\" + str(rotate_vec_y) + \",\" + str(rotate_vec_z) + \",\" + str(rotate_vec_s) + \",\" + str(scale_x) + \",\" + str(scale_y) + \",\" + str(scale_z) + \",\" + str(translate_x) + \",\" + str(translate_y) + \",\" + str(translate_z) + \",\" + str(tag_offset_x) + \",\" + str(tag_offset_y) + \",\" + str(tag_offset_z) + \",\" + str(rotate_rate_x) + \",\" + str(rotate_rate_y) + \",\" + str(rotate_rate_z) + \",\" + str(rotate_x) + \",\" + str(rotate_y) + \",\" + str(rotate_z) + \",\" + str(scale_rate_x) + \",\" + str(scale_rate_y) + \",\" + str(scale_rate_z) + \",\" + str(translate_rate_x) + \",\" + str(translate_rate_y) + \",\" + str(translate_rate_z) + \",\" + str(translate_vec_x) + \",\" + str(translate_vec_y) + \",\" + str(translate_vec_z) + \",\" + str(shader) + \",\" + str(geometry) + \",\" + str(line_width) + \",\" + str(point_size) + \",\" + str(ratio) + \",\" + str(color_index) + \",\" + str(color_r) + \",\" + str(color_g) + \",\" + str(color_b) + \",\" + str(color_a) + \",\" + str(color_fade) + \",\" + str(texture_id) + \",\" + str(hide) + \",\" + str(freeze) + \",\" + str(topo) + \",\" + str(facet) + \",\" + str(auto_zoom_x) + \",\" + str(auto_zoom_y) + \",\" + str(auto_zoom_z) + \",\" + str(trigger_hi_x) + \",\" + str(trigger_hi_y) + \",\" + str(trigger_hi_z) + \",\" + str(trigger_lo_x) + \",\" + str(trigger_lo_y) + \",\" + str(trigger_lo_z) + \",\" + str(set_hi_x) + \",\" + str(set_hi_y) + \",\" + str(set_hi_z) + \",\" + str(set_lo_x) + \",\" + str(set_lo_y) + \",\" + str(set_lo_z) + \",\" + str(proximity_x) + \",\" + str(proximity_y) + \",\" + str(proximity_z) + \",\" + str(proximity_mode_x) + \",\" + str(proximity_mode_y) + \",\" + str(proximity_mode_z) + \",\" + str(segments_x) + \",\" + str(segments_y) + \",\" + str(segments_z) + \",\" + str(tag_mode) + \",\" + str(format_id) + \",\" + str(table_id) + \",\" + str(record_id) + \",\" + str(size) + \"\\n\"\n",
    "                            fout.write(outputstring)\n",
    "\n",
    "                            # Output to Tag file\n",
    "                            tagstring = str(taginc) + \",\" + str(record_id) + \",0,\\\"\" + tagtext + \"\\\",\\\"\\\"\\n\"\n",
    "                            ftag.write(tagstring)\n",
    "                            taginc += 1 \n",
    "\n",
    "                #workout objects\n",
    "                for i5, row5 in df5.loc[(df5['date'] == row['date']) & (df5['hour'] == h)].iterrows():\n",
    "                    id += 1\n",
    "                    data = id\n",
    "                    type = 5\n",
    "                    parent_id = i\n",
    "                    selected = 0\n",
    "                    branch_level = 4\n",
    "                    child_id = id\n",
    "                    translate_x = -88\n",
    "                    translate_y = 0\n",
    "                    translate_z = 0\n",
    "                    scale_x = 2.7\n",
    "                    scale_y = scale_x\n",
    "                    scale_z = scale_x\n",
    "                    ratio = .1\n",
    "                    line_width= 1\n",
    "                    rotate_x = 90\n",
    "                    rotate_y = 0\n",
    "                    if row5['type'] == 'yoga':\n",
    "                        geometry = 3\n",
    "                        color_r = 180\n",
    "                        color_g = 196\n",
    "                        color_b = 217\n",
    "                    elif row5['type'] == 'lifting':\n",
    "                        geometry = 15\n",
    "                        color_r = 4\n",
    "                        color_g = 157\n",
    "                        color_b = 191\n",
    "                    topo = 2\n",
    "                    color_a = 255\n",
    "                    hide = 0\n",
    "                    record_id = id \n",
    "                    texture_id= 0\n",
    "                    tagtext = \"Workout type: \" + str(row5['type']) + \"/ # of cal's: \" + str(row5['wcal_chunk'])\n",
    "\n",
    "                    # Creat output string and write to ANTz Node File\n",
    "                    outputstring = str(id) + \",\" + str(type) + \",\" + str(data) + \",\" + str(selected) + \",\" + str(parent_id) + \",\" + str(branch_level) + \",\" + str(child_id) + \",\" + str(child_index) + \",\" + str(palette_id) + \",\" + str(ch_input_id) + \",\" + str(ch_output_id) + \",\" + str(ch_last_updated) + \",\" + str(average) + \",\" + str(samples) + \",\" + str(aux_a_x) + \",\" + str(aux_a_y) + \",\" + str(aux_a_z) + \",\" + str(aux_b_x) + \",\" + str(aux_b_y) + \",\" + str(aux_b_z) + \",\" + str(color_shift) + \",\" + str(rotate_vec_x) + \",\" + str(rotate_vec_y) + \",\" + str(rotate_vec_z) + \",\" + str(rotate_vec_s) + \",\" + str(scale_x) + \",\" + str(scale_y) + \",\" + str(scale_z) + \",\" + str(translate_x) + \",\" + str(translate_y) + \",\" + str(translate_z) + \",\" + str(tag_offset_x) + \",\" + str(tag_offset_y) + \",\" + str(tag_offset_z) + \",\" + str(rotate_rate_x) + \",\" + str(rotate_rate_y) + \",\" + str(rotate_rate_z) + \",\" + str(rotate_x) + \",\" + str(rotate_y) + \",\" + str(rotate_z) + \",\" + str(scale_rate_x) + \",\" + str(scale_rate_y) + \",\" + str(scale_rate_z) + \",\" + str(translate_rate_x) + \",\" + str(translate_rate_y) + \",\" + str(translate_rate_z) + \",\" + str(translate_vec_x) + \",\" + str(translate_vec_y) + \",\" + str(translate_vec_z) + \",\" + str(shader) + \",\" + str(geometry) + \",\" + str(line_width) + \",\" + str(point_size) + \",\" + str(ratio) + \",\" + str(color_index) + \",\" + str(color_r) + \",\" + str(color_g) + \",\" + str(color_b) + \",\" + str(color_a) + \",\" + str(color_fade) + \",\" + str(texture_id) + \",\" + str(hide) + \",\" + str(freeze) + \",\" + str(topo) + \",\" + str(facet) + \",\" + str(auto_zoom_x) + \",\" + str(auto_zoom_y) + \",\" + str(auto_zoom_z) + \",\" + str(trigger_hi_x) + \",\" + str(trigger_hi_y) + \",\" + str(trigger_hi_z) + \",\" + str(trigger_lo_x) + \",\" + str(trigger_lo_y) + \",\" + str(trigger_lo_z) + \",\" + str(set_hi_x) + \",\" + str(set_hi_y) + \",\" + str(set_hi_z) + \",\" + str(set_lo_x) + \",\" + str(set_lo_y) + \",\" + str(set_lo_z) + \",\" + str(proximity_x) + \",\" + str(proximity_y) + \",\" + str(proximity_z) + \",\" + str(proximity_mode_x) + \",\" + str(proximity_mode_y) + \",\" + str(proximity_mode_z) + \",\" + str(segments_x) + \",\" + str(segments_y) + \",\" + str(segments_z) + \",\" + str(tag_mode) + \",\" + str(format_id) + \",\" + str(table_id) + \",\" + str(record_id) + \",\" + str(size) + \"\\n\"\n",
    "                    fout.write(outputstring)\n",
    "                    # Output to Tag file\n",
    "                    tagstring = str(taginc) + \",\" + str(record_id) + \",0,\\\"\" + tagtext + \"\\\",\\\"\\\"\\n\"\n",
    "                    ftag.write(tagstring)\n",
    "                    taginc += 1\n",
    "\n",
    "                    level4objectid = id \n",
    "                    numlevel5toroids = row5['wcal_chunk']\n",
    "                    for ii in range(numlevel5toroids):\n",
    "                        id += 1\n",
    "                        data = id\n",
    "                        type = 5\n",
    "                        parent_id = level4objectid\n",
    "                        selected = 0\n",
    "                        branch_level = 5\n",
    "                        child_id = id\n",
    "                        translate_x = -90\n",
    "                        translate_y = ((60/numlevel5toroids)*(ii+1))+(30)\n",
    "                        translate_z = 0\n",
    "                        color_r = 242\n",
    "                        color_g = 75\n",
    "                        color_b = 75\n",
    "                        ratio = .1\n",
    "                        scale_x = 1.3 \n",
    "                        scale_y = scale_x\n",
    "                        scale_z = scale_x\n",
    "                        geometry = 16\n",
    "                        topo = 5\n",
    "                        line_width= 1\n",
    "                        color_a = 255\n",
    "                        hide = 0\n",
    "                        record_id = id \n",
    "                        texture_id= 0\n",
    "\n",
    "                        # Creat output string and write to ANTz Node File\n",
    "                        outputstring = str(id) + \",\" + str(type) + \",\" + str(data) + \",\" + str(selected) + \",\" + str(parent_id) + \",\" + str(branch_level) + \",\" + str(child_id) + \",\" + str(child_index) + \",\" + str(palette_id) + \",\" + str(ch_input_id) + \",\" + str(ch_output_id) + \",\" + str(ch_last_updated) + \",\" + str(average) + \",\" + str(samples) + \",\" + str(aux_a_x) + \",\" + str(aux_a_y) + \",\" + str(aux_a_z) + \",\" + str(aux_b_x) + \",\" + str(aux_b_y) + \",\" + str(aux_b_z) + \",\" + str(color_shift) + \",\" + str(rotate_vec_x) + \",\" + str(rotate_vec_y) + \",\" + str(rotate_vec_z) + \",\" + str(rotate_vec_s) + \",\" + str(scale_x) + \",\" + str(scale_y) + \",\" + str(scale_z) + \",\" + str(translate_x) + \",\" + str(translate_y) + \",\" + str(translate_z) + \",\" + str(tag_offset_x) + \",\" + str(tag_offset_y) + \",\" + str(tag_offset_z) + \",\" + str(rotate_rate_x) + \",\" + str(rotate_rate_y) + \",\" + str(rotate_rate_z) + \",\" + str(rotate_x) + \",\" + str(rotate_y) + \",\" + str(rotate_z) + \",\" + str(scale_rate_x) + \",\" + str(scale_rate_y) + \",\" + str(scale_rate_z) + \",\" + str(translate_rate_x) + \",\" + str(translate_rate_y) + \",\" + str(translate_rate_z) + \",\" + str(translate_vec_x) + \",\" + str(translate_vec_y) + \",\" + str(translate_vec_z) + \",\" + str(shader) + \",\" + str(geometry) + \",\" + str(line_width) + \",\" + str(point_size) + \",\" + str(ratio) + \",\" + str(color_index) + \",\" + str(color_r) + \",\" + str(color_g) + \",\" + str(color_b) + \",\" + str(color_a) + \",\" + str(color_fade) + \",\" + str(texture_id) + \",\" + str(hide) + \",\" + str(freeze) + \",\" + str(topo) + \",\" + str(facet) + \",\" + str(auto_zoom_x) + \",\" + str(auto_zoom_y) + \",\" + str(auto_zoom_z) + \",\" + str(trigger_hi_x) + \",\" + str(trigger_hi_y) + \",\" + str(trigger_hi_z) + \",\" + str(trigger_lo_x) + \",\" + str(trigger_lo_y) + \",\" + str(trigger_lo_z) + \",\" + str(set_hi_x) + \",\" + str(set_hi_y) + \",\" + str(set_hi_z) + \",\" + str(set_lo_x) + \",\" + str(set_lo_y) + \",\" + str(set_lo_z) + \",\" + str(proximity_x) + \",\" + str(proximity_y) + \",\" + str(proximity_z) + \",\" + str(proximity_mode_x) + \",\" + str(proximity_mode_y) + \",\" + str(proximity_mode_z) + \",\" + str(segments_x) + \",\" + str(segments_y) + \",\" + str(segments_z) + \",\" + str(tag_mode) + \",\" + str(format_id) + \",\" + str(table_id) + \",\" + str(record_id) + \",\" + str(size) + \"\\n\"\n",
    "                        fout.write(outputstring)\n",
    "\n",
    "\n",
    "                # food glyphs: carbs\n",
    "                for i3, row3 in df3.loc[(df3['date'] == row['date']) & (df3['hour'] == h)].iterrows():\n",
    "                    id += 1\n",
    "                    data = id\n",
    "                    type = 5\n",
    "                    parent_id = i\n",
    "                    selected = 0\n",
    "                    branch_level = 4\n",
    "                    child_id = id\n",
    "                    translate_x = -35\n",
    "                    translate_y = 0\n",
    "                    translate_z = 0\n",
    "                    scale_x = row3['c_scale_xy']\n",
    "                    scale_y = scale_x\n",
    "                    scale_z = row3['c_scale_z']\n",
    "                    ratio = .1\n",
    "                    line_width= 1\n",
    "                    rotate_x = 0\n",
    "                    rotate_y = 0\n",
    "                    geometry = 19\n",
    "                    topo = 4\n",
    "                    color_r = 245\n",
    "                    color_g = 115\n",
    "                    color_b = 54\n",
    "                    color_a = 255\n",
    "                    hide = 0\n",
    "                    record_id = id \n",
    "                    texture_id= 0\n",
    "                    tagtext = \"Carbs (g): \" + str(row3['carbs']) \n",
    "\n",
    "                    # Creat output string and write to ANTz Node File\n",
    "                    outputstring = str(id) + \",\" + str(type) + \",\" + str(data) + \",\" + str(selected) + \",\" + str(parent_id) + \",\" + str(branch_level) + \",\" + str(child_id) + \",\" + str(child_index) + \",\" + str(palette_id) + \",\" + str(ch_input_id) + \",\" + str(ch_output_id) + \",\" + str(ch_last_updated) + \",\" + str(average) + \",\" + str(samples) + \",\" + str(aux_a_x) + \",\" + str(aux_a_y) + \",\" + str(aux_a_z) + \",\" + str(aux_b_x) + \",\" + str(aux_b_y) + \",\" + str(aux_b_z) + \",\" + str(color_shift) + \",\" + str(rotate_vec_x) + \",\" + str(rotate_vec_y) + \",\" + str(rotate_vec_z) + \",\" + str(rotate_vec_s) + \",\" + str(scale_x) + \",\" + str(scale_y) + \",\" + str(scale_z) + \",\" + str(translate_x) + \",\" + str(translate_y) + \",\" + str(translate_z) + \",\" + str(tag_offset_x) + \",\" + str(tag_offset_y) + \",\" + str(tag_offset_z) + \",\" + str(rotate_rate_x) + \",\" + str(rotate_rate_y) + \",\" + str(rotate_rate_z) + \",\" + str(rotate_x) + \",\" + str(rotate_y) + \",\" + str(rotate_z) + \",\" + str(scale_rate_x) + \",\" + str(scale_rate_y) + \",\" + str(scale_rate_z) + \",\" + str(translate_rate_x) + \",\" + str(translate_rate_y) + \",\" + str(translate_rate_z) + \",\" + str(translate_vec_x) + \",\" + str(translate_vec_y) + \",\" + str(translate_vec_z) + \",\" + str(shader) + \",\" + str(geometry) + \",\" + str(line_width) + \",\" + str(point_size) + \",\" + str(ratio) + \",\" + str(color_index) + \",\" + str(color_r) + \",\" + str(color_g) + \",\" + str(color_b) + \",\" + str(color_a) + \",\" + str(color_fade) + \",\" + str(texture_id) + \",\" + str(hide) + \",\" + str(freeze) + \",\" + str(topo) + \",\" + str(facet) + \",\" + str(auto_zoom_x) + \",\" + str(auto_zoom_y) + \",\" + str(auto_zoom_z) + \",\" + str(trigger_hi_x) + \",\" + str(trigger_hi_y) + \",\" + str(trigger_hi_z) + \",\" + str(trigger_lo_x) + \",\" + str(trigger_lo_y) + \",\" + str(trigger_lo_z) + \",\" + str(set_hi_x) + \",\" + str(set_hi_y) + \",\" + str(set_hi_z) + \",\" + str(set_lo_x) + \",\" + str(set_lo_y) + \",\" + str(set_lo_z) + \",\" + str(proximity_x) + \",\" + str(proximity_y) + \",\" + str(proximity_z) + \",\" + str(proximity_mode_x) + \",\" + str(proximity_mode_y) + \",\" + str(proximity_mode_z) + \",\" + str(segments_x) + \",\" + str(segments_y) + \",\" + str(segments_z) + \",\" + str(tag_mode) + \",\" + str(format_id) + \",\" + str(table_id) + \",\" + str(record_id) + \",\" + str(size) + \"\\n\"\n",
    "                    fout.write(outputstring)\n",
    "                    # Output to Tag file\n",
    "                    tagstring = str(taginc) + \",\" + str(record_id) + \",0,\\\"\" + tagtext + \"\\\",\\\"\\\"\\n\"\n",
    "                    ftag.write(tagstring)\n",
    "                    taginc += 1\n",
    "\n",
    "                # food glyphs: fat\n",
    "                for i3, row3 in df3.loc[(df3['date'] == row['date']) & (df3['hour'] == h)].iterrows():\n",
    "                    id += 1\n",
    "                    data = id\n",
    "                    type = 5\n",
    "                    parent_id = i\n",
    "                    selected = 0\n",
    "                    branch_level = 4\n",
    "                    child_id = id\n",
    "                    translate_x = -20\n",
    "                    translate_y = 0\n",
    "                    translate_z = 0\n",
    "                    scale_x = row3['ft_scale_xy']\n",
    "                    scale_y = scale_x\n",
    "                    scale_z = row3['ft_scale_z']\n",
    "                    ratio = .1\n",
    "                    line_width= 1\n",
    "                    rotate_x = 0\n",
    "                    rotate_y = 0\n",
    "                    geometry = 19\n",
    "                    topo = 4\n",
    "                    color_r = 4\n",
    "                    color_g = 120\n",
    "                    color_b = 120\n",
    "                    color_a = 255\n",
    "                    hide = 0\n",
    "                    record_id = id \n",
    "                    texture_id= 0\n",
    "                    tagtext = \"Fat (g): \" + str(row3['fat']) \n",
    "\n",
    "                    # Creat output string and write to ANTz Node File\n",
    "                    outputstring = str(id) + \",\" + str(type) + \",\" + str(data) + \",\" + str(selected) + \",\" + str(parent_id) + \",\" + str(branch_level) + \",\" + str(child_id) + \",\" + str(child_index) + \",\" + str(palette_id) + \",\" + str(ch_input_id) + \",\" + str(ch_output_id) + \",\" + str(ch_last_updated) + \",\" + str(average) + \",\" + str(samples) + \",\" + str(aux_a_x) + \",\" + str(aux_a_y) + \",\" + str(aux_a_z) + \",\" + str(aux_b_x) + \",\" + str(aux_b_y) + \",\" + str(aux_b_z) + \",\" + str(color_shift) + \",\" + str(rotate_vec_x) + \",\" + str(rotate_vec_y) + \",\" + str(rotate_vec_z) + \",\" + str(rotate_vec_s) + \",\" + str(scale_x) + \",\" + str(scale_y) + \",\" + str(scale_z) + \",\" + str(translate_x) + \",\" + str(translate_y) + \",\" + str(translate_z) + \",\" + str(tag_offset_x) + \",\" + str(tag_offset_y) + \",\" + str(tag_offset_z) + \",\" + str(rotate_rate_x) + \",\" + str(rotate_rate_y) + \",\" + str(rotate_rate_z) + \",\" + str(rotate_x) + \",\" + str(rotate_y) + \",\" + str(rotate_z) + \",\" + str(scale_rate_x) + \",\" + str(scale_rate_y) + \",\" + str(scale_rate_z) + \",\" + str(translate_rate_x) + \",\" + str(translate_rate_y) + \",\" + str(translate_rate_z) + \",\" + str(translate_vec_x) + \",\" + str(translate_vec_y) + \",\" + str(translate_vec_z) + \",\" + str(shader) + \",\" + str(geometry) + \",\" + str(line_width) + \",\" + str(point_size) + \",\" + str(ratio) + \",\" + str(color_index) + \",\" + str(color_r) + \",\" + str(color_g) + \",\" + str(color_b) + \",\" + str(color_a) + \",\" + str(color_fade) + \",\" + str(texture_id) + \",\" + str(hide) + \",\" + str(freeze) + \",\" + str(topo) + \",\" + str(facet) + \",\" + str(auto_zoom_x) + \",\" + str(auto_zoom_y) + \",\" + str(auto_zoom_z) + \",\" + str(trigger_hi_x) + \",\" + str(trigger_hi_y) + \",\" + str(trigger_hi_z) + \",\" + str(trigger_lo_x) + \",\" + str(trigger_lo_y) + \",\" + str(trigger_lo_z) + \",\" + str(set_hi_x) + \",\" + str(set_hi_y) + \",\" + str(set_hi_z) + \",\" + str(set_lo_x) + \",\" + str(set_lo_y) + \",\" + str(set_lo_z) + \",\" + str(proximity_x) + \",\" + str(proximity_y) + \",\" + str(proximity_z) + \",\" + str(proximity_mode_x) + \",\" + str(proximity_mode_y) + \",\" + str(proximity_mode_z) + \",\" + str(segments_x) + \",\" + str(segments_y) + \",\" + str(segments_z) + \",\" + str(tag_mode) + \",\" + str(format_id) + \",\" + str(table_id) + \",\" + str(record_id) + \",\" + str(size) + \"\\n\"\n",
    "                    fout.write(outputstring)\n",
    "                    # Output to Tag file\n",
    "                    tagstring = str(taginc) + \",\" + str(record_id) + \",0,\\\"\" + tagtext + \"\\\",\\\"\\\"\\n\"\n",
    "                    ftag.write(tagstring)\n",
    "                    taginc += 1    \n",
    "\n",
    "                # food glyphs: protein\n",
    "                for i3, row3 in df3.loc[(df3['date'] == row['date']) & (df3['hour'] == h)].iterrows():\n",
    "                    id += 1\n",
    "                    data = id\n",
    "                    type = 5\n",
    "                    parent_id = i\n",
    "                    selected = 0\n",
    "                    branch_level = 4\n",
    "                    child_id = id\n",
    "                    translate_x = -5\n",
    "                    translate_y = 0\n",
    "                    translate_z = 0\n",
    "                    scale_x = row3['p_scale_xy']\n",
    "                    scale_y = scale_x\n",
    "                    scale_z = row3['p_scale_z']\n",
    "                    ratio = .1\n",
    "                    line_width= 1\n",
    "                    rotate_x = 0\n",
    "                    rotate_y = 0\n",
    "                    geometry = 19\n",
    "                    topo = 4\n",
    "                    color_r = 194\n",
    "                    color_g = 33\n",
    "                    color_b = 33\n",
    "                    color_a = 255\n",
    "                    hide = 0\n",
    "                    record_id = id \n",
    "                    texture_id= 0\n",
    "                    tagtext = \"Protein (g): \" + str(row3['protein']) \n",
    "\n",
    "                    # Creat output string and write to ANTz Node File\n",
    "                    outputstring = str(id) + \",\" + str(type) + \",\" + str(data) + \",\" + str(selected) + \",\" + str(parent_id) + \",\" + str(branch_level) + \",\" + str(child_id) + \",\" + str(child_index) + \",\" + str(palette_id) + \",\" + str(ch_input_id) + \",\" + str(ch_output_id) + \",\" + str(ch_last_updated) + \",\" + str(average) + \",\" + str(samples) + \",\" + str(aux_a_x) + \",\" + str(aux_a_y) + \",\" + str(aux_a_z) + \",\" + str(aux_b_x) + \",\" + str(aux_b_y) + \",\" + str(aux_b_z) + \",\" + str(color_shift) + \",\" + str(rotate_vec_x) + \",\" + str(rotate_vec_y) + \",\" + str(rotate_vec_z) + \",\" + str(rotate_vec_s) + \",\" + str(scale_x) + \",\" + str(scale_y) + \",\" + str(scale_z) + \",\" + str(translate_x) + \",\" + str(translate_y) + \",\" + str(translate_z) + \",\" + str(tag_offset_x) + \",\" + str(tag_offset_y) + \",\" + str(tag_offset_z) + \",\" + str(rotate_rate_x) + \",\" + str(rotate_rate_y) + \",\" + str(rotate_rate_z) + \",\" + str(rotate_x) + \",\" + str(rotate_y) + \",\" + str(rotate_z) + \",\" + str(scale_rate_x) + \",\" + str(scale_rate_y) + \",\" + str(scale_rate_z) + \",\" + str(translate_rate_x) + \",\" + str(translate_rate_y) + \",\" + str(translate_rate_z) + \",\" + str(translate_vec_x) + \",\" + str(translate_vec_y) + \",\" + str(translate_vec_z) + \",\" + str(shader) + \",\" + str(geometry) + \",\" + str(line_width) + \",\" + str(point_size) + \",\" + str(ratio) + \",\" + str(color_index) + \",\" + str(color_r) + \",\" + str(color_g) + \",\" + str(color_b) + \",\" + str(color_a) + \",\" + str(color_fade) + \",\" + str(texture_id) + \",\" + str(hide) + \",\" + str(freeze) + \",\" + str(topo) + \",\" + str(facet) + \",\" + str(auto_zoom_x) + \",\" + str(auto_zoom_y) + \",\" + str(auto_zoom_z) + \",\" + str(trigger_hi_x) + \",\" + str(trigger_hi_y) + \",\" + str(trigger_hi_z) + \",\" + str(trigger_lo_x) + \",\" + str(trigger_lo_y) + \",\" + str(trigger_lo_z) + \",\" + str(set_hi_x) + \",\" + str(set_hi_y) + \",\" + str(set_hi_z) + \",\" + str(set_lo_x) + \",\" + str(set_lo_y) + \",\" + str(set_lo_z) + \",\" + str(proximity_x) + \",\" + str(proximity_y) + \",\" + str(proximity_z) + \",\" + str(proximity_mode_x) + \",\" + str(proximity_mode_y) + \",\" + str(proximity_mode_z) + \",\" + str(segments_x) + \",\" + str(segments_y) + \",\" + str(segments_z) + \",\" + str(tag_mode) + \",\" + str(format_id) + \",\" + str(table_id) + \",\" + str(record_id) + \",\" + str(size) + \"\\n\"\n",
    "                    fout.write(outputstring)\n",
    "                    # Output to Tag file\n",
    "                    tagstring = str(taginc) + \",\" + str(record_id) + \",0,\\\"\" + tagtext + \"\\\",\\\"\\\"\\n\"\n",
    "                    ftag.write(tagstring)\n",
    "                    taginc += 1 \n",
    "\n",
    "                # toroid to hold additional data at end of rod\n",
    "                numlevel4toroids = 1\n",
    "                for r in range(numlevel4toroids):\n",
    "                    id += 1\n",
    "                    data = id\n",
    "                    type = 5\n",
    "                    parent_id = i\n",
    "                    selected = 0\n",
    "                    branch_level = 4\n",
    "                    child_id = id\n",
    "                    translate_x = 15\n",
    "                    translate_y = 0\n",
    "                    translate_z = 0\n",
    "                    scale_x = 1\n",
    "                    scale_y = scale_x\n",
    "                    scale_z = scale_x\n",
    "                    ratio = .1\n",
    "                    line_width= 1\n",
    "                    rotate_x = 90\n",
    "                    rotate_y = 0\n",
    "                    geometry = 7\n",
    "                    topo = 3\n",
    "                    color_r = 89\n",
    "                    color_g = 89\n",
    "                    color_b = 89\n",
    "                    color_a = 175\n",
    "                    hide = 1\n",
    "                    record_id = id \n",
    "                    texture_id= 0 \n",
    "\n",
    "                    # Creat output string and write to ANTz Node File\n",
    "                    outputstring = str(id) + \",\" + str(type) + \",\" + str(data) + \",\" + str(selected) + \",\" + str(parent_id) + \",\" + str(branch_level) + \",\" + str(child_id) + \",\" + str(child_index) + \",\" + str(palette_id) + \",\" + str(ch_input_id) + \",\" + str(ch_output_id) + \",\" + str(ch_last_updated) + \",\" + str(average) + \",\" + str(samples) + \",\" + str(aux_a_x) + \",\" + str(aux_a_y) + \",\" + str(aux_a_z) + \",\" + str(aux_b_x) + \",\" + str(aux_b_y) + \",\" + str(aux_b_z) + \",\" + str(color_shift) + \",\" + str(rotate_vec_x) + \",\" + str(rotate_vec_y) + \",\" + str(rotate_vec_z) + \",\" + str(rotate_vec_s) + \",\" + str(scale_x) + \",\" + str(scale_y) + \",\" + str(scale_z) + \",\" + str(translate_x) + \",\" + str(translate_y) + \",\" + str(translate_z) + \",\" + str(tag_offset_x) + \",\" + str(tag_offset_y) + \",\" + str(tag_offset_z) + \",\" + str(rotate_rate_x) + \",\" + str(rotate_rate_y) + \",\" + str(rotate_rate_z) + \",\" + str(rotate_x) + \",\" + str(rotate_y) + \",\" + str(rotate_z) + \",\" + str(scale_rate_x) + \",\" + str(scale_rate_y) + \",\" + str(scale_rate_z) + \",\" + str(translate_rate_x) + \",\" + str(translate_rate_y) + \",\" + str(translate_rate_z) + \",\" + str(translate_vec_x) + \",\" + str(translate_vec_y) + \",\" + str(translate_vec_z) + \",\" + str(shader) + \",\" + str(geometry) + \",\" + str(line_width) + \",\" + str(point_size) + \",\" + str(ratio) + \",\" + str(color_index) + \",\" + str(color_r) + \",\" + str(color_g) + \",\" + str(color_b) + \",\" + str(color_a) + \",\" + str(color_fade) + \",\" + str(texture_id) + \",\" + str(hide) + \",\" + str(freeze) + \",\" + str(topo) + \",\" + str(facet) + \",\" + str(auto_zoom_x) + \",\" + str(auto_zoom_y) + \",\" + str(auto_zoom_z) + \",\" + str(trigger_hi_x) + \",\" + str(trigger_hi_y) + \",\" + str(trigger_hi_z) + \",\" + str(trigger_lo_x) + \",\" + str(trigger_lo_y) + \",\" + str(trigger_lo_z) + \",\" + str(set_hi_x) + \",\" + str(set_hi_y) + \",\" + str(set_hi_z) + \",\" + str(set_lo_x) + \",\" + str(set_lo_y) + \",\" + str(set_lo_z) + \",\" + str(proximity_x) + \",\" + str(proximity_y) + \",\" + str(proximity_z) + \",\" + str(proximity_mode_x) + \",\" + str(proximity_mode_y) + \",\" + str(proximity_mode_z) + \",\" + str(segments_x) + \",\" + str(segments_y) + \",\" + str(segments_z) + \",\" + str(tag_mode) + \",\" + str(format_id) + \",\" + str(table_id) + \",\" + str(record_id) + \",\" + str(size) + \"\\n\"\n",
    "                    fout.write(outputstring)\n",
    "                    level4objectid = id\n",
    "                    # bedtime start object\n",
    "\n",
    "                    if row['bed_start'] == h:\n",
    "                        numlevel5toroids = 1\n",
    "                        for b in range(numlevel5toroids):\n",
    "                            id += 1\n",
    "                            data = id\n",
    "                            type = 5\n",
    "                            parent_id = level4objectid\n",
    "                            selected = 0\n",
    "                            branch_level = 5\n",
    "                            child_id = id\n",
    "                            translate_x = 180\n",
    "                            translate_y = 0\n",
    "                            translate_z = 0\n",
    "                            scale_x = 12\n",
    "                            scale_y = scale_x\n",
    "                            scale_z = scale_x\n",
    "                            rotate_x = 0\n",
    "                            geometry = 11\n",
    "                            topo = 2\n",
    "                            color_r = 82\n",
    "                            color_g = 16\n",
    "                            color_b = 168\n",
    "                            color_a = 255\n",
    "                            hide = 0\n",
    "                            record_id = id\n",
    "\n",
    "                            # Creat output string and write to ANTz Node File\n",
    "                            outputstring = str(id) + \",\" + str(type) + \",\" + str(data) + \",\" + str(selected) + \",\" + str(parent_id) + \",\" + str(branch_level) + \",\" + str(child_id) + \",\" + str(child_index) + \",\" + str(palette_id) + \",\" + str(ch_input_id) + \",\" + str(ch_output_id) + \",\" + str(ch_last_updated) + \",\" + str(average) + \",\" + str(samples) + \",\" + str(aux_a_x) + \",\" + str(aux_a_y) + \",\" + str(aux_a_z) + \",\" + str(aux_b_x) + \",\" + str(aux_b_y) + \",\" + str(aux_b_z) + \",\" + str(color_shift) + \",\" + str(rotate_vec_x) + \",\" + str(rotate_vec_y) + \",\" + str(rotate_vec_z) + \",\" + str(rotate_vec_s) + \",\" + str(scale_x) + \",\" + str(scale_y) + \",\" + str(scale_z) + \",\" + str(translate_x) + \",\" + str(translate_y) + \",\" + str(translate_z) + \",\" + str(tag_offset_x) + \",\" + str(tag_offset_y) + \",\" + str(tag_offset_z) + \",\" + str(rotate_rate_x) + \",\" + str(rotate_rate_y) + \",\" + str(rotate_rate_z) + \",\" + str(rotate_x) + \",\" + str(rotate_y) + \",\" + str(rotate_z) + \",\" + str(scale_rate_x) + \",\" + str(scale_rate_y) + \",\" + str(scale_rate_z) + \",\" + str(translate_rate_x) + \",\" + str(translate_rate_y) + \",\" + str(translate_rate_z) + \",\" + str(translate_vec_x) + \",\" + str(translate_vec_y) + \",\" + str(translate_vec_z) + \",\" + str(shader) + \",\" + str(geometry) + \",\" + str(line_width) + \",\" + str(point_size) + \",\" + str(ratio) + \",\" + str(color_index) + \",\" + str(color_r) + \",\" + str(color_g) + \",\" + str(color_b) + \",\" + str(color_a) + \",\" + str(color_fade) + \",\" + str(texture_id) + \",\" + str(hide) + \",\" + str(freeze) + \",\" + str(topo) + \",\" + str(facet) + \",\" + str(auto_zoom_x) + \",\" + str(auto_zoom_y) + \",\" + str(auto_zoom_z) + \",\" + str(trigger_hi_x) + \",\" + str(trigger_hi_y) + \",\" + str(trigger_hi_z) + \",\" + str(trigger_lo_x) + \",\" + str(trigger_lo_y) + \",\" + str(trigger_lo_z) + \",\" + str(set_hi_x) + \",\" + str(set_hi_y) + \",\" + str(set_hi_z) + \",\" + str(set_lo_x) + \",\" + str(set_lo_y) + \",\" + str(set_lo_z) + \",\" + str(proximity_x) + \",\" + str(proximity_y) + \",\" + str(proximity_z) + \",\" + str(proximity_mode_x) + \",\" + str(proximity_mode_y) + \",\" + str(proximity_mode_z) + \",\" + str(segments_x) + \",\" + str(segments_y) + \",\" + str(segments_z) + \",\" + str(tag_mode) + \",\" + str(format_id) + \",\" + str(table_id) + \",\" + str(record_id) + \",\" + str(size) + \"\\n\"\n",
    "                            fout.write(outputstring)\n",
    "\n",
    "                            tagtext = \"Bedtime: \" + str(row['bedtime'])\n",
    "                            tagstring = str(taginc) + \",\" + str(record_id) + \",0,\\\"\" + tagtext + \"\\\",\\\"\\\"\\n\"\n",
    "                            ftag.write(tagstring)\n",
    "                            taginc += 1"
   ]
  },
  {
   "cell_type": "code",
   "execution_count": null,
   "metadata": {
    "collapsed": true
   },
   "outputs": [],
   "source": []
  }
 ],
 "metadata": {
  "kernelspec": {
   "display_name": "Python 3",
   "language": "python",
   "name": "python3"
  },
  "language_info": {
   "codemirror_mode": {
    "name": "ipython",
    "version": 3
   },
   "file_extension": ".py",
   "mimetype": "text/x-python",
   "name": "python",
   "nbconvert_exporter": "python",
   "pygments_lexer": "ipython3",
   "version": "3.6.12"
  }
 },
 "nbformat": 4,
 "nbformat_minor": 2
}
