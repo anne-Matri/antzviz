{
 "cells": [
  {
   "cell_type": "code",
   "execution_count": 45,
   "metadata": {
    "collapsed": true
   },
   "outputs": [],
   "source": [
    "from scipy.io import loadmat\n",
    "from scipy.stats import zscore\n",
    "from decimal import *\n",
    "import pandas as pd\n",
    "import numpy as np\n",
    "import datetime\n",
    "import os\n",
    "import sys\n",
    "import math\n",
    "import pandas as pd\n",
    "import numpy as np\n",
    "from pprint import pprint\n",
    "import json\n",
    "import requests\n",
    "import datetime\n",
    "from datetime import date\n",
    "import os"
   ]
  },
  {
   "cell_type": "code",
   "execution_count": 46,
   "metadata": {
    "collapsed": true
   },
   "outputs": [],
   "source": [
    "# things to change with each person's data\n",
    "# the df in df.iterrows "
   ]
  },
  {
   "cell_type": "code",
   "execution_count": 47,
   "metadata": {
    "collapsed": true
   },
   "outputs": [],
   "source": [
    "# setting name for node and tag files, which person's dataframe\n",
    "\n",
    "# distance between each object on the level 1 rods for level 2 objects\n",
    "space = .00442"
   ]
  },
  {
   "cell_type": "code",
   "execution_count": 48,
   "metadata": {
    "collapsed": true
   },
   "outputs": [],
   "source": [
    "pubdata = loadmat('PubData.mat', struct_as_record = True, squeeze_me = True)"
   ]
  },
  {
   "cell_type": "code",
   "execution_count": 49,
   "metadata": {},
   "outputs": [
    {
     "data": {
      "text/plain": [
       "dict_keys(['__header__', '__version__', '__globals__', 'Cases50'])"
      ]
     },
     "execution_count": 49,
     "metadata": {},
     "output_type": "execute_result"
    }
   ],
   "source": [
    "pubdata.keys()"
   ]
  },
  {
   "cell_type": "code",
   "execution_count": 50,
   "metadata": {
    "collapsed": true
   },
   "outputs": [],
   "source": [
    "pubdata = {k:v for k, v in pubdata.items() if k[0] != '_'}"
   ]
  },
  {
   "cell_type": "code",
   "execution_count": 51,
   "metadata": {
    "collapsed": true
   },
   "outputs": [],
   "source": [
    "# duration of symptoms\n",
    "a = pubdata['Cases50'][0,1]\n",
    "b = pubdata['Cases50'][4,1]\n",
    "c = pubdata['Cases50'][2,1]\n",
    "d = pubdata['Cases50'][5,1]\n",
    "#print(a, b, c, d)\n",
    "\n",
    "#for i in range(0, 50, 1):\n",
    "#    dtion = pubdata['Cases50'][i,1]\n",
    "#    print(str('Duration of person ') + str(i) + str(': ') + str(dtion))"
   ]
  },
  {
   "cell_type": "code",
   "execution_count": 52,
   "metadata": {
    "collapsed": true
   },
   "outputs": [],
   "source": [
    "cols = ('temp', 'hr', 'hrv', 'breath')"
   ]
  },
  {
   "cell_type": "markdown",
   "metadata": {},
   "source": [
    "### Version info"
   ]
  },
  {
   "cell_type": "code",
   "execution_count": 53,
   "metadata": {
    "collapsed": true
   },
   "outputs": [],
   "source": [
    "#v1: tighter cube of data: -50 to 50\n",
    "#v2: wider cube of data: -100 to 100 on x and y axis/ z axis up to 225\n",
    "#v3: change scale min and max of sphere// make x: hr/ y: breath/ z: temp\n",
    "#v4: same base axes as v3. changed colors so even baseline is full color spectrum\n",
    "#v5: base axes back to v1 and v2, ie same as Smarr paper zscore viz. full color spectrum for all data points\n",
    "        #limited to days 42 to 48 of data/\n",
    "#v5.1: changing scale of spheres"
   ]
  },
  {
   "cell_type": "code",
   "execution_count": 54,
   "metadata": {},
   "outputs": [
    {
     "name": "stdout",
     "output_type": "stream",
     "text": [
      "(93600, 4)\n"
     ]
    }
   ],
   "source": [
    "dfos1 = pd.DataFrame(pubdata['Cases50'][5,0], columns = cols)\n",
    "print(dfos1.shape)\n",
    "\n",
    "# person variable for file names\n",
    "person = str(\"p6\")\n",
    "\n",
    "# version variable for file name\n",
    "version = \"v5.1\"\n",
    "\n",
    "# viz type: 2 days, 2 weeks, or 4 weeks\n",
    "viztype = \"zscore\"\n",
    "\n",
    "# rolling average code\n",
    "# df = df.rolling(2).mean() \n",
    "# df = df.iloc[::2, :]"
   ]
  },
  {
   "cell_type": "code",
   "execution_count": 55,
   "metadata": {},
   "outputs": [
    {
     "name": "stdout",
     "output_type": "stream",
     "text": [
      "(8640, 4)\n",
      "    temp    hr   hrv  breath\n",
      "0  30.28  67.0  62.0  20.250\n",
      "1  30.43  67.0  63.0  19.875\n",
      "2  30.66  66.8  61.2  20.750\n",
      "3  30.88  66.6  59.4  17.875\n",
      "4  31.18  66.4  57.6  20.250\n"
     ]
    }
   ],
   "source": [
    "dfos1 = dfos1.iloc[60480:69120,:]\n",
    "dfos1.index = np.arange(len(dfos1))\n",
    "print(dfos1.shape)\n",
    "print(dfos1.head())"
   ]
  },
  {
   "cell_type": "code",
   "execution_count": 56,
   "metadata": {},
   "outputs": [
    {
     "name": "stdout",
     "output_type": "stream",
     "text": [
      "16.16\n",
      "37.09\n"
     ]
    }
   ],
   "source": [
    "print(dfos1['temp'].min())\n",
    "print(dfos1['temp'].max())"
   ]
  },
  {
   "cell_type": "code",
   "execution_count": 57,
   "metadata": {},
   "outputs": [
    {
     "name": "stdout",
     "output_type": "stream",
     "text": [
      "    temp    hr   hrv  breath  hr_zscore  hrv_zscore\n",
      "0  30.28  67.0  62.0  20.250   0.629982    0.719576\n",
      "1  30.43  67.0  63.0  19.875   0.629982    0.756915\n",
      "2  30.66  66.8  61.2  20.750   0.601439    0.689704\n",
      "3  30.88  66.6  59.4  17.875   0.572896    0.622494\n",
      "4  31.18  66.4  57.6  20.250   0.544353    0.555283\n"
     ]
    }
   ],
   "source": [
    "dfos1[['hr_zscore', 'hrv_zscore']] = dfos1[['hr', 'hrv']].apply(zscore)\n",
    "print(dfos1.head())"
   ]
  },
  {
   "cell_type": "code",
   "execution_count": 58,
   "metadata": {},
   "outputs": [
    {
     "name": "stdout",
     "output_type": "stream",
     "text": [
      "    temp    hr   hrv  breath  hr_zscore  hrv_zscore  timeaxis\n",
      "0  30.28  67.0  62.0  20.250   0.629982    0.719576  1.500000\n",
      "1  30.43  67.0  63.0  19.875   0.629982    0.756915  1.528935\n",
      "2  30.66  66.8  61.2  20.750   0.601439    0.689704  1.557870\n",
      "3  30.88  66.6  59.4  17.875   0.572896    0.622494  1.586806\n",
      "4  31.18  66.4  57.6  20.250   0.544353    0.555283  1.615741\n"
     ]
    }
   ],
   "source": [
    "# creating z axis data with length of index\n",
    "\n",
    "zrange = len(dfos1.index)\n",
    "zr = (250/zrange)\n",
    "z = np.arange(1.5, 251.5, zr)\n",
    "dfos1['timeaxis'] = z\n",
    "print(dfos1.head())"
   ]
  },
  {
   "cell_type": "code",
   "execution_count": 59,
   "metadata": {},
   "outputs": [
    {
     "name": "stdout",
     "output_type": "stream",
     "text": [
      "30.940965277777785\n"
     ]
    }
   ],
   "source": [
    "print(dfos1['temp'].mean())"
   ]
  },
  {
   "cell_type": "markdown",
   "metadata": {},
   "source": [
    "dfos5 = pd.DataFrame(pubdata['Cases50'][4,0], columns = cols)\n",
    "print(dfos5.shape)\n",
    "dfos3 = pd.DataFrame(pubdata['Cases50'][2,0], columns = cols)\n",
    "dfos3.shape\n",
    "dfos6 = pd.DataFrame(pubdata['Cases50'][5,0], columns = cols)\n",
    "dfos6.shape"
   ]
  },
  {
   "cell_type": "markdown",
   "metadata": {},
   "source": [
    "## Scaling raw data"
   ]
  },
  {
   "cell_type": "code",
   "execution_count": 60,
   "metadata": {
    "collapsed": true
   },
   "outputs": [],
   "source": [
    "def make_interpolater(left_min, left_max, right_min, right_max): \n",
    "    # Figure out how 'wide' each range is  \n",
    "    leftSpan = left_max - left_min  \n",
    "    rightSpan = right_max - right_min  \n",
    "\n",
    "    # Compute the scale factor between left and right values \n",
    "    scaleFactor = float(rightSpan) / float(leftSpan) \n",
    "\n",
    "    # create interpolation function using pre-calculated scaleFactor\n",
    "    def interp_fn(value):\n",
    "        return right_min + (value-left_min)*scaleFactor\n",
    "\n",
    "\n",
    "    return interp_fn"
   ]
  },
  {
   "cell_type": "code",
   "execution_count": 61,
   "metadata": {
    "collapsed": true
   },
   "outputs": [],
   "source": [
    "col_min = dfos1['breath'].min() \n",
    "col_max = dfos1['breath'].max() \n",
    "col_list = dfos1['breath'].tolist()\n",
    "scalar = make_interpolater(col_min +.000000002, col_max, .8, 1.9) \n",
    "col_interp = [scalar(x) for x in col_list] \n",
    "dfos1['breath_scale'] = col_interp"
   ]
  },
  {
   "cell_type": "code",
   "execution_count": 62,
   "metadata": {
    "collapsed": true
   },
   "outputs": [],
   "source": [
    "col_min = dfos1['hr_zscore'].min() \n",
    "col_max = dfos1['hr_zscore'].max() \n",
    "col_list = dfos1['hr_zscore'].tolist()\n",
    "scalar = make_interpolater(col_min, col_max, -200, 200) \n",
    "col_interp = [scalar(x) for x in col_list] \n",
    "dfos1['hr_scale'] = col_interp"
   ]
  },
  {
   "cell_type": "code",
   "execution_count": 63,
   "metadata": {
    "collapsed": true
   },
   "outputs": [],
   "source": [
    "col_min = dfos1['hrv_zscore'].min() \n",
    "col_max = dfos1['hrv_zscore'].max() \n",
    "col_list = dfos1['hrv_zscore'].tolist()\n",
    "scalar = make_interpolater(col_min, col_max, -200, 200) \n",
    "col_interp = [scalar(x) for x in col_list] \n",
    "dfos1['hrv_scale'] = col_interp"
   ]
  },
  {
   "cell_type": "code",
   "execution_count": 64,
   "metadata": {
    "collapsed": true
   },
   "outputs": [],
   "source": [
    "# set DEBUG flag\n",
    "DEBUG = 0\n",
    "\n",
    "# Initialize all ANTz Node variables\n",
    "# You shouldn't need to change anything in this section\n",
    "# you can find an explanation of these terms in Appendix B of the user manual\n",
    "id = 0\n",
    "type = 5\n",
    "data = id\n",
    "selected = 0\n",
    "parent_id = 0\n",
    "branch_level = 0\n",
    "child_id = id\n",
    "child_index = 0\n",
    "palette_id = 0\n",
    "ch_input_id = 0\n",
    "ch_output_id = 0\n",
    "ch_last_updated = 0\n",
    "average = 0\n",
    "samples = 0\n",
    "aux_a_x = 0\n",
    "aux_a_y = 0\n",
    "aux_a_z = 0\n",
    "aux_b_x = 0\n",
    "aux_b_y = 0\n",
    "aux_b_z = 0\n",
    "color_shift = 0\n",
    "rotate_vec_x = 0\n",
    "rotate_vec_y = 0\n",
    "rotate_vec_z = 0\n",
    "rotate_vec_s = 1\n",
    "scale_x = 0\n",
    "scale_y = 0\n",
    "scale_z = 0\n",
    "translate_x = 0\n",
    "translate_y = 0\n",
    "translate_z = 0\n",
    "tag_offset_x = 0\n",
    "tag_offset_y = 0\n",
    "tag_offset_z = 0\n",
    "rotate_rate_x = 0\n",
    "rotate_rate_y = 0\n",
    "rotate_rate_z = 0\n",
    "rotate_x = 0\n",
    "rotate_y = 0\n",
    "rotate_z = 0\n",
    "scale_rate_x = 0\n",
    "scale_rate_y = 0\n",
    "scale_rate_z = 0\n",
    "translate_rate_x = 0\n",
    "translate_rate_y = 0\n",
    "translate_rate_z = 0\n",
    "translate_vec_x = 0\n",
    "translate_vec_y = 0\n",
    "translate_vec_z = 0\n",
    "shader = 0\n",
    "geometry = 7\n",
    "line_width = 1\n",
    "point_size = 0\n",
    "ratio = 0.1\n",
    "color_index = 0\n",
    "color_r = 110\n",
    "color_g = 110\n",
    "color_b = 110\n",
    "color_a = 255\n",
    "color_fade = 0\n",
    "texture_id = 0\n",
    "hide = 0\n",
    "freeze = 0\n",
    "topo = 3\n",
    "facet = 0\n",
    "auto_zoom_x = 0\n",
    "auto_zoom_y = 0\n",
    "auto_zoom_z = 0\n",
    "trigger_hi_x = 0\n",
    "trigger_hi_y = 0\n",
    "trigger_hi_z = 0\n",
    "trigger_lo_x = 0\n",
    "trigger_lo_y = 0\n",
    "trigger_lo_z = 1\n",
    "set_hi_x = 0\n",
    "set_hi_y = 0\n",
    "set_hi_z = 0\n",
    "set_lo_x = 0\n",
    "set_lo_y = 0\n",
    "set_lo_z = 0\n",
    "proximity_x = 0\n",
    "proximity_y = 0\n",
    "proximity_z = 0\n",
    "proximity_mode_x = 0\n",
    "proximity_mode_y = 0\n",
    "proximity_mode_z = 0\n",
    "segments_x = 16\n",
    "segments_y = 16\n",
    "segments_z = 0\n",
    "tag_mode = 0\n",
    "format_id = 0\n",
    "table_id = 0\n",
    "record_id = id\n",
    "size = 420"
   ]
  },
  {
   "cell_type": "code",
   "execution_count": 65,
   "metadata": {
    "collapsed": true
   },
   "outputs": [],
   "source": [
    "# Person 1 node files\n",
    "pnode = str(person) + \"_\" + \"temppredict_\" + str(viztype) + \"_\" + str(version) + \"_node.csv\"\n",
    "# Person 1 tag files\n",
    "ptag = str(person) + \"_\" + \"temppredict_\" + str(viztype) + \"_\" + str(version) + \"_tag.csv\""
   ]
  },
  {
   "cell_type": "markdown",
   "metadata": {},
   "source": [
    "## Titles of files"
   ]
  },
  {
   "cell_type": "markdown",
   "metadata": {},
   "source": [
    "### Change name of dataframe to match which viz version is being run"
   ]
  },
  {
   "cell_type": "code",
   "execution_count": 66,
   "metadata": {
    "collapsed": true
   },
   "outputs": [],
   "source": [
    "# Open ANTz Node file for writing\n",
    "fout = open(pnode,\"w\")\n",
    "\n",
    "# Open the Tag file to add metadata to ANTz objects\n",
    "ftag = open(ptag,\"w\")\n",
    "# Write the header string\n",
    "outputstring = \"id,record_id,table_id,title,description\\n\"\n",
    "ftag.write(outputstring)\n",
    "\n",
    "# Write rows for header, world, camera views (4), and grid to Node file\n",
    "outputstring = \"id,type,data,selected,parent_id,branch_level,child_id,child_index,palette_id,ch_input_id,ch_output_id,ch_last_updated,average,samples,aux_a_x,aux_a_y,aux_a_z,aux_b_x,aux_b_y,aux_b_z,color_shift,rotate_vec_x,rotate_vec_y,rotate_vec_z,rotate_vec_s,scale_x,scale_y,scale_z,translate_x,translate_y,translate_z,tag_offset_x,tag_offset_y,tag_offset_z,rotate_rate_x,rotate_rate_y,rotate_rate_z,rotate_x,rotate_y,rotate_z,scale_rate_x,scale_rate_y,scale_rate_z,translate_rate_x,translate_rate_y,translate_rate_z,translate_vec_x,translate_vec_y,translate_vec_z,shader,geometry,line_width,point_size,ratio,color_index,color_r,color_g,color_b,color_a,color_fade,texture_id,hide,freeze,topo,facet,auto_zoom_x,auto_zoom_y,auto_zoom_z,trigger_hi_x,trigger_hi_y,trigger_hi_z,trigger_lo_x,trigger_lo_y,trigger_lo_z,set_hi_x,set_hi_y,set_hi_z,set_lo_x,set_lo_y,set_lo_z,proximity_x,proximity_y,proximity_z,proximity_mode_x,proximity_mode_y,proximity_mode_z,segments_x,segments_y,segments_z,tag_mode,format_id,table_id,record_id,size\\n\"\n",
    "fout.write(outputstring)\n",
    "\n",
    "# Row for world parameters\n",
    "outputstring = \"1,0,1,0,0,0,1,0,0,0,0,0,0,1,0,0,0,0,0,0,0,0,0,0,1,1,1,1,0,0,0,0,0,1,0,0,0,0,0,0,0,0,0,0,0,0,0,0,0,0,0,1,0,0.1,0,50,101,101,255,0,0,0,0,0,0,0,0,0,0,0,0,0,0,1,0,0,0,0,0,0,0,0,0,0,0,0,16,16,0,0,0,0,0,420\\n\"\n",
    "fout.write(outputstring)\n",
    "# Row for first camera view\n",
    "outputstring = \"2,1,2,0,0,0,2,2,3,0,0,0,0,1,0,0,0,0,0,0,0,0,0.008645,0.825266,-0.564678,1,1,1,-32.446629,-180.908295,143.514175,0,0,1,0,0,0,55.620094,0.600200,0,0,0,0,0,0,0,0,0,0,0,0,1,0,0.1,0,50,101,101,255,0,0,0,0,0,0,0,0,0,0,0,0,0,0,0,0,0,0,0,0,0,214.306686,0,0,0,0,0,16,16,0,0,0,0,0,420\\n\"\n",
    "fout.write(outputstring)\n",
    "# Row for second camera view\n",
    "outputstring = \"3,1,3,0,2,1,3,0,0,0,0,0,0,1,0,0,0,0,0,0,0,0,0,0,-1,1,1,1,-0.500000,0,571.750000,0,0,1,0,0,0,0,0,0,0,0,0,0,0,0,0,0,0,0,0,1,0,0.1,0,50,101,101,255,0,0,0,0,0,0,0,0,0,0,0,0,0,0,0,0,0,0,0,0,0,0,0,0,0,0,0,16,16,0,0,0,0,0,420\\n\"\n",
    "fout.write(outputstring)\n",
    "# Third camera view\n",
    "outputstring = \"4,1,4,0,2,1,4,0,0,0,0,0,0,1,0,0,0,0,0,0,0,0,0,1,-0,1,1,1,0,-90,7,0,0,1,0,0,0,90,0,0,0,0,0,0,0,0,0,0,0,0,0,1,0,0.1,0,50,101,101,255,0,0,0,0,0,0,0,0,0,0,0,0,0,0,0,0,0,0,0,0,0,0,0,0,0,0,0,16,16,0,0,0,0,0,420\\n\"\n",
    "fout.write(outputstring)\n",
    "# Fourth camera view\n",
    "outputstring = \"5,1,5,0,2,1,5,0,0,0,0,0,0,1,0,0,0,0,0,0,0,0,-1,-0,-0,1,1,1,85,0,7,0,0,1,0,0,0,90,270,0,0,0,0,0,0,0,-0,0,0,0,0,1,0,0.1,0,50,101,101,255,0,0,0,0,0,0,0,0,0,0,0,0,0,0,0,0,0,0,0,0,0,0,0,0,0,0,0,16,16,0,0,0,0,0,420\\n\"\n",
    "fout.write(outputstring)\n",
    "# Default Grid\n",
    "outputstring = \"6,6,6,1,0,0,0,1,0,0,0,0,0,1,0,0,0,0,0,0,0,0,0,0,0,1,1,1,0,0,0,0,0,1,0,0,0,0,0,0,0,0,0,0,0,0,0,0,0,0,0,1,0,0.1,3,0,0,255,150,0,0,0,0,0,0,0,0,0,0,0,0,0,0,0,0,0,0,0,0,0,0,0,0,0,0,0,14,14,0,0,0,0,0,420\\n\"\n",
    "fout.write(outputstring)\n",
    "\n",
    "# Initialize increments\n",
    "taginc = 0\n",
    "id = 6\n",
    "\n",
    "numlevel0toroids = 1\n",
    "numlevel1toroids = 0\n",
    "\n",
    "for index, row in dfos1.iterrows() :\n",
    "    id += 1\n",
    "    data = id\n",
    "    type = 5\n",
    "    parent_id = 0\n",
    "    selected = 0\n",
    "    branch_level = 0\n",
    "    child_id = id\n",
    "    translate_x = row['hrv_scale']\n",
    "    translate_y = row['hr_scale']\n",
    "    translate_z = row['timeaxis']\n",
    "    scale_x = row['breath_scale']\n",
    "    scale_y = scale_x\n",
    "    scale_z = scale_x\n",
    "    ratio = .1\n",
    "    line_width= 2\n",
    "    geometry = 3\n",
    "    topo = 2\n",
    "    if row['temp'] <= 35:\n",
    "        color_r = 0\n",
    "        color_g = 0\n",
    "        color_b = 255\n",
    "    elif (row['temp'] > 35) & (row['temp'] <= 35.5):\n",
    "        color_r = 93\n",
    "        color_g = 71\n",
    "        color_b = 238\n",
    "    elif (row['temp'] > 35.5) & (row['temp'] <= 36):\n",
    "        color_r = 42\n",
    "        color_g = 0\n",
    "        color_b = 213\n",
    "    elif (row['temp'] > 36) & (row['temp'] <= 36.5):\n",
    "        color_r = 111\n",
    "        color_g = 49\n",
    "        color_b = 219\n",
    "    elif (row['temp'] > 36.5) & (row['temp'] <= 37):\n",
    "        color_r = 99\n",
    "        color_g = 0\n",
    "        color_b = 158\n",
    "    elif (row['temp'] > 37) & (row['temp'] <= 37.5):\n",
    "        color_r = 153\n",
    "        color_g = 0\n",
    "        color_b = 153\n",
    "    elif (row['temp'] > 37.5) & (row['temp'] <= 38):\n",
    "        color_r = 161\n",
    "        color_g = 1\n",
    "        color_b = 93\n",
    "    elif (row['temp'] > 38) & (row['temp'] <= 38.5):\n",
    "        color_r = 241\n",
    "        color_g = 29\n",
    "        color_b = 40\n",
    "    elif (row['temp'] > 38.5) & (row['temp'] <= 39):\n",
    "        color_r = 253\n",
    "        color_g = 58\n",
    "        color_b = 45\n",
    "    elif (row['temp'] > 39) & (row['temp'] <= 39.5):\n",
    "        color_r = 254\n",
    "        color_g = 97\n",
    "        color_b = 44\n",
    "    elif (row['temp'] > 39.5) & (row['temp'] <= 40):\n",
    "        color_r = 255\n",
    "        color_g = 135\n",
    "        color_b = 44\n",
    "    elif (row['temp'] >= 40):\n",
    "        color_r = 255\n",
    "        color_g = 161\n",
    "        color_b = 44\n",
    "    rotate_x = 0\n",
    "    rotate_y = 0\n",
    "    rotate_z = 0\n",
    "    record_id = id \n",
    "    texture_id= 0\n",
    "\n",
    "    # Creat output string and write to ANTz Node File\n",
    "    outputstring = str(id) + \",\" + str(type) + \",\" + str(data) + \",\" + str(selected) + \",\" + str(parent_id) + \",\" + str(branch_level) + \",\" + str(child_id) + \",\" + str(child_index) + \",\" + str(palette_id) + \",\" + str(ch_input_id) + \",\" + str(ch_output_id) + \",\" + str(ch_last_updated) + \",\" + str(average) + \",\" + str(samples) + \",\" + str(aux_a_x) + \",\" + str(aux_a_y) + \",\" + str(aux_a_z) + \",\" + str(aux_b_x) + \",\" + str(aux_b_y) + \",\" + str(aux_b_z) + \",\" + str(color_shift) + \",\" + str(rotate_vec_x) + \",\" + str(rotate_vec_y) + \",\" + str(rotate_vec_z) + \",\" + str(rotate_vec_s) + \",\" + str(scale_x) + \",\" + str(scale_y) + \",\" + str(scale_z) + \",\" + str(translate_x) + \",\" + str(translate_y) + \",\" + str(translate_z) + \",\" + str(tag_offset_x) + \",\" + str(tag_offset_y) + \",\" + str(tag_offset_z) + \",\" + str(rotate_rate_x) + \",\" + str(rotate_rate_y) + \",\" + str(rotate_rate_z) + \",\" + str(rotate_x) + \",\" + str(rotate_y) + \",\" + str(rotate_z) + \",\" + str(scale_rate_x) + \",\" + str(scale_rate_y) + \",\" + str(scale_rate_z) + \",\" + str(translate_rate_x) + \",\" + str(translate_rate_y) + \",\" + str(translate_rate_z) + \",\" + str(translate_vec_x) + \",\" + str(translate_vec_y) + \",\" + str(translate_vec_z) + \",\" + str(shader) + \",\" + str(geometry) + \",\" + str(line_width) + \",\" + str(point_size) + \",\" + str(ratio) + \",\" + str(color_index) + \",\" + str(color_r) + \",\" + str(color_g) + \",\" + str(color_b) + \",\" + str(color_a) + \",\" + str(color_fade) + \",\" + str(texture_id) + \",\" + str(hide) + \",\" + str(freeze) + \",\" + str(topo) + \",\" + str(facet) + \",\" + str(auto_zoom_x) + \",\" + str(auto_zoom_y) + \",\" + str(auto_zoom_z) + \",\" + str(trigger_hi_x) + \",\" + str(trigger_hi_y) + \",\" + str(trigger_hi_z) + \",\" + str(trigger_lo_x) + \",\" + str(trigger_lo_y) + \",\" + str(trigger_lo_z) + \",\" + str(set_hi_x) + \",\" + str(set_hi_y) + \",\" + str(set_hi_z) + \",\" + str(set_lo_x) + \",\" + str(set_lo_y) + \",\" + str(set_lo_z) + \",\" + str(proximity_x) + \",\" + str(proximity_y) + \",\" + str(proximity_z) + \",\" + str(proximity_mode_x) + \",\" + str(proximity_mode_y) + \",\" + str(proximity_mode_z) + \",\" + str(segments_x) + \",\" + str(segments_y) + \",\" + str(segments_z) + \",\" + str(tag_mode) + \",\" + str(format_id) + \",\" + str(table_id) + \",\" + str(record_id) + \",\" + str(size) + \"\\n\"\n",
    "    fout.write(outputstring)\n",
    "\n",
    "    # Output to Tag file\n",
    "    tagtext = str(\"Time: \") + str(index) + str(\"// Temp: \") + str(row['temp']) + str(\"// RR: \") + str(row['breath'])\n",
    "    tagstring = str(taginc) + \",\" + str(record_id) + \",0,\\\"\" + tagtext + \"\\\",\\\"\\\"\\n\"\n",
    "    ftag.write(tagstring)\n",
    "    taginc += 1\n",
    "\n",
    "    \n",
    "fout.close()"
   ]
  },
  {
   "cell_type": "code",
   "execution_count": null,
   "metadata": {
    "collapsed": true
   },
   "outputs": [],
   "source": []
  }
 ],
 "metadata": {
  "kernelspec": {
   "display_name": "Python 3",
   "language": "python",
   "name": "python3"
  },
  "language_info": {
   "codemirror_mode": {
    "name": "ipython",
    "version": 3
   },
   "file_extension": ".py",
   "mimetype": "text/x-python",
   "name": "python",
   "nbconvert_exporter": "python",
   "pygments_lexer": "ipython3",
   "version": "3.6.3"
  }
 },
 "nbformat": 4,
 "nbformat_minor": 2
}
